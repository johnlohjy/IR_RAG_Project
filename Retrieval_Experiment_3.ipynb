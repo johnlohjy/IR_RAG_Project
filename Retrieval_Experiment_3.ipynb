{
 "cells": [
  {
   "cell_type": "markdown",
   "metadata": {
    "id": "UmVe-Jcni1Bh"
   },
   "source": [
    "# **Retrieval Experiment 3: Re-ranking Strategies for Retriever**\n",
    "\n",
    "To ensure that our LLM recieves the most relevant retrieved documents from the retriever, we can re-rank the results from the retriever"
   ]
  },
  {
   "cell_type": "markdown",
   "metadata": {
    "id": "jDCSWIdhj6Op"
   },
   "source": [
    "**Retrieval Bi-Encoder + Re-Ranker Cross-Encoder**\n",
    "\n",
    "Bi-Encoders produce a sentence embedding for a single sentence. This is what we have been doing with ```sentence-transformers```, where we pass it independently the document and query. These individual embeddings u and v are then compared using a similarity measure.\n",
    "\n",
    "In Cross-Encoders, we pass both sentences simultaneously to the Transformer network. It then produces an output value between 0 and 1 indicating the similarity of the input sentence pair.\n",
    "\n",
    "Bi-Encoders are much faster but less accurate than Cross-Encoders, which is why we use Bi-Encoders for efficient vector similarity calculations and Cross-Encoders to re-rank the top-k results for every query-hit\n",
    "\n",
    "As we have learnt, LLMs have a context-stuffing problem. To mitifate this problem, we maximize retrieval recall by retrieving plenty of documents and then maximize LLM recall by minimizing the number of documents that make it to the LLM. To do that, we reorder retrieved documents and keep just the most relevant for our LLM (re-ranking).\n",
    "\n"
   ]
  },
  {
   "cell_type": "code",
   "execution_count": null,
   "metadata": {
    "colab": {
     "base_uri": "https://localhost:8080/"
    },
    "id": "puvGhOKC0Fdo",
    "outputId": "cf6ea479-7c39-4f06-ab14-e5f9c5997fed"
   },
   "outputs": [
    {
     "name": "stdout",
     "output_type": "stream",
     "text": [
      "\u001b[?25l     \u001b[90m━━━━━━━━━━━━━━━━━━━━━━━━━━━━━━━━━━━━━━━━\u001b[0m \u001b[32m0.0/67.3 kB\u001b[0m \u001b[31m?\u001b[0m eta \u001b[36m-:--:--\u001b[0m\r\u001b[2K     \u001b[90m━━━━━━━━━━━━━━━━━━━━━━━━━━━━━━━━━━━━━━━━\u001b[0m \u001b[32m67.3/67.3 kB\u001b[0m \u001b[31m5.1 MB/s\u001b[0m eta \u001b[36m0:00:00\u001b[0m\n",
      "\u001b[?25h  Installing build dependencies ... \u001b[?25l\u001b[?25hdone\n",
      "  Getting requirements to build wheel ... \u001b[?25l\u001b[?25hdone\n",
      "  Preparing metadata (pyproject.toml) ... \u001b[?25l\u001b[?25hdone\n",
      "\u001b[2K   \u001b[90m━━━━━━━━━━━━━━━━━━━━━━━━━━━━━━━━━━━━━━━━\u001b[0m \u001b[32m122.4/122.4 MB\u001b[0m \u001b[31m6.5 MB/s\u001b[0m eta \u001b[36m0:00:00\u001b[0m\n",
      "\u001b[2K   \u001b[90m━━━━━━━━━━━━━━━━━━━━━━━━━━━━━━━━━━━━━━━━\u001b[0m \u001b[32m2.4/2.4 MB\u001b[0m \u001b[31m57.6 MB/s\u001b[0m eta \u001b[36m0:00:00\u001b[0m\n",
      "\u001b[2K   \u001b[90m━━━━━━━━━━━━━━━━━━━━━━━━━━━━━━━━━━━━━━━━\u001b[0m \u001b[32m85.5/85.5 MB\u001b[0m \u001b[31m9.1 MB/s\u001b[0m eta \u001b[36m0:00:00\u001b[0m\n",
      "\u001b[2K   \u001b[90m━━━━━━━━━━━━━━━━━━━━━━━━━━━━━━━━━━━━━━━━\u001b[0m \u001b[32m111.0/111.0 kB\u001b[0m \u001b[31m10.8 MB/s\u001b[0m eta \u001b[36m0:00:00\u001b[0m\n",
      "\u001b[2K   \u001b[90m━━━━━━━━━━━━━━━━━━━━━━━━━━━━━━━━━━━━━━━━\u001b[0m \u001b[32m267.2/267.2 kB\u001b[0m \u001b[31m23.7 MB/s\u001b[0m eta \u001b[36m0:00:00\u001b[0m\n",
      "\u001b[2K   \u001b[90m━━━━━━━━━━━━━━━━━━━━━━━━━━━━━━━━━━━━━━━━\u001b[0m \u001b[32m615.5/615.5 kB\u001b[0m \u001b[31m43.1 MB/s\u001b[0m eta \u001b[36m0:00:00\u001b[0m\n",
      "\u001b[2K   \u001b[90m━━━━━━━━━━━━━━━━━━━━━━━━━━━━━━━━━━━━━━━━\u001b[0m \u001b[32m2.4/2.4 MB\u001b[0m \u001b[31m73.4 MB/s\u001b[0m eta \u001b[36m0:00:00\u001b[0m\n",
      "\u001b[2K   \u001b[90m━━━━━━━━━━━━━━━━━━━━━━━━━━━━━━━━━━━━━━━━\u001b[0m \u001b[32m94.9/94.9 kB\u001b[0m \u001b[31m9.5 MB/s\u001b[0m eta \u001b[36m0:00:00\u001b[0m\n",
      "\u001b[2K   \u001b[90m━━━━━━━━━━━━━━━━━━━━━━━━━━━━━━━━━━━━━━━━\u001b[0m \u001b[32m2.4/2.4 MB\u001b[0m \u001b[31m66.7 MB/s\u001b[0m eta \u001b[36m0:00:00\u001b[0m\n",
      "\u001b[2K   \u001b[90m━━━━━━━━━━━━━━━━━━━━━━━━━━━━━━━━━━━━━━━━\u001b[0m \u001b[32m5.9/5.9 MB\u001b[0m \u001b[31m87.8 MB/s\u001b[0m eta \u001b[36m0:00:00\u001b[0m\n",
      "\u001b[2K   \u001b[90m━━━━━━━━━━━━━━━━━━━━━━━━━━━━━━━━━━━━━━━━\u001b[0m \u001b[32m3.1/3.1 MB\u001b[0m \u001b[31m82.9 MB/s\u001b[0m eta \u001b[36m0:00:00\u001b[0m\n",
      "\u001b[2K   \u001b[90m━━━━━━━━━━━━━━━━━━━━━━━━━━━━━━━━━━━━━━━━\u001b[0m \u001b[32m273.8/273.8 kB\u001b[0m \u001b[31m24.8 MB/s\u001b[0m eta \u001b[36m0:00:00\u001b[0m\n",
      "\u001b[2K   \u001b[90m━━━━━━━━━━━━━━━━━━━━━━━━━━━━━━━━━━━━━━━━\u001b[0m \u001b[32m57.5/57.5 kB\u001b[0m \u001b[31m4.4 MB/s\u001b[0m eta \u001b[36m0:00:00\u001b[0m\n",
      "\u001b[2K   \u001b[90m━━━━━━━━━━━━━━━━━━━━━━━━━━━━━━━━━━━━━━━━\u001b[0m \u001b[32m1.9/1.9 MB\u001b[0m \u001b[31m66.9 MB/s\u001b[0m eta \u001b[36m0:00:00\u001b[0m\n",
      "\u001b[2K   \u001b[90m━━━━━━━━━━━━━━━━━━━━━━━━━━━━━━━━━━━━━━━━\u001b[0m \u001b[32m49.5/49.5 kB\u001b[0m \u001b[31m3.4 MB/s\u001b[0m eta \u001b[36m0:00:00\u001b[0m\n",
      "\u001b[2K   \u001b[90m━━━━━━━━━━━━━━━━━━━━━━━━━━━━━━━━━━━━━━━━\u001b[0m \u001b[32m93.2/93.2 kB\u001b[0m \u001b[31m8.2 MB/s\u001b[0m eta \u001b[36m0:00:00\u001b[0m\n",
      "\u001b[2K   \u001b[90m━━━━━━━━━━━━━━━━━━━━━━━━━━━━━━━━━━━━━━━━\u001b[0m \u001b[32m13.3/13.3 MB\u001b[0m \u001b[31m82.3 MB/s\u001b[0m eta \u001b[36m0:00:00\u001b[0m\n",
      "\u001b[2K   \u001b[90m━━━━━━━━━━━━━━━━━━━━━━━━━━━━━━━━━━━━━━━━\u001b[0m \u001b[32m55.8/55.8 kB\u001b[0m \u001b[31m4.3 MB/s\u001b[0m eta \u001b[36m0:00:00\u001b[0m\n",
      "\u001b[2K   \u001b[90m━━━━━━━━━━━━━━━━━━━━━━━━━━━━━━━━━━━━━━━━\u001b[0m \u001b[32m54.4/54.4 kB\u001b[0m \u001b[31m4.8 MB/s\u001b[0m eta \u001b[36m0:00:00\u001b[0m\n",
      "\u001b[2K   \u001b[90m━━━━━━━━━━━━━━━━━━━━━━━━━━━━━━━━━━━━━━━━\u001b[0m \u001b[32m316.6/316.6 kB\u001b[0m \u001b[31m30.2 MB/s\u001b[0m eta \u001b[36m0:00:00\u001b[0m\n",
      "\u001b[2K   \u001b[90m━━━━━━━━━━━━━━━━━━━━━━━━━━━━━━━━━━━━━━━━\u001b[0m \u001b[32m73.3/73.3 kB\u001b[0m \u001b[31m7.0 MB/s\u001b[0m eta \u001b[36m0:00:00\u001b[0m\n",
      "\u001b[2K   \u001b[90m━━━━━━━━━━━━━━━━━━━━━━━━━━━━━━━━━━━━━━━━\u001b[0m \u001b[32m63.7/63.7 kB\u001b[0m \u001b[31m5.2 MB/s\u001b[0m eta \u001b[36m0:00:00\u001b[0m\n",
      "\u001b[2K   \u001b[90m━━━━━━━━━━━━━━━━━━━━━━━━━━━━━━━━━━━━━━━━\u001b[0m \u001b[32m442.1/442.1 kB\u001b[0m \u001b[31m32.9 MB/s\u001b[0m eta \u001b[36m0:00:00\u001b[0m\n",
      "\u001b[2K   \u001b[90m━━━━━━━━━━━━━━━━━━━━━━━━━━━━━━━━━━━━━━━━\u001b[0m \u001b[32m3.8/3.8 MB\u001b[0m \u001b[31m72.0 MB/s\u001b[0m eta \u001b[36m0:00:00\u001b[0m\n",
      "\u001b[2K   \u001b[90m━━━━━━━━━━━━━━━━━━━━━━━━━━━━━━━━━━━━━━━━\u001b[0m \u001b[32m425.7/425.7 kB\u001b[0m \u001b[31m33.5 MB/s\u001b[0m eta \u001b[36m0:00:00\u001b[0m\n",
      "\u001b[2K   \u001b[90m━━━━━━━━━━━━━━━━━━━━━━━━━━━━━━━━━━━━━━━━\u001b[0m \u001b[32m168.2/168.2 kB\u001b[0m \u001b[31m16.6 MB/s\u001b[0m eta \u001b[36m0:00:00\u001b[0m\n",
      "\u001b[2K   \u001b[90m━━━━━━━━━━━━━━━━━━━━━━━━━━━━━━━━━━━━━━━━\u001b[0m \u001b[32m46.0/46.0 kB\u001b[0m \u001b[31m3.6 MB/s\u001b[0m eta \u001b[36m0:00:00\u001b[0m\n",
      "\u001b[2K   \u001b[90m━━━━━━━━━━━━━━━━━━━━━━━━━━━━━━━━━━━━━━━━\u001b[0m \u001b[32m86.8/86.8 kB\u001b[0m \u001b[31m8.1 MB/s\u001b[0m eta \u001b[36m0:00:00\u001b[0m\n",
      "\u001b[?25h  Building wheel for pypika (pyproject.toml) ... \u001b[?25l\u001b[?25hdone\n",
      "\u001b[31mERROR: pip's dependency resolver does not currently take into account all the packages that are installed. This behaviour is the source of the following dependency conflicts.\n",
      "tensorflow 2.17.1 requires protobuf!=4.21.0,!=4.21.1,!=4.21.2,!=4.21.3,!=4.21.4,!=4.21.5,<5.0.0dev,>=3.20.3, but you have protobuf 5.28.3 which is incompatible.\n",
      "tensorflow-metadata 1.13.1 requires protobuf<5,>=3.20.3, but you have protobuf 5.28.3 which is incompatible.\u001b[0m\u001b[31m\n",
      "\u001b[0m"
     ]
    }
   ],
   "source": [
    "%pip install --quiet --upgrade bitsandbytes langchain langchain-community langchain-huggingface transformers beautifulsoup4 faiss-gpu rank_bm25 lark qdrant-client langchain-chroma"
   ]
  },
  {
   "cell_type": "code",
   "execution_count": null,
   "metadata": {
    "id": "XKFjHkAtAazK"
   },
   "outputs": [],
   "source": [
    "from langchain_core.documents import Document\n",
    "from langchain_text_splitters import RecursiveCharacterTextSplitter\n",
    "from langchain_huggingface import HuggingFaceEmbeddings\n",
    "from langchain_community.vectorstores import FAISS\n",
    "import faiss\n",
    "from langchain_community.docstore.in_memory import InMemoryDocstore"
   ]
  },
  {
   "cell_type": "code",
   "execution_count": null,
   "metadata": {
    "id": "tPnYoyv57HUK"
   },
   "outputs": [],
   "source": [
    "# Simple experiment example data\n",
    "docs = [\n",
    "    Document(\n",
    "        page_content='''\n",
    "        10 new unique places to stay in Finland From modern wooden cabins and brand-new glass huts to resorts with a touch of luxury: Finland offers a plethora of unique accommodation options that showcase the country's breathtaking natural beauty both in the materials and the locations. In recent years, there has been upsurge in unique new hotels, resorts, and cabins opening up around the country. We've curated a list of the coolest and most recently opened ones where you can immerse yourself in Finnish nature and find your inner happiness. Article published in June 2023.; 1. Hilltop Forest – Inkoo, Helsinki region: Hilltop Forest, a small resort in Inkoo, offers charming triangular wooden huts with large windows facing a lush forest. Curl up in the fresh linen bedding and admire the view over the majestic pine trees and birches. The sole mission of the day is to stroll through the forest to the nearby spa. The resort's restaurant serves breakfast, lunch, freshly baked pizzas, wine, and forest-inspired dinners. Hilltop Forest is a perfect minivacation destination, just a under an hour-drive from Helsinki. Eat, sleep and repeat.; 2. The Torby – Fiskars village, Helsinki region: The brand new Torby Hotel, opened in June 2023, is nestled in the charming Fiskars Village. The Torby offers an enchanting retreat for travellers seeking tranquillity and inspiration. Set amidst the lush countryside of the Helsinki region, this boutique hotel seamlessly blends modern design with the rich cultural heritage of the Fiskars village. The village is a treasure trove of creativity, with its vibrant art studios, quaint shops, and idyllic gardens. Guests can explore the local craftsmanship, indulge in delicious Finnish cuisine, or simply immerse themselves in the serene ambiance. Whether seeking a peaceful retreat or a cultural adventure, the Torby Hotel and Fiskars Village promise an unforgettable experience.; 3. Hotel Vihannonkulma – Loimaa, Coast and Archipelago: The Hotel Vihannonkulma building, a private home of the car dealer Olli Vihanto, was closed for almost 30 years until the apartment was rediscovered and revived into a boutique hotel opened in 2022. Spend the night in a classic room with sleek Alvar Aalto inspired lines, or in a modern 70s-style room with eccentric details and teak furniture. Enjoy the small-town atmosphere of Loimaa and stroll around in cafés, shops, and historical buildings. Loimaa, located 50 minutes northeast of Turku, serves as a gateway to the surrounding forests and nature.; 4. Kanava Resort – Oravi, Lakeland: Located on a narrow headland surrounded by Lake Saimaa, Kanava Resort is a haven for happiness seekers and outdoor adventurers. The resort is a harmonious blend of contemporary design and natural beauty. The buildings, constructed with sustainable materials, seamlessly blend into the landscape, providing an immersive experience for guests. The resort offers a range of activities across the year. In the winter, take a ride on a snowmobile or slide down the terrain on a pair of skis. During summer hop on a canoe, grab the oars and slide through the waters. Make sure not to miss the most popular Lakeland adventure: spotting ringed seals together with a guide. Kanava Resort is just a short drive away from the national parks Linnansaari and Kolovesi. While you are in the area, remember to also visit the historical landmark Olavinlinna Castle and the iconic Punkaharju Ridge.; 5. PihlasResort – Joroinen, Lakeland: Located on the shore of the biggest lake in Finland, Lake Saimaa, PihlasResort is the perfect place to embrace luxury. The brand new suites, opening in summer 2023, are equipped with a kitchen, a private sauna, and a terrace facing a private garden. Relax by the lake, have a drink in a jacuzzi, or feel the rejuvenating power of an authentic Finnish sauna – relaxation is guaranteed. During your visit, dine in the resort's own restaurant Siimes, or enjoy a unique tea menu in the nearby TeaHouse of Wehmais.; 6. Villipeura’s Niliaitta – Kivijärvi, Lakeland: At Villipeura's holiday village in Kivijärvi, located less than two hours north of Jyväskylä in central Lakeland, unique birdhouse-like boxes are elevated on pillars in the midst of a charming Finnish forest. These uncommon holiday cottages draw inspiration from traditional food storage sheds that were built on wooden pillars to protect food from animals in the past. In the holiday village area, you have access to a range of activities, including tennis, frisbee golf, and fishing. Nature trails of the national parks Salamajärvi and Pyhä Häkki are just around the corner.; 7. Glass huts in Skyfire Village – Rovaniemi, Lapland: At Skyfire Village in Rovaniemi you may need to pinch yourself to figure out whether the view is real: the panoramic windows in the glass huts allow you to gaze at northern lights in autumn and winter, or the midnight sun in the summer directly from your bed. Skyfire Village is in a quiet location with no light pollution making it even easier to see the auroras. The village's own restaurant, Sky Hut Restaurant & Bar, offers tailor-made menus by a professional chef using local ingredients.; 8. Kurula’s – Pyhätunturi, Lapland: Kurula’s in Lapland's pristine Pyhä region is the perfect vacation getaway for those who want a combination of quiet relaxation and outdoors activities. In the summer, go on a hike in Finland’s oldest national park Pyhä-Luosto or ascend the fell with a skiing lift to admire the views. In the winter, embark on a husky or reindeer safari and hunt the northern lights. Your own private lakeside sauna in the suite is a perfect way to end a day full of adventures. Kurula is close to the popular outdoor and skiing resort of Pyhä.; 9. Arctra – Rovaniemi, Lapland: At Arctra's private luxury resort near Rovaniemi in Lapland, you can enjoy a glamorous vacation atop the mighty hill of Ollerovaara, with stunning views of arctic nature. Explore the landscape by foot, on skis, or on a husky sled. A private 20 hectare wilderness area will guarantee that there most likely won’t be another soul in sight. Cosy up in your stylish suite or at the spa area. Arctra is only a 15-minute drive from Rovaniemi airport. The cottage serves as an excellent home base to explore Rovaniemi as well as the surrounding wilderness.; 10. Cahkal Hotel – Kilpisjärvi, Lapland: Cahkal Hotel is located 400 kilometres above the Arctic Circle in the northwesternmost point of Finland, in the truly unique Nordic wilderness. Cahkal is an ideal destination for experiential travellers looking for a view – all the hotel rooms have exquisite mountain views. Embark on an expedition with a local guide to explore the arctic landscape and even pop by in Norway to see the fjords and the Arctic Ocean. Unwind in the hotel's sauna after an adventure of a lifetime. Cahkal's heating system operates by sustainable geothermal heating and solar panels provide visitors with green electricity.\n",
    "        '''\n",
    "    ),\n",
    "    Document(\n",
    "        page_content='''\n",
    "        Finnish food culture Finland’s cuisine is built around fresh, natural ingredients gathered straight from the waters, fields and forests: Get to know the local ingredients and delicious dishes you simply can’t miss when visiting Finland. Finns are known as leaders of research and innovation. But when it comes to food, they tend to favour tradition. Finnish cuisine differs from neighbouring Scandinavian countries because it has one foot on either side of its borders – Russia in the East and Sweden in the West. Since day one, the Finnish diet has been built around surviving the harsh conditions of our northern climate. Growth seasons are dictated by the cold, meaning many local products are only available for a limited amount of time. These days, you can buy just about anything your heart desires in Finland. But go local while you’re here, and you’ll be in for a treat! Also, if you have the chance, continue your culinary journey to some of the best restaurants in the country.; Cereals and grains – made from scratch: All hail the golden crop of Finnish soil, oats! And what’s not to love about the latest boom of oat milks, creams and yoghurts, not to mention pulled oats, which are an extremely tasty alternative to meat? Make sure to taste this decidedly Finnish innovation! If you’re more into traditional foods, stick to good ol’ porridge. This hearty delight can be enjoyed at any gas station, hotel or café for just a few euros. Warming, filling and incredibly tasty, it’s best served with a spoonful of jam or a little fresh butter. Tip: When it comes to local grains, think bakery and check out pastry chef Teemu Aura. The bakeries carrying his name and signature pink bun tracks are called Pullabiili, and they can be found throughout the Helsinki region offering classic Finnish buns, flaky croissants and sourdough breads. All these treats are made from scratch and combine culinary creativity with high-quality ingredients.; Fish – another staple of the Finnish diet: Whether it’s tasty salmon soup, fillets of perch, pickled Baltic herring or smoked vendace, the list simply goes on and on. Best consumed fresh at food markets, delis and restaurants throughout the country, fish dishes are the heart of the Finnish diet. Unsure what to try? Go for smoked – it’s the archipelago’s signature way to enjoy the fruits of the sea. Or make some memories on a fishing trip, where you can catch and prepare your own. Contact the local tourist information points for tours. Tip: Crayfish parties, or “rapujuhlat” (“kräftskiva” in Swedish), are a Swedish tradition the Finns adopt during late summer’s crayfish season. These small fresh-water lobsters are considered a gourmet treat, which is why they are feted in style – often accompanied by plenty of schnapps and special crayfish songs. If you’re invited to one of these parties, do say yes!; Fresh, juicy berries are the gold of Finland’s forests: Plentiful and sweet when in season, lingonberries, woodland strawberries and blueberries taste best when they’re picked straight from the forest or purchased fresh by the litre at a local market. Off-season and outside of the warmer months of the year, local jams with cloudberries and the notorious sea-buckthorn are the preferred way to enjoy Finland’s berry bounty. Tip: Enjoy your berries dried and ground. METTÄ Nordic offers the exciting flavours of the Finnish forests in powder form. Buy a bag or two and try this delicious addition on breakfasts and snacks at home!; Mushrooms – ceps, chanterelles, false morel and list goes on..: Under the Everyman’s right, you can pick almost anything your heart desires while visiting Finland’s forests. Just be mindful and check the local rules if roaming in national parks or other protected areas. Tip: Please don’t pick mushrooms unless you’re an experienced forager. Guided mushroom-picking tours are always the safest bet for beginners.; Finnish superfood innovations have exploded onto the world’s markets: From Beanit’s plant-based protein products made from Nordic Fava beans to locally brewed kombucha drinks by Good Guys Kombucha in Pirkkala, Finland’s food companies are always thinking ahead. Tip: Want to try Finland’s superfoods? Go wild with an herb foraging class. You’ll not only return with a bag full of fresh greens, you’ll also get to try forest bathing, another Finnish. Foraging trips can be organised through companies such as Feel the Nature, and Finland, Naturally Experiences.   Hungry for more? Here’s a list of iconic foods and regional delicacies beloved by locals and visitors alike. Make sure to try them all!; Leipäjuusto – delicious dairy product: Leipäjuusto, known as “Squeaky Cheese,” is a mild, incredibly tasty cheese that’s typically made of cow’s milk. First, the milk is curdled, then it’s baked it in the oven, and finally, it’s cut into thin wedges and served. The exterior of the cheese gets its spotted black and white colouring from the heat of the oven, and it’s Finnish name means “cheese bread” (since it’s baked like bread). The end product is a yummy cheese with a deliciously squeaky consistency. Tip: Leipäjuusto is often served with cloudberry jam as dessert, but the traditional Sámi way of eating it is to dip the wedges in hot, black coffee. Try it to experience the perfect blend of smooth, fatty cheese cut by hot, bitter coffee.; Mild but full of flavour, Finnish salmon soup: Finnish salmon soup is a classic that’s served both at home and in restaurants. The most popular version features creamy white broth studded with salmon, onions and potatoes and garnished with a handful of dill. You’ll find this delicacy on the menu at many restaurants and cafés – it’s a true comfort food that will warm you up on a winter’s day.; Endless varieties of new potatoes: New potatoes with herring (silli). New potatoes with fresh lake fish and chantarelle sauce. New potatoes with fish roe (mäti). New potatoes with just a knob of butter, some dill and a little salt. The variations of new potatoes available in Finland are seemingly endless and certainly mouth-watering. You’ll find that Finns can talk about new potatoes forever, as the little spuds hold the promise of summer. Look for them starting around midsummer and expect to see statistics on the harvest in all the local papers.; Poronkäristys from Lapland: Reindeer are found in the northern province of Lapland, and according to recent research, their meat is one of the healthiest you can put on your plate. It’s high in B-12, omega-3 and omega-6 – and it’s lean and delicious! Served alongside mashed potatoes, sautéed reindeer is a Finnish treat that’s eaten throughout the country, all year round.; Kalakukko – a local delicacy: Describing this local delicacy is difficult, but it’s essentially a combination of salty vendace and fatty pork that’s then wrapped in a rye crust and baked in foil. Best served alone or with heaps of butter, this delicacy is most delicious at its origin: a busy marketplace in Kuopio in Finland’s Lakeland. Loosely translated as “fish rooster,” this iconic pie’s name makes absolutely no sense, but it tastes incredibly good! And fun fact: the name of this unique delicacy has been granted protection under the EU quality scheme, along with Karjalanpiirakka, or Karelian pie.; Karjalanpiirakka – a sublime pastry: And speaking of Karjalanpiirakka, Karelian pie is the crown jewel of Finnish cuisine. This sublime pastry is originally from the eastern province of Karelia, and with its filling of delicious rice, potatoes or carrots enclosed in an incredibly crisp rye crust, this buttery delicacy will win you over in no time. It’s best served with plenty of fresh butter or a serving of egg butter-spread. Tip: You’ll find Karelian pies at any self-respecting Finnish marketplace, café, supermarket or gas station. Fresh, unbaked pies can also be purchased and baked at home!; Ruisleipä – made from sour dough: Ruisleipä – or rye bread – is a staple of the Finnish diet. While there are many varieties, the most popular and widely available is reikäleipä, meaning “bread with a hole.” People used to hang their bread on poles from the rafters, and while it’s dense, flat and very heavy, many Finns will actually have it sent through the post while they’re living abroad. Näkkileipä is the cracker version of rye bread and there are many varieties, including the internationally-sold Finn Crisp cracker. These are eaten at breakfast with butter, cheese and other spreads, with soups at lunch or even as an evening snack.; Rieska – Finnish flatbreads: Rieska is made with dough from a variety of local grains that’s then shaped into a chapati-like bread (or “kovaohranen”). If they’re baked with potato dough, they’re called “lepuska.” The magic of this flatbread lies in its freshness. Prepared on the same day they’re consumed, these savoury delights go great with heaps of butter and scorching black coffee. Tip: Try a different flatbread in each place you visit. Hopefully, you’ll have the chance to taste the local Savo variety, which is made with sour milk.; Korvapuusti – a pastry enjoyed with a cup of coffee: Korvapuusti translates to “slapped ears” in English, but these pastries are essentially cinnamon buns. And while Finland doesn’t hold a patent on cinnamon buns, it probably should. Usually enjoyed with a cup of coffee (Finns consume more coffee and, perhaps, more cinnamon buns than any other European nation), it can be difficult to stop at just one. Or two.; Bilberry pie – adored by all: In July and August, bilberries paint the Finnish forest. You’ll want to pick and freeze them for winter (like the Finns do), but these berries are best enjoyed in the summer months, whether on their own or in homemade pies. Although most Finnish berries can be made into pie filling, bilberry pie, or mustikkapiirakka, served with fresh milk, is one that’s adored by all.; Chocolate from Finland: Chocolate isn’t exactly a Finnish invention, but it’s prepared and sold all over the country. One place to enjoy it is at Brunberg, a famous chocolate shop in Porvoo. In operation since 1871, this family-owned and operated business offers a wide variety of tasty treats. Favourites include Truffles and Kisses, which have become hits among those who love high-quality chocolate. Fazer, another family-operated chocolate brand, can be found in any Finnish café, supermarket or kiosk – their products are even sold as souvenirs in the airport’s duty-free shop. The company produces the country’s most iconic chocolate, Fazerin Sininen, which is loosely translated and commonly known as “the Blue.” This chocolate, along with Fazer’s licorices and other sweets, are frequently shipped abroad, and their company-operated cafés are scattered throughout Finland. They serve Karelian pies and salmon soup, too!\n",
    "        '''\n",
    "    ),\n",
    "    Document(\n",
    "        page_content='''\n",
    "        Guide to driving in Finland Here are some tips for driving in Finland – rain, snow or shine: While Finland’s roads are typically in good condition, Nordic weather occasionally throws drivers a curveball. Whether you encounter reindeer on the road in Lapland or ice…well, pretty much anywhere, here’s some practical information for a smoother, safer road trip.; Renting a car: There are car hire companies in all major towns and cities, as well as at airports. It’s worth booking in advance, and you must have a credit card on you when you book. If you have an EU or Swiss drivers’ licence, you can hit the road in Finland straight away.; Avoiding traffic: Traffic jams aren’t common in Finland. Although you might hear some complaints about traffic from Finns, it’s rare to hear them from those who live in big cities elsewhere. To a Finn, a few-minute delay is the equivalent of heavy traffic.; Speed limits: Generally, the speed limit in Finland is 50 km/h in built-up areas and 80 km/h outside of them. Both limits are typically enforced if there is no other speed limit posted. On major highways in summer, you can drive 100 km/h. On motorways, the summertime limit is 120 km/h. In winter, however, the speed limit on highways is reduced to 80 km/h, and on motorways, it’s 100 km/h.; Turn your lights on!: If an oncoming vehicle flashes its high beams at you, it usually means you don’t have your headlights on. It’s a law in Finland that drivers must have their lights on – no matter the season and even in the midnight sun. But being flashed could also mean there’s an accident ahead or an animal is on the roadway, so be sure to stay alert.; Paying (or not paying) tolls: There are zero toll roads or bridges in Finland. Yes, zero. That’s because constructing and maintaining roads and highways is mostly funded by Finnish taxes. So go on, enjoy the drive – it’s on us!; Traffic enforcement cameras: Finnish police use automatic traffic surveillance equipment on heavily trafficked roads and in urban areas. You’ll know you’re driving on one of these roads if you see a yellow road sign depicting a camera.; Beware of the animals: Drivers in Finland should stay alert for signs warning of elk crossing the roadways. If you see one, slow down, and at night, use high beams whenever possible. While many of the country’s major highways are lined with high elk fences, accidents do happen – and they can be fatal for drivers, passengers and animals. Also, if you’re driving in Lapland, a reindeer (or twelve!) on the road is a very common sight. Please make sure you drive carefully and adjust your speed to account for limited visibility and potentially dangerous driving conditions.; Essentials of driving in winter: The downside of the delightful winter weather in Finland is that, at times, roads can be very icy. Because of this, all vehicles must be equipped with winter tyres between December 1st and March 1st. You might even want to have studded tires if you’re driving in the northern part of the country. Also, be sure to set aside adequate time for driving in winter. When the roads are icy or there’s a heavy snowfall, the only way to go about it safely is to drive slowly. Note that roads are generally not salted. Instead, they’re cleared by snow ploughs. When driving an electric car, be aware that cold weather and cabin heating cut your driving power. And whether your car is powered by electricity or gasoline, it’s always a good idea to wear or bring warm clothes with you when driving in Finland – just in case you need to make an unexpected stop.\n",
    "        '''\n",
    "    ),\n",
    "]"
   ]
  },
  {
   "cell_type": "markdown",
   "metadata": {
    "id": "u4beSGYcAsQd"
   },
   "source": [
    "**Setup Simple Experiment Data for Experiment 5**\n",
    "\n",
    "We first set up simple experiment data where we have 3 documents talking about different 3 different topics. This is done to have an easier <u>preliminary understanding and visualisation</u> of the behaviour of the re-ranker as we are able to quickly look at what are the chunks being retrieved from the data and how they are ranked\n",
    "\n",
    "**TODO**: Move experiment data to a folder as its too long or maybe just leave it"
   ]
  },
  {
   "cell_type": "code",
   "execution_count": null,
   "metadata": {
    "id": "Lq9T1aXC8x_x"
   },
   "outputs": [],
   "source": [
    "text_splitter = RecursiveCharacterTextSplitter(\n",
    "    chunk_size=1000, chunk_overlap=200, add_start_index=True\n",
    ")\n",
    "docs = text_splitter.split_documents(docs)"
   ]
  },
  {
   "cell_type": "code",
   "execution_count": null,
   "metadata": {
    "colab": {
     "base_uri": "https://localhost:8080/"
    },
    "id": "5W1qTZ1V-3YW",
    "outputId": "129b90a9-d193-46d6-a813-090fc6e73cc6"
   },
   "outputs": [
    {
     "data": {
      "text/plain": [
       "[Document(metadata={'start_index': 9}, page_content=\"10 new unique places to stay in Finland From modern wooden cabins and brand-new glass huts to resorts with a touch of luxury: Finland offers a plethora of unique accommodation options that showcase the country's breathtaking natural beauty both in the materials and the locations. In recent years, there has been upsurge in unique new hotels, resorts, and cabins opening up around the country. We've curated a list of the coolest and most recently opened ones where you can immerse yourself in Finnish nature and find your inner happiness. Article published in June 2023.; 1. Hilltop Forest – Inkoo, Helsinki region: Hilltop Forest, a small resort in Inkoo, offers charming triangular wooden huts with large windows facing a lush forest. Curl up in the fresh linen bedding and admire the view over the majestic pine trees and birches. The sole mission of the day is to stroll through the forest to the nearby spa. The resort's restaurant serves breakfast, lunch, freshly baked pizzas, wine,\"),\n",
       " Document(metadata={'start_index': 802}, page_content=\"over the majestic pine trees and birches. The sole mission of the day is to stroll through the forest to the nearby spa. The resort's restaurant serves breakfast, lunch, freshly baked pizzas, wine, and forest-inspired dinners. Hilltop Forest is a perfect minivacation destination, just a under an hour-drive from Helsinki. Eat, sleep and repeat.; 2. The Torby – Fiskars village, Helsinki region: The brand new Torby Hotel, opened in June 2023, is nestled in the charming Fiskars Village. The Torby offers an enchanting retreat for travellers seeking tranquillity and inspiration. Set amidst the lush countryside of the Helsinki region, this boutique hotel seamlessly blends modern design with the rich cultural heritage of the Fiskars village. The village is a treasure trove of creativity, with its vibrant art studios, quaint shops, and idyllic gardens. Guests can explore the local craftsmanship, indulge in delicious Finnish cuisine, or simply immerse themselves in the serene ambiance. Whether\"),\n",
       " Document(metadata={'start_index': 1602}, page_content='vibrant art studios, quaint shops, and idyllic gardens. Guests can explore the local craftsmanship, indulge in delicious Finnish cuisine, or simply immerse themselves in the serene ambiance. Whether seeking a peaceful retreat or a cultural adventure, the Torby Hotel and Fiskars Village promise an unforgettable experience.; 3. Hotel Vihannonkulma – Loimaa, Coast and Archipelago: The Hotel Vihannonkulma building, a private home of the car dealer Olli Vihanto, was closed for almost 30 years until the apartment was rediscovered and revived into a boutique hotel opened in 2022. Spend the night in a classic room with sleek Alvar Aalto inspired lines, or in a modern 70s-style room with eccentric details and teak furniture. Enjoy the small-town atmosphere of Loimaa and stroll around in cafés, shops, and historical buildings. Loimaa, located 50 minutes northeast of Turku, serves as a gateway to the surrounding forests and nature.; 4. Kanava Resort – Oravi, Lakeland: Located on a narrow'),\n",
       " Document(metadata={'start_index': 2398}, page_content='shops, and historical buildings. Loimaa, located 50 minutes northeast of Turku, serves as a gateway to the surrounding forests and nature.; 4. Kanava Resort – Oravi, Lakeland: Located on a narrow headland surrounded by Lake Saimaa, Kanava Resort is a haven for happiness seekers and outdoor adventurers. The resort is a harmonious blend of contemporary design and natural beauty. The buildings, constructed with sustainable materials, seamlessly blend into the landscape, providing an immersive experience for guests. The resort offers a range of activities across the year. In the winter, take a ride on a snowmobile or slide down the terrain on a pair of skis. During summer hop on a canoe, grab the oars and slide through the waters. Make sure not to miss the most popular Lakeland adventure: spotting ringed seals together with a guide. Kanava Resort is just a short drive away from the national parks Linnansaari and Kolovesi. While you are in the area, remember to also visit the historical'),\n",
       " Document(metadata={'start_index': 3203}, page_content=\"ringed seals together with a guide. Kanava Resort is just a short drive away from the national parks Linnansaari and Kolovesi. While you are in the area, remember to also visit the historical landmark Olavinlinna Castle and the iconic Punkaharju Ridge.; 5. PihlasResort – Joroinen, Lakeland: Located on the shore of the biggest lake in Finland, Lake Saimaa, PihlasResort is the perfect place to embrace luxury. The brand new suites, opening in summer 2023, are equipped with a kitchen, a private sauna, and a terrace facing a private garden. Relax by the lake, have a drink in a jacuzzi, or feel the rejuvenating power of an authentic Finnish sauna – relaxation is guaranteed. During your visit, dine in the resort's own restaurant Siimes, or enjoy a unique tea menu in the nearby TeaHouse of Wehmais.; 6. Villipeura’s Niliaitta – Kivijärvi, Lakeland: At Villipeura's holiday village in Kivijärvi, located less than two hours north of Jyväskylä in central Lakeland, unique birdhouse-like boxes are\"),\n",
       " Document(metadata={'start_index': 4006}, page_content=\"6. Villipeura’s Niliaitta – Kivijärvi, Lakeland: At Villipeura's holiday village in Kivijärvi, located less than two hours north of Jyväskylä in central Lakeland, unique birdhouse-like boxes are elevated on pillars in the midst of a charming Finnish forest. These uncommon holiday cottages draw inspiration from traditional food storage sheds that were built on wooden pillars to protect food from animals in the past. In the holiday village area, you have access to a range of activities, including tennis, frisbee golf, and fishing. Nature trails of the national parks Salamajärvi and Pyhä Häkki are just around the corner.; 7. Glass huts in Skyfire Village – Rovaniemi, Lapland: At Skyfire Village in Rovaniemi you may need to pinch yourself to figure out whether the view is real: the panoramic windows in the glass huts allow you to gaze at northern lights in autumn and winter, or the midnight sun in the summer directly from your bed. Skyfire Village is in a quiet location with no light\"),\n",
       " Document(metadata={'start_index': 4805}, page_content=\"windows in the glass huts allow you to gaze at northern lights in autumn and winter, or the midnight sun in the summer directly from your bed. Skyfire Village is in a quiet location with no light pollution making it even easier to see the auroras. The village's own restaurant, Sky Hut Restaurant & Bar, offers tailor-made menus by a professional chef using local ingredients.; 8. Kurula’s – Pyhätunturi, Lapland: Kurula’s in Lapland's pristine Pyhä region is the perfect vacation getaway for those who want a combination of quiet relaxation and outdoors activities. In the summer, go on a hike in Finland’s oldest national park Pyhä-Luosto or ascend the fell with a skiing lift to admire the views. In the winter, embark on a husky or reindeer safari and hunt the northern lights. Your own private lakeside sauna in the suite is a perfect way to end a day full of adventures. Kurula is close to the popular outdoor and skiing resort of Pyhä.; 9. Arctra – Rovaniemi, Lapland: At Arctra's private\"),\n",
       " Document(metadata={'start_index': 5604}, page_content=\"lakeside sauna in the suite is a perfect way to end a day full of adventures. Kurula is close to the popular outdoor and skiing resort of Pyhä.; 9. Arctra – Rovaniemi, Lapland: At Arctra's private luxury resort near Rovaniemi in Lapland, you can enjoy a glamorous vacation atop the mighty hill of Ollerovaara, with stunning views of arctic nature. Explore the landscape by foot, on skis, or on a husky sled. A private 20 hectare wilderness area will guarantee that there most likely won’t be another soul in sight. Cosy up in your stylish suite or at the spa area. Arctra is only a 15-minute drive from Rovaniemi airport. The cottage serves as an excellent home base to explore Rovaniemi as well as the surrounding wilderness.; 10. Cahkal Hotel – Kilpisjärvi, Lapland: Cahkal Hotel is located 400 kilometres above the Arctic Circle in the northwesternmost point of Finland, in the truly unique Nordic wilderness. Cahkal is an ideal destination for experiential travellers looking for a view – all\"),\n",
       " Document(metadata={'start_index': 6401}, page_content=\"kilometres above the Arctic Circle in the northwesternmost point of Finland, in the truly unique Nordic wilderness. Cahkal is an ideal destination for experiential travellers looking for a view – all the hotel rooms have exquisite mountain views. Embark on an expedition with a local guide to explore the arctic landscape and even pop by in Norway to see the fjords and the Arctic Ocean. Unwind in the hotel's sauna after an adventure of a lifetime. Cahkal's heating system operates by sustainable geothermal heating and solar panels provide visitors with green electricity.\"),\n",
       " Document(metadata={'start_index': 9}, page_content='Finnish food culture Finland’s cuisine is built around fresh, natural ingredients gathered straight from the waters, fields and forests: Get to know the local ingredients and delicious dishes you simply can’t miss when visiting Finland. Finns are known as leaders of research and innovation. But when it comes to food, they tend to favour tradition. Finnish cuisine differs from neighbouring Scandinavian countries because it has one foot on either side of its borders – Russia in the East and Sweden in the West. Since day one, the Finnish diet has been built around surviving the harsh conditions of our northern climate. Growth seasons are dictated by the cold, meaning many local products are only available for a limited amount of time. These days, you can buy just about anything your heart desires in Finland. But go local while you’re here, and you’ll be in for a treat! Also, if you have the chance, continue your culinary journey to some of the best restaurants in the country.;'),\n",
       " Document(metadata={'start_index': 800}, page_content='heart desires in Finland. But go local while you’re here, and you’ll be in for a treat! Also, if you have the chance, continue your culinary journey to some of the best restaurants in the country.; Cereals and grains – made from scratch: All hail the golden crop of Finnish soil, oats! And what’s not to love about the latest boom of oat milks, creams and yoghurts, not to mention pulled oats, which are an extremely tasty alternative to meat? Make sure to taste this decidedly Finnish innovation! If you’re more into traditional foods, stick to good ol’ porridge. This hearty delight can be enjoyed at any gas station, hotel or café for just a few euros. Warming, filling and incredibly tasty, it’s best served with a spoonful of jam or a little fresh butter. Tip: When it comes to local grains, think bakery and check out pastry chef Teemu Aura. The bakeries carrying his name and signature pink bun tracks are called Pullabiili, and they can be found throughout the Helsinki region offering'),\n",
       " Document(metadata={'start_index': 1597}, page_content='think bakery and check out pastry chef Teemu Aura. The bakeries carrying his name and signature pink bun tracks are called Pullabiili, and they can be found throughout the Helsinki region offering classic Finnish buns, flaky croissants and sourdough breads. All these treats are made from scratch and combine culinary creativity with high-quality ingredients.; Fish – another staple of the Finnish diet: Whether it’s tasty salmon soup, fillets of perch, pickled Baltic herring or smoked vendace, the list simply goes on and on. Best consumed fresh at food markets, delis and restaurants throughout the country, fish dishes are the heart of the Finnish diet. Unsure what to try? Go for smoked – it’s the archipelago’s signature way to enjoy the fruits of the sea. Or make some memories on a fishing trip, where you can catch and prepare your own. Contact the local tourist information points for tours. Tip: Crayfish parties, or “rapujuhlat” (“kräftskiva” in Swedish), are a Swedish tradition the'),\n",
       " Document(metadata={'start_index': 2395}, page_content='trip, where you can catch and prepare your own. Contact the local tourist information points for tours. Tip: Crayfish parties, or “rapujuhlat” (“kräftskiva” in Swedish), are a Swedish tradition the Finns adopt during late summer’s crayfish season. These small fresh-water lobsters are considered a gourmet treat, which is why they are feted in style – often accompanied by plenty of schnapps and special crayfish songs. If you’re invited to one of these parties, do say yes!; Fresh, juicy berries are the gold of Finland’s forests: Plentiful and sweet when in season, lingonberries, woodland strawberries and blueberries taste best when they’re picked straight from the forest or purchased fresh by the litre at a local market. Off-season and outside of the warmer months of the year, local jams with cloudberries and the notorious sea-buckthorn are the preferred way to enjoy Finland’s berry bounty. Tip: Enjoy your berries dried and ground. METTÄ Nordic offers the exciting flavours of the Finnish'),\n",
       " Document(metadata={'start_index': 3196}, page_content='cloudberries and the notorious sea-buckthorn are the preferred way to enjoy Finland’s berry bounty. Tip: Enjoy your berries dried and ground. METTÄ Nordic offers the exciting flavours of the Finnish forests in powder form. Buy a bag or two and try this delicious addition on breakfasts and snacks at home!; Mushrooms – ceps, chanterelles, false morel and list goes on..: Under the Everyman’s right, you can pick almost anything your heart desires while visiting Finland’s forests. Just be mindful and check the local rules if roaming in national parks or other protected areas. Tip: Please don’t pick mushrooms unless you’re an experienced forager. Guided mushroom-picking tours are always the safest bet for beginners.; Finnish superfood innovations have exploded onto the world’s markets: From Beanit’s plant-based protein products made from Nordic Fava beans to locally brewed kombucha drinks by Good Guys Kombucha in Pirkkala, Finland’s food companies are always thinking ahead. Tip: Want to try'),\n",
       " Document(metadata={'start_index': 4001}, page_content='plant-based protein products made from Nordic Fava beans to locally brewed kombucha drinks by Good Guys Kombucha in Pirkkala, Finland’s food companies are always thinking ahead. Tip: Want to try Finland’s superfoods? Go wild with an herb foraging class. You’ll not only return with a bag full of fresh greens, you’ll also get to try forest bathing, another Finnish. Foraging trips can be organised through companies such as Feel the Nature, and Finland, Naturally Experiences.   Hungry for more? Here’s a list of iconic foods and regional delicacies beloved by locals and visitors alike. Make sure to try them all!; Leipäjuusto – delicious dairy product: Leipäjuusto, known as “Squeaky Cheese,” is a mild, incredibly tasty cheese that’s typically made of cow’s milk. First, the milk is curdled, then it’s baked it in the oven, and finally, it’s cut into thin wedges and served. The exterior of the cheese gets its spotted black and white colouring from the heat of the oven, and it’s Finnish name'),\n",
       " Document(metadata={'start_index': 4801}, page_content='it’s baked it in the oven, and finally, it’s cut into thin wedges and served. The exterior of the cheese gets its spotted black and white colouring from the heat of the oven, and it’s Finnish name means “cheese bread” (since it’s baked like bread). The end product is a yummy cheese with a deliciously squeaky consistency. Tip: Leipäjuusto is often served with cloudberry jam as dessert, but the traditional Sámi way of eating it is to dip the wedges in hot, black coffee. Try it to experience the perfect blend of smooth, fatty cheese cut by hot, bitter coffee.; Mild but full of flavour, Finnish salmon soup: Finnish salmon soup is a classic that’s served both at home and in restaurants. The most popular version features creamy white broth studded with salmon, onions and potatoes and garnished with a handful of dill. You’ll find this delicacy on the menu at many restaurants and cafés – it’s a true comfort food that will warm you up on a winter’s day.; Endless varieties of new potatoes: New'),\n",
       " Document(metadata={'start_index': 5600}, page_content='with a handful of dill. You’ll find this delicacy on the menu at many restaurants and cafés – it’s a true comfort food that will warm you up on a winter’s day.; Endless varieties of new potatoes: New potatoes with herring (silli). New potatoes with fresh lake fish and chantarelle sauce. New potatoes with fish roe (mäti). New potatoes with just a knob of butter, some dill and a little salt. The variations of new potatoes available in Finland are seemingly endless and certainly mouth-watering. You’ll find that Finns can talk about new potatoes forever, as the little spuds hold the promise of summer. Look for them starting around midsummer and expect to see statistics on the harvest in all the local papers.; Poronkäristys from Lapland: Reindeer are found in the northern province of Lapland, and according to recent research, their meat is one of the healthiest you can put on your plate. It’s high in B-12, omega-3 and omega-6 – and it’s lean and delicious! Served alongside mashed potatoes,'),\n",
       " Document(metadata={'start_index': 6403}, page_content='according to recent research, their meat is one of the healthiest you can put on your plate. It’s high in B-12, omega-3 and omega-6 – and it’s lean and delicious! Served alongside mashed potatoes, sautéed reindeer is a Finnish treat that’s eaten throughout the country, all year round.; Kalakukko – a local delicacy: Describing this local delicacy is difficult, but it’s essentially a combination of salty vendace and fatty pork that’s then wrapped in a rye crust and baked in foil. Best served alone or with heaps of butter, this delicacy is most delicious at its origin: a busy marketplace in Kuopio in Finland’s Lakeland. Loosely translated as “fish rooster,” this iconic pie’s name makes absolutely no sense, but it tastes incredibly good! And fun fact: the name of this unique delicacy has been granted protection under the EU quality scheme, along with Karjalanpiirakka, or Karelian pie.; Karjalanpiirakka – a sublime pastry: And speaking of Karjalanpiirakka, Karelian pie is the crown jewel'),\n",
       " Document(metadata={'start_index': 7203}, page_content='granted protection under the EU quality scheme, along with Karjalanpiirakka, or Karelian pie.; Karjalanpiirakka – a sublime pastry: And speaking of Karjalanpiirakka, Karelian pie is the crown jewel of Finnish cuisine. This sublime pastry is originally from the eastern province of Karelia, and with its filling of delicious rice, potatoes or carrots enclosed in an incredibly crisp rye crust, this buttery delicacy will win you over in no time. It’s best served with plenty of fresh butter or a serving of egg butter-spread. Tip: You’ll find Karelian pies at any self-respecting Finnish marketplace, café, supermarket or gas station. Fresh, unbaked pies can also be purchased and baked at home!; Ruisleipä – made from sour dough: Ruisleipä – or rye bread – is a staple of the Finnish diet. While there are many varieties, the most popular and widely available is reikäleipä, meaning “bread with a hole.” People used to hang their bread on poles from the rafters, and while it’s dense, flat and very'),\n",
       " Document(metadata={'start_index': 8005}, page_content='are many varieties, the most popular and widely available is reikäleipä, meaning “bread with a hole.” People used to hang their bread on poles from the rafters, and while it’s dense, flat and very heavy, many Finns will actually have it sent through the post while they’re living abroad. Näkkileipä is the cracker version of rye bread and there are many varieties, including the internationally-sold Finn Crisp cracker. These are eaten at breakfast with butter, cheese and other spreads, with soups at lunch or even as an evening snack.; Rieska – Finnish flatbreads: Rieska is made with dough from a variety of local grains that’s then shaped into a chapati-like bread (or “kovaohranen”). If they’re baked with potato dough, they’re called “lepuska.” The magic of this flatbread lies in its freshness. Prepared on the same day they’re consumed, these savoury delights go great with heaps of butter and scorching black coffee. Tip: Try a different flatbread in each place you visit. Hopefully, you’ll'),\n",
       " Document(metadata={'start_index': 8807}, page_content='Prepared on the same day they’re consumed, these savoury delights go great with heaps of butter and scorching black coffee. Tip: Try a different flatbread in each place you visit. Hopefully, you’ll have the chance to taste the local Savo variety, which is made with sour milk.; Korvapuusti – a pastry enjoyed with a cup of coffee: Korvapuusti translates to “slapped ears” in English, but these pastries are essentially cinnamon buns. And while Finland doesn’t hold a patent on cinnamon buns, it probably should. Usually enjoyed with a cup of coffee (Finns consume more coffee and, perhaps, more cinnamon buns than any other European nation), it can be difficult to stop at just one. Or two.; Bilberry pie – adored by all: In July and August, bilberries paint the Finnish forest. You’ll want to pick and freeze them for winter (like the Finns do), but these berries are best enjoyed in the summer months, whether on their own or in homemade pies. Although most Finnish berries can be made into pie'),\n",
       " Document(metadata={'start_index': 9606}, page_content='and freeze them for winter (like the Finns do), but these berries are best enjoyed in the summer months, whether on their own or in homemade pies. Although most Finnish berries can be made into pie filling, bilberry pie, or mustikkapiirakka, served with fresh milk, is one that’s adored by all.; Chocolate from Finland: Chocolate isn’t exactly a Finnish invention, but it’s prepared and sold all over the country. One place to enjoy it is at Brunberg, a famous chocolate shop in Porvoo. In operation since 1871, this family-owned and operated business offers a wide variety of tasty treats. Favourites include Truffles and Kisses, which have become hits among those who love high-quality chocolate. Fazer, another family-operated chocolate brand, can be found in any Finnish café, supermarket or kiosk – their products are even sold as souvenirs in the airport’s duty-free shop. The company produces the country’s most iconic chocolate, Fazerin Sininen, which is loosely translated and commonly'),\n",
       " Document(metadata={'start_index': 10402}, page_content='kiosk – their products are even sold as souvenirs in the airport’s duty-free shop. The company produces the country’s most iconic chocolate, Fazerin Sininen, which is loosely translated and commonly known as “the Blue.” This chocolate, along with Fazer’s licorices and other sweets, are frequently shipped abroad, and their company-operated cafés are scattered throughout Finland. They serve Karelian pies and salmon soup, too!'),\n",
       " Document(metadata={'start_index': 9}, page_content='Guide to driving in Finland Here are some tips for driving in Finland – rain, snow or shine: While Finland’s roads are typically in good condition, Nordic weather occasionally throws drivers a curveball. Whether you encounter reindeer on the road in Lapland or ice…well, pretty much anywhere, here’s some practical information for a smoother, safer road trip.; Renting a car: There are car hire companies in all major towns and cities, as well as at airports. It’s worth booking in advance, and you must have a credit card on you when you book. If you have an EU or Swiss drivers’ licence, you can hit the road in Finland straight away.; Avoiding traffic: Traffic jams aren’t common in Finland. Although you might hear some complaints about traffic from Finns, it’s rare to hear them from those who live in big cities elsewhere. To a Finn, a few-minute delay is the equivalent of heavy traffic.; Speed limits: Generally, the speed limit in Finland is 50 km/h in built-up areas and 80 km/h'),\n",
       " Document(metadata={'start_index': 798}, page_content='those who live in big cities elsewhere. To a Finn, a few-minute delay is the equivalent of heavy traffic.; Speed limits: Generally, the speed limit in Finland is 50 km/h in built-up areas and 80 km/h outside of them. Both limits are typically enforced if there is no other speed limit posted. On major highways in summer, you can drive 100 km/h. On motorways, the summertime limit is 120 km/h. In winter, however, the speed limit on highways is reduced to 80 km/h, and on motorways, it’s 100 km/h.; Turn your lights on!: If an oncoming vehicle flashes its high beams at you, it usually means you don’t have your headlights on. It’s a law in Finland that drivers must have their lights on – no matter the season and even in the midnight sun. But being flashed could also mean there’s an accident ahead or an animal is on the roadway, so be sure to stay alert.; Paying (or not paying) tolls: There are zero toll roads or bridges in Finland. Yes, zero. That’s because constructing and maintaining roads'),\n",
       " Document(metadata={'start_index': 1599}, page_content='or an animal is on the roadway, so be sure to stay alert.; Paying (or not paying) tolls: There are zero toll roads or bridges in Finland. Yes, zero. That’s because constructing and maintaining roads and highways is mostly funded by Finnish taxes. So go on, enjoy the drive – it’s on us!; Traffic enforcement cameras: Finnish police use automatic traffic surveillance equipment on heavily trafficked roads and in urban areas. You’ll know you’re driving on one of these roads if you see a yellow road sign depicting a camera.; Beware of the animals: Drivers in Finland should stay alert for signs warning of elk crossing the roadways. If you see one, slow down, and at night, use high beams whenever possible. While many of the country’s major highways are lined with high elk fences, accidents do happen – and they can be fatal for drivers, passengers and animals. Also, if you’re driving in Lapland, a reindeer (or twelve!) on the road is a very common sight. Please make sure you drive carefully'),\n",
       " Document(metadata={'start_index': 2402}, page_content='– and they can be fatal for drivers, passengers and animals. Also, if you’re driving in Lapland, a reindeer (or twelve!) on the road is a very common sight. Please make sure you drive carefully and adjust your speed to account for limited visibility and potentially dangerous driving conditions.; Essentials of driving in winter: The downside of the delightful winter weather in Finland is that, at times, roads can be very icy. Because of this, all vehicles must be equipped with winter tyres between December 1st and March 1st. You might even want to have studded tires if you’re driving in the northern part of the country. Also, be sure to set aside adequate time for driving in winter. When the roads are icy or there’s a heavy snowfall, the only way to go about it safely is to drive slowly. Note that roads are generally not salted. Instead, they’re cleared by snow ploughs. When driving an electric car, be aware that cold weather and cabin heating cut your driving power. And whether your'),\n",
       " Document(metadata={'start_index': 3200}, page_content='Note that roads are generally not salted. Instead, they’re cleared by snow ploughs. When driving an electric car, be aware that cold weather and cabin heating cut your driving power. And whether your car is powered by electricity or gasoline, it’s always a good idea to wear or bring warm clothes with you when driving in Finland – just in case you need to make an unexpected stop.')]"
      ]
     },
     "execution_count": 4,
     "metadata": {},
     "output_type": "execute_result"
    }
   ],
   "source": [
    "docs"
   ]
  },
  {
   "cell_type": "code",
   "execution_count": null,
   "metadata": {
    "colab": {
     "base_uri": "https://localhost:8080/",
     "height": 425,
     "referenced_widgets": [
      "3a8cf31cfc9443a189544181fa0c5967",
      "f0a55610f3d24919bdb6e769034a3bbc",
      "fda7916e9211432a88fea6ed6d00e8f1",
      "868f3799576245dba93161015c6e7393",
      "7d0aee9f2bba46aba0ff865196599550",
      "dc7ba6746bd44b8f879580d49b72bc62",
      "fe0db7b3fe834341a16e0c807c97e5c6",
      "7eff9e6e640443fdad33d8d0e76690a7",
      "42323b6017ed434f839811ae9651b5a3",
      "57601ee2e49e441db3dacc0011682cec",
      "684ea55d1a06411ca54f4da07c23c2b5",
      "a270f8295f0643e8a84d3940aaa1dced",
      "3577c81e8292440eb961d3bd35f4ec04",
      "8960e33a1893426bae2f0c549096aa83",
      "28113645a2034ecba4f721b6aa4730a0",
      "8672ac8179af4055bfe8c3b9b29a8057",
      "05f44a2317c740e5949fcaca0cf116a5",
      "4841a9c721e04168aeb216c14bba6588",
      "65c15de71230495180df35b8a18d4fc3",
      "c3da9d22725f4982aba2b3ca097c4a4f",
      "d7836e069c064c4e8c8f101dd777a0b7",
      "21e7851b03024b56881e7d31d100f22f",
      "b2c9ca7edcc644d39f5203331e7439d3",
      "fe1e3dc801b04d80a81318b3f1f12521",
      "55fac51616f149a29e6dee82e6fdb9aa",
      "606343c271cf4af8b407385b0eb734e3",
      "df3d2a2f6a154529ace957a60d0f8bbc",
      "d9b358efde9f44ed8ef0c580ef374ad4",
      "d2e50d279f624cb480cff864b7f50ebf",
      "d4a47e2f71654ebba8c9f5c83b34f5e7",
      "75ca68993c3440f695df6c7019a0f536",
      "9e42438eea754d069f5b14c6d0962caf",
      "0beb2bbef370498ebe523e2eb81bb740",
      "3963dede4e544281becf636e82560225",
      "d254919222b8435f9e87fd9d6890f880",
      "14278ade3d5945fa9a1bd5b75a4632fb",
      "54e834cdafcd4192a8b4795551d60377",
      "6640fee8a0be4623828844baa452bf31",
      "90b3a5b29e5844e39789de99d528b58f",
      "09650f47ec304b79aa38a860bfcc72b7",
      "31a25269727e4a0ba7433b13ae348657",
      "4ade955a8f20466ba4d07293b422eb38",
      "63a4c6a8657f4d9aaa661da596eaf336",
      "045f17906513455ba09c8bf99fd88d1f",
      "34857051825a4abcb4b2baaefc9732ff",
      "327ec29b20dc42e88d18856d6fff60a4",
      "18e6d87493b1471d86e7cf380a7e323f",
      "a2adb1ba1a0f4702aced0a49da88d187",
      "b51d7dc29f154fd2ad999d7278b87e16",
      "ad0407a1e69f43f9bca23cac97898c4e",
      "29e70f75bc494bb1b36e7aa8da721320",
      "4332219a230c444c8e3ded7584e262f1",
      "d126f97973144855a07c0ec2d6c440cf",
      "ca4eed3ce3cd4e6ba5d01cd389310b60",
      "3c3705104ad143efb36692e201f5d0dc",
      "7246bfc160b04270883cb57f73445895",
      "113f788cde294b028aabdfac1ea84b60",
      "b89f277218e14f419ec5c508d6613875",
      "e6cda1b3e0f143feb5f530b64ce5c5d1",
      "f17ba69f993e41119e3539ac68d1e071",
      "6381f9e746cf47d0988a2e68e6b3380b",
      "bd35f0d3eef24a7989cd1e74da63b8ed",
      "09ef790d9c854a0693b9f3323fdd9822",
      "999fa4ae70b647b6899d7dd72277acf6",
      "2a1af32e269043bdabde8bb4dea7589d",
      "626ca0b529b545978cf616703ee279be",
      "962a9b7b3e43470494a943ba6c5171c1",
      "528254e5c39d4dcea02211df17c88646",
      "9e33824f9e7245b38940a255cc008c8e",
      "83fec6f9a3bf4b009c9e98156eaae749",
      "7024aefbe0824263aaf92c6807c43afd",
      "4f927764ecfe4d94902a52094fea91e4",
      "836f97fb4db14d328f00446d0aaa06b3",
      "925940548ef3471f9f0433af24668782",
      "74433fec453f425b8a5859db9c9a507b",
      "e075ac7721e94caf81b9213093b684da",
      "3e82d9853c4d4afc82b1e1c5f8ec0d78",
      "955016e78c444f4788fd222bb65a328a",
      "0c4fc9427de1447aa77240b68f005006",
      "b4e2dc5d4b99423e9275cd0eba93855e",
      "39007189ef26462e9824ff316c1e90c2",
      "d7018bedee654fd7a8293886a8b2a6a6",
      "136152f615414096bb68413d09d45f44",
      "5f8c5a2b6f3041cc962ca526e578d02b",
      "9dfc3ab7a333453a92b2b6010e3d6026",
      "b5417fc6b2874c989f2fe3b8fa6d7cbe",
      "74b0f66b115e4a01bb343ce51c9696af",
      "ccaab9ce8d7045debe79c5f587797aac",
      "37fe2730fa734decbdb25d267b0cb220",
      "0679954dac3841269f94559d8c2111cb",
      "3e2839aac1f646d5b4022e9c3157bd33",
      "078fd6c78a25406d883a6747726b83f6",
      "51a81127be5543df9570a89362f6bac7",
      "1f9f454de0214236ab78acf433e10657",
      "3662383ae5aa434d853262188e5eb458",
      "fec8a18b02a94c1fad5866000a77b287",
      "5b418132733d4c62b3bbc6410053c917",
      "a7d43db101624491b6487e014a39e1c5",
      "7c58efb0e7264b02bad09fbf940569e8",
      "64283abbbd7d4ff0bfc49654c3c72a64",
      "6613f4f439684553a0de4e8e37ef7e62",
      "395163be01374d30982a12fdc03f361e",
      "9dfb74093607448bba7681831a6b2bfb",
      "41da25b04570467cb22c6e4e34105f64",
      "a99df61458fe4046ad6d5abde473a71b",
      "7e789a21fc0a47b79314c5081625221f",
      "4194b6a0ba074c6680f82f6d5e353efc",
      "e3f5973fd2a845399a978c63f205a33b",
      "e03b8afa97be425ba86b70fe1cdf77fd",
      "e7564525613d4c19a02867e186499881",
      "7080b729b90249d88ebb9312ecf9f219",
      "0093271a4cae46c4a6fc4af2b6f37d2c",
      "ba39fd7d12a54951b20aa74758744542",
      "03b377f4c44b42a7b67245749a82814d",
      "f24b4db3efea466597ec9fc1672932d1",
      "4fe483528f06460eba9b93c7fe61a69c",
      "2f467b4550dc4fb4af7b686f1719e7b7",
      "bff61a3e0d014dcbba87805110c034b7",
      "fbab183d068a4513ae8e7a0b333cfb75",
      "024d7d0aac7d49b5ad4ae16b0f7a05fb",
      "5e34cc0639864b2a890ab9afb65c7b59"
     ]
    },
    "id": "yiWvmMYe7dXw",
    "outputId": "5bd125db-dd13-48a0-92fc-662296d809d3"
   },
   "outputs": [
    {
     "name": "stderr",
     "output_type": "stream",
     "text": [
      "/usr/local/lib/python3.10/dist-packages/sentence_transformers/cross_encoder/CrossEncoder.py:13: TqdmExperimentalWarning: Using `tqdm.autonotebook.tqdm` in notebook mode. Use `tqdm.tqdm` instead to force console mode (e.g. in jupyter console)\n",
      "  from tqdm.autonotebook import tqdm, trange\n"
     ]
    },
    {
     "data": {
      "application/vnd.jupyter.widget-view+json": {
       "model_id": "3a8cf31cfc9443a189544181fa0c5967",
       "version_major": 2,
       "version_minor": 0
      },
      "text/plain": [
       "modules.json:   0%|          | 0.00/349 [00:00<?, ?B/s]"
      ]
     },
     "metadata": {},
     "output_type": "display_data"
    },
    {
     "data": {
      "application/vnd.jupyter.widget-view+json": {
       "model_id": "a270f8295f0643e8a84d3940aaa1dced",
       "version_major": 2,
       "version_minor": 0
      },
      "text/plain": [
       "config_sentence_transformers.json:   0%|          | 0.00/116 [00:00<?, ?B/s]"
      ]
     },
     "metadata": {},
     "output_type": "display_data"
    },
    {
     "data": {
      "application/vnd.jupyter.widget-view+json": {
       "model_id": "b2c9ca7edcc644d39f5203331e7439d3",
       "version_major": 2,
       "version_minor": 0
      },
      "text/plain": [
       "README.md:   0%|          | 0.00/10.6k [00:00<?, ?B/s]"
      ]
     },
     "metadata": {},
     "output_type": "display_data"
    },
    {
     "data": {
      "application/vnd.jupyter.widget-view+json": {
       "model_id": "3963dede4e544281becf636e82560225",
       "version_major": 2,
       "version_minor": 0
      },
      "text/plain": [
       "sentence_bert_config.json:   0%|          | 0.00/53.0 [00:00<?, ?B/s]"
      ]
     },
     "metadata": {},
     "output_type": "display_data"
    },
    {
     "data": {
      "application/vnd.jupyter.widget-view+json": {
       "model_id": "34857051825a4abcb4b2baaefc9732ff",
       "version_major": 2,
       "version_minor": 0
      },
      "text/plain": [
       "config.json:   0%|          | 0.00/571 [00:00<?, ?B/s]"
      ]
     },
     "metadata": {},
     "output_type": "display_data"
    },
    {
     "data": {
      "application/vnd.jupyter.widget-view+json": {
       "model_id": "7246bfc160b04270883cb57f73445895",
       "version_major": 2,
       "version_minor": 0
      },
      "text/plain": [
       "model.safetensors:   0%|          | 0.00/438M [00:00<?, ?B/s]"
      ]
     },
     "metadata": {},
     "output_type": "display_data"
    },
    {
     "data": {
      "application/vnd.jupyter.widget-view+json": {
       "model_id": "962a9b7b3e43470494a943ba6c5171c1",
       "version_major": 2,
       "version_minor": 0
      },
      "text/plain": [
       "tokenizer_config.json:   0%|          | 0.00/363 [00:00<?, ?B/s]"
      ]
     },
     "metadata": {},
     "output_type": "display_data"
    },
    {
     "data": {
      "application/vnd.jupyter.widget-view+json": {
       "model_id": "955016e78c444f4788fd222bb65a328a",
       "version_major": 2,
       "version_minor": 0
      },
      "text/plain": [
       "vocab.txt:   0%|          | 0.00/232k [00:00<?, ?B/s]"
      ]
     },
     "metadata": {},
     "output_type": "display_data"
    },
    {
     "data": {
      "application/vnd.jupyter.widget-view+json": {
       "model_id": "37fe2730fa734decbdb25d267b0cb220",
       "version_major": 2,
       "version_minor": 0
      },
      "text/plain": [
       "tokenizer.json:   0%|          | 0.00/466k [00:00<?, ?B/s]"
      ]
     },
     "metadata": {},
     "output_type": "display_data"
    },
    {
     "data": {
      "application/vnd.jupyter.widget-view+json": {
       "model_id": "64283abbbd7d4ff0bfc49654c3c72a64",
       "version_major": 2,
       "version_minor": 0
      },
      "text/plain": [
       "special_tokens_map.json:   0%|          | 0.00/239 [00:00<?, ?B/s]"
      ]
     },
     "metadata": {},
     "output_type": "display_data"
    },
    {
     "data": {
      "application/vnd.jupyter.widget-view+json": {
       "model_id": "7080b729b90249d88ebb9312ecf9f219",
       "version_major": 2,
       "version_minor": 0
      },
      "text/plain": [
       "1_Pooling/config.json:   0%|          | 0.00/190 [00:00<?, ?B/s]"
      ]
     },
     "metadata": {},
     "output_type": "display_data"
    }
   ],
   "source": [
    "# Initialise the FAISS retriever\n",
    "embeddings_model = HuggingFaceEmbeddings(model_name=\"sentence-transformers/all-mpnet-base-v2\")\n",
    "index = faiss.IndexFlatL2(len(embeddings_model.embed_query(\"hello world\")))\n",
    "faiss_vector_store = FAISS(\n",
    "    embedding_function=embeddings_model,\n",
    "    index=index,\n",
    "    docstore=InMemoryDocstore(),\n",
    "    index_to_docstore_id={},\n",
    ")\n",
    "faiss_vector_store.add_documents(docs)\n",
    "retriever = faiss_vector_store.as_retriever(search_type=\"similarity\", search_kwargs={\"k\": 10}) # num docs to return from FAISS for re-ranking"
   ]
  },
  {
   "cell_type": "markdown",
   "metadata": {
    "id": "ohhPF42LBXvr"
   },
   "source": [
    "**Test Query 1 for Reranking**"
   ]
  },
  {
   "cell_type": "code",
   "execution_count": null,
   "metadata": {
    "id": "SZ2dgAhyBccJ"
   },
   "outputs": [],
   "source": [
    "test_query_1 = \"Please provide me with the best accomodation in Finland\""
   ]
  },
  {
   "cell_type": "markdown",
   "metadata": {
    "id": "H2o-axUt-GK5"
   },
   "source": [
    "**Before re-ranking**"
   ]
  },
  {
   "cell_type": "code",
   "execution_count": null,
   "metadata": {
    "id": "qvraIsrc-DAI"
   },
   "outputs": [],
   "source": [
    "query = test_query_1\n",
    "docs = retriever.invoke(query)"
   ]
  },
  {
   "cell_type": "code",
   "execution_count": null,
   "metadata": {
    "colab": {
     "base_uri": "https://localhost:8080/"
    },
    "id": "0gtiCTN7_KFA",
    "outputId": "ef85f127-1375-4184-c5a5-c11477226f4f"
   },
   "outputs": [
    {
     "data": {
      "text/plain": [
       "[Document(metadata={'start_index': 9}, page_content=\"10 new unique places to stay in Finland From modern wooden cabins and brand-new glass huts to resorts with a touch of luxury: Finland offers a plethora of unique accommodation options that showcase the country's breathtaking natural beauty both in the materials and the locations. In recent years, there has been upsurge in unique new hotels, resorts, and cabins opening up around the country. We've curated a list of the coolest and most recently opened ones where you can immerse yourself in Finnish nature and find your inner happiness. Article published in June 2023.; 1. Hilltop Forest – Inkoo, Helsinki region: Hilltop Forest, a small resort in Inkoo, offers charming triangular wooden huts with large windows facing a lush forest. Curl up in the fresh linen bedding and admire the view over the majestic pine trees and birches. The sole mission of the day is to stroll through the forest to the nearby spa. The resort's restaurant serves breakfast, lunch, freshly baked pizzas, wine,\"),\n",
       " Document(metadata={'start_index': 9}, page_content='Guide to driving in Finland Here are some tips for driving in Finland – rain, snow or shine: While Finland’s roads are typically in good condition, Nordic weather occasionally throws drivers a curveball. Whether you encounter reindeer on the road in Lapland or ice…well, pretty much anywhere, here’s some practical information for a smoother, safer road trip.; Renting a car: There are car hire companies in all major towns and cities, as well as at airports. It’s worth booking in advance, and you must have a credit card on you when you book. If you have an EU or Swiss drivers’ licence, you can hit the road in Finland straight away.; Avoiding traffic: Traffic jams aren’t common in Finland. Although you might hear some complaints about traffic from Finns, it’s rare to hear them from those who live in big cities elsewhere. To a Finn, a few-minute delay is the equivalent of heavy traffic.; Speed limits: Generally, the speed limit in Finland is 50 km/h in built-up areas and 80 km/h'),\n",
       " Document(metadata={'start_index': 3203}, page_content=\"ringed seals together with a guide. Kanava Resort is just a short drive away from the national parks Linnansaari and Kolovesi. While you are in the area, remember to also visit the historical landmark Olavinlinna Castle and the iconic Punkaharju Ridge.; 5. PihlasResort – Joroinen, Lakeland: Located on the shore of the biggest lake in Finland, Lake Saimaa, PihlasResort is the perfect place to embrace luxury. The brand new suites, opening in summer 2023, are equipped with a kitchen, a private sauna, and a terrace facing a private garden. Relax by the lake, have a drink in a jacuzzi, or feel the rejuvenating power of an authentic Finnish sauna – relaxation is guaranteed. During your visit, dine in the resort's own restaurant Siimes, or enjoy a unique tea menu in the nearby TeaHouse of Wehmais.; 6. Villipeura’s Niliaitta – Kivijärvi, Lakeland: At Villipeura's holiday village in Kivijärvi, located less than two hours north of Jyväskylä in central Lakeland, unique birdhouse-like boxes are\"),\n",
       " Document(metadata={'start_index': 802}, page_content=\"over the majestic pine trees and birches. The sole mission of the day is to stroll through the forest to the nearby spa. The resort's restaurant serves breakfast, lunch, freshly baked pizzas, wine, and forest-inspired dinners. Hilltop Forest is a perfect minivacation destination, just a under an hour-drive from Helsinki. Eat, sleep and repeat.; 2. The Torby – Fiskars village, Helsinki region: The brand new Torby Hotel, opened in June 2023, is nestled in the charming Fiskars Village. The Torby offers an enchanting retreat for travellers seeking tranquillity and inspiration. Set amidst the lush countryside of the Helsinki region, this boutique hotel seamlessly blends modern design with the rich cultural heritage of the Fiskars village. The village is a treasure trove of creativity, with its vibrant art studios, quaint shops, and idyllic gardens. Guests can explore the local craftsmanship, indulge in delicious Finnish cuisine, or simply immerse themselves in the serene ambiance. Whether\"),\n",
       " Document(metadata={'start_index': 800}, page_content='heart desires in Finland. But go local while you’re here, and you’ll be in for a treat! Also, if you have the chance, continue your culinary journey to some of the best restaurants in the country.; Cereals and grains – made from scratch: All hail the golden crop of Finnish soil, oats! And what’s not to love about the latest boom of oat milks, creams and yoghurts, not to mention pulled oats, which are an extremely tasty alternative to meat? Make sure to taste this decidedly Finnish innovation! If you’re more into traditional foods, stick to good ol’ porridge. This hearty delight can be enjoyed at any gas station, hotel or café for just a few euros. Warming, filling and incredibly tasty, it’s best served with a spoonful of jam or a little fresh butter. Tip: When it comes to local grains, think bakery and check out pastry chef Teemu Aura. The bakeries carrying his name and signature pink bun tracks are called Pullabiili, and they can be found throughout the Helsinki region offering'),\n",
       " Document(metadata={'start_index': 5604}, page_content=\"lakeside sauna in the suite is a perfect way to end a day full of adventures. Kurula is close to the popular outdoor and skiing resort of Pyhä.; 9. Arctra – Rovaniemi, Lapland: At Arctra's private luxury resort near Rovaniemi in Lapland, you can enjoy a glamorous vacation atop the mighty hill of Ollerovaara, with stunning views of arctic nature. Explore the landscape by foot, on skis, or on a husky sled. A private 20 hectare wilderness area will guarantee that there most likely won’t be another soul in sight. Cosy up in your stylish suite or at the spa area. Arctra is only a 15-minute drive from Rovaniemi airport. The cottage serves as an excellent home base to explore Rovaniemi as well as the surrounding wilderness.; 10. Cahkal Hotel – Kilpisjärvi, Lapland: Cahkal Hotel is located 400 kilometres above the Arctic Circle in the northwesternmost point of Finland, in the truly unique Nordic wilderness. Cahkal is an ideal destination for experiential travellers looking for a view – all\"),\n",
       " Document(metadata={'start_index': 1602}, page_content='vibrant art studios, quaint shops, and idyllic gardens. Guests can explore the local craftsmanship, indulge in delicious Finnish cuisine, or simply immerse themselves in the serene ambiance. Whether seeking a peaceful retreat or a cultural adventure, the Torby Hotel and Fiskars Village promise an unforgettable experience.; 3. Hotel Vihannonkulma – Loimaa, Coast and Archipelago: The Hotel Vihannonkulma building, a private home of the car dealer Olli Vihanto, was closed for almost 30 years until the apartment was rediscovered and revived into a boutique hotel opened in 2022. Spend the night in a classic room with sleek Alvar Aalto inspired lines, or in a modern 70s-style room with eccentric details and teak furniture. Enjoy the small-town atmosphere of Loimaa and stroll around in cafés, shops, and historical buildings. Loimaa, located 50 minutes northeast of Turku, serves as a gateway to the surrounding forests and nature.; 4. Kanava Resort – Oravi, Lakeland: Located on a narrow'),\n",
       " Document(metadata={'start_index': 4006}, page_content=\"6. Villipeura’s Niliaitta – Kivijärvi, Lakeland: At Villipeura's holiday village in Kivijärvi, located less than two hours north of Jyväskylä in central Lakeland, unique birdhouse-like boxes are elevated on pillars in the midst of a charming Finnish forest. These uncommon holiday cottages draw inspiration from traditional food storage sheds that were built on wooden pillars to protect food from animals in the past. In the holiday village area, you have access to a range of activities, including tennis, frisbee golf, and fishing. Nature trails of the national parks Salamajärvi and Pyhä Häkki are just around the corner.; 7. Glass huts in Skyfire Village – Rovaniemi, Lapland: At Skyfire Village in Rovaniemi you may need to pinch yourself to figure out whether the view is real: the panoramic windows in the glass huts allow you to gaze at northern lights in autumn and winter, or the midnight sun in the summer directly from your bed. Skyfire Village is in a quiet location with no light\"),\n",
       " Document(metadata={'start_index': 4805}, page_content=\"windows in the glass huts allow you to gaze at northern lights in autumn and winter, or the midnight sun in the summer directly from your bed. Skyfire Village is in a quiet location with no light pollution making it even easier to see the auroras. The village's own restaurant, Sky Hut Restaurant & Bar, offers tailor-made menus by a professional chef using local ingredients.; 8. Kurula’s – Pyhätunturi, Lapland: Kurula’s in Lapland's pristine Pyhä region is the perfect vacation getaway for those who want a combination of quiet relaxation and outdoors activities. In the summer, go on a hike in Finland’s oldest national park Pyhä-Luosto or ascend the fell with a skiing lift to admire the views. In the winter, embark on a husky or reindeer safari and hunt the northern lights. Your own private lakeside sauna in the suite is a perfect way to end a day full of adventures. Kurula is close to the popular outdoor and skiing resort of Pyhä.; 9. Arctra – Rovaniemi, Lapland: At Arctra's private\"),\n",
       " Document(metadata={'start_index': 9}, page_content='Finnish food culture Finland’s cuisine is built around fresh, natural ingredients gathered straight from the waters, fields and forests: Get to know the local ingredients and delicious dishes you simply can’t miss when visiting Finland. Finns are known as leaders of research and innovation. But when it comes to food, they tend to favour tradition. Finnish cuisine differs from neighbouring Scandinavian countries because it has one foot on either side of its borders – Russia in the East and Sweden in the West. Since day one, the Finnish diet has been built around surviving the harsh conditions of our northern climate. Growth seasons are dictated by the cold, meaning many local products are only available for a limited amount of time. These days, you can buy just about anything your heart desires in Finland. But go local while you’re here, and you’ll be in for a treat! Also, if you have the chance, continue your culinary journey to some of the best restaurants in the country.;')]"
      ]
     },
     "execution_count": 7,
     "metadata": {},
     "output_type": "execute_result"
    }
   ],
   "source": [
    "docs"
   ]
  },
  {
   "cell_type": "markdown",
   "metadata": {
    "id": "C35bNiYs_OaL"
   },
   "source": [
    "Before re-ranking, we can see that second highest ranked document is about driving!"
   ]
  },
  {
   "cell_type": "markdown",
   "metadata": {
    "id": "1frCzc4n-JSe"
   },
   "source": [
    "**After re-ranking**"
   ]
  },
  {
   "cell_type": "code",
   "execution_count": null,
   "metadata": {
    "colab": {
     "base_uri": "https://localhost:8080/",
     "height": 812,
     "referenced_widgets": [
      "68850b1a57bb443e893f3dce02d9f5db",
      "321a49d6a1714f63bc6a6928ff336d52",
      "4095a0aec05f42359d29418c656ab1df",
      "3027a061412b4ba88d922a619446d33c",
      "2aca792119004957a2a11dfc044fa546",
      "61aa27928c0d46b4a7492f46b84f724e",
      "6988fa1c2e5a444695671b2cfa1821c1",
      "c42e92ad1f904267bfcd46c138838a4b",
      "7bd9bc8ff2ac43ae923941377966432a",
      "562049cc86364f979e1e504026512c46",
      "a747e1b88fa9425f864efcd2b63f93b1",
      "f7bc00c0a23b4e83b0a7ee9042a9c38d",
      "9f995be39b754735b8afab70248c6cc9",
      "cff4067437ff45bebb8e3c4215117a68",
      "9dad13431ddd4a868c4f23d7a08d8760",
      "6ab24dca56b944ac839555dd856e384f",
      "e5a57aeae7b04e60b02d93f8aeacff82",
      "79f9b8abf6e142ff8eb3d068758ce797",
      "b1c348c16e8c4b18afbcf5741c599a1d",
      "8128987769fa4d51b8cec8a7bbc0c7d0",
      "bc33ac13ebbc4373905dab4f80f9e65a",
      "078c7ab0f13e4bb9b4b2ce476c7ca305",
      "d60ba8470d5c4b678fa46e34fc5d4ffc",
      "662686aa4d5e4ac0a256c6801e9a0019",
      "7cb002e8dda1447eaff26f7dc88472c3",
      "df36a45459b44036806b559690a4e433",
      "da6dbbef94b243dc987a6fde9b893131",
      "31d6dbe921d04a2ba22cf0a77311f67b",
      "fcc2f86a84a94004863ea73cf305a26a",
      "f9c034deae954ac8b0911bcfe4f72f93",
      "eb85f048ffaf4463b7402a1f67b1c729",
      "145d9c206de64e479c921bdc48c107a9",
      "184fe22e49db49ef899649d60fcce1bc",
      "6adc55ce499145b78b171ed124d67e9d",
      "ea757fc3aa744b3f805a3210326550ad",
      "0bfbe45275d648359b357835a41e6b5c",
      "aced445fcc724245b935a4e5395b41e0",
      "37b36678ff974c3b9f7add32201c0939",
      "8399afcba58c4b0cb704183fc20878d6",
      "7e5b612feb3145e49d532cd49bd32297",
      "10eb08e112e94621ad52d7616923ef63",
      "17f5cef7d17342a3951e45e9f4deab1b",
      "509df59e353140488dcf71113fb11da2",
      "0cbf50c06d81418f92942befe6e685bb",
      "052518f45a0b4f668051e3674cf79199",
      "100b66d14fca44e2978e96d05b212cd3",
      "091e61dd978844a88a9f4fe0f0b902ce",
      "dfee18ded79842099486ac16bb6c80f4",
      "9754537e2e874b7f92b072a895b20903",
      "4ccfe588433642468e2902b2f628f45c",
      "9ca21ef5edb444cda62c7088ab66ea96",
      "07edfeae8a024c71a3b23b15648625c7",
      "26e77ba47e394eb996424830ad444d79",
      "7a25f0110d3c41d498c637988e478098",
      "2a59ba5bb27146e09e07c115e87f3bf4",
      "8184b77490ed43ad95d4877423199591",
      "31dfebaa2fb3464b85acb77c39e8bba0",
      "fc73c0526acb4e8ab18140d3d2dc5118",
      "da1044eb935642b1a06952431fc16b33",
      "897328da312944c8ba646c27bc899696",
      "76e6bb155ec3442d9a930d087f15a85c",
      "ba51e84b7899460ab5b352ff7abc6f89",
      "0dcc7b30caa6496d85f6191bf136d367",
      "3b1a092fd0d44081a0a2f0e130e2a4a3",
      "e481cc54d5ac4dfcaddc1a212099e9ea",
      "2dabe01fa9cc4eceb7aecf956048a8f4"
     ]
    },
    "id": "-MBwnZZ174Ib",
    "outputId": "b36bf27d-5972-44a9-934a-65ccc06ad24f"
   },
   "outputs": [
    {
     "data": {
      "application/vnd.jupyter.widget-view+json": {
       "model_id": "68850b1a57bb443e893f3dce02d9f5db",
       "version_major": 2,
       "version_minor": 0
      },
      "text/plain": [
       "config.json:   0%|          | 0.00/799 [00:00<?, ?B/s]"
      ]
     },
     "metadata": {},
     "output_type": "display_data"
    },
    {
     "data": {
      "application/vnd.jupyter.widget-view+json": {
       "model_id": "f7bc00c0a23b4e83b0a7ee9042a9c38d",
       "version_major": 2,
       "version_minor": 0
      },
      "text/plain": [
       "model.safetensors:   0%|          | 0.00/1.11G [00:00<?, ?B/s]"
      ]
     },
     "metadata": {},
     "output_type": "display_data"
    },
    {
     "data": {
      "application/vnd.jupyter.widget-view+json": {
       "model_id": "d60ba8470d5c4b678fa46e34fc5d4ffc",
       "version_major": 2,
       "version_minor": 0
      },
      "text/plain": [
       "tokenizer_config.json:   0%|          | 0.00/443 [00:00<?, ?B/s]"
      ]
     },
     "metadata": {},
     "output_type": "display_data"
    },
    {
     "data": {
      "application/vnd.jupyter.widget-view+json": {
       "model_id": "6adc55ce499145b78b171ed124d67e9d",
       "version_major": 2,
       "version_minor": 0
      },
      "text/plain": [
       "sentencepiece.bpe.model:   0%|          | 0.00/5.07M [00:00<?, ?B/s]"
      ]
     },
     "metadata": {},
     "output_type": "display_data"
    },
    {
     "data": {
      "application/vnd.jupyter.widget-view+json": {
       "model_id": "052518f45a0b4f668051e3674cf79199",
       "version_major": 2,
       "version_minor": 0
      },
      "text/plain": [
       "tokenizer.json:   0%|          | 0.00/17.1M [00:00<?, ?B/s]"
      ]
     },
     "metadata": {},
     "output_type": "display_data"
    },
    {
     "data": {
      "application/vnd.jupyter.widget-view+json": {
       "model_id": "8184b77490ed43ad95d4877423199591",
       "version_major": 2,
       "version_minor": 0
      },
      "text/plain": [
       "special_tokens_map.json:   0%|          | 0.00/279 [00:00<?, ?B/s]"
      ]
     },
     "metadata": {},
     "output_type": "display_data"
    },
    {
     "data": {
      "text/plain": [
       "[Document(metadata={'start_index': 9}, page_content=\"10 new unique places to stay in Finland From modern wooden cabins and brand-new glass huts to resorts with a touch of luxury: Finland offers a plethora of unique accommodation options that showcase the country's breathtaking natural beauty both in the materials and the locations. In recent years, there has been upsurge in unique new hotels, resorts, and cabins opening up around the country. We've curated a list of the coolest and most recently opened ones where you can immerse yourself in Finnish nature and find your inner happiness. Article published in June 2023.; 1. Hilltop Forest – Inkoo, Helsinki region: Hilltop Forest, a small resort in Inkoo, offers charming triangular wooden huts with large windows facing a lush forest. Curl up in the fresh linen bedding and admire the view over the majestic pine trees and birches. The sole mission of the day is to stroll through the forest to the nearby spa. The resort's restaurant serves breakfast, lunch, freshly baked pizzas, wine,\"),\n",
       " Document(metadata={'start_index': 1602}, page_content='vibrant art studios, quaint shops, and idyllic gardens. Guests can explore the local craftsmanship, indulge in delicious Finnish cuisine, or simply immerse themselves in the serene ambiance. Whether seeking a peaceful retreat or a cultural adventure, the Torby Hotel and Fiskars Village promise an unforgettable experience.; 3. Hotel Vihannonkulma – Loimaa, Coast and Archipelago: The Hotel Vihannonkulma building, a private home of the car dealer Olli Vihanto, was closed for almost 30 years until the apartment was rediscovered and revived into a boutique hotel opened in 2022. Spend the night in a classic room with sleek Alvar Aalto inspired lines, or in a modern 70s-style room with eccentric details and teak furniture. Enjoy the small-town atmosphere of Loimaa and stroll around in cafés, shops, and historical buildings. Loimaa, located 50 minutes northeast of Turku, serves as a gateway to the surrounding forests and nature.; 4. Kanava Resort – Oravi, Lakeland: Located on a narrow'),\n",
       " Document(metadata={'start_index': 4006}, page_content=\"6. Villipeura’s Niliaitta – Kivijärvi, Lakeland: At Villipeura's holiday village in Kivijärvi, located less than two hours north of Jyväskylä in central Lakeland, unique birdhouse-like boxes are elevated on pillars in the midst of a charming Finnish forest. These uncommon holiday cottages draw inspiration from traditional food storage sheds that were built on wooden pillars to protect food from animals in the past. In the holiday village area, you have access to a range of activities, including tennis, frisbee golf, and fishing. Nature trails of the national parks Salamajärvi and Pyhä Häkki are just around the corner.; 7. Glass huts in Skyfire Village – Rovaniemi, Lapland: At Skyfire Village in Rovaniemi you may need to pinch yourself to figure out whether the view is real: the panoramic windows in the glass huts allow you to gaze at northern lights in autumn and winter, or the midnight sun in the summer directly from your bed. Skyfire Village is in a quiet location with no light\")]"
      ]
     },
     "execution_count": 8,
     "metadata": {},
     "output_type": "execute_result"
    }
   ],
   "source": [
    "# Use Cross-Encoder\n",
    "from langchain.retrievers import ContextualCompressionRetriever\n",
    "from langchain.retrievers.document_compressors import CrossEncoderReranker\n",
    "from langchain_community.cross_encoders import HuggingFaceCrossEncoder\n",
    "\n",
    "model = HuggingFaceCrossEncoder(model_name=\"BAAI/bge-reranker-base\")\n",
    "compressor = CrossEncoderReranker(model=model, top_n=3) # top 3\n",
    "compression_retriever = ContextualCompressionRetriever(\n",
    "    base_compressor=compressor, base_retriever=retriever\n",
    ")\n",
    "\n",
    "compressed_docs = compression_retriever.invoke(\"Please provide me with the best accomodation in Finland\")\n",
    "compressed_docs"
   ]
  },
  {
   "cell_type": "markdown",
   "metadata": {
    "id": "Mnyw4BIR_dZq"
   },
   "source": [
    "After re-ranking, we can see that the top 3 documents are now all relevant to our query, demonstrating the usefulness of re-ranking i.e. how it supports retrieval"
   ]
  },
  {
   "cell_type": "markdown",
   "metadata": {
    "id": "BMeu5xIYBo-2"
   },
   "source": [
    "**TODO: Use the full data and a number of queries to test if the Re-ranker helps**\n",
    "- How to compare?"
   ]
  },
  {
   "cell_type": "markdown",
   "metadata": {
    "id": "1PobfFDVGmum"
   },
   "source": []
  }
 ],
 "metadata": {
  "colab": {
   "provenance": []
  },
  "language_info": {
   "name": "python"
  }
 },
 "nbformat": 4,
 "nbformat_minor": 0
}
