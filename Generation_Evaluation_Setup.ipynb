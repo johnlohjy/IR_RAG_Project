{
 "cells": [
  {
   "cell_type": "markdown",
   "metadata": {},
   "source": [
    "# **Generation Evaluation Setup**"
   ]
  },
  {
   "cell_type": "code",
   "execution_count": 1,
   "metadata": {},
   "outputs": [],
   "source": [
    "import json"
   ]
  },
  {
   "cell_type": "code",
   "execution_count": 15,
   "metadata": {},
   "outputs": [],
   "source": [
    "question_1 = \"\"\"Help me plan a trip to Iceland, I love outdoor activities!\"\"\"\n",
    "\n",
    "question_2 = \"\"\"What are some special places that I can stay in Finland?\"\"\"\n",
    "\n",
    "question_3 = \"\"\"Help me plan a trip to Sweden, I love culture and food!\"\"\"\n",
    "\n",
    "question_4 = \"\"\"What are fun things to do in Sweden?\"\"\"\n",
    "\n",
    "question_5 = \"\"\"When is the best time to visit Finland to see the northern lights?\"\"\""
   ]
  },
  {
   "cell_type": "code",
   "execution_count": 16,
   "metadata": {},
   "outputs": [],
   "source": [
    "question_1_ground_truth = \"\"\"\n",
    "None\n",
    "\"\"\"\n",
    "\n",
    "question_2_ground_truth = \"\"\"\n",
    "None\n",
    "\"\"\"\n",
    "\n",
    "question_3_ground_truth = \"\"\"\n",
    "None\n",
    "\"\"\"\n",
    "\n",
    "question_4_ground_truth = \"\"\"\n",
    "None\n",
    "\"\"\"\n",
    "\n",
    "question_5_ground_truth = \"\"\"\n",
    "None\n",
    "\"\"\""
   ]
  },
  {
   "cell_type": "code",
   "execution_count": 17,
   "metadata": {},
   "outputs": [],
   "source": [
    "refusal_questions = [\"How old is Barack Obama?\", \"How fast does a rocket fly?\", \"Who discovered Gravity?\", \"What is the fastest fish in the world?\", \"How hot is the Sun?\"]\n",
    "     "
   ]
  },
  {
   "cell_type": "code",
   "execution_count": 18,
   "metadata": {},
   "outputs": [],
   "source": [
    "generation_eval = {\n",
    "    \"question_1\": {\n",
    "        'question': question_1,\n",
    "        'ground_truth': question_1_ground_truth\n",
    "    },   \n",
    "    \"question_2\": {\n",
    "        'question': question_2,\n",
    "        'ground_truth': question_2_ground_truth\n",
    "    },   \n",
    "    \"question_3\": {\n",
    "        'question': question_3,\n",
    "        'ground_truth': question_3_ground_truth\n",
    "    },   \n",
    "    \"question_4\": {\n",
    "        'question': question_4,\n",
    "        'ground_truth': question_4_ground_truth\n",
    "    },   \n",
    "    \"question_5\": {\n",
    "        'question': question_5,\n",
    "        'ground_truth': question_5_ground_truth\n",
    "    },\n",
    "    \"refusal_questions\": refusal_questions\n",
    "}"
   ]
  },
  {
   "cell_type": "code",
   "execution_count": 19,
   "metadata": {},
   "outputs": [],
   "source": [
    "with open(\"generation_eval.json\", \"w\") as json_file:\n",
    "    json.dump(generation_eval, json_file, indent=4)"
   ]
  },
  {
   "cell_type": "code",
   "execution_count": 2,
   "metadata": {},
   "outputs": [],
   "source": [
    "with open('./data/generation_eval.json', 'r') as file:\n",
    "    generation_eval = json.load(file)"
   ]
  },
  {
   "cell_type": "code",
   "execution_count": 3,
   "metadata": {},
   "outputs": [
    {
     "data": {
      "text/plain": [
       "{'question_1': {'question': 'Help me plan a trip to Iceland, I love outdoor activities!',\n",
       "  'ground_truth': '\\nNone\\n'},\n",
       " 'question_2': {'question': 'What are some special places that I can stay in Finland?',\n",
       "  'ground_truth': '\\nNone\\n'},\n",
       " 'question_3': {'question': 'Help me plan a trip to Sweden, I love culture and food!',\n",
       "  'ground_truth': '\\nNone\\n'},\n",
       " 'question_4': {'question': 'What are fun things to do in Sweden?',\n",
       "  'ground_truth': '\\nNone\\n'},\n",
       " 'question_5': {'question': 'When is the best time to visit Finland to see the northern lights?',\n",
       "  'ground_truth': '\\nNone\\n'},\n",
       " 'refusal_questions': ['How old is Barack Obama?',\n",
       "  'How fast does a rocket fly?',\n",
       "  'Who discovered Gravity?',\n",
       "  'What is the fastest fish in the world?',\n",
       "  'How hot is the Sun?']}"
      ]
     },
     "execution_count": 3,
     "metadata": {},
     "output_type": "execute_result"
    }
   ],
   "source": [
    "generation_eval"
   ]
  },
  {
   "cell_type": "code",
   "execution_count": 5,
   "metadata": {},
   "outputs": [],
   "source": [
    "ground_truth_1 = \"\"\"\n",
    "Day 1: Arrival in Reykjavík\n",
    "- Arrive at Keflavík International Airport.\n",
    "- Transfer to Reykjavík.\n",
    "- Explore the city: visit Hallgrímskirkja Church, Harpa Concert Hall, and Sun Voyager sculpture.\n",
    "- Optional: Relax at the Blue Lagoon geothermal spa.\n",
    "\n",
    "Day 2: Golden Circle Tour\n",
    "- Þingvellir National Park: Walk between tectonic plates.\n",
    "- Geysir Geothermal Area: Watch Strokkur geyser erupt.\n",
    "- Gullfoss Waterfall: Witness the \"Golden Falls.\"\n",
    "- Optional: Snorkeling in Silfra Fissure at Þingvellir.\n",
    "\n",
    "Day 3: South Coast Exploration\n",
    "- Seljalandsfoss Waterfall: Walk behind the waterfall.\n",
    "- Skógafoss Waterfall: Climb to the top for panoramic views.\n",
    "- Reynisfjara Black Sand Beach: See basalt columns and sea stacks.\n",
    "- Overnight in Vík.\n",
    "\n",
    "Day 4: Glacier Adventures\n",
    "- Sólheimajökull Glacier: Guided glacier hike.\n",
    "- Optional: Ice climbing session.\n",
    "- Visit Fjaðrárgljúfur Canyon.\n",
    "- Overnight near Skaftafell.\n",
    "\n",
    "Day 5: Jökulsárlón Glacier Lagoon & Diamond Beach\n",
    "- Boat tour among icebergs in Jökulsárlón.\n",
    "- Explore Diamond Beach with ice fragments on black sand.\n",
    "- Optional: Visit an ice cave (seasonal).\n",
    "- Return to Reykjavík.\n",
    "\n",
    "Day 6: Snæfellsnes Peninsula\n",
    "- Kirkjufell Mountain and Kirkjufellsfoss Waterfall.\n",
    "- Djúpalónssandur Black Pebble Beach.\n",
    "- Explore lava fields and coastal cliffs.\n",
    "- Return to Reykjavík.\n",
    "\n",
    "Day 7: Reykjanes Peninsula & Departure\n",
    "- Visit Gunnuhver Hot Springs and Reykjanesviti Lighthouse.\n",
    "- Bridge Between Continents: Walk between tectonic plates.\n",
    "- Transfer to Keflavík Airport for departure.\n",
    "\n",
    "Notes:\n",
    "- Weather can be unpredictable; plan activities accordingly.\n",
    "- Some activities are seasonal (e.g., ice caving).\n",
    "- Book tours and accommodations in advance, especially during peak seasons.\n",
    "\"\"\""
   ]
  },
  {
   "cell_type": "code",
   "execution_count": 6,
   "metadata": {},
   "outputs": [],
   "source": [
    "ground_truth_2 = \"\"\"\n",
    "1. **Kakslauttanen Arctic Resort**: Located in Saariselkä, this resort offers iconic glass igloos, allowing guests to view the Northern Lights from the comfort of their beds. The resort also provides log chalets and various Arctic activities.\n",
    "\n",
    "2. **Arctic TreeHouse Hotel**: Situated in Rovaniemi, this hotel features individual suites with panoramic views of the surrounding forest and, with luck, the Northern Lights. The design combines local tradition with modern Scandinavian style.\n",
    "\n",
    "3. **Hotel Katajanokka**: Located in Helsinki, this unique hotel is housed in a converted 19th-century prison. It offers modern accommodations while retaining historic features, providing a distinctive blend of history and comfort.\n",
    "\n",
    "4. **Levin Iglut - Golden Crown**: Near Levi, this hotel offers luxury glass igloos with unobstructed views of the sky and surrounding nature. Some igloos come equipped with private outdoor hot tubs.\n",
    "\n",
    "5. **SnowCastle of Kemi**: Reconstructed annually in Kemi, this snow hotel features rooms made entirely of snow and ice, including intricate ice sculptures. Guests can also visit the SnowRestaurant and SnowChapel.\n",
    "\n",
    "6. **Arctic SnowHotel & Glass Igloos**: Located in Sinettä, this establishment offers both snow rooms and glass igloos, providing a unique experience to view the Northern Lights and enjoy the snow-built architecture.\n",
    "\n",
    "7. **Iso Syöte Hotel**: Positioned on Iso Syöte hill, this hotel provides panoramic views of the surrounding landscapes. It's renowned for its Eagle View Suite, which has glass walls and ceiling.\n",
    "\n",
    "8. **Torby Hotel**: Opened in June 2023 in Fiskars Village, this boutique hotel blends modern design with the rich cultural heritage of the area, offering an enchanting retreat in the Helsinki region.\n",
    "\n",
    "9. **Hotel Vihannonkulma**: Located in Loimaa, this boutique hotel, opened in 2022, features rooms inspired by classic and modern 70s-style designs, providing a nostalgic atmosphere.\n",
    "\n",
    "10. **Aurora Nest – Eco Glass Igloo**: Situated in Rovaniemi, this floating glass igloo offers a unique way to experience the Northern Lights, combining adventure with comfort.\n",
    "\n",
    "11. **Hotel Kakola**: Set in Turku, this hotel is housed in a former prison, offering a unique blend of history and modern accommodation.\n",
    "\n",
    "12. **Santa Claus Holiday Village**: Located in Rovaniemi, this resort offers cozy cabins and a chance to meet Santa Claus, making it ideal for families.\n",
    "\n",
    "13. **Arctic Land Glass Igloos**: Situated in Kilpisjärvi, these remote glass igloos provide an intimate experience with nature and the Northern Lights.\n",
    "\n",
    "14. **Hotel Torni Tampere**: As the tallest hotel in Finland, it offers panoramic views of Tampere and features the Moro Sky Bar on the top floor.\n",
    "\n",
    "15. **Majamaja**: Located in Helsinki, these eco-friendly cabins offer a sustainable stay with beautiful sea views, combining modern comfort with nature.\n",
    "\"\"\"\n"
   ]
  },
  {
   "cell_type": "code",
   "execution_count": 7,
   "metadata": {},
   "outputs": [],
   "source": [
    "ground_truth_3 = \"\"\"\n",
    "Day 1: Arrival in Stockholm\n",
    "- Arrive in Stockholm and check into your accommodation.\n",
    "- Explore Gamla Stan (Old Town) with its cobblestone streets and historic buildings.\n",
    "- Visit the Royal Palace and witness the changing of the guard.\n",
    "- Dine at a traditional Swedish restaurant to experience local cuisine.\n",
    "\n",
    "Day 2: Museums and Culture in Stockholm\n",
    "- Visit the Vasa Museum to see the well-preserved 17th-century warship.\n",
    "- Explore the ABBA Museum for insights into Sweden's pop music history.\n",
    "- Tour the Fotografiska Museum, dedicated to contemporary photography.\n",
    "- Enjoy dinner at a modern Nordic restaurant to experience innovative Swedish cuisine.\n",
    "\n",
    "Day 3: Archipelago Excursion\n",
    "- Take a boat tour of the Stockholm Archipelago, comprising over 30,000 islands.\n",
    "- Visit Vaxholm, known for its wooden houses and coastal charm.\n",
    "- Enjoy fresh seafood at a local archipelago restaurant.\n",
    "- Return to Stockholm for the night.\n",
    "\n",
    "Day 4: Uppsala – History and Academia\n",
    "- Travel to Uppsala, a city rich in history and academic heritage.\n",
    "- Visit Uppsala Cathedral, the largest church in Scandinavia.\n",
    "- Explore the Gustavianum museum with artifacts from Viking times.\n",
    "- Dine at a local restaurant specializing in traditional Swedish dishes.\n",
    "\n",
    "Day 5: Culinary Experiences in Gothenburg\n",
    "- Travel to Gothenburg, Sweden's second-largest city.\n",
    "- Visit the Feskekôrka (Fish Church) market to sample fresh seafood.\n",
    "- Take a guided food tour to taste local specialties and learn about West Coast cuisine.\n",
    "- Enjoy dinner at a renowned Gothenburg restaurant focusing on sustainable seafood.\n",
    "\n",
    "Day 6: Malmö and Öresund Bridge\n",
    "- Travel to Malmö in southern Sweden.\n",
    "- Explore Malmö Castle and the Moderna Museet Malmö for contemporary art.\n",
    "- Walk through Lilla Torg, a historic square with vibrant cafes and restaurants.\n",
    "- Cross the Öresund Bridge to Copenhagen, Denmark, for a brief visit if time permits.\n",
    "\n",
    "Day 7: Sami Culture in Swedish Lapland\n",
    "- Fly to Kiruna in Swedish Lapland.\n",
    "- Engage with the indigenous Sami culture: visit a Sami village, learn about reindeer herding, and experience traditional Sami cuisine.\n",
    "- Stay overnight in a unique accommodation such as the Icehotel or a Sami tepee.\n",
    "\n",
    "Day 8: Return to Stockholm and Departure\n",
    "- Return to Stockholm.\n",
    "- Depending on flight time, visit Skansen, the world's oldest open-air museum, to experience Swedish history and traditions.\n",
    "- Depart from Stockholm Arlanda Airport.\n",
    "\n",
    "Notes:\n",
    "- Sweden's culinary scene emphasizes sustainability and locally sourced ingredients; consider dining at restaurants that showcase New Nordic cuisine.\n",
    "- Seasonal variations affect available activities, especially in Swedish Lapland; plan accordingly.\n",
    "- Book accommodations and certain activities in advance, particularly during peak tourist seasons.\n",
    "\"\"\"\n"
   ]
  },
  {
   "cell_type": "code",
   "execution_count": 8,
   "metadata": {},
   "outputs": [],
   "source": [
    "ground_truth_4 = \"\"\"\n",
    "1. **Explore Stockholm's Archipelago**: Embark on a scenic boat tour through Stockholm's archipelago, comprising over 30,000 islands, to experience stunning natural beauty and traditional Swedish coastal life.\n",
    "\n",
    "2. **Visit the Vasa Museum**: Discover the Vasa Museum in Stockholm, home to the world's only preserved 17th-century ship, offering a unique glimpse into maritime history.\n",
    "\n",
    "3. **Experience the Northern Lights in Abisko**: Travel to Abisko National Park in Swedish Lapland to witness the mesmerizing Northern Lights, especially visible during the winter months.\n",
    "\n",
    "4. **Wander Through Gamla Stan**: Stroll through Stockholm's Gamla Stan (Old Town), characterized by its cobblestone streets, colorful buildings, and historic sites like the Royal Palace.\n",
    "\n",
    "5. **Enjoy Liseberg Amusement Park**: Visit Liseberg in Gothenburg, Scandinavia's largest amusement park, featuring thrilling rides, games, and live entertainment.\n",
    "\n",
    "6. **Attend a Traditional Swedish Fika**: Participate in the Swedish custom of 'fika' by enjoying coffee and pastries at local cafés, immersing yourself in the country's rich coffee culture.\n",
    "\n",
    "7. **Explore the Icehotel in Jukkasjärvi**: Stay at the Icehotel in Jukkasjärvi, a unique accommodation made entirely of ice and snow, rebuilt annually with new artistic designs.\n",
    "\n",
    "8. **Hike the Höga Kusten Trail**: Trek along the High Coast Trail, a UNESCO World Heritage site offering breathtaking views of Sweden's rugged coastline and natural landscapes.\n",
    "\n",
    "9. **Visit Skansen Open-Air Museum**: Explore Skansen in Stockholm, the world's oldest open-air museum, showcasing traditional Swedish buildings, crafts, and a zoo with native animals.\n",
    "\n",
    "10. **Experience Sami Culture**: Engage with the indigenous Sami culture in Swedish Lapland by visiting a Sami village, learning about reindeer herding, and sampling traditional Sami cuisine.\n",
    "\n",
    "11. **Tour the Göta Canal**: Cruise or bike along the historic Göta Canal, often described as Sweden's greatest feat of engineering, offering picturesque views of the countryside.\n",
    "\n",
    "12. **Attend the Medieval Week in Visby**: Travel to the island of Gotland to participate in the annual Medieval Week in Visby, featuring reenactments, markets, and medieval-themed events.\n",
    "\n",
    "13. **Relax in a Swedish Sauna**: Experience traditional Swedish relaxation by visiting a sauna, an integral part of the country's wellness culture.\n",
    "\n",
    "14. **Explore the Stockholm Metro Art**: Discover the Stockholm metro system, often referred to as the world's longest art gallery, with its stations adorned with unique artworks.\n",
    "\n",
    "15. **Visit Drottningholm Palace**: Tour Drottningholm Palace, the private residence of the Swedish royal family and a UNESCO World Heritage site, known for its stunning architecture and gardens.\n",
    "\n",
    "16. **Attend a Music Festival**: Participate in one of Sweden's numerous music festivals, such as Way Out West in Gothenburg, featuring a diverse lineup of international artists.\n",
    "\n",
    "17. **Explore the Swedish Archipelagos**: Discover the beauty of Sweden's archipelagos, such as the Gothenburg archipelago, offering opportunities for kayaking, fishing, and island-hopping.\n",
    "\n",
    "18. **Visit the ABBA Museum**: Dive into the history of Sweden's iconic pop group at the ABBA Museum in Stockholm, featuring interactive exhibits and memorabilia.\n",
    "\n",
    "19. **Experience Dog Sledding**: Embark on a dog sledding adventure in Swedish Lapland, gliding through snowy landscapes led by a team of huskies.\n",
    "\n",
    "20. **Explore the City of Gothenburg**: Wander through Gothenburg's Haga district, known for its charming wooden houses and cozy cafés, and visit attractions like the Universeum science center.\n",
    "\"\"\"\n"
   ]
  },
  {
   "cell_type": "code",
   "execution_count": 9,
   "metadata": {},
   "outputs": [],
   "source": [
    "ground_truth_5 = \"\"\"\n",
    "The optimal time to witness the Northern Lights in Finland is from late August to early April, with peak visibility between September and March. During these months, the long, dark nights provide ideal conditions for aurora sightings. Statistically, the lights are visible on every second night. :contentReference[oaicite:0]{index=0}\n",
    "\n",
    "**Seasonal Breakdown:**\n",
    "\n",
    "- **Autumn (September to October):** As nights lengthen after summer, the aurora becomes more visible. Autumn offers the advantage of milder temperatures and vibrant fall foliage, enhancing the viewing experience.\n",
    "\n",
    "- **Winter (November to February):** This period offers the longest nights, increasing opportunities for sightings. However, cloud cover can be more prevalent, so it's essential to monitor weather conditions.\n",
    "\n",
    "- **Spring (March to early April):** Similar to autumn, spring provides extended dark hours with clearer skies, making it another favorable time for aurora viewing.\n",
    "\n",
    "**Optimal Viewing Conditions:**\n",
    "\n",
    "- **Time of Night:** The best time to observe the Northern Lights is typically between 10 PM and 2 AM. :contentReference[oaicite:1]{index=1}\n",
    "\n",
    "- **Location:** Northern Finland, particularly above the Arctic Circle in regions like Lapland, offers the highest chances of sightings. Areas with minimal light pollution, such as open fields or lakeshores, provide optimal viewing conditions. :contentReference[oaicite:2]{index=2}\n",
    "\n",
    "- **Weather:** Clear, dark skies are essential. Cloud cover can obstruct the aurora, so it's advisable to check local weather forecasts and aurora alerts.\n",
    "\n",
    "**Additional Tips:**\n",
    "\n",
    "- **Aurora Forecasts:** Utilize resources like the Finnish Meteorological Institute's space weather services to monitor aurora activity. :contentReference[oaicite:3]{index=3}\n",
    "\n",
    "- **Guided Tours:** Consider joining guided Northern Lights tours, as local experts can take you to prime viewing locations and provide valuable insights.\n",
    "\n",
    "- **Stay Duration:** Given the unpredictability of the aurora, plan to stay multiple nights to increase your chances of witnessing the phenomenon.\n",
    "\n",
    "By planning your visit between late August and early April and considering these factors, you can enhance your chances of experiencing the mesmerizing Northern Lights in Finland.\n",
    "\"\"\"\n"
   ]
  },
  {
   "cell_type": "code",
   "execution_count": 10,
   "metadata": {},
   "outputs": [],
   "source": [
    "generation_eval['question_1']['ground_truth'] = ground_truth_1\n",
    "generation_eval['question_2']['ground_truth'] = ground_truth_2\n",
    "generation_eval['question_3']['ground_truth'] = ground_truth_3\n",
    "generation_eval['question_4']['ground_truth'] = ground_truth_4\n",
    "generation_eval['question_5']['ground_truth'] = ground_truth_5"
   ]
  },
  {
   "cell_type": "code",
   "execution_count": 11,
   "metadata": {},
   "outputs": [
    {
     "data": {
      "text/plain": [
       "{'question_1': {'question': 'Help me plan a trip to Iceland, I love outdoor activities!',\n",
       "  'ground_truth': '\\nDay 1: Arrival in Reykjavík\\n- Arrive at Keflavík International Airport.\\n- Transfer to Reykjavík.\\n- Explore the city: visit Hallgrímskirkja Church, Harpa Concert Hall, and Sun Voyager sculpture.\\n- Optional: Relax at the Blue Lagoon geothermal spa.\\n\\nDay 2: Golden Circle Tour\\n- Þingvellir National Park: Walk between tectonic plates.\\n- Geysir Geothermal Area: Watch Strokkur geyser erupt.\\n- Gullfoss Waterfall: Witness the \"Golden Falls.\"\\n- Optional: Snorkeling in Silfra Fissure at Þingvellir.\\n\\nDay 3: South Coast Exploration\\n- Seljalandsfoss Waterfall: Walk behind the waterfall.\\n- Skógafoss Waterfall: Climb to the top for panoramic views.\\n- Reynisfjara Black Sand Beach: See basalt columns and sea stacks.\\n- Overnight in Vík.\\n\\nDay 4: Glacier Adventures\\n- Sólheimajökull Glacier: Guided glacier hike.\\n- Optional: Ice climbing session.\\n- Visit Fjaðrárgljúfur Canyon.\\n- Overnight near Skaftafell.\\n\\nDay 5: Jökulsárlón Glacier Lagoon & Diamond Beach\\n- Boat tour among icebergs in Jökulsárlón.\\n- Explore Diamond Beach with ice fragments on black sand.\\n- Optional: Visit an ice cave (seasonal).\\n- Return to Reykjavík.\\n\\nDay 6: Snæfellsnes Peninsula\\n- Kirkjufell Mountain and Kirkjufellsfoss Waterfall.\\n- Djúpalónssandur Black Pebble Beach.\\n- Explore lava fields and coastal cliffs.\\n- Return to Reykjavík.\\n\\nDay 7: Reykjanes Peninsula & Departure\\n- Visit Gunnuhver Hot Springs and Reykjanesviti Lighthouse.\\n- Bridge Between Continents: Walk between tectonic plates.\\n- Transfer to Keflavík Airport for departure.\\n\\nNotes:\\n- Weather can be unpredictable; plan activities accordingly.\\n- Some activities are seasonal (e.g., ice caving).\\n- Book tours and accommodations in advance, especially during peak seasons.\\n'},\n",
       " 'question_2': {'question': 'What are some special places that I can stay in Finland?',\n",
       "  'ground_truth': \"\\n1. **Kakslauttanen Arctic Resort**: Located in Saariselkä, this resort offers iconic glass igloos, allowing guests to view the Northern Lights from the comfort of their beds. The resort also provides log chalets and various Arctic activities.\\n\\n2. **Arctic TreeHouse Hotel**: Situated in Rovaniemi, this hotel features individual suites with panoramic views of the surrounding forest and, with luck, the Northern Lights. The design combines local tradition with modern Scandinavian style.\\n\\n3. **Hotel Katajanokka**: Located in Helsinki, this unique hotel is housed in a converted 19th-century prison. It offers modern accommodations while retaining historic features, providing a distinctive blend of history and comfort.\\n\\n4. **Levin Iglut - Golden Crown**: Near Levi, this hotel offers luxury glass igloos with unobstructed views of the sky and surrounding nature. Some igloos come equipped with private outdoor hot tubs.\\n\\n5. **SnowCastle of Kemi**: Reconstructed annually in Kemi, this snow hotel features rooms made entirely of snow and ice, including intricate ice sculptures. Guests can also visit the SnowRestaurant and SnowChapel.\\n\\n6. **Arctic SnowHotel & Glass Igloos**: Located in Sinettä, this establishment offers both snow rooms and glass igloos, providing a unique experience to view the Northern Lights and enjoy the snow-built architecture.\\n\\n7. **Iso Syöte Hotel**: Positioned on Iso Syöte hill, this hotel provides panoramic views of the surrounding landscapes. It's renowned for its Eagle View Suite, which has glass walls and ceiling.\\n\\n8. **Torby Hotel**: Opened in June 2023 in Fiskars Village, this boutique hotel blends modern design with the rich cultural heritage of the area, offering an enchanting retreat in the Helsinki region.\\n\\n9. **Hotel Vihannonkulma**: Located in Loimaa, this boutique hotel, opened in 2022, features rooms inspired by classic and modern 70s-style designs, providing a nostalgic atmosphere.\\n\\n10. **Aurora Nest – Eco Glass Igloo**: Situated in Rovaniemi, this floating glass igloo offers a unique way to experience the Northern Lights, combining adventure with comfort.\\n\\n11. **Hotel Kakola**: Set in Turku, this hotel is housed in a former prison, offering a unique blend of history and modern accommodation.\\n\\n12. **Santa Claus Holiday Village**: Located in Rovaniemi, this resort offers cozy cabins and a chance to meet Santa Claus, making it ideal for families.\\n\\n13. **Arctic Land Glass Igloos**: Situated in Kilpisjärvi, these remote glass igloos provide an intimate experience with nature and the Northern Lights.\\n\\n14. **Hotel Torni Tampere**: As the tallest hotel in Finland, it offers panoramic views of Tampere and features the Moro Sky Bar on the top floor.\\n\\n15. **Majamaja**: Located in Helsinki, these eco-friendly cabins offer a sustainable stay with beautiful sea views, combining modern comfort with nature.\\n\"},\n",
       " 'question_3': {'question': 'Help me plan a trip to Sweden, I love culture and food!',\n",
       "  'ground_truth': \"\\nDay 1: Arrival in Stockholm\\n- Arrive in Stockholm and check into your accommodation.\\n- Explore Gamla Stan (Old Town) with its cobblestone streets and historic buildings.\\n- Visit the Royal Palace and witness the changing of the guard.\\n- Dine at a traditional Swedish restaurant to experience local cuisine.\\n\\nDay 2: Museums and Culture in Stockholm\\n- Visit the Vasa Museum to see the well-preserved 17th-century warship.\\n- Explore the ABBA Museum for insights into Sweden's pop music history.\\n- Tour the Fotografiska Museum, dedicated to contemporary photography.\\n- Enjoy dinner at a modern Nordic restaurant to experience innovative Swedish cuisine.\\n\\nDay 3: Archipelago Excursion\\n- Take a boat tour of the Stockholm Archipelago, comprising over 30,000 islands.\\n- Visit Vaxholm, known for its wooden houses and coastal charm.\\n- Enjoy fresh seafood at a local archipelago restaurant.\\n- Return to Stockholm for the night.\\n\\nDay 4: Uppsala – History and Academia\\n- Travel to Uppsala, a city rich in history and academic heritage.\\n- Visit Uppsala Cathedral, the largest church in Scandinavia.\\n- Explore the Gustavianum museum with artifacts from Viking times.\\n- Dine at a local restaurant specializing in traditional Swedish dishes.\\n\\nDay 5: Culinary Experiences in Gothenburg\\n- Travel to Gothenburg, Sweden's second-largest city.\\n- Visit the Feskekôrka (Fish Church) market to sample fresh seafood.\\n- Take a guided food tour to taste local specialties and learn about West Coast cuisine.\\n- Enjoy dinner at a renowned Gothenburg restaurant focusing on sustainable seafood.\\n\\nDay 6: Malmö and Öresund Bridge\\n- Travel to Malmö in southern Sweden.\\n- Explore Malmö Castle and the Moderna Museet Malmö for contemporary art.\\n- Walk through Lilla Torg, a historic square with vibrant cafes and restaurants.\\n- Cross the Öresund Bridge to Copenhagen, Denmark, for a brief visit if time permits.\\n\\nDay 7: Sami Culture in Swedish Lapland\\n- Fly to Kiruna in Swedish Lapland.\\n- Engage with the indigenous Sami culture: visit a Sami village, learn about reindeer herding, and experience traditional Sami cuisine.\\n- Stay overnight in a unique accommodation such as the Icehotel or a Sami tepee.\\n\\nDay 8: Return to Stockholm and Departure\\n- Return to Stockholm.\\n- Depending on flight time, visit Skansen, the world's oldest open-air museum, to experience Swedish history and traditions.\\n- Depart from Stockholm Arlanda Airport.\\n\\nNotes:\\n- Sweden's culinary scene emphasizes sustainability and locally sourced ingredients; consider dining at restaurants that showcase New Nordic cuisine.\\n- Seasonal variations affect available activities, especially in Swedish Lapland; plan accordingly.\\n- Book accommodations and certain activities in advance, particularly during peak tourist seasons.\\n\"},\n",
       " 'question_4': {'question': 'What are fun things to do in Sweden?',\n",
       "  'ground_truth': \"\\n1. **Explore Stockholm's Archipelago**: Embark on a scenic boat tour through Stockholm's archipelago, comprising over 30,000 islands, to experience stunning natural beauty and traditional Swedish coastal life.\\n\\n2. **Visit the Vasa Museum**: Discover the Vasa Museum in Stockholm, home to the world's only preserved 17th-century ship, offering a unique glimpse into maritime history.\\n\\n3. **Experience the Northern Lights in Abisko**: Travel to Abisko National Park in Swedish Lapland to witness the mesmerizing Northern Lights, especially visible during the winter months.\\n\\n4. **Wander Through Gamla Stan**: Stroll through Stockholm's Gamla Stan (Old Town), characterized by its cobblestone streets, colorful buildings, and historic sites like the Royal Palace.\\n\\n5. **Enjoy Liseberg Amusement Park**: Visit Liseberg in Gothenburg, Scandinavia's largest amusement park, featuring thrilling rides, games, and live entertainment.\\n\\n6. **Attend a Traditional Swedish Fika**: Participate in the Swedish custom of 'fika' by enjoying coffee and pastries at local cafés, immersing yourself in the country's rich coffee culture.\\n\\n7. **Explore the Icehotel in Jukkasjärvi**: Stay at the Icehotel in Jukkasjärvi, a unique accommodation made entirely of ice and snow, rebuilt annually with new artistic designs.\\n\\n8. **Hike the Höga Kusten Trail**: Trek along the High Coast Trail, a UNESCO World Heritage site offering breathtaking views of Sweden's rugged coastline and natural landscapes.\\n\\n9. **Visit Skansen Open-Air Museum**: Explore Skansen in Stockholm, the world's oldest open-air museum, showcasing traditional Swedish buildings, crafts, and a zoo with native animals.\\n\\n10. **Experience Sami Culture**: Engage with the indigenous Sami culture in Swedish Lapland by visiting a Sami village, learning about reindeer herding, and sampling traditional Sami cuisine.\\n\\n11. **Tour the Göta Canal**: Cruise or bike along the historic Göta Canal, often described as Sweden's greatest feat of engineering, offering picturesque views of the countryside.\\n\\n12. **Attend the Medieval Week in Visby**: Travel to the island of Gotland to participate in the annual Medieval Week in Visby, featuring reenactments, markets, and medieval-themed events.\\n\\n13. **Relax in a Swedish Sauna**: Experience traditional Swedish relaxation by visiting a sauna, an integral part of the country's wellness culture.\\n\\n14. **Explore the Stockholm Metro Art**: Discover the Stockholm metro system, often referred to as the world's longest art gallery, with its stations adorned with unique artworks.\\n\\n15. **Visit Drottningholm Palace**: Tour Drottningholm Palace, the private residence of the Swedish royal family and a UNESCO World Heritage site, known for its stunning architecture and gardens.\\n\\n16. **Attend a Music Festival**: Participate in one of Sweden's numerous music festivals, such as Way Out West in Gothenburg, featuring a diverse lineup of international artists.\\n\\n17. **Explore the Swedish Archipelagos**: Discover the beauty of Sweden's archipelagos, such as the Gothenburg archipelago, offering opportunities for kayaking, fishing, and island-hopping.\\n\\n18. **Visit the ABBA Museum**: Dive into the history of Sweden's iconic pop group at the ABBA Museum in Stockholm, featuring interactive exhibits and memorabilia.\\n\\n19. **Experience Dog Sledding**: Embark on a dog sledding adventure in Swedish Lapland, gliding through snowy landscapes led by a team of huskies.\\n\\n20. **Explore the City of Gothenburg**: Wander through Gothenburg's Haga district, known for its charming wooden houses and cozy cafés, and visit attractions like the Universeum science center.\\n\"},\n",
       " 'question_5': {'question': 'When is the best time to visit Finland to see the northern lights?',\n",
       "  'ground_truth': \"\\nThe optimal time to witness the Northern Lights in Finland is from late August to early April, with peak visibility between September and March. During these months, the long, dark nights provide ideal conditions for aurora sightings. Statistically, the lights are visible on every second night. :contentReference[oaicite:0]{index=0}\\n\\n**Seasonal Breakdown:**\\n\\n- **Autumn (September to October):** As nights lengthen after summer, the aurora becomes more visible. Autumn offers the advantage of milder temperatures and vibrant fall foliage, enhancing the viewing experience.\\n\\n- **Winter (November to February):** This period offers the longest nights, increasing opportunities for sightings. However, cloud cover can be more prevalent, so it's essential to monitor weather conditions.\\n\\n- **Spring (March to early April):** Similar to autumn, spring provides extended dark hours with clearer skies, making it another favorable time for aurora viewing.\\n\\n**Optimal Viewing Conditions:**\\n\\n- **Time of Night:** The best time to observe the Northern Lights is typically between 10 PM and 2 AM. :contentReference[oaicite:1]{index=1}\\n\\n- **Location:** Northern Finland, particularly above the Arctic Circle in regions like Lapland, offers the highest chances of sightings. Areas with minimal light pollution, such as open fields or lakeshores, provide optimal viewing conditions. :contentReference[oaicite:2]{index=2}\\n\\n- **Weather:** Clear, dark skies are essential. Cloud cover can obstruct the aurora, so it's advisable to check local weather forecasts and aurora alerts.\\n\\n**Additional Tips:**\\n\\n- **Aurora Forecasts:** Utilize resources like the Finnish Meteorological Institute's space weather services to monitor aurora activity. :contentReference[oaicite:3]{index=3}\\n\\n- **Guided Tours:** Consider joining guided Northern Lights tours, as local experts can take you to prime viewing locations and provide valuable insights.\\n\\n- **Stay Duration:** Given the unpredictability of the aurora, plan to stay multiple nights to increase your chances of witnessing the phenomenon.\\n\\nBy planning your visit between late August and early April and considering these factors, you can enhance your chances of experiencing the mesmerizing Northern Lights in Finland.\\n\"},\n",
       " 'refusal_questions': ['How old is Barack Obama?',\n",
       "  'How fast does a rocket fly?',\n",
       "  'Who discovered Gravity?',\n",
       "  'What is the fastest fish in the world?',\n",
       "  'How hot is the Sun?']}"
      ]
     },
     "execution_count": 11,
     "metadata": {},
     "output_type": "execute_result"
    }
   ],
   "source": [
    "generation_eval"
   ]
  },
  {
   "cell_type": "code",
   "execution_count": 12,
   "metadata": {},
   "outputs": [],
   "source": [
    "with open(\"generation_eval.json\", \"w\") as json_file:\n",
    "    json.dump(generation_eval, json_file, indent=4)"
   ]
  },
  {
   "cell_type": "code",
   "execution_count": 13,
   "metadata": {},
   "outputs": [],
   "source": [
    "with open('generation_eval.json', 'r') as file:\n",
    "    generation_eval = json.load(file)"
   ]
  },
  {
   "cell_type": "code",
   "execution_count": 14,
   "metadata": {},
   "outputs": [
    {
     "data": {
      "text/plain": [
       "{'question_1': {'question': 'Help me plan a trip to Iceland, I love outdoor activities!',\n",
       "  'ground_truth': '\\nDay 1: Arrival in Reykjavík\\n- Arrive at Keflavík International Airport.\\n- Transfer to Reykjavík.\\n- Explore the city: visit Hallgrímskirkja Church, Harpa Concert Hall, and Sun Voyager sculpture.\\n- Optional: Relax at the Blue Lagoon geothermal spa.\\n\\nDay 2: Golden Circle Tour\\n- Þingvellir National Park: Walk between tectonic plates.\\n- Geysir Geothermal Area: Watch Strokkur geyser erupt.\\n- Gullfoss Waterfall: Witness the \"Golden Falls.\"\\n- Optional: Snorkeling in Silfra Fissure at Þingvellir.\\n\\nDay 3: South Coast Exploration\\n- Seljalandsfoss Waterfall: Walk behind the waterfall.\\n- Skógafoss Waterfall: Climb to the top for panoramic views.\\n- Reynisfjara Black Sand Beach: See basalt columns and sea stacks.\\n- Overnight in Vík.\\n\\nDay 4: Glacier Adventures\\n- Sólheimajökull Glacier: Guided glacier hike.\\n- Optional: Ice climbing session.\\n- Visit Fjaðrárgljúfur Canyon.\\n- Overnight near Skaftafell.\\n\\nDay 5: Jökulsárlón Glacier Lagoon & Diamond Beach\\n- Boat tour among icebergs in Jökulsárlón.\\n- Explore Diamond Beach with ice fragments on black sand.\\n- Optional: Visit an ice cave (seasonal).\\n- Return to Reykjavík.\\n\\nDay 6: Snæfellsnes Peninsula\\n- Kirkjufell Mountain and Kirkjufellsfoss Waterfall.\\n- Djúpalónssandur Black Pebble Beach.\\n- Explore lava fields and coastal cliffs.\\n- Return to Reykjavík.\\n\\nDay 7: Reykjanes Peninsula & Departure\\n- Visit Gunnuhver Hot Springs and Reykjanesviti Lighthouse.\\n- Bridge Between Continents: Walk between tectonic plates.\\n- Transfer to Keflavík Airport for departure.\\n\\nNotes:\\n- Weather can be unpredictable; plan activities accordingly.\\n- Some activities are seasonal (e.g., ice caving).\\n- Book tours and accommodations in advance, especially during peak seasons.\\n'},\n",
       " 'question_2': {'question': 'What are some special places that I can stay in Finland?',\n",
       "  'ground_truth': \"\\n1. **Kakslauttanen Arctic Resort**: Located in Saariselkä, this resort offers iconic glass igloos, allowing guests to view the Northern Lights from the comfort of their beds. The resort also provides log chalets and various Arctic activities.\\n\\n2. **Arctic TreeHouse Hotel**: Situated in Rovaniemi, this hotel features individual suites with panoramic views of the surrounding forest and, with luck, the Northern Lights. The design combines local tradition with modern Scandinavian style.\\n\\n3. **Hotel Katajanokka**: Located in Helsinki, this unique hotel is housed in a converted 19th-century prison. It offers modern accommodations while retaining historic features, providing a distinctive blend of history and comfort.\\n\\n4. **Levin Iglut - Golden Crown**: Near Levi, this hotel offers luxury glass igloos with unobstructed views of the sky and surrounding nature. Some igloos come equipped with private outdoor hot tubs.\\n\\n5. **SnowCastle of Kemi**: Reconstructed annually in Kemi, this snow hotel features rooms made entirely of snow and ice, including intricate ice sculptures. Guests can also visit the SnowRestaurant and SnowChapel.\\n\\n6. **Arctic SnowHotel & Glass Igloos**: Located in Sinettä, this establishment offers both snow rooms and glass igloos, providing a unique experience to view the Northern Lights and enjoy the snow-built architecture.\\n\\n7. **Iso Syöte Hotel**: Positioned on Iso Syöte hill, this hotel provides panoramic views of the surrounding landscapes. It's renowned for its Eagle View Suite, which has glass walls and ceiling.\\n\\n8. **Torby Hotel**: Opened in June 2023 in Fiskars Village, this boutique hotel blends modern design with the rich cultural heritage of the area, offering an enchanting retreat in the Helsinki region.\\n\\n9. **Hotel Vihannonkulma**: Located in Loimaa, this boutique hotel, opened in 2022, features rooms inspired by classic and modern 70s-style designs, providing a nostalgic atmosphere.\\n\\n10. **Aurora Nest – Eco Glass Igloo**: Situated in Rovaniemi, this floating glass igloo offers a unique way to experience the Northern Lights, combining adventure with comfort.\\n\\n11. **Hotel Kakola**: Set in Turku, this hotel is housed in a former prison, offering a unique blend of history and modern accommodation.\\n\\n12. **Santa Claus Holiday Village**: Located in Rovaniemi, this resort offers cozy cabins and a chance to meet Santa Claus, making it ideal for families.\\n\\n13. **Arctic Land Glass Igloos**: Situated in Kilpisjärvi, these remote glass igloos provide an intimate experience with nature and the Northern Lights.\\n\\n14. **Hotel Torni Tampere**: As the tallest hotel in Finland, it offers panoramic views of Tampere and features the Moro Sky Bar on the top floor.\\n\\n15. **Majamaja**: Located in Helsinki, these eco-friendly cabins offer a sustainable stay with beautiful sea views, combining modern comfort with nature.\\n\"},\n",
       " 'question_3': {'question': 'Help me plan a trip to Sweden, I love culture and food!',\n",
       "  'ground_truth': \"\\nDay 1: Arrival in Stockholm\\n- Arrive in Stockholm and check into your accommodation.\\n- Explore Gamla Stan (Old Town) with its cobblestone streets and historic buildings.\\n- Visit the Royal Palace and witness the changing of the guard.\\n- Dine at a traditional Swedish restaurant to experience local cuisine.\\n\\nDay 2: Museums and Culture in Stockholm\\n- Visit the Vasa Museum to see the well-preserved 17th-century warship.\\n- Explore the ABBA Museum for insights into Sweden's pop music history.\\n- Tour the Fotografiska Museum, dedicated to contemporary photography.\\n- Enjoy dinner at a modern Nordic restaurant to experience innovative Swedish cuisine.\\n\\nDay 3: Archipelago Excursion\\n- Take a boat tour of the Stockholm Archipelago, comprising over 30,000 islands.\\n- Visit Vaxholm, known for its wooden houses and coastal charm.\\n- Enjoy fresh seafood at a local archipelago restaurant.\\n- Return to Stockholm for the night.\\n\\nDay 4: Uppsala – History and Academia\\n- Travel to Uppsala, a city rich in history and academic heritage.\\n- Visit Uppsala Cathedral, the largest church in Scandinavia.\\n- Explore the Gustavianum museum with artifacts from Viking times.\\n- Dine at a local restaurant specializing in traditional Swedish dishes.\\n\\nDay 5: Culinary Experiences in Gothenburg\\n- Travel to Gothenburg, Sweden's second-largest city.\\n- Visit the Feskekôrka (Fish Church) market to sample fresh seafood.\\n- Take a guided food tour to taste local specialties and learn about West Coast cuisine.\\n- Enjoy dinner at a renowned Gothenburg restaurant focusing on sustainable seafood.\\n\\nDay 6: Malmö and Öresund Bridge\\n- Travel to Malmö in southern Sweden.\\n- Explore Malmö Castle and the Moderna Museet Malmö for contemporary art.\\n- Walk through Lilla Torg, a historic square with vibrant cafes and restaurants.\\n- Cross the Öresund Bridge to Copenhagen, Denmark, for a brief visit if time permits.\\n\\nDay 7: Sami Culture in Swedish Lapland\\n- Fly to Kiruna in Swedish Lapland.\\n- Engage with the indigenous Sami culture: visit a Sami village, learn about reindeer herding, and experience traditional Sami cuisine.\\n- Stay overnight in a unique accommodation such as the Icehotel or a Sami tepee.\\n\\nDay 8: Return to Stockholm and Departure\\n- Return to Stockholm.\\n- Depending on flight time, visit Skansen, the world's oldest open-air museum, to experience Swedish history and traditions.\\n- Depart from Stockholm Arlanda Airport.\\n\\nNotes:\\n- Sweden's culinary scene emphasizes sustainability and locally sourced ingredients; consider dining at restaurants that showcase New Nordic cuisine.\\n- Seasonal variations affect available activities, especially in Swedish Lapland; plan accordingly.\\n- Book accommodations and certain activities in advance, particularly during peak tourist seasons.\\n\"},\n",
       " 'question_4': {'question': 'What are fun things to do in Sweden?',\n",
       "  'ground_truth': \"\\n1. **Explore Stockholm's Archipelago**: Embark on a scenic boat tour through Stockholm's archipelago, comprising over 30,000 islands, to experience stunning natural beauty and traditional Swedish coastal life.\\n\\n2. **Visit the Vasa Museum**: Discover the Vasa Museum in Stockholm, home to the world's only preserved 17th-century ship, offering a unique glimpse into maritime history.\\n\\n3. **Experience the Northern Lights in Abisko**: Travel to Abisko National Park in Swedish Lapland to witness the mesmerizing Northern Lights, especially visible during the winter months.\\n\\n4. **Wander Through Gamla Stan**: Stroll through Stockholm's Gamla Stan (Old Town), characterized by its cobblestone streets, colorful buildings, and historic sites like the Royal Palace.\\n\\n5. **Enjoy Liseberg Amusement Park**: Visit Liseberg in Gothenburg, Scandinavia's largest amusement park, featuring thrilling rides, games, and live entertainment.\\n\\n6. **Attend a Traditional Swedish Fika**: Participate in the Swedish custom of 'fika' by enjoying coffee and pastries at local cafés, immersing yourself in the country's rich coffee culture.\\n\\n7. **Explore the Icehotel in Jukkasjärvi**: Stay at the Icehotel in Jukkasjärvi, a unique accommodation made entirely of ice and snow, rebuilt annually with new artistic designs.\\n\\n8. **Hike the Höga Kusten Trail**: Trek along the High Coast Trail, a UNESCO World Heritage site offering breathtaking views of Sweden's rugged coastline and natural landscapes.\\n\\n9. **Visit Skansen Open-Air Museum**: Explore Skansen in Stockholm, the world's oldest open-air museum, showcasing traditional Swedish buildings, crafts, and a zoo with native animals.\\n\\n10. **Experience Sami Culture**: Engage with the indigenous Sami culture in Swedish Lapland by visiting a Sami village, learning about reindeer herding, and sampling traditional Sami cuisine.\\n\\n11. **Tour the Göta Canal**: Cruise or bike along the historic Göta Canal, often described as Sweden's greatest feat of engineering, offering picturesque views of the countryside.\\n\\n12. **Attend the Medieval Week in Visby**: Travel to the island of Gotland to participate in the annual Medieval Week in Visby, featuring reenactments, markets, and medieval-themed events.\\n\\n13. **Relax in a Swedish Sauna**: Experience traditional Swedish relaxation by visiting a sauna, an integral part of the country's wellness culture.\\n\\n14. **Explore the Stockholm Metro Art**: Discover the Stockholm metro system, often referred to as the world's longest art gallery, with its stations adorned with unique artworks.\\n\\n15. **Visit Drottningholm Palace**: Tour Drottningholm Palace, the private residence of the Swedish royal family and a UNESCO World Heritage site, known for its stunning architecture and gardens.\\n\\n16. **Attend a Music Festival**: Participate in one of Sweden's numerous music festivals, such as Way Out West in Gothenburg, featuring a diverse lineup of international artists.\\n\\n17. **Explore the Swedish Archipelagos**: Discover the beauty of Sweden's archipelagos, such as the Gothenburg archipelago, offering opportunities for kayaking, fishing, and island-hopping.\\n\\n18. **Visit the ABBA Museum**: Dive into the history of Sweden's iconic pop group at the ABBA Museum in Stockholm, featuring interactive exhibits and memorabilia.\\n\\n19. **Experience Dog Sledding**: Embark on a dog sledding adventure in Swedish Lapland, gliding through snowy landscapes led by a team of huskies.\\n\\n20. **Explore the City of Gothenburg**: Wander through Gothenburg's Haga district, known for its charming wooden houses and cozy cafés, and visit attractions like the Universeum science center.\\n\"},\n",
       " 'question_5': {'question': 'When is the best time to visit Finland to see the northern lights?',\n",
       "  'ground_truth': \"\\nThe optimal time to witness the Northern Lights in Finland is from late August to early April, with peak visibility between September and March. During these months, the long, dark nights provide ideal conditions for aurora sightings. Statistically, the lights are visible on every second night. :contentReference[oaicite:0]{index=0}\\n\\n**Seasonal Breakdown:**\\n\\n- **Autumn (September to October):** As nights lengthen after summer, the aurora becomes more visible. Autumn offers the advantage of milder temperatures and vibrant fall foliage, enhancing the viewing experience.\\n\\n- **Winter (November to February):** This period offers the longest nights, increasing opportunities for sightings. However, cloud cover can be more prevalent, so it's essential to monitor weather conditions.\\n\\n- **Spring (March to early April):** Similar to autumn, spring provides extended dark hours with clearer skies, making it another favorable time for aurora viewing.\\n\\n**Optimal Viewing Conditions:**\\n\\n- **Time of Night:** The best time to observe the Northern Lights is typically between 10 PM and 2 AM. :contentReference[oaicite:1]{index=1}\\n\\n- **Location:** Northern Finland, particularly above the Arctic Circle in regions like Lapland, offers the highest chances of sightings. Areas with minimal light pollution, such as open fields or lakeshores, provide optimal viewing conditions. :contentReference[oaicite:2]{index=2}\\n\\n- **Weather:** Clear, dark skies are essential. Cloud cover can obstruct the aurora, so it's advisable to check local weather forecasts and aurora alerts.\\n\\n**Additional Tips:**\\n\\n- **Aurora Forecasts:** Utilize resources like the Finnish Meteorological Institute's space weather services to monitor aurora activity. :contentReference[oaicite:3]{index=3}\\n\\n- **Guided Tours:** Consider joining guided Northern Lights tours, as local experts can take you to prime viewing locations and provide valuable insights.\\n\\n- **Stay Duration:** Given the unpredictability of the aurora, plan to stay multiple nights to increase your chances of witnessing the phenomenon.\\n\\nBy planning your visit between late August and early April and considering these factors, you can enhance your chances of experiencing the mesmerizing Northern Lights in Finland.\\n\"},\n",
       " 'refusal_questions': ['How old is Barack Obama?',\n",
       "  'How fast does a rocket fly?',\n",
       "  'Who discovered Gravity?',\n",
       "  'What is the fastest fish in the world?',\n",
       "  'How hot is the Sun?']}"
      ]
     },
     "execution_count": 14,
     "metadata": {},
     "output_type": "execute_result"
    }
   ],
   "source": [
    "generation_eval"
   ]
  },
  {
   "cell_type": "code",
   "execution_count": null,
   "metadata": {},
   "outputs": [],
   "source": []
  }
 ],
 "metadata": {
  "kernelspec": {
   "display_name": "myenv2",
   "language": "python",
   "name": "python3"
  },
  "language_info": {
   "codemirror_mode": {
    "name": "ipython",
    "version": 3
   },
   "file_extension": ".py",
   "mimetype": "text/x-python",
   "name": "python",
   "nbconvert_exporter": "python",
   "pygments_lexer": "ipython3",
   "version": "3.12.4"
  }
 },
 "nbformat": 4,
 "nbformat_minor": 2
}
