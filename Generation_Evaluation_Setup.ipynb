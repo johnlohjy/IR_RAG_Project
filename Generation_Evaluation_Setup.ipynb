{
 "cells": [
  {
   "cell_type": "markdown",
   "metadata": {},
   "source": [
    "# **Generation Evaluation Setup**"
   ]
  },
  {
   "cell_type": "code",
   "execution_count": 14,
   "metadata": {},
   "outputs": [],
   "source": [
    "import json"
   ]
  },
  {
   "cell_type": "code",
   "execution_count": 15,
   "metadata": {},
   "outputs": [],
   "source": [
    "question_1 = \"\"\"Help me plan a trip to Iceland, I love outdoor activities!\"\"\"\n",
    "\n",
    "question_2 = \"\"\"What are some special places that I can stay in Finland?\"\"\"\n",
    "\n",
    "question_3 = \"\"\"Help me plan a trip to Sweden, I love culture and food!\"\"\"\n",
    "\n",
    "question_4 = \"\"\"What are fun things to do in Sweden?\"\"\"\n",
    "\n",
    "question_5 = \"\"\"When is the best time to visit Finland to see the northern lights?\"\"\""
   ]
  },
  {
   "cell_type": "code",
   "execution_count": 16,
   "metadata": {},
   "outputs": [],
   "source": [
    "question_1_ground_truth = \"\"\"\n",
    "None\n",
    "\"\"\"\n",
    "\n",
    "question_2_ground_truth = \"\"\"\n",
    "None\n",
    "\"\"\"\n",
    "\n",
    "question_3_ground_truth = \"\"\"\n",
    "None\n",
    "\"\"\"\n",
    "\n",
    "question_4_ground_truth = \"\"\"\n",
    "None\n",
    "\"\"\"\n",
    "\n",
    "question_5_ground_truth = \"\"\"\n",
    "None\n",
    "\"\"\""
   ]
  },
  {
   "cell_type": "code",
   "execution_count": 17,
   "metadata": {},
   "outputs": [],
   "source": [
    "refusal_questions = [\"How old is Barack Obama?\", \"How fast does a rocket fly?\", \"Who discovered Gravity?\", \"What is the fastest fish in the world?\", \"How hot is the Sun?\"]\n",
    "     "
   ]
  },
  {
   "cell_type": "code",
   "execution_count": 18,
   "metadata": {},
   "outputs": [],
   "source": [
    "generation_eval = {\n",
    "    \"question_1\": {\n",
    "        'question': question_1,\n",
    "        'ground_truth': question_1_ground_truth\n",
    "    },   \n",
    "    \"question_2\": {\n",
    "        'question': question_2,\n",
    "        'ground_truth': question_2_ground_truth\n",
    "    },   \n",
    "    \"question_3\": {\n",
    "        'question': question_3,\n",
    "        'ground_truth': question_3_ground_truth\n",
    "    },   \n",
    "    \"question_4\": {\n",
    "        'question': question_4,\n",
    "        'ground_truth': question_4_ground_truth\n",
    "    },   \n",
    "    \"question_5\": {\n",
    "        'question': question_5,\n",
    "        'ground_truth': question_5_ground_truth\n",
    "    },\n",
    "    \"refusal_questions\": refusal_questions\n",
    "}"
   ]
  },
  {
   "cell_type": "code",
   "execution_count": 19,
   "metadata": {},
   "outputs": [],
   "source": [
    "with open(\"generation_eval.json\", \"w\") as json_file:\n",
    "    json.dump(generation_eval, json_file, indent=4)"
   ]
  },
  {
   "cell_type": "code",
   "execution_count": 20,
   "metadata": {},
   "outputs": [],
   "source": [
    "with open('generation_eval.json', 'r') as file:\n",
    "    generation_eval = json.load(file)"
   ]
  },
  {
   "cell_type": "code",
   "execution_count": 21,
   "metadata": {},
   "outputs": [
    {
     "data": {
      "text/plain": [
       "{'question_1': {'question': 'Help me plan a trip to Iceland, I love outdoor activities!',\n",
       "  'ground_truth': '\\nNone\\n'},\n",
       " 'question_2': {'question': 'What are some special places that I can stay in Finland?',\n",
       "  'ground_truth': '\\nNone\\n'},\n",
       " 'question_3': {'question': 'Help me plan a trip to Sweden, I love culture and food!',\n",
       "  'ground_truth': '\\nNone\\n'},\n",
       " 'question_4': {'question': 'What are fun things to do in Sweden?',\n",
       "  'ground_truth': '\\nNone\\n'},\n",
       " 'question_5': {'question': 'When is the best time to visit Finland to see the northern lights?',\n",
       "  'ground_truth': '\\nNone\\n'},\n",
       " 'refusal_questions': ['How old is Barack Obama?',\n",
       "  'How fast does a rocket fly?',\n",
       "  'Who discovered Gravity?',\n",
       "  'What is the fastest fish in the world?',\n",
       "  'How hot is the Sun?']}"
      ]
     },
     "execution_count": 21,
     "metadata": {},
     "output_type": "execute_result"
    }
   ],
   "source": [
    "generation_eval"
   ]
  },
  {
   "cell_type": "code",
   "execution_count": null,
   "metadata": {},
   "outputs": [],
   "source": []
  }
 ],
 "metadata": {
  "kernelspec": {
   "display_name": "myenv2",
   "language": "python",
   "name": "python3"
  },
  "language_info": {
   "codemirror_mode": {
    "name": "ipython",
    "version": 3
   },
   "file_extension": ".py",
   "mimetype": "text/x-python",
   "name": "python",
   "nbconvert_exporter": "python",
   "pygments_lexer": "ipython3",
   "version": "3.12.4"
  }
 },
 "nbformat": 4,
 "nbformat_minor": 2
}
