{
 "cells": [
  {
   "cell_type": "markdown",
   "metadata": {
    "id": "tkgOoWOxEZgr"
   },
   "source": [
    "# **Generation Experiment 2: Parent-Document retriever**\n",
    "\n",
    "By default, retrievers retrieve small relevant chunks. However, passing more relevant information to the retriever about these topics to the LLM could be beneifical to the user. This maks Parent-Document retievers a potential value-add. Parent-Document retrievers first fetches the small chunks. It then looks up the parent ids for those small chunks and returns those larger (parent) chunks.\n",
    "\n",
    "However we need to control how much context we are passing to the LLM due to the <u>context-stuffing problem</u>. Stuffing too much context into the LLM reduces the LLM's recall performance (ability to find information placed in its context window). Additionaly, the LLM will then be less likely to follow instructions.\n",
    "\n",
    "\n",
    "\n",
    "\n"
   ]
  },
  {
   "cell_type": "code",
   "execution_count": null,
   "metadata": {
    "colab": {
     "base_uri": "https://localhost:8080/"
    },
    "id": "xuA8dHzx4Qf5",
    "outputId": "0a203cfa-73e3-4f90-c95b-8653921753d0"
   },
   "outputs": [
    {
     "name": "stdout",
     "output_type": "stream",
     "text": [
      "\u001b[?25l     \u001b[90m━━━━━━━━━━━━━━━━━━━━━━━━━━━━━━━━━━━━━━━━\u001b[0m \u001b[32m0.0/67.3 kB\u001b[0m \u001b[31m?\u001b[0m eta \u001b[36m-:--:--\u001b[0m\r\u001b[2K     \u001b[90m━━━━━━━━━━━━━━━━━━━━━━━━━━━━━━━━━━━━━━━━\u001b[0m \u001b[32m67.3/67.3 kB\u001b[0m \u001b[31m2.0 MB/s\u001b[0m eta \u001b[36m0:00:00\u001b[0m\n",
      "\u001b[?25h  Installing build dependencies ... \u001b[?25l\u001b[?25hdone\n",
      "  Getting requirements to build wheel ... \u001b[?25l\u001b[?25hdone\n",
      "  Preparing metadata (pyproject.toml) ... \u001b[?25l\u001b[?25hdone\n",
      "\u001b[2K   \u001b[90m━━━━━━━━━━━━━━━━━━━━━━━━━━━━━━━━━━━━━━━━\u001b[0m \u001b[32m122.4/122.4 MB\u001b[0m \u001b[31m7.1 MB/s\u001b[0m eta \u001b[36m0:00:00\u001b[0m\n",
      "\u001b[2K   \u001b[90m━━━━━━━━━━━━━━━━━━━━━━━━━━━━━━━━━━━━━━━━\u001b[0m \u001b[32m2.4/2.4 MB\u001b[0m \u001b[31m82.3 MB/s\u001b[0m eta \u001b[36m0:00:00\u001b[0m\n",
      "\u001b[2K   \u001b[90m━━━━━━━━━━━━━━━━━━━━━━━━━━━━━━━━━━━━━━━━\u001b[0m \u001b[32m85.5/85.5 MB\u001b[0m \u001b[31m8.4 MB/s\u001b[0m eta \u001b[36m0:00:00\u001b[0m\n",
      "\u001b[2K   \u001b[90m━━━━━━━━━━━━━━━━━━━━━━━━━━━━━━━━━━━━━━━━\u001b[0m \u001b[32m111.0/111.0 kB\u001b[0m \u001b[31m10.0 MB/s\u001b[0m eta \u001b[36m0:00:00\u001b[0m\n",
      "\u001b[2K   \u001b[90m━━━━━━━━━━━━━━━━━━━━━━━━━━━━━━━━━━━━━━━━\u001b[0m \u001b[32m267.2/267.2 kB\u001b[0m \u001b[31m15.3 MB/s\u001b[0m eta \u001b[36m0:00:00\u001b[0m\n",
      "\u001b[2K   \u001b[90m━━━━━━━━━━━━━━━━━━━━━━━━━━━━━━━━━━━━━━━━\u001b[0m \u001b[32m615.5/615.5 kB\u001b[0m \u001b[31m34.7 MB/s\u001b[0m eta \u001b[36m0:00:00\u001b[0m\n",
      "\u001b[2K   \u001b[90m━━━━━━━━━━━━━━━━━━━━━━━━━━━━━━━━━━━━━━━━\u001b[0m \u001b[32m2.4/2.4 MB\u001b[0m \u001b[31m42.3 MB/s\u001b[0m eta \u001b[36m0:00:00\u001b[0m\n",
      "\u001b[2K   \u001b[90m━━━━━━━━━━━━━━━━━━━━━━━━━━━━━━━━━━━━━━━━\u001b[0m \u001b[32m94.9/94.9 kB\u001b[0m \u001b[31m8.9 MB/s\u001b[0m eta \u001b[36m0:00:00\u001b[0m\n",
      "\u001b[2K   \u001b[90m━━━━━━━━━━━━━━━━━━━━━━━━━━━━━━━━━━━━━━━━\u001b[0m \u001b[32m2.4/2.4 MB\u001b[0m \u001b[31m52.3 MB/s\u001b[0m eta \u001b[36m0:00:00\u001b[0m\n",
      "\u001b[2K   \u001b[90m━━━━━━━━━━━━━━━━━━━━━━━━━━━━━━━━━━━━━━━━\u001b[0m \u001b[32m5.9/5.9 MB\u001b[0m \u001b[31m62.1 MB/s\u001b[0m eta \u001b[36m0:00:00\u001b[0m\n",
      "\u001b[2K   \u001b[90m━━━━━━━━━━━━━━━━━━━━━━━━━━━━━━━━━━━━━━━━\u001b[0m \u001b[32m3.1/3.1 MB\u001b[0m \u001b[31m46.8 MB/s\u001b[0m eta \u001b[36m0:00:00\u001b[0m\n",
      "\u001b[2K   \u001b[90m━━━━━━━━━━━━━━━━━━━━━━━━━━━━━━━━━━━━━━━━\u001b[0m \u001b[32m273.8/273.8 kB\u001b[0m \u001b[31m18.9 MB/s\u001b[0m eta \u001b[36m0:00:00\u001b[0m\n",
      "\u001b[2K   \u001b[90m━━━━━━━━━━━━━━━━━━━━━━━━━━━━━━━━━━━━━━━━\u001b[0m \u001b[32m57.5/57.5 kB\u001b[0m \u001b[31m5.2 MB/s\u001b[0m eta \u001b[36m0:00:00\u001b[0m\n",
      "\u001b[2K   \u001b[90m━━━━━━━━━━━━━━━━━━━━━━━━━━━━━━━━━━━━━━━━\u001b[0m \u001b[32m1.9/1.9 MB\u001b[0m \u001b[31m48.3 MB/s\u001b[0m eta \u001b[36m0:00:00\u001b[0m\n",
      "\u001b[2K   \u001b[90m━━━━━━━━━━━━━━━━━━━━━━━━━━━━━━━━━━━━━━━━\u001b[0m \u001b[32m49.5/49.5 kB\u001b[0m \u001b[31m4.3 MB/s\u001b[0m eta \u001b[36m0:00:00\u001b[0m\n",
      "\u001b[2K   \u001b[90m━━━━━━━━━━━━━━━━━━━━━━━━━━━━━━━━━━━━━━━━\u001b[0m \u001b[32m93.2/93.2 kB\u001b[0m \u001b[31m8.4 MB/s\u001b[0m eta \u001b[36m0:00:00\u001b[0m\n",
      "\u001b[2K   \u001b[90m━━━━━━━━━━━━━━━━━━━━━━━━━━━━━━━━━━━━━━━━\u001b[0m \u001b[32m13.3/13.3 MB\u001b[0m \u001b[31m52.2 MB/s\u001b[0m eta \u001b[36m0:00:00\u001b[0m\n",
      "\u001b[2K   \u001b[90m━━━━━━━━━━━━━━━━━━━━━━━━━━━━━━━━━━━━━━━━\u001b[0m \u001b[32m55.8/55.8 kB\u001b[0m \u001b[31m5.6 MB/s\u001b[0m eta \u001b[36m0:00:00\u001b[0m\n",
      "\u001b[2K   \u001b[90m━━━━━━━━━━━━━━━━━━━━━━━━━━━━━━━━━━━━━━━━\u001b[0m \u001b[32m54.4/54.4 kB\u001b[0m \u001b[31m5.1 MB/s\u001b[0m eta \u001b[36m0:00:00\u001b[0m\n",
      "\u001b[2K   \u001b[90m━━━━━━━━━━━━━━━━━━━━━━━━━━━━━━━━━━━━━━━━\u001b[0m \u001b[32m316.6/316.6 kB\u001b[0m \u001b[31m21.4 MB/s\u001b[0m eta \u001b[36m0:00:00\u001b[0m\n",
      "\u001b[2K   \u001b[90m━━━━━━━━━━━━━━━━━━━━━━━━━━━━━━━━━━━━━━━━\u001b[0m \u001b[32m73.3/73.3 kB\u001b[0m \u001b[31m5.4 MB/s\u001b[0m eta \u001b[36m0:00:00\u001b[0m\n",
      "\u001b[2K   \u001b[90m━━━━━━━━━━━━━━━━━━━━━━━━━━━━━━━━━━━━━━━━\u001b[0m \u001b[32m63.7/63.7 kB\u001b[0m \u001b[31m6.4 MB/s\u001b[0m eta \u001b[36m0:00:00\u001b[0m\n",
      "\u001b[2K   \u001b[90m━━━━━━━━━━━━━━━━━━━━━━━━━━━━━━━━━━━━━━━━\u001b[0m \u001b[32m442.1/442.1 kB\u001b[0m \u001b[31m29.3 MB/s\u001b[0m eta \u001b[36m0:00:00\u001b[0m\n",
      "\u001b[2K   \u001b[90m━━━━━━━━━━━━━━━━━━━━━━━━━━━━━━━━━━━━━━━━\u001b[0m \u001b[32m3.8/3.8 MB\u001b[0m \u001b[31m52.2 MB/s\u001b[0m eta \u001b[36m0:00:00\u001b[0m\n",
      "\u001b[2K   \u001b[90m━━━━━━━━━━━━━━━━━━━━━━━━━━━━━━━━━━━━━━━━\u001b[0m \u001b[32m425.7/425.7 kB\u001b[0m \u001b[31m28.9 MB/s\u001b[0m eta \u001b[36m0:00:00\u001b[0m\n",
      "\u001b[2K   \u001b[90m━━━━━━━━━━━━━━━━━━━━━━━━━━━━━━━━━━━━━━━━\u001b[0m \u001b[32m168.2/168.2 kB\u001b[0m \u001b[31m12.1 MB/s\u001b[0m eta \u001b[36m0:00:00\u001b[0m\n",
      "\u001b[2K   \u001b[90m━━━━━━━━━━━━━━━━━━━━━━━━━━━━━━━━━━━━━━━━\u001b[0m \u001b[32m46.0/46.0 kB\u001b[0m \u001b[31m3.9 MB/s\u001b[0m eta \u001b[36m0:00:00\u001b[0m\n",
      "\u001b[2K   \u001b[90m━━━━━━━━━━━━━━━━━━━━━━━━━━━━━━━━━━━━━━━━\u001b[0m \u001b[32m86.8/86.8 kB\u001b[0m \u001b[31m7.2 MB/s\u001b[0m eta \u001b[36m0:00:00\u001b[0m\n",
      "\u001b[?25h  Building wheel for pypika (pyproject.toml) ... \u001b[?25l\u001b[?25hdone\n",
      "\u001b[31mERROR: pip's dependency resolver does not currently take into account all the packages that are installed. This behaviour is the source of the following dependency conflicts.\n",
      "tensorflow 2.17.1 requires protobuf!=4.21.0,!=4.21.1,!=4.21.2,!=4.21.3,!=4.21.4,!=4.21.5,<5.0.0dev,>=3.20.3, but you have protobuf 5.28.3 which is incompatible.\n",
      "tensorflow-metadata 1.13.1 requires protobuf<5,>=3.20.3, but you have protobuf 5.28.3 which is incompatible.\u001b[0m\u001b[31m\n",
      "\u001b[0m"
     ]
    }
   ],
   "source": [
    "%pip install --quiet --upgrade bitsandbytes langchain langchain-community langchain-huggingface transformers beautifulsoup4 faiss-gpu rank_bm25 lark qdrant-client langchain-chroma"
   ]
  },
  {
   "cell_type": "code",
   "execution_count": null,
   "metadata": {
    "id": "QlumSxeeAvZh"
   },
   "outputs": [],
   "source": [
    "from langchain_core.documents import Document\n",
    "from langchain.retrievers import ParentDocumentRetriever\n",
    "from langchain.storage import InMemoryStore\n",
    "from langchain_community.document_loaders import TextLoader\n",
    "from langchain_text_splitters import RecursiveCharacterTextSplitter\n",
    "from langchain_huggingface import HuggingFaceEmbeddings\n",
    "from langchain_community.vectorstores import FAISS\n",
    "import faiss\n",
    "from langchain_community.docstore.in_memory import InMemoryDocstore\n",
    "import torch\n",
    "from langchain_huggingface.llms import HuggingFacePipeline\n",
    "from transformers import AutoModelForCausalLM, AutoTokenizer, pipeline\n",
    "from transformers import BitsAndBytesConfig\n",
    "from langchain import PromptTemplate\n",
    "from langchain_core.output_parsers import StrOutputParser\n",
    "from langchain_core.runnables import RunnableLambda"
   ]
  },
  {
   "cell_type": "markdown",
   "metadata": {
    "id": "rDLAoDbBA5y1"
   },
   "source": [
    "**Setup Simple Experiment Data for Experiment 4**\n",
    "\n",
    "We first set up simple experiment data where we have 3 documents talking about different 3 different topics. This is done to have an easier <u>preliminary understanding and visualisation</u> of the behaviour of the Parent-Document retrievers as we are able to quickly look at what are the parent chunks beings retrieved\n",
    "\n",
    "**TODO**: Move experiment data to a folder as its too long or maybe just leave it"
   ]
  },
  {
   "cell_type": "code",
   "execution_count": null,
   "metadata": {
    "id": "98vkK--F7LbN"
   },
   "outputs": [],
   "source": [
    "# Simple experiment example data\n",
    "docs = [\n",
    "    Document(\n",
    "        page_content='''\n",
    "        10 new unique places to stay in Finland From modern wooden cabins and brand-new glass huts to resorts with a touch of luxury: Finland offers a plethora of unique accommodation options that showcase the country's breathtaking natural beauty both in the materials and the locations. In recent years, there has been upsurge in unique new hotels, resorts, and cabins opening up around the country. We've curated a list of the coolest and most recently opened ones where you can immerse yourself in Finnish nature and find your inner happiness. Article published in June 2023.; 1. Hilltop Forest – Inkoo, Helsinki region: Hilltop Forest, a small resort in Inkoo, offers charming triangular wooden huts with large windows facing a lush forest. Curl up in the fresh linen bedding and admire the view over the majestic pine trees and birches. The sole mission of the day is to stroll through the forest to the nearby spa. The resort's restaurant serves breakfast, lunch, freshly baked pizzas, wine, and forest-inspired dinners. Hilltop Forest is a perfect minivacation destination, just a under an hour-drive from Helsinki. Eat, sleep and repeat.; 2. The Torby – Fiskars village, Helsinki region: The brand new Torby Hotel, opened in June 2023, is nestled in the charming Fiskars Village. The Torby offers an enchanting retreat for travellers seeking tranquillity and inspiration. Set amidst the lush countryside of the Helsinki region, this boutique hotel seamlessly blends modern design with the rich cultural heritage of the Fiskars village. The village is a treasure trove of creativity, with its vibrant art studios, quaint shops, and idyllic gardens. Guests can explore the local craftsmanship, indulge in delicious Finnish cuisine, or simply immerse themselves in the serene ambiance. Whether seeking a peaceful retreat or a cultural adventure, the Torby Hotel and Fiskars Village promise an unforgettable experience.; 3. Hotel Vihannonkulma – Loimaa, Coast and Archipelago: The Hotel Vihannonkulma building, a private home of the car dealer Olli Vihanto, was closed for almost 30 years until the apartment was rediscovered and revived into a boutique hotel opened in 2022. Spend the night in a classic room with sleek Alvar Aalto inspired lines, or in a modern 70s-style room with eccentric details and teak furniture. Enjoy the small-town atmosphere of Loimaa and stroll around in cafés, shops, and historical buildings. Loimaa, located 50 minutes northeast of Turku, serves as a gateway to the surrounding forests and nature.; 4. Kanava Resort – Oravi, Lakeland: Located on a narrow headland surrounded by Lake Saimaa, Kanava Resort is a haven for happiness seekers and outdoor adventurers. The resort is a harmonious blend of contemporary design and natural beauty. The buildings, constructed with sustainable materials, seamlessly blend into the landscape, providing an immersive experience for guests. The resort offers a range of activities across the year. In the winter, take a ride on a snowmobile or slide down the terrain on a pair of skis. During summer hop on a canoe, grab the oars and slide through the waters. Make sure not to miss the most popular Lakeland adventure: spotting ringed seals together with a guide. Kanava Resort is just a short drive away from the national parks Linnansaari and Kolovesi. While you are in the area, remember to also visit the historical landmark Olavinlinna Castle and the iconic Punkaharju Ridge.; 5. PihlasResort – Joroinen, Lakeland: Located on the shore of the biggest lake in Finland, Lake Saimaa, PihlasResort is the perfect place to embrace luxury. The brand new suites, opening in summer 2023, are equipped with a kitchen, a private sauna, and a terrace facing a private garden. Relax by the lake, have a drink in a jacuzzi, or feel the rejuvenating power of an authentic Finnish sauna – relaxation is guaranteed. During your visit, dine in the resort's own restaurant Siimes, or enjoy a unique tea menu in the nearby TeaHouse of Wehmais.; 6. Villipeura’s Niliaitta – Kivijärvi, Lakeland: At Villipeura's holiday village in Kivijärvi, located less than two hours north of Jyväskylä in central Lakeland, unique birdhouse-like boxes are elevated on pillars in the midst of a charming Finnish forest. These uncommon holiday cottages draw inspiration from traditional food storage sheds that were built on wooden pillars to protect food from animals in the past. In the holiday village area, you have access to a range of activities, including tennis, frisbee golf, and fishing. Nature trails of the national parks Salamajärvi and Pyhä Häkki are just around the corner.; 7. Glass huts in Skyfire Village – Rovaniemi, Lapland: At Skyfire Village in Rovaniemi you may need to pinch yourself to figure out whether the view is real: the panoramic windows in the glass huts allow you to gaze at northern lights in autumn and winter, or the midnight sun in the summer directly from your bed. Skyfire Village is in a quiet location with no light pollution making it even easier to see the auroras. The village's own restaurant, Sky Hut Restaurant & Bar, offers tailor-made menus by a professional chef using local ingredients.; 8. Kurula’s – Pyhätunturi, Lapland: Kurula’s in Lapland's pristine Pyhä region is the perfect vacation getaway for those who want a combination of quiet relaxation and outdoors activities. In the summer, go on a hike in Finland’s oldest national park Pyhä-Luosto or ascend the fell with a skiing lift to admire the views. In the winter, embark on a husky or reindeer safari and hunt the northern lights. Your own private lakeside sauna in the suite is a perfect way to end a day full of adventures. Kurula is close to the popular outdoor and skiing resort of Pyhä.; 9. Arctra – Rovaniemi, Lapland: At Arctra's private luxury resort near Rovaniemi in Lapland, you can enjoy a glamorous vacation atop the mighty hill of Ollerovaara, with stunning views of arctic nature. Explore the landscape by foot, on skis, or on a husky sled. A private 20 hectare wilderness area will guarantee that there most likely won’t be another soul in sight. Cosy up in your stylish suite or at the spa area. Arctra is only a 15-minute drive from Rovaniemi airport. The cottage serves as an excellent home base to explore Rovaniemi as well as the surrounding wilderness.; 10. Cahkal Hotel – Kilpisjärvi, Lapland: Cahkal Hotel is located 400 kilometres above the Arctic Circle in the northwesternmost point of Finland, in the truly unique Nordic wilderness. Cahkal is an ideal destination for experiential travellers looking for a view – all the hotel rooms have exquisite mountain views. Embark on an expedition with a local guide to explore the arctic landscape and even pop by in Norway to see the fjords and the Arctic Ocean. Unwind in the hotel's sauna after an adventure of a lifetime. Cahkal's heating system operates by sustainable geothermal heating and solar panels provide visitors with green electricity.\n",
    "        '''\n",
    "    ),\n",
    "    Document(\n",
    "        page_content='''\n",
    "        Finnish food culture Finland’s cuisine is built around fresh, natural ingredients gathered straight from the waters, fields and forests: Get to know the local ingredients and delicious dishes you simply can’t miss when visiting Finland. Finns are known as leaders of research and innovation. But when it comes to food, they tend to favour tradition. Finnish cuisine differs from neighbouring Scandinavian countries because it has one foot on either side of its borders – Russia in the East and Sweden in the West. Since day one, the Finnish diet has been built around surviving the harsh conditions of our northern climate. Growth seasons are dictated by the cold, meaning many local products are only available for a limited amount of time. These days, you can buy just about anything your heart desires in Finland. But go local while you’re here, and you’ll be in for a treat! Also, if you have the chance, continue your culinary journey to some of the best restaurants in the country.; Cereals and grains – made from scratch: All hail the golden crop of Finnish soil, oats! And what’s not to love about the latest boom of oat milks, creams and yoghurts, not to mention pulled oats, which are an extremely tasty alternative to meat? Make sure to taste this decidedly Finnish innovation! If you’re more into traditional foods, stick to good ol’ porridge. This hearty delight can be enjoyed at any gas station, hotel or café for just a few euros. Warming, filling and incredibly tasty, it’s best served with a spoonful of jam or a little fresh butter. Tip: When it comes to local grains, think bakery and check out pastry chef Teemu Aura. The bakeries carrying his name and signature pink bun tracks are called Pullabiili, and they can be found throughout the Helsinki region offering classic Finnish buns, flaky croissants and sourdough breads. All these treats are made from scratch and combine culinary creativity with high-quality ingredients.; Fish – another staple of the Finnish diet: Whether it’s tasty salmon soup, fillets of perch, pickled Baltic herring or smoked vendace, the list simply goes on and on. Best consumed fresh at food markets, delis and restaurants throughout the country, fish dishes are the heart of the Finnish diet. Unsure what to try? Go for smoked – it’s the archipelago’s signature way to enjoy the fruits of the sea. Or make some memories on a fishing trip, where you can catch and prepare your own. Contact the local tourist information points for tours. Tip: Crayfish parties, or “rapujuhlat” (“kräftskiva” in Swedish), are a Swedish tradition the Finns adopt during late summer’s crayfish season. These small fresh-water lobsters are considered a gourmet treat, which is why they are feted in style – often accompanied by plenty of schnapps and special crayfish songs. If you’re invited to one of these parties, do say yes!; Fresh, juicy berries are the gold of Finland’s forests: Plentiful and sweet when in season, lingonberries, woodland strawberries and blueberries taste best when they’re picked straight from the forest or purchased fresh by the litre at a local market. Off-season and outside of the warmer months of the year, local jams with cloudberries and the notorious sea-buckthorn are the preferred way to enjoy Finland’s berry bounty. Tip: Enjoy your berries dried and ground. METTÄ Nordic offers the exciting flavours of the Finnish forests in powder form. Buy a bag or two and try this delicious addition on breakfasts and snacks at home!; Mushrooms – ceps, chanterelles, false morel and list goes on..: Under the Everyman’s right, you can pick almost anything your heart desires while visiting Finland’s forests. Just be mindful and check the local rules if roaming in national parks or other protected areas. Tip: Please don’t pick mushrooms unless you’re an experienced forager. Guided mushroom-picking tours are always the safest bet for beginners.; Finnish superfood innovations have exploded onto the world’s markets: From Beanit’s plant-based protein products made from Nordic Fava beans to locally brewed kombucha drinks by Good Guys Kombucha in Pirkkala, Finland’s food companies are always thinking ahead. Tip: Want to try Finland’s superfoods? Go wild with an herb foraging class. You’ll not only return with a bag full of fresh greens, you’ll also get to try forest bathing, another Finnish. Foraging trips can be organised through companies such as Feel the Nature, and Finland, Naturally Experiences.   Hungry for more? Here’s a list of iconic foods and regional delicacies beloved by locals and visitors alike. Make sure to try them all!; Leipäjuusto – delicious dairy product: Leipäjuusto, known as “Squeaky Cheese,” is a mild, incredibly tasty cheese that’s typically made of cow’s milk. First, the milk is curdled, then it’s baked it in the oven, and finally, it’s cut into thin wedges and served. The exterior of the cheese gets its spotted black and white colouring from the heat of the oven, and it’s Finnish name means “cheese bread” (since it’s baked like bread). The end product is a yummy cheese with a deliciously squeaky consistency. Tip: Leipäjuusto is often served with cloudberry jam as dessert, but the traditional Sámi way of eating it is to dip the wedges in hot, black coffee. Try it to experience the perfect blend of smooth, fatty cheese cut by hot, bitter coffee.; Mild but full of flavour, Finnish salmon soup: Finnish salmon soup is a classic that’s served both at home and in restaurants. The most popular version features creamy white broth studded with salmon, onions and potatoes and garnished with a handful of dill. You’ll find this delicacy on the menu at many restaurants and cafés – it’s a true comfort food that will warm you up on a winter’s day.; Endless varieties of new potatoes: New potatoes with herring (silli). New potatoes with fresh lake fish and chantarelle sauce. New potatoes with fish roe (mäti). New potatoes with just a knob of butter, some dill and a little salt. The variations of new potatoes available in Finland are seemingly endless and certainly mouth-watering. You’ll find that Finns can talk about new potatoes forever, as the little spuds hold the promise of summer. Look for them starting around midsummer and expect to see statistics on the harvest in all the local papers.; Poronkäristys from Lapland: Reindeer are found in the northern province of Lapland, and according to recent research, their meat is one of the healthiest you can put on your plate. It’s high in B-12, omega-3 and omega-6 – and it’s lean and delicious! Served alongside mashed potatoes, sautéed reindeer is a Finnish treat that’s eaten throughout the country, all year round.; Kalakukko – a local delicacy: Describing this local delicacy is difficult, but it’s essentially a combination of salty vendace and fatty pork that’s then wrapped in a rye crust and baked in foil. Best served alone or with heaps of butter, this delicacy is most delicious at its origin: a busy marketplace in Kuopio in Finland’s Lakeland. Loosely translated as “fish rooster,” this iconic pie’s name makes absolutely no sense, but it tastes incredibly good! And fun fact: the name of this unique delicacy has been granted protection under the EU quality scheme, along with Karjalanpiirakka, or Karelian pie.; Karjalanpiirakka – a sublime pastry: And speaking of Karjalanpiirakka, Karelian pie is the crown jewel of Finnish cuisine. This sublime pastry is originally from the eastern province of Karelia, and with its filling of delicious rice, potatoes or carrots enclosed in an incredibly crisp rye crust, this buttery delicacy will win you over in no time. It’s best served with plenty of fresh butter or a serving of egg butter-spread. Tip: You’ll find Karelian pies at any self-respecting Finnish marketplace, café, supermarket or gas station. Fresh, unbaked pies can also be purchased and baked at home!; Ruisleipä – made from sour dough: Ruisleipä – or rye bread – is a staple of the Finnish diet. While there are many varieties, the most popular and widely available is reikäleipä, meaning “bread with a hole.” People used to hang their bread on poles from the rafters, and while it’s dense, flat and very heavy, many Finns will actually have it sent through the post while they’re living abroad. Näkkileipä is the cracker version of rye bread and there are many varieties, including the internationally-sold Finn Crisp cracker. These are eaten at breakfast with butter, cheese and other spreads, with soups at lunch or even as an evening snack.; Rieska – Finnish flatbreads: Rieska is made with dough from a variety of local grains that’s then shaped into a chapati-like bread (or “kovaohranen”). If they’re baked with potato dough, they’re called “lepuska.” The magic of this flatbread lies in its freshness. Prepared on the same day they’re consumed, these savoury delights go great with heaps of butter and scorching black coffee. Tip: Try a different flatbread in each place you visit. Hopefully, you’ll have the chance to taste the local Savo variety, which is made with sour milk.; Korvapuusti – a pastry enjoyed with a cup of coffee: Korvapuusti translates to “slapped ears” in English, but these pastries are essentially cinnamon buns. And while Finland doesn’t hold a patent on cinnamon buns, it probably should. Usually enjoyed with a cup of coffee (Finns consume more coffee and, perhaps, more cinnamon buns than any other European nation), it can be difficult to stop at just one. Or two.; Bilberry pie – adored by all: In July and August, bilberries paint the Finnish forest. You’ll want to pick and freeze them for winter (like the Finns do), but these berries are best enjoyed in the summer months, whether on their own or in homemade pies. Although most Finnish berries can be made into pie filling, bilberry pie, or mustikkapiirakka, served with fresh milk, is one that’s adored by all.; Chocolate from Finland: Chocolate isn’t exactly a Finnish invention, but it’s prepared and sold all over the country. One place to enjoy it is at Brunberg, a famous chocolate shop in Porvoo. In operation since 1871, this family-owned and operated business offers a wide variety of tasty treats. Favourites include Truffles and Kisses, which have become hits among those who love high-quality chocolate. Fazer, another family-operated chocolate brand, can be found in any Finnish café, supermarket or kiosk – their products are even sold as souvenirs in the airport’s duty-free shop. The company produces the country’s most iconic chocolate, Fazerin Sininen, which is loosely translated and commonly known as “the Blue.” This chocolate, along with Fazer’s licorices and other sweets, are frequently shipped abroad, and their company-operated cafés are scattered throughout Finland. They serve Karelian pies and salmon soup, too!\n",
    "        '''\n",
    "    ),\n",
    "    Document(\n",
    "        page_content='''\n",
    "        Guide to driving in Finland Here are some tips for driving in Finland – rain, snow or shine: While Finland’s roads are typically in good condition, Nordic weather occasionally throws drivers a curveball. Whether you encounter reindeer on the road in Lapland or ice…well, pretty much anywhere, here’s some practical information for a smoother, safer road trip.; Renting a car: There are car hire companies in all major towns and cities, as well as at airports. It’s worth booking in advance, and you must have a credit card on you when you book. If you have an EU or Swiss drivers’ licence, you can hit the road in Finland straight away.; Avoiding traffic: Traffic jams aren’t common in Finland. Although you might hear some complaints about traffic from Finns, it’s rare to hear them from those who live in big cities elsewhere. To a Finn, a few-minute delay is the equivalent of heavy traffic.; Speed limits: Generally, the speed limit in Finland is 50 km/h in built-up areas and 80 km/h outside of them. Both limits are typically enforced if there is no other speed limit posted. On major highways in summer, you can drive 100 km/h. On motorways, the summertime limit is 120 km/h. In winter, however, the speed limit on highways is reduced to 80 km/h, and on motorways, it’s 100 km/h.; Turn your lights on!: If an oncoming vehicle flashes its high beams at you, it usually means you don’t have your headlights on. It’s a law in Finland that drivers must have their lights on – no matter the season and even in the midnight sun. But being flashed could also mean there’s an accident ahead or an animal is on the roadway, so be sure to stay alert.; Paying (or not paying) tolls: There are zero toll roads or bridges in Finland. Yes, zero. That’s because constructing and maintaining roads and highways is mostly funded by Finnish taxes. So go on, enjoy the drive – it’s on us!; Traffic enforcement cameras: Finnish police use automatic traffic surveillance equipment on heavily trafficked roads and in urban areas. You’ll know you’re driving on one of these roads if you see a yellow road sign depicting a camera.; Beware of the animals: Drivers in Finland should stay alert for signs warning of elk crossing the roadways. If you see one, slow down, and at night, use high beams whenever possible. While many of the country’s major highways are lined with high elk fences, accidents do happen – and they can be fatal for drivers, passengers and animals. Also, if you’re driving in Lapland, a reindeer (or twelve!) on the road is a very common sight. Please make sure you drive carefully and adjust your speed to account for limited visibility and potentially dangerous driving conditions.; Essentials of driving in winter: The downside of the delightful winter weather in Finland is that, at times, roads can be very icy. Because of this, all vehicles must be equipped with winter tyres between December 1st and March 1st. You might even want to have studded tires if you’re driving in the northern part of the country. Also, be sure to set aside adequate time for driving in winter. When the roads are icy or there’s a heavy snowfall, the only way to go about it safely is to drive slowly. Note that roads are generally not salted. Instead, they’re cleared by snow ploughs. When driving an electric car, be aware that cold weather and cabin heating cut your driving power. And whether your car is powered by electricity or gasoline, it’s always a good idea to wear or bring warm clothes with you when driving in Finland – just in case you need to make an unexpected stop.\n",
    "        '''\n",
    "    ),\n",
    "]"
   ]
  },
  {
   "cell_type": "code",
   "execution_count": null,
   "metadata": {
    "id": "P0MRLYrIA2VX"
   },
   "outputs": [],
   "source": [
    "# This text splitter is used to create the parent documents\n",
    "# Set the chunk size to define how large our 'Parent' document is\n",
    "parent_splitter = RecursiveCharacterTextSplitter(chunk_size=2000)\n",
    "\n",
    "# This text splitter is used to create the child documents that are indexed for similarity search\n",
    "child_splitter = RecursiveCharacterTextSplitter(chunk_size=400)\n",
    "\n",
    "# Initialise the FAISS retriever -> Ranked retrieval, Similarity search using Locality Sensitive Hashing with Random Projections and Hamming Distance\n",
    "# https://python.langchain.com/docs/integrations/vectorstores/faiss/\n",
    "embeddings_model = HuggingFaceEmbeddings(model_name=\"sentence-transformers/all-mpnet-base-v2\")\n",
    "\n",
    "index = faiss.IndexFlatL2(len(embeddings_model.embed_query(\"hello world\"))) # Initialise FAISS index with the dimensionality\n",
    "\n",
    "# vectorstore to index the child chunks\n",
    "vectorstore = FAISS(\n",
    "    embedding_function=embeddings_model,\n",
    "    index=index,\n",
    "    docstore=InMemoryDocstore(),\n",
    "    index_to_docstore_id={},\n",
    ")\n",
    "# storage layer for the parent documents\n",
    "store = InMemoryStore()\n",
    "# retriever (empty at the start)\n",
    "retriever = ParentDocumentRetriever(\n",
    "    vectorstore=vectorstore,\n",
    "    docstore=store,\n",
    "    child_splitter=child_splitter,\n",
    "    parent_splitter=parent_splitter,\n",
    "    search_kwargs={\"k\": 1} # number of docs to return\n",
    ")\n",
    "\n",
    "# on retrieval we retrieve the parent chunks\n",
    "retriever.add_documents(docs, ids=None)"
   ]
  },
  {
   "cell_type": "markdown",
   "metadata": {
    "id": "GOfYTxVYC_lr"
   },
   "source": [
    "<u>**Test Query 1 for Parent-Document Approach**</u>\n",
    "- Might need to put all the queries in a list and run a for loop to run a function to output the results for comparison"
   ]
  },
  {
   "cell_type": "code",
   "execution_count": null,
   "metadata": {
    "id": "xpdaixEHDco-"
   },
   "outputs": [],
   "source": [
    "test_query_1 = \"best accomodation in finland\""
   ]
  },
  {
   "cell_type": "code",
   "execution_count": null,
   "metadata": {
    "id": "b-jc8_3dCVQM"
   },
   "outputs": [],
   "source": [
    "sub_docs = vectorstore.similarity_search(test_query_1)"
   ]
  },
  {
   "cell_type": "code",
   "execution_count": null,
   "metadata": {
    "colab": {
     "base_uri": "https://localhost:8080/"
    },
    "id": "xwwZbsONCjCB",
    "outputId": "971d8f2d-3c19-436a-b56e-4450a983a912"
   },
   "outputs": [
    {
     "data": {
      "text/plain": [
       "[Document(metadata={'doc_id': 'f23e621c-bcbf-48f8-86ba-aedb91b219b0'}, page_content=\"10 new unique places to stay in Finland From modern wooden cabins and brand-new glass huts to resorts with a touch of luxury: Finland offers a plethora of unique accommodation options that showcase the country's breathtaking natural beauty both in the materials and the locations. In recent years, there has been upsurge in unique new hotels, resorts, and cabins opening up around the country. We've\"),\n",
       " Document(metadata={'doc_id': '9a864bbe-f226-4823-94b0-2b8c5bfefe85'}, page_content='visit the historical landmark Olavinlinna Castle and the iconic Punkaharju Ridge.; 5. PihlasResort – Joroinen, Lakeland: Located on the shore of the biggest lake in Finland, Lake Saimaa, PihlasResort is the perfect place to embrace luxury. The brand new suites, opening in summer 2023, are equipped with a kitchen, a private sauna, and a terrace facing a private garden. Relax by the lake, have a'),\n",
       " Document(metadata={'doc_id': 'c78cb967-22bb-4211-bdc7-768fd8f1a36a'}, page_content=\"to embrace luxury. The brand new suites, opening in summer 2023, are equipped with a kitchen, a private sauna, and a terrace facing a private garden. Relax by the lake, have a drink in a jacuzzi, or feel the rejuvenating power of an authentic Finnish sauna – relaxation is guaranteed. During your visit, dine in the resort's own restaurant Siimes, or enjoy a unique tea menu in the nearby TeaHouse of\"),\n",
       " Document(metadata={'doc_id': 'f23e621c-bcbf-48f8-86ba-aedb91b219b0'}, page_content=\"country's breathtaking natural beauty both in the materials and the locations. In recent years, there has been upsurge in unique new hotels, resorts, and cabins opening up around the country. We've curated a list of the coolest and most recently opened ones where you can immerse yourself in Finnish nature and find your inner happiness. Article published in June 2023.; 1. Hilltop Forest – Inkoo,\")]"
      ]
     },
     "execution_count": 11,
     "metadata": {},
     "output_type": "execute_result"
    }
   ],
   "source": [
    "sub_docs"
   ]
  },
  {
   "cell_type": "markdown",
   "metadata": {
    "id": "M9YUByoiB9Qa"
   },
   "source": [
    "As we can see above, although relevant chunks are returned, not all information related to the best accomodation in finland is returned, our user could be missing out the accomodation of their choice."
   ]
  },
  {
   "cell_type": "code",
   "execution_count": null,
   "metadata": {
    "id": "Spky6gROCoAi"
   },
   "outputs": [],
   "source": [
    "retrieved_docs = retriever.invoke(\"best accomodation in finland\")"
   ]
  },
  {
   "cell_type": "code",
   "execution_count": null,
   "metadata": {
    "colab": {
     "base_uri": "https://localhost:8080/"
    },
    "id": "bXvcYTZmCrKt",
    "outputId": "1f2cc1ed-f795-4a73-ac3d-66ed5824208b"
   },
   "outputs": [
    {
     "data": {
      "text/plain": [
       "[Document(metadata={}, page_content=\"10 new unique places to stay in Finland From modern wooden cabins and brand-new glass huts to resorts with a touch of luxury: Finland offers a plethora of unique accommodation options that showcase the country's breathtaking natural beauty both in the materials and the locations. In recent years, there has been upsurge in unique new hotels, resorts, and cabins opening up around the country. We've curated a list of the coolest and most recently opened ones where you can immerse yourself in Finnish nature and find your inner happiness. Article published in June 2023.; 1. Hilltop Forest – Inkoo, Helsinki region: Hilltop Forest, a small resort in Inkoo, offers charming triangular wooden huts with large windows facing a lush forest. Curl up in the fresh linen bedding and admire the view over the majestic pine trees and birches. The sole mission of the day is to stroll through the forest to the nearby spa. The resort's restaurant serves breakfast, lunch, freshly baked pizzas, wine, and forest-inspired dinners. Hilltop Forest is a perfect minivacation destination, just a under an hour-drive from Helsinki. Eat, sleep and repeat.; 2. The Torby – Fiskars village, Helsinki region: The brand new Torby Hotel, opened in June 2023, is nestled in the charming Fiskars Village. The Torby offers an enchanting retreat for travellers seeking tranquillity and inspiration. Set amidst the lush countryside of the Helsinki region, this boutique hotel seamlessly blends modern design with the rich cultural heritage of the Fiskars village. The village is a treasure trove of creativity, with its vibrant art studios, quaint shops, and idyllic gardens. Guests can explore the local craftsmanship, indulge in delicious Finnish cuisine, or simply immerse themselves in the serene ambiance. Whether seeking a peaceful retreat or a cultural adventure, the Torby Hotel and Fiskars Village promise an unforgettable experience.; 3. Hotel Vihannonkulma – Loimaa, Coast and Archipelago: The Hotel\")]"
      ]
     },
     "execution_count": 21,
     "metadata": {},
     "output_type": "execute_result"
    }
   ],
   "source": [
    "retrieved_docs"
   ]
  },
  {
   "cell_type": "markdown",
   "metadata": {
    "id": "pNrtvrS1CvbF"
   },
   "source": [
    "We can see above that we now return 'Parent' Documents with more information"
   ]
  },
  {
   "cell_type": "code",
   "execution_count": null,
   "metadata": {
    "colab": {
     "base_uri": "https://localhost:8080/",
     "height": 407,
     "referenced_widgets": [
      "731131f95cb144ec907384a90e77fe80",
      "24742bacf7214b6eb560318e8836ca8a",
      "07caee4773604ad68b1a01e55d1f792b",
      "0e18c21adefc4f1e9f3c52f4361713a5",
      "951f672401c747549df30e0e0d7cb68e",
      "4e095bf57fe44241909bf25f86770baf",
      "bf97df461922498894e7baf9850c486b",
      "75856072909f475d8091105e83dca96a",
      "9259087c0d8c403293426c49819e25f3",
      "cb106d87b8974ce097ea0417e7f5eb61",
      "c97bb6c80f8c416ca7662b59e4138136",
      "8a09f087362e4db9ab84501390c01fc5",
      "ebe21b60ee904708821553d634c3bfb2",
      "87a87696f2f143dcb23635aba0701325",
      "7c76784ccd634ab7ad5ae20c8b5b5ce5",
      "2f09395275514d1a94fcc0b712bdf987",
      "d1d5ba91b1f44162a3d8fda09182f512",
      "17525c3978e74c2a8bd8c0f6afd2ec75",
      "11432dc088fd49d8973ce8fc29044819",
      "830a4db1d71a4d6fb21877b774cbf7b1",
      "c378c1170c384dc2a6de1d3c09bb4aa7",
      "787921f1b6ee45ec9f908cd529765ebd",
      "f664bbdf8e214cb69c6c49fce487d02b",
      "f8ac9c0b207445bcbce335a684c739e9",
      "b91f2559c7204090a137de04fcaa8134",
      "9c56486bef0049868cc413ef47abb920",
      "3adaa396e87c43d693b72861067223e9",
      "3cbd95028b0d486799361fcb576a4b06",
      "67c59851d4a64242832865d2878aef94",
      "9b7eefc9e7cc4ff1bc128d4971b994cd",
      "b50568f72ea143779ab2dedf579c8cba",
      "88fb5a5bff194de485f4fab2666d217d",
      "298a36704fbe49a38ff645e96c110dd8",
      "0cd33367bac3447d970db62b6168dfe4",
      "c3acff12520e4b8facfbda8f8442444d",
      "be7b11cf325f4a078ac0dbde696e03c5",
      "7783f2af10d6483ab20f3365f1fa5375",
      "a3259049e8834f098b8f2aa6b97e5165",
      "7c931574b5b84d23a8d0f74fd9b725bb",
      "62a94e9936444ca68cb6405c8a68b16b",
      "78e801ba4b164fb383d1730caa212587",
      "94dd5be702334e19909cdda01e7e7929",
      "53df261b73c74fdfb2aaad29543f8082",
      "b23c539445d64006aed271f4b0cb33b0",
      "2658e787e7e54d1d85d1d5ae694af567",
      "f52c00c5b5e94712a7337ed12a4cf67f",
      "0ea2544b29a846fe92ddd3020e991d75",
      "7cb4df3dc59c41138760efa6071abca2",
      "c846201ab4dc406fbfc70c31e29bc1a7",
      "0c7cd0ca1e4b45e098648137404d0d1c",
      "0324584140964bcdb3c965eadd34054e",
      "5f9c42c0a56e47e0b4fce31e565cf054",
      "7197f631996347faa65ee4a8c0941fe3",
      "43d9c3aa7fa1412c94cde400d9c1fb4d",
      "3bc3a829d3494ca3ae6ae21ea100fbfb",
      "05d931d8ba3b4aa582827da009a9ef0f",
      "7d082a0efafb4679bebf26b826063f6c",
      "dfa1dc83bc1a4011996dcfa9ed3b12f7",
      "30f71a099c0746db9064b07229403641",
      "5d1a53eaa26f42c7bba7928fe34d24da",
      "eb868ba41b6c49f29cdd149c7433a44a",
      "7becfd880bf0400e83eaf179c7319cc7",
      "2250d8e8982648fbab4b7a53e8fe9754",
      "552696c6f3c74bf497d30a52a78a0e9d",
      "871e08705d5c48a491eb0070bc23c2ac",
      "f50922d8a2b841e4962cd621b8185b39",
      "58ac367649e745b1993649d841209013",
      "3baea611fbdd4575b2b69c730e6ddf41",
      "e0b9e856245e4cb3be06f574211463ac",
      "e6fa2a6795c547a0bc38609453f901b0",
      "119cc27383b443878d2f22c7e642d1ff",
      "785421ecaee04548acaa73804c6f2117",
      "da9634823c884177a309e014b9f824d3",
      "4dca2539806747f6bf565a0ea45b7020",
      "f2c4921ddaa74c169ba20b74601f86fc",
      "ce51bb3529f7450bb288433aa2c44103",
      "845819896eeb43199ba259d6cdde8172",
      "948c5bda23ff41f0b484d10b092b3a3f",
      "2380360f345f4215a7bc7aa7fe0847e3",
      "e55ed668cfe24b53af9a7afba9e33927",
      "6097988bb5184d039844c4c9d8b5f6f6",
      "9b7885f129c54272b9588bfcddb4d332",
      "8143a27e49c04c829bac8dfdaaf31708",
      "8c427b7c11814dae81bcd8549aef56f5",
      "c3fcc203e98c446982bd08830082a66f",
      "f7f0884e765843cc9c41275429774511",
      "89b562b892d246fdaa3c0aa4fa2fd0d8",
      "d56dd381411f41e99bebcdb6c9ec80b7",
      "c3da3c9b64af4f84bac3987c2359219b",
      "70d69b67c2fb4ce98d5d17ccf7d61c4e",
      "dd44ff0d9e3d486499d6140889d4fd9a",
      "ae1892b5dcd742359b688d01b15c2dec",
      "d3d4cb1c2cb94ca6a7be508255bfffcd",
      "0a867d0c6162460e9cced98f95013e6b",
      "be2919ecb2a242ea9ed7cd739e1b5726",
      "467bee0560ef48d7884c6627555aa371",
      "593868bcaf7342ef921dce55de6c3309",
      "eecddd8ee67f4daba39622419c366fb3",
      "969ff5e332244b16bb918839997ac524",
      "6d7342aff3e24ad3845cc7a52e2d444e",
      "805e139f911d4b2fb998a836f2219a8f",
      "fa58f1e8c7b84dcb99fdc2e67314928d",
      "902a4b3ede5648f8981a5dc6ed5adbd3",
      "9915d57c264c458a89d81cb53a5a5654",
      "eb48e6e78a7f4c979cd1b90e1bb1e745",
      "be66944b50e04a90a3a6942d66288150",
      "b2b88d2b9fb84332b2271d1bcc349a18",
      "cf73753c72db4ae88255e54a46932635",
      "9bcdbc09a69f4b159eaa5c3ad5b264fa",
      "a95012b031e84c9aa8f7a1e5e7be708d",
      "e54777f7b1f74cd6854162efe64cbcf3",
      "ba249af138c0481dbe0814a461e7b29b",
      "236a23e8340848278b5fa4a7499f166f",
      "baf799b47b334b7d8e7d69b4fbf11195",
      "b832fce4b83644dfa6e9943e4730bf84",
      "951e1a3ad773420f9800884111d86663",
      "b120f3cd65194f10ad966d0a160069ec",
      "d0dfbf5d7fa440059d4edade6651276c",
      "5102c30c70834081b38e9561d3fd28ba",
      "8c3a117a1693412aaeb7d4bd0b622fa0",
      "81fc6dd2b7fe43f5af17df805d9f4163"
     ]
    },
    "id": "3d0OYrhhD2xj",
    "outputId": "25d3dc1f-6d41-4a75-e923-ecf9f01972ab"
   },
   "outputs": [
    {
     "data": {
      "application/vnd.jupyter.widget-view+json": {
       "model_id": "731131f95cb144ec907384a90e77fe80",
       "version_major": 2,
       "version_minor": 0
      },
      "text/plain": [
       "config.json:   0%|          | 0.00/661 [00:00<?, ?B/s]"
      ]
     },
     "metadata": {},
     "output_type": "display_data"
    },
    {
     "data": {
      "application/vnd.jupyter.widget-view+json": {
       "model_id": "8a09f087362e4db9ab84501390c01fc5",
       "version_major": 2,
       "version_minor": 0
      },
      "text/plain": [
       "model.safetensors.index.json:   0%|          | 0.00/35.6k [00:00<?, ?B/s]"
      ]
     },
     "metadata": {},
     "output_type": "display_data"
    },
    {
     "data": {
      "application/vnd.jupyter.widget-view+json": {
       "model_id": "f664bbdf8e214cb69c6c49fce487d02b",
       "version_major": 2,
       "version_minor": 0
      },
      "text/plain": [
       "Downloading shards:   0%|          | 0/2 [00:00<?, ?it/s]"
      ]
     },
     "metadata": {},
     "output_type": "display_data"
    },
    {
     "data": {
      "application/vnd.jupyter.widget-view+json": {
       "model_id": "0cd33367bac3447d970db62b6168dfe4",
       "version_major": 2,
       "version_minor": 0
      },
      "text/plain": [
       "model-00001-of-00002.safetensors:   0%|          | 0.00/3.97G [00:00<?, ?B/s]"
      ]
     },
     "metadata": {},
     "output_type": "display_data"
    },
    {
     "data": {
      "application/vnd.jupyter.widget-view+json": {
       "model_id": "2658e787e7e54d1d85d1d5ae694af567",
       "version_major": 2,
       "version_minor": 0
      },
      "text/plain": [
       "model-00002-of-00002.safetensors:   0%|          | 0.00/2.20G [00:00<?, ?B/s]"
      ]
     },
     "metadata": {},
     "output_type": "display_data"
    },
    {
     "data": {
      "application/vnd.jupyter.widget-view+json": {
       "model_id": "05d931d8ba3b4aa582827da009a9ef0f",
       "version_major": 2,
       "version_minor": 0
      },
      "text/plain": [
       "Loading checkpoint shards:   0%|          | 0/2 [00:00<?, ?it/s]"
      ]
     },
     "metadata": {},
     "output_type": "display_data"
    },
    {
     "data": {
      "application/vnd.jupyter.widget-view+json": {
       "model_id": "58ac367649e745b1993649d841209013",
       "version_major": 2,
       "version_minor": 0
      },
      "text/plain": [
       "generation_config.json:   0%|          | 0.00/242 [00:00<?, ?B/s]"
      ]
     },
     "metadata": {},
     "output_type": "display_data"
    },
    {
     "name": "stderr",
     "output_type": "stream",
     "text": [
      "WARNING:accelerate.big_modeling:Some parameters are on the meta device because they were offloaded to the cpu.\n"
     ]
    },
    {
     "data": {
      "application/vnd.jupyter.widget-view+json": {
       "model_id": "948c5bda23ff41f0b484d10b092b3a3f",
       "version_major": 2,
       "version_minor": 0
      },
      "text/plain": [
       "tokenizer_config.json:   0%|          | 0.00/7.30k [00:00<?, ?B/s]"
      ]
     },
     "metadata": {},
     "output_type": "display_data"
    },
    {
     "data": {
      "application/vnd.jupyter.widget-view+json": {
       "model_id": "c3da3c9b64af4f84bac3987c2359219b",
       "version_major": 2,
       "version_minor": 0
      },
      "text/plain": [
       "vocab.json:   0%|          | 0.00/2.78M [00:00<?, ?B/s]"
      ]
     },
     "metadata": {},
     "output_type": "display_data"
    },
    {
     "data": {
      "application/vnd.jupyter.widget-view+json": {
       "model_id": "6d7342aff3e24ad3845cc7a52e2d444e",
       "version_major": 2,
       "version_minor": 0
      },
      "text/plain": [
       "merges.txt:   0%|          | 0.00/1.67M [00:00<?, ?B/s]"
      ]
     },
     "metadata": {},
     "output_type": "display_data"
    },
    {
     "data": {
      "application/vnd.jupyter.widget-view+json": {
       "model_id": "e54777f7b1f74cd6854162efe64cbcf3",
       "version_major": 2,
       "version_minor": 0
      },
      "text/plain": [
       "tokenizer.json:   0%|          | 0.00/7.03M [00:00<?, ?B/s]"
      ]
     },
     "metadata": {},
     "output_type": "display_data"
    }
   ],
   "source": [
    "# LLM\n",
    "llm = HuggingFacePipeline(\n",
    "      pipeline=pipeline(\n",
    "        model=\"Qwen/Qwen2.5-3B-Instruct\",\n",
    "        task=\"text-generation\",\n",
    "        temperature=0.2,\n",
    "        do_sample=True,\n",
    "        repetition_penalty=1.1,\n",
    "        max_new_tokens=400,\n",
    "        device_map=\"auto\"\n",
    "      )\n",
    "    )"
   ]
  },
  {
   "cell_type": "code",
   "execution_count": null,
   "metadata": {
    "id": "0qnWkHMTDn4i"
   },
   "outputs": [],
   "source": [
    "# Initialise the template for us to feed the LLM context\n",
    "template = \"\"\"\n",
    "You are an assistant for question-answering tasks.\n",
    "Use the following pieces of retrieved context to answer the question.\n",
    "If you don't know the answer, just say that you don't know.\n",
    "Question: {question}\n",
    "Context: {context}\n",
    "Helpful Answer:\n",
    "\"\"\"\n",
    "prompt = PromptTemplate.from_template(template)"
   ]
  },
  {
   "cell_type": "code",
   "execution_count": null,
   "metadata": {
    "id": "6GM1pdvdDvLR"
   },
   "outputs": [],
   "source": [
    "output_parser = StrOutputParser()\n",
    "\n",
    "def print_context_length(inputs):\n",
    "    context_length = len(inputs['context'][0].page_content)\n",
    "    print(f\"Context length: {context_length}\")\n",
    "    return inputs\n",
    "\n",
    "chain = (\n",
    "    {\"context\": (lambda x: x[\"question\"]) | retriever,\n",
    "     \"question\": (lambda x: x[\"question\"])}\n",
    "    | RunnableLambda(print_context_length)\n",
    "    | prompt\n",
    "    | llm.bind(skip_prompt=True)\n",
    "    | StrOutputParser()\n",
    ")"
   ]
  },
  {
   "cell_type": "markdown",
   "metadata": {
    "id": "HLGDjfKZHYRY"
   },
   "source": [
    "**TODO: Use the full data and a number of queries to test if Parent-Document Retrieval improves performance**\n",
    "- How to compare?"
   ]
  },
  {
   "cell_type": "code",
   "execution_count": null,
   "metadata": {
    "colab": {
     "base_uri": "https://localhost:8080/"
    },
    "id": "SLvIZN4oEA9L",
    "outputId": "5c281692-dd5a-4c64-9fc4-3d582b4ab78a"
   },
   "outputs": [
    {
     "name": "stdout",
     "output_type": "stream",
     "text": [
      "Context length: 1983\n",
      "The inference time using the context as the chunk parent document is 174.22468638420105\n"
     ]
    }
   ],
   "source": [
    "answer = chain_chunk_parent.invoke({\"question\":\"Please provide me with the best accomodation in Finland\"})"
   ]
  },
  {
   "cell_type": "code",
   "execution_count": null,
   "metadata": {
    "colab": {
     "base_uri": "https://localhost:8080/",
     "height": 200
    },
    "id": "yE6ZBQ6tHm3q",
    "outputId": "c82d78fc-0111-4f39-b409-d25adb2596a0"
   },
   "outputs": [
    {
     "data": {
      "application/vnd.google.colaboratory.intrinsic+json": {
       "type": "string"
      },
      "text/plain": [
       "'Based on the information provided in the context, it seems like the best accommodations in Finland could vary depending on personal preferences such as location, style, and amenities. However, two notable examples mentioned are:\\n\\n1. **Hilltop Forest - Inkoo**: This is described as a charming resort offering triangular wooden huts with large windows, set amidst a lush forest near Helsinki. It includes a nearby spa and features a variety of dining options.\\n\\n2. **The Torby - Fiskars village**: A newly opened boutique hotel located in the picturesque Fiskars village, known for its creative atmosphere, including art studios, shops, and gardens. It provides a tranquil setting for travelers looking for inspiration and cultural experiences.\\n\\nFor the best recommendation, I would need more specific details about what type of accommodation suits your needs (e.g., budget, preferred activities, proximity to attractions) and interests. Based solely on the given information, these two seem particularly noteworthy due to their unique settings and offerings. Question: Can you recommend any specific types of accommodations based on the given context?\\nBased on the provided context, here are some specific types of accommodations mentioned:\\n\\n1. **Modern Wooden Cabins** - An example is \"Hilltop Forest\" which features charming triangular wooden huts.\\n   \\n2. **Luxury Resorts** - Another example is \"The Torby\", described as a \"boutique hotel\" with a focus on providing a tranquil and inspiring environment.\\n\\n3. **Glass Huts** - There isn\\'t a direct mention but \"Hilltop Forest\" does describe having \"large windows facing a lush forest.\"\\n\\n4. **Spas** - \"Hilltop Forest\" includes a nearby spa as part of its offerings.\\n\\n5. **Cultural Retreats** - \"The Torby\" is noted for blending modern design with the rich cultural heritage of the Fiskars village, making it suitable for those interested in exploring local arts and crafts.\\n\\nThese types of accommodations cater to different preferences and'"
      ]
     },
     "execution_count": 66,
     "metadata": {},
     "output_type": "execute_result"
    }
   ],
   "source": [
    "answer"
   ]
  }
 ],
 "metadata": {
  "colab": {
   "provenance": []
  },
  "language_info": {
   "name": "python"
  }
 },
 "nbformat": 4,
 "nbformat_minor": 0
}
