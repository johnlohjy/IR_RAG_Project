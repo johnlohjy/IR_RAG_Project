{
 "cells": [
  {
   "cell_type": "markdown",
   "metadata": {},
   "source": [
    "### **Prettify Output**"
   ]
  },
  {
   "cell_type": "code",
   "execution_count": 1,
   "metadata": {},
   "outputs": [],
   "source": [
    "import json"
   ]
  },
  {
   "cell_type": "code",
   "execution_count": null,
   "metadata": {},
   "outputs": [],
   "source": [
    "name = 'model_response_docs_feed_5_parent_chunk_size_360'"
   ]
  },
  {
   "cell_type": "code",
   "execution_count": null,
   "metadata": {},
   "outputs": [],
   "source": [
    "f_name = f'./{name}.json'\n",
    "with open(f_name, 'r') as file:\n",
    "    response = json.load(file)\n",
    "\n",
    "results = {}\n",
    "\n",
    "for res in response:\n",
    "    for sub_qn, v in res.items():\n",
    "        results[v['parent_question']] = {}\n",
    "\n",
    "for res in response:\n",
    "    for sub_qn, v in res.items():\n",
    "        results[v['parent_question']][sub_qn] = v['answer']\n",
    "\n",
    "import textwrap\n",
    "\n",
    "# Define a function to write results to a file\n",
    "def write_results_to_file(results, file_path):\n",
    "    with open(file_path, 'w', encoding='utf-8') as f:\n",
    "        for main_question, subqns_ans in results.items():\n",
    "            f.write(f\"Question: {main_question}\\n\\n\")\n",
    "            \n",
    "            for subqn in subqns_ans:\n",
    "                # Wrap text for better readability\n",
    "                wrapped_subqn = textwrap.fill(f\"Sub-Question: {subqn}\", width=80)\n",
    "                wrapped_answer = textwrap.fill(f\"Answer: {subqns_ans[subqn]}\", width=80)\n",
    "\n",
    "                f.write(f\"{wrapped_subqn}\\n\")\n",
    "                f.write(f\"{wrapped_answer}\\n\\n\")\n",
    "            \n",
    "            f.write(\"\\n\")\n",
    "            f.write(\"#\" * 90 + \"\\n\\n\")\n",
    "\n",
    "# Usage example\n",
    "# Assume 'results' is your dictionary\n",
    "write_results_to_file(results, f\"{name}.txt\")"
   ]
  },
  {
   "cell_type": "code",
   "execution_count": null,
   "metadata": {},
   "outputs": [],
   "source": []
  }
 ],
 "metadata": {
  "kernelspec": {
   "display_name": "myenv2",
   "language": "python",
   "name": "python3"
  },
  "language_info": {
   "codemirror_mode": {
    "name": "ipython",
    "version": 3
   },
   "file_extension": ".py",
   "mimetype": "text/x-python",
   "name": "python",
   "nbconvert_exporter": "python",
   "pygments_lexer": "ipython3",
   "version": "3.12.4"
  }
 },
 "nbformat": 4,
 "nbformat_minor": 2
}
