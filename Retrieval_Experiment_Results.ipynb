{
 "cells": [
  {
   "cell_type": "markdown",
   "metadata": {},
   "source": [
    "## **Retriever Experiment Results**"
   ]
  },
  {
   "cell_type": "markdown",
   "metadata": {},
   "source": [
    "**Base Semantic Similarity Retriever**"
   ]
  },
  {
   "cell_type": "code",
   "execution_count": null,
   "metadata": {},
   "outputs": [],
   "source": [
    "base = {'mean_ndcg_vals': 0.7621340891191959,\n",
    " 'mean_map_vals': 0.8891159611992945,\n",
    " 'mean_mrr_vals': 1.0}"
   ]
  },
  {
   "cell_type": "markdown",
   "metadata": {},
   "source": [
    "**Ensemble Retriever with stopwords in query**"
   ]
  },
  {
   "cell_type": "code",
   "execution_count": null,
   "metadata": {},
   "outputs": [],
   "source": [
    "ensemble_with_stopwords = {'bm25_0.1_faiss_0.9': {'mean_ndcg_vals': 0.7998602615605369,\n",
    "  'mean_map_vals': 0.8285870181405895,\n",
    "  'mean_mrr_vals': 0.9},\n",
    " 'bm25_0.2_faiss_0.8': {'mean_ndcg_vals': 0.7998602615605369,\n",
    "  'mean_map_vals': 0.8285870181405895,\n",
    "  'mean_mrr_vals': 0.9},\n",
    " 'bm25_0.3_faiss_0.7': {'mean_ndcg_vals': 0.7998602615605369,\n",
    "  'mean_map_vals': 0.8285870181405895,\n",
    "  'mean_mrr_vals': 0.9},\n",
    " 'bm25_0.4_faiss_0.6': {'mean_ndcg_vals': 0.7998602615605369,\n",
    "  'mean_map_vals': 0.8285870181405895,\n",
    "  'mean_mrr_vals': 0.9},\n",
    " 'bm25_0.5_faiss_0.5': {'mean_ndcg_vals': 0.5983036980885064,\n",
    "  'mean_map_vals': 0.7059547430083144,\n",
    "  'mean_mrr_vals': 0.7},\n",
    " 'bm25_0.6_faiss_0.4': {'mean_ndcg_vals': 0.4629866118293468,\n",
    "  'mean_map_vals': 0.6627971466364322,\n",
    "  'mean_mrr_vals': 0.6666666666666666},\n",
    " 'bm25_0.7_faiss_0.3': {'mean_ndcg_vals': 0.4629866118293468,\n",
    "  'mean_map_vals': 0.6627971466364322,\n",
    "  'mean_mrr_vals': 0.6666666666666666},\n",
    " 'bm25_0.8_faiss_0.2': {'mean_ndcg_vals': 0.4629866118293468,\n",
    "  'mean_map_vals': 0.6627971466364322,\n",
    "  'mean_mrr_vals': 0.6666666666666666},\n",
    " 'bm25_0.9_faiss_0.1': {'mean_ndcg_vals': 0.4629866118293468,\n",
    "  'mean_map_vals': 0.6627971466364322,\n",
    "  'mean_mrr_vals': 0.6666666666666666}}"
   ]
  },
  {
   "cell_type": "markdown",
   "metadata": {},
   "source": [
    "**Ensemble Retriever without stopwords in query**"
   ]
  },
  {
   "cell_type": "code",
   "execution_count": null,
   "metadata": {},
   "outputs": [],
   "source": [
    "ensemble_without_stopwords = {'bm25_0.1_faiss_0.9': {'mean_ndcg_vals': 0.8125222745933929,\n",
    "  'mean_map_vals': 0.911326530612245,\n",
    "  'mean_mrr_vals': 1.0},\n",
    " 'bm25_0.2_faiss_0.8': {'mean_ndcg_vals': 0.8125222745933929,\n",
    "  'mean_map_vals': 0.911326530612245,\n",
    "  'mean_mrr_vals': 1.0},\n",
    " 'bm25_0.3_faiss_0.7': {'mean_ndcg_vals': 0.8125222745933929,\n",
    "  'mean_map_vals': 0.911326530612245,\n",
    "  'mean_mrr_vals': 1.0},\n",
    " 'bm25_0.4_faiss_0.6': {'mean_ndcg_vals': 0.8125222745933929,\n",
    "  'mean_map_vals': 0.911326530612245,\n",
    "  'mean_mrr_vals': 1.0},\n",
    " 'bm25_0.5_faiss_0.5': {'mean_ndcg_vals': 0.6047856173646041,\n",
    "  'mean_map_vals': 0.7798639455782312,\n",
    "  'mean_mrr_vals': 0.8},\n",
    " 'bm25_0.6_faiss_0.4': {'mean_ndcg_vals': 0.5133354570995932,\n",
    "  'mean_map_vals': 0.7549319727891156,\n",
    "  'mean_mrr_vals': 0.75},\n",
    " 'bm25_0.7_faiss_0.3': {'mean_ndcg_vals': 0.5133354570995932,\n",
    "  'mean_map_vals': 0.7549319727891156,\n",
    "  'mean_mrr_vals': 0.75},\n",
    " 'bm25_0.8_faiss_0.2': {'mean_ndcg_vals': 0.5133354570995932,\n",
    "  'mean_map_vals': 0.7549319727891156,\n",
    "  'mean_mrr_vals': 0.75},\n",
    " 'bm25_0.9_faiss_0.1': {'mean_ndcg_vals': 0.5133354570995932,\n",
    "  'mean_map_vals': 0.7549319727891156,\n",
    "  'mean_mrr_vals': 0.75}}"
   ]
  },
  {
   "cell_type": "markdown",
   "metadata": {},
   "source": [
    "**Re-ranked semantic similarity retriever**"
   ]
  },
  {
   "cell_type": "code",
   "execution_count": null,
   "metadata": {},
   "outputs": [],
   "source": [
    "reranked = {'mean_ndcg_vals': 0.9584385804086578,\n",
    " 'mean_map_vals': 0.9977777777777778,\n",
    " 'mean_mrr_vals': 1.0}"
   ]
  },
  {
   "cell_type": "markdown",
   "metadata": {},
   "source": [
    "**Conclusions**"
   ]
  },
  {
   "cell_type": "markdown",
   "metadata": {},
   "source": [
    "Best retriever as of 5 test queries\n",
    "- ```bm25_0.2_faiss_0.8``` + ```re-ranking```"
   ]
  },
  {
   "cell_type": "markdown",
   "metadata": {},
   "source": []
  }
 ],
 "metadata": {
  "kernelspec": {
   "display_name": "myenv2",
   "language": "python",
   "name": "python3"
  },
  "language_info": {
   "name": "python",
   "version": "3.12.5"
  }
 },
 "nbformat": 4,
 "nbformat_minor": 2
}
