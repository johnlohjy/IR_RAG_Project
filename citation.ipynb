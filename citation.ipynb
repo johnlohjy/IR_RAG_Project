{
  "cells": [
    {
      "cell_type": "markdown",
      "metadata": {
        "id": "6SUyouPHwwxJ"
      },
      "source": [
        "## **Citation Generation**"
      ]
    },
    {
      "cell_type": "code",
      "execution_count": 1,
      "metadata": {
        "id": "WHiEvt1xwwxN",
        "outputId": "2fef3b86-0429-4483-8ddc-3a4e436271fd",
        "colab": {
          "base_uri": "https://localhost:8080/"
        }
      },
      "outputs": [
        {
          "output_type": "stream",
          "name": "stdout",
          "text": [
            "\u001b[2K     \u001b[90m━━━━━━━━━━━━━━━━━━━━━━━━━━━━━━━━━━━━━━━━\u001b[0m \u001b[32m44.1/44.1 kB\u001b[0m \u001b[31m2.8 MB/s\u001b[0m eta \u001b[36m0:00:00\u001b[0m\n",
            "\u001b[2K   \u001b[90m━━━━━━━━━━━━━━━━━━━━━━━━━━━━━━━━━━━━━━━━\u001b[0m \u001b[32m122.4/122.4 MB\u001b[0m \u001b[31m16.1 MB/s\u001b[0m eta \u001b[36m0:00:00\u001b[0m\n",
            "\u001b[2K   \u001b[90m━━━━━━━━━━━━━━━━━━━━━━━━━━━━━━━━━━━━━━━━\u001b[0m \u001b[32m1.0/1.0 MB\u001b[0m \u001b[31m54.5 MB/s\u001b[0m eta \u001b[36m0:00:00\u001b[0m\n",
            "\u001b[2K   \u001b[90m━━━━━━━━━━━━━━━━━━━━━━━━━━━━━━━━━━━━━━━━\u001b[0m \u001b[32m2.4/2.4 MB\u001b[0m \u001b[31m87.0 MB/s\u001b[0m eta \u001b[36m0:00:00\u001b[0m\n",
            "\u001b[2K   \u001b[90m━━━━━━━━━━━━━━━━━━━━━━━━━━━━━━━━━━━━━━━━\u001b[0m \u001b[32m10.0/10.0 MB\u001b[0m \u001b[31m117.2 MB/s\u001b[0m eta \u001b[36m0:00:00\u001b[0m\n",
            "\u001b[2K   \u001b[90m━━━━━━━━━━━━━━━━━━━━━━━━━━━━━━━━━━━━━━━━\u001b[0m \u001b[32m85.5/85.5 MB\u001b[0m \u001b[31m22.6 MB/s\u001b[0m eta \u001b[36m0:00:00\u001b[0m\n",
            "\u001b[2K   \u001b[90m━━━━━━━━━━━━━━━━━━━━━━━━━━━━━━━━━━━━━━━━\u001b[0m \u001b[32m111.0/111.0 kB\u001b[0m \u001b[31m11.2 MB/s\u001b[0m eta \u001b[36m0:00:00\u001b[0m\n",
            "\u001b[2K   \u001b[90m━━━━━━━━━━━━━━━━━━━━━━━━━━━━━━━━━━━━━━━━\u001b[0m \u001b[32m409.5/409.5 kB\u001b[0m \u001b[31m33.8 MB/s\u001b[0m eta \u001b[36m0:00:00\u001b[0m\n",
            "\u001b[2K   \u001b[90m━━━━━━━━━━━━━━━━━━━━━━━━━━━━━━━━━━━━━━━━\u001b[0m \u001b[32m3.1/3.1 MB\u001b[0m \u001b[31m90.7 MB/s\u001b[0m eta \u001b[36m0:00:00\u001b[0m\n",
            "\u001b[2K   \u001b[90m━━━━━━━━━━━━━━━━━━━━━━━━━━━━━━━━━━━━━━━━\u001b[0m \u001b[32m49.5/49.5 kB\u001b[0m \u001b[31m4.7 MB/s\u001b[0m eta \u001b[36m0:00:00\u001b[0m\n",
            "\u001b[?25h"
          ]
        }
      ],
      "source": [
        "%pip install --quiet --upgrade bitsandbytes langchain langchain-community langchain-huggingface transformers beautifulsoup4 faiss-gpu rank_bm25 lark"
      ]
    },
    {
      "cell_type": "code",
      "execution_count": 2,
      "metadata": {
        "id": "mYQK9GISwwxO"
      },
      "outputs": [],
      "source": [
        "from langchain_core.documents import Document\n",
        "from langchain.retrievers import EnsembleRetriever # Supports Ensembling of results from multiple retrievers\n",
        "from langchain_community.retrievers import BM25Retriever\n",
        "from langchain_huggingface import HuggingFaceEmbeddings\n",
        "from langchain_huggingface.llms import HuggingFacePipeline\n",
        "from transformers import AutoModelForCausalLM, AutoTokenizer, pipeline\n",
        "from transformers import BitsAndBytesConfig\n",
        "from langchain_community.vectorstores import FAISS\n",
        "from langchain_text_splitters import RecursiveCharacterTextSplitter\n",
        "import faiss\n",
        "from langchain_community.docstore.in_memory import InMemoryDocstore\n",
        "import nltk\n",
        "from nltk.corpus import stopwords\n",
        "import re\n",
        "import pandas as pd\n",
        "import os\n",
        "from google.colab import files"
      ]
    },
    {
      "cell_type": "markdown",
      "source": [
        "## **User Action Required**\n",
        "\n",
        "1. Run the code below to create the ```data``` folder\n",
        "\n",
        "2. Choose to upload the following files\n",
        "- ```iceland_articles_updated.csv```\n",
        "- ```finland_articles_updated.csv```"
      ],
      "metadata": {
        "id": "os_P6iMDxxrB"
      }
    },
    {
      "cell_type": "code",
      "source": [
        "data_folder = os.path.join(os.getcwd(), 'data')\n",
        "os.makedirs(data_folder, exist_ok=True)"
      ],
      "metadata": {
        "id": "3mbscO5Nx1OT"
      },
      "execution_count": 3,
      "outputs": []
    },
    {
      "cell_type": "code",
      "source": [
        "uploaded_files = files.upload()"
      ],
      "metadata": {
        "id": "FVCJudlJx1lH",
        "outputId": "6116d4de-5bba-4f7d-be6c-b97428ac4195",
        "colab": {
          "base_uri": "https://localhost:8080/",
          "height": 73
        }
      },
      "execution_count": 4,
      "outputs": [
        {
          "output_type": "display_data",
          "data": {
            "text/plain": [
              "<IPython.core.display.HTML object>"
            ],
            "text/html": [
              "\n",
              "     <input type=\"file\" id=\"files-e8f5b3e3-1b4a-4a05-8cf8-b9ca5d8c38b6\" name=\"files[]\" multiple disabled\n",
              "        style=\"border:none\" />\n",
              "     <output id=\"result-e8f5b3e3-1b4a-4a05-8cf8-b9ca5d8c38b6\">\n",
              "      Upload widget is only available when the cell has been executed in the\n",
              "      current browser session. Please rerun this cell to enable.\n",
              "      </output>\n",
              "      <script>// Copyright 2017 Google LLC\n",
              "//\n",
              "// Licensed under the Apache License, Version 2.0 (the \"License\");\n",
              "// you may not use this file except in compliance with the License.\n",
              "// You may obtain a copy of the License at\n",
              "//\n",
              "//      http://www.apache.org/licenses/LICENSE-2.0\n",
              "//\n",
              "// Unless required by applicable law or agreed to in writing, software\n",
              "// distributed under the License is distributed on an \"AS IS\" BASIS,\n",
              "// WITHOUT WARRANTIES OR CONDITIONS OF ANY KIND, either express or implied.\n",
              "// See the License for the specific language governing permissions and\n",
              "// limitations under the License.\n",
              "\n",
              "/**\n",
              " * @fileoverview Helpers for google.colab Python module.\n",
              " */\n",
              "(function(scope) {\n",
              "function span(text, styleAttributes = {}) {\n",
              "  const element = document.createElement('span');\n",
              "  element.textContent = text;\n",
              "  for (const key of Object.keys(styleAttributes)) {\n",
              "    element.style[key] = styleAttributes[key];\n",
              "  }\n",
              "  return element;\n",
              "}\n",
              "\n",
              "// Max number of bytes which will be uploaded at a time.\n",
              "const MAX_PAYLOAD_SIZE = 100 * 1024;\n",
              "\n",
              "function _uploadFiles(inputId, outputId) {\n",
              "  const steps = uploadFilesStep(inputId, outputId);\n",
              "  const outputElement = document.getElementById(outputId);\n",
              "  // Cache steps on the outputElement to make it available for the next call\n",
              "  // to uploadFilesContinue from Python.\n",
              "  outputElement.steps = steps;\n",
              "\n",
              "  return _uploadFilesContinue(outputId);\n",
              "}\n",
              "\n",
              "// This is roughly an async generator (not supported in the browser yet),\n",
              "// where there are multiple asynchronous steps and the Python side is going\n",
              "// to poll for completion of each step.\n",
              "// This uses a Promise to block the python side on completion of each step,\n",
              "// then passes the result of the previous step as the input to the next step.\n",
              "function _uploadFilesContinue(outputId) {\n",
              "  const outputElement = document.getElementById(outputId);\n",
              "  const steps = outputElement.steps;\n",
              "\n",
              "  const next = steps.next(outputElement.lastPromiseValue);\n",
              "  return Promise.resolve(next.value.promise).then((value) => {\n",
              "    // Cache the last promise value to make it available to the next\n",
              "    // step of the generator.\n",
              "    outputElement.lastPromiseValue = value;\n",
              "    return next.value.response;\n",
              "  });\n",
              "}\n",
              "\n",
              "/**\n",
              " * Generator function which is called between each async step of the upload\n",
              " * process.\n",
              " * @param {string} inputId Element ID of the input file picker element.\n",
              " * @param {string} outputId Element ID of the output display.\n",
              " * @return {!Iterable<!Object>} Iterable of next steps.\n",
              " */\n",
              "function* uploadFilesStep(inputId, outputId) {\n",
              "  const inputElement = document.getElementById(inputId);\n",
              "  inputElement.disabled = false;\n",
              "\n",
              "  const outputElement = document.getElementById(outputId);\n",
              "  outputElement.innerHTML = '';\n",
              "\n",
              "  const pickedPromise = new Promise((resolve) => {\n",
              "    inputElement.addEventListener('change', (e) => {\n",
              "      resolve(e.target.files);\n",
              "    });\n",
              "  });\n",
              "\n",
              "  const cancel = document.createElement('button');\n",
              "  inputElement.parentElement.appendChild(cancel);\n",
              "  cancel.textContent = 'Cancel upload';\n",
              "  const cancelPromise = new Promise((resolve) => {\n",
              "    cancel.onclick = () => {\n",
              "      resolve(null);\n",
              "    };\n",
              "  });\n",
              "\n",
              "  // Wait for the user to pick the files.\n",
              "  const files = yield {\n",
              "    promise: Promise.race([pickedPromise, cancelPromise]),\n",
              "    response: {\n",
              "      action: 'starting',\n",
              "    }\n",
              "  };\n",
              "\n",
              "  cancel.remove();\n",
              "\n",
              "  // Disable the input element since further picks are not allowed.\n",
              "  inputElement.disabled = true;\n",
              "\n",
              "  if (!files) {\n",
              "    return {\n",
              "      response: {\n",
              "        action: 'complete',\n",
              "      }\n",
              "    };\n",
              "  }\n",
              "\n",
              "  for (const file of files) {\n",
              "    const li = document.createElement('li');\n",
              "    li.append(span(file.name, {fontWeight: 'bold'}));\n",
              "    li.append(span(\n",
              "        `(${file.type || 'n/a'}) - ${file.size} bytes, ` +\n",
              "        `last modified: ${\n",
              "            file.lastModifiedDate ? file.lastModifiedDate.toLocaleDateString() :\n",
              "                                    'n/a'} - `));\n",
              "    const percent = span('0% done');\n",
              "    li.appendChild(percent);\n",
              "\n",
              "    outputElement.appendChild(li);\n",
              "\n",
              "    const fileDataPromise = new Promise((resolve) => {\n",
              "      const reader = new FileReader();\n",
              "      reader.onload = (e) => {\n",
              "        resolve(e.target.result);\n",
              "      };\n",
              "      reader.readAsArrayBuffer(file);\n",
              "    });\n",
              "    // Wait for the data to be ready.\n",
              "    let fileData = yield {\n",
              "      promise: fileDataPromise,\n",
              "      response: {\n",
              "        action: 'continue',\n",
              "      }\n",
              "    };\n",
              "\n",
              "    // Use a chunked sending to avoid message size limits. See b/62115660.\n",
              "    let position = 0;\n",
              "    do {\n",
              "      const length = Math.min(fileData.byteLength - position, MAX_PAYLOAD_SIZE);\n",
              "      const chunk = new Uint8Array(fileData, position, length);\n",
              "      position += length;\n",
              "\n",
              "      const base64 = btoa(String.fromCharCode.apply(null, chunk));\n",
              "      yield {\n",
              "        response: {\n",
              "          action: 'append',\n",
              "          file: file.name,\n",
              "          data: base64,\n",
              "        },\n",
              "      };\n",
              "\n",
              "      let percentDone = fileData.byteLength === 0 ?\n",
              "          100 :\n",
              "          Math.round((position / fileData.byteLength) * 100);\n",
              "      percent.textContent = `${percentDone}% done`;\n",
              "\n",
              "    } while (position < fileData.byteLength);\n",
              "  }\n",
              "\n",
              "  // All done.\n",
              "  yield {\n",
              "    response: {\n",
              "      action: 'complete',\n",
              "    }\n",
              "  };\n",
              "}\n",
              "\n",
              "scope.google = scope.google || {};\n",
              "scope.google.colab = scope.google.colab || {};\n",
              "scope.google.colab._files = {\n",
              "  _uploadFiles,\n",
              "  _uploadFilesContinue,\n",
              "};\n",
              "})(self);\n",
              "</script> "
            ]
          },
          "metadata": {}
        },
        {
          "output_type": "stream",
          "name": "stdout",
          "text": [
            "Saving iceland_articles_updated.csv to iceland_articles_updated.csv\n",
            "Saving finland_articles_updated.csv to finland_articles_updated.csv\n"
          ]
        }
      ]
    },
    {
      "cell_type": "code",
      "source": [
        "for file_name in uploaded_files.keys():\n",
        "    os.rename(file_name, os.path.join(data_folder, file_name))"
      ],
      "metadata": {
        "id": "Z0FIrkTox22D"
      },
      "execution_count": 5,
      "outputs": []
    },
    {
      "cell_type": "markdown",
      "source": [
        "Your folder structure should now look as such:\n",
        "\n",
        "```\n",
        "data\n",
        "  - iceland_articles_updated.csv\n",
        "  - finland_articles_updated.csv\n",
        "```"
      ],
      "metadata": {
        "id": "T1tFLFdwx7IZ"
      }
    },
    {
      "cell_type": "code",
      "source": [
        "article_names = ['finland_articles_updated.csv', 'iceland_articles_updated.csv']\n",
        "article_fps = [os.path.join('.', 'data', article_name) for article_name in article_names]"
      ],
      "metadata": {
        "id": "MYURCDnuyZGQ"
      },
      "execution_count": 6,
      "outputs": []
    },
    {
      "cell_type": "code",
      "source": [
        "docs = []\n",
        "for article_fp in article_fps:\n",
        "  df = pd.read_csv(article_fp)\n",
        "  for _, row in df.iterrows():\n",
        "    text = row['Title'] + \" \" + row['Content']\n",
        "\n",
        "    doc = Document(\n",
        "        page_content=text,\n",
        "        metadata={'country': row['Country'], 'source': row['Source'], 'link': row['Article Links']}\n",
        "    )\n",
        "\n",
        "    docs.append(doc)"
      ],
      "metadata": {
        "id": "05S90pNTycor"
      },
      "execution_count": 7,
      "outputs": []
    },
    {
      "cell_type": "code",
      "source": [
        "docs[0]"
      ],
      "metadata": {
        "id": "lrdEEZVszQas",
        "outputId": "f1a04a35-8e9f-4c23-b24c-6d71800f8d41",
        "colab": {
          "base_uri": "https://localhost:8080/"
        }
      },
      "execution_count": 8,
      "outputs": [
        {
          "output_type": "execute_result",
          "data": {
            "text/plain": [
              "Document(metadata={'country': 'Finland', 'source': 'visitfinland', 'link': 'https://www.visitfinland.com/en/articles/exploring-tampere-with-content-creator/'}, page_content='Exploring inclusive Tampere through the eyes of queer content creator Jonny Foe German content creator Jonny Foe shares his favourite moments from an LGBTQIA+ group visit to Tampere: Jonny Foe is a content creator from Hamburg, Germany, known for his vibrant travel adventures and storytelling through visuals. He shares his global journeys on Instagram and TikTok under the name @jonnyfoe, capturing the essence of each destination, from bustling cities to remote landscapes. A proud member of the LGBTQIA+ community, Jonny has been married to his husband since 2023 and loves sharing their adventures with his followers.\\n\\nJonny joined a group visit organised by Visit Finland and Visit Tampere alongside other LGBTQIA+ content creators from around the world. In this article, Jonny shares his favourite parts of his visit to Tampere, highlighting the breathtaking scenery, unique culture, and unforgettable experiences that make this Nordic gem a must-visit.; A warm welcome to Tampere: From the moment you arrive, it\\'s evident that Tampere is deeply committed to inclusivity. \"As part of the We Speak Gay network, Tampere ensures that LGBTQIA+ travellers feel safe and embraced. Walking through the streets, we saw Pride flags in storefronts and felt genuine warmth from the locals,\" Jonny shares. For queer travellers, there can sometimes be concerns, but in Tampere, Jonny felt \"a true sense of belonging.\" He adds, \"There’s something empowering about being in a place where your identity is not just respected but celebrated. It’s no wonder Finland consistently ranks as one of the happiest countries in the world.\"; Discovering the history of Tampere: Jonny marvels at the Finlayson Area, describing the vibrant district as a journey through time. Nestled in the centre of Tampere amidst the picturesque Tammerkoski rapids, this area boasts the historic Finlayson Cotton Factory, established in 1820. The factory\\'s rich ambience now houses captivating museums and charming eateries and hosts diverse events year-round. Within the same neighbourhood, the Finnish Labour Museum Werstas offers insight into Tampere\\'s industrial legacy. Notably, Werstas also holds a national archive for Finnish LGBTQIA+ history, showcasing artefacts, photographs, and narratives of what it was like to live as an LGBTQIA+ individual in Finland. This exhibition deeply resonated with Jonny during his visit, \"As a queer traveller, seeing these stories of gender and sexual minorities preserved so thoughtfully was incredibly moving.\" A stone\\'s throw away lies the Tampere Market Hall, a treat for all senses. The market, bustling with local delicacies and fresh produce, is a fantastic way to experience Tampere’s food culture. \"I couldn’t resist buying chocolate from Suklaapuoti – the perfect souvenir! The cleanliness, organization, and friendliness of the vendors made me fall even more in love with the city,\" Jonny says.; Moomins, Tove Jansson, and queer legacy: One of Jonny’s most cherished moments in Tampere is visiting the world’s only Moomin Museum. \"As a long-time fan of Tove Jansson, the creator of the Moomins and a celebrated queer artist, this visit held special significance,\" Jonny shares. The museum beautifully honours Jansson’s legacy, showcasing her beloved Moomin characters through intricate dioramas and original illustrations that bring their whimsical world to life. \"Walking through the museum is both nostalgic and joyous,\" Jonny reflects. \"It reminded me of the importance of honouring queer artists like Jansson, who have left such a profound impact on global culture. Her work continues to inspire people of all ages, and the museum is a must-visit for anyone coming to Tampere.\"; Reconnecting with nature in Kauppi Forest: Tampere’s seamless blend of urban life and nature is one of its most remarkable features. Even within the city, you\\'re never far from lush forests and peaceful lakes. \"We ventured into the Kauppi Forest as part of the \\'Gone with the Forest\\' experience, and it was nothing short of magical,\" Jonny says.\\n\\n\"The forest felt like a sanctuary. The crisp air, towering trees, and overwhelming sense of peace gave me the grounding I needed,\" he adds. A stop at Pyynikki Observation Tower is also a must, where you can sip fresh coffee while taking in panoramic views of the city and surrounding lakes. \"That moment – surrounded by friends and nature – was pure contentment and reminded me why Finland’s close connection to nature makes it one of the happiest places in the world,\" Jonny reflects.; Creativity and connection at the Serlachius Museums: Another unforgettable experience is visiting the Serlachius Museums in Mänttä. \"I had the opportunity to express myself creatively while reﬂecting on my identity as a queer traveller. We laughed, painted, and shared stories about our journeys, creating a deep sense of connection among us,\" Jonny explains. He notes how much Finland, particularly Tampere, values creativity and personal expression. Whether through art, nature, or history, the country uniquely honours diversity and individuality.; Finnish sauna culture – a truly relaxing tradition: No trip to Finland is complete without experiencing its iconic sauna culture, and Tampere, known as the “Sauna Capital of the World,” is the perfect place to dive in. \"We visited several saunas during our stay, but the most memorable was the historic Rajaportti Sauna. Built in 1906, it’s Finland’s oldest public sauna, and stepping inside feels like stepping into a rich cultural tradition,\" Jonny says. He continues, \"What I love most about Finnish saunas is that they’re more than just places to relax – they’re spaces of equality. Everyone is welcome, and the sauna offers a chance to simply be yourself. This deep-rooted sense of equality makes the experience even more meaningful for me as a queer traveller. It’s no wonder sauna culture is so cherished in Finland.\"; A magical evening at Tahlo Ventures: The final evening was spent at Tahlo Ventures, a serene lakeside retreat at Lake Näsijärvi, just a short drive from Tampere. Meeting Johanna, who runs the business, is a highlight. Her passion for creating a space where people can relax, connect, and be themselves is truly inspiring. \"I loved that Tahlo Ventures is a proud part of the LGBTQIA+ community, and seeing inclusivity celebrated in every aspect of the retreat made me so happy,\" Jonny mentions. As the group gathers around for a delicious meal prepared by a private chef, the sky turns vibrant shades of pink and orange as the sun sets over the lake. \"Watching the sunset, surrounded by friends, felt like the perfect end to an unforgettable trip,\" Jonny reflects, \"Later, we relaxed in the sauna and hot tub, gazing at the calm waters – a moment of pure connection, relaxation, and gratitude.\"; Why Tampere and Finland should be on your travel bucket list: Jonny’s adventure in Tampere was more than just a visit – a journey of connection, relaxation, and joy. For any LGBTQIA+ traveller seeking a destination that combines natural beauty, rich culture, and inclusivity, Tampere and Finland stand out as must-visit locations. Here are three reasons why Tampere and Finland should be on your queer travel bucket list: \"Leaving Tampere, I feel inspired and eager to return,\" Jonny concludes. \"If you’re looking for a destination that combines natural beauty, vibrant culture, and a queer-inclusive atmosphere, Tampere and Finland should be at the top of your travel list.\"')"
            ]
          },
          "metadata": {},
          "execution_count": 8
        }
      ]
    },
    {
      "cell_type": "markdown",
      "metadata": {
        "id": "TzOD870XwwxP"
      },
      "source": [
        "## **Simple experiment to easily understand how to do citations**"
      ]
    },
    {
      "cell_type": "code",
      "execution_count": null,
      "metadata": {
        "id": "QHxGimNtwwxQ"
      },
      "outputs": [],
      "source": [
        "docs = [\n",
        "    Document(\n",
        "        page_content=\"The best hikes in Norway include the Reinebringen hike in the Lofoten islands. At a modest 448 meters high, Reinebringen is far from one of the highest peaks on the Lofoten islands. Yet this is more than made up for by the iconic view from the summit of Reine. It is not suitable for winter! Also, the trail can be quite demanding as the steps are quite steep.\",\n",
        "        metadata={'country': 'Norway', 'source': 'visitNorway', 'link': 'https://www.visitnorway.com/'},\n",
        "    ),\n",
        "    Document(\n",
        "        page_content=\"The famous street food of Iceland is the Hotdog! It is called the Baejarins Beztu Pylsur hot dog is made of a mix of lamb, beef and pork. Other delicacies of iceland include Fish and Chips as well as Tommi's burger.\",\n",
        "        metadata={'country': 'Iceland', 'source': 'IcelandTours', 'link': 'https://www.icelandtours.com/'},\n",
        "    ),\n",
        "    Document(\n",
        "        page_content=\"Transportation within Reykjavik is fairly convenient as there is a public bus service called BSI. All you need to do is to download their mobile app, follow the instructions, and you're good to go. Transportation to places outside Reykjavik however requires a car. Some options include car rentals as well as booking bus tours.\",\n",
        "        metadata={'country': 'Iceland', 'source': 'IcelandBuses', 'link': 'https://www.icelandbuses.com/'},\n",
        "    )\n",
        "]"
      ]
    },
    {
      "cell_type": "code",
      "source": [
        "llm = HuggingFacePipeline(\n",
        "      pipeline=pipeline(\n",
        "        model=\"Qwen/Qwen2.5-3B-Instruct\",\n",
        "        task=\"text-generation\",\n",
        "        temperature=0.2,\n",
        "        do_sample=True,\n",
        "        repetition_penalty=1.1,\n",
        "        max_new_tokens=400,\n",
        "        device_map=\"auto\"\n",
        "      )\n",
        "    )"
      ],
      "metadata": {
        "id": "yEEtegJB0geJ"
      },
      "execution_count": null,
      "outputs": []
    },
    {
      "cell_type": "markdown",
      "source": [
        "### **Method 1: Tool calling/Function calling**\n",
        "\n",
        "Tool calling allows a model to respond to a given prompt by generating output that matches a user-defined schema.\n",
        "\n",
        "The model is comes up with the arguments to a tool, and actually running the tool (or not) is up to the user - for example, if you want to extract output matching some schema from unstructured text, you could give the model an \"extraction\" tool that takes parameters matching the desired schema, then treat the generated output as your final result.\n",
        "\n",
        "A tool call includes a name, arguments dict, and an optional identifier. The arguments dict is structured ```{argument_name: argument_value}```.\n"
      ],
      "metadata": {
        "id": "QoS6SZfL1Xoh"
      }
    },
    {
      "cell_type": "code",
      "source": [],
      "metadata": {
        "id": "JzQWQdGF0znH"
      },
      "execution_count": null,
      "outputs": []
    }
  ],
  "metadata": {
    "kernelspec": {
      "display_name": "Python 3",
      "name": "python3"
    },
    "language_info": {
      "name": "python",
      "version": "3.12.5"
    },
    "colab": {
      "provenance": [],
      "gpuType": "A100"
    },
    "accelerator": "GPU"
  },
  "nbformat": 4,
  "nbformat_minor": 0
}