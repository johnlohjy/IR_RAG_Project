{
  "cells": [
    {
      "cell_type": "markdown",
      "metadata": {
        "id": "6SUyouPHwwxJ"
      },
      "source": [
        "# **Citation Generation**"
      ]
    },
    {
      "cell_type": "code",
      "execution_count": 1,
      "metadata": {
        "id": "WHiEvt1xwwxN",
        "outputId": "b0b838a3-1071-496f-c9da-41c27d799602",
        "colab": {
          "base_uri": "https://localhost:8080/"
        }
      },
      "outputs": [
        {
          "output_type": "stream",
          "name": "stdout",
          "text": [
            "\u001b[2K     \u001b[90m━━━━━━━━━━━━━━━━━━━━━━━━━━━━━━━━━━━━━━━━\u001b[0m \u001b[32m44.1/44.1 kB\u001b[0m \u001b[31m2.0 MB/s\u001b[0m eta \u001b[36m0:00:00\u001b[0m\n",
            "\u001b[2K   \u001b[90m━━━━━━━━━━━━━━━━━━━━━━━━━━━━━━━━━━━━━━━━\u001b[0m \u001b[32m122.4/122.4 MB\u001b[0m \u001b[31m16.1 MB/s\u001b[0m eta \u001b[36m0:00:00\u001b[0m\n",
            "\u001b[2K   \u001b[90m━━━━━━━━━━━━━━━━━━━━━━━━━━━━━━━━━━━━━━━━\u001b[0m \u001b[32m1.0/1.0 MB\u001b[0m \u001b[31m53.4 MB/s\u001b[0m eta \u001b[36m0:00:00\u001b[0m\n",
            "\u001b[2K   \u001b[90m━━━━━━━━━━━━━━━━━━━━━━━━━━━━━━━━━━━━━━━━\u001b[0m \u001b[32m2.4/2.4 MB\u001b[0m \u001b[31m91.1 MB/s\u001b[0m eta \u001b[36m0:00:00\u001b[0m\n",
            "\u001b[2K   \u001b[90m━━━━━━━━━━━━━━━━━━━━━━━━━━━━━━━━━━━━━━━━\u001b[0m \u001b[32m10.0/10.0 MB\u001b[0m \u001b[31m126.5 MB/s\u001b[0m eta \u001b[36m0:00:00\u001b[0m\n",
            "\u001b[2K   \u001b[90m━━━━━━━━━━━━━━━━━━━━━━━━━━━━━━━━━━━━━━━━\u001b[0m \u001b[32m85.5/85.5 MB\u001b[0m \u001b[31m23.2 MB/s\u001b[0m eta \u001b[36m0:00:00\u001b[0m\n",
            "\u001b[2K   \u001b[90m━━━━━━━━━━━━━━━━━━━━━━━━━━━━━━━━━━━━━━━━\u001b[0m \u001b[32m111.0/111.0 kB\u001b[0m \u001b[31m11.0 MB/s\u001b[0m eta \u001b[36m0:00:00\u001b[0m\n",
            "\u001b[2K   \u001b[90m━━━━━━━━━━━━━━━━━━━━━━━━━━━━━━━━━━━━━━━━\u001b[0m \u001b[32m108.8/108.8 kB\u001b[0m \u001b[31m11.1 MB/s\u001b[0m eta \u001b[36m0:00:00\u001b[0m\n",
            "\u001b[2K   \u001b[90m━━━━━━━━━━━━━━━━━━━━━━━━━━━━━━━━━━━━━━━━\u001b[0m \u001b[32m409.5/409.5 kB\u001b[0m \u001b[31m35.1 MB/s\u001b[0m eta \u001b[36m0:00:00\u001b[0m\n",
            "\u001b[2K   \u001b[90m━━━━━━━━━━━━━━━━━━━━━━━━━━━━━━━━━━━━━━━━\u001b[0m \u001b[32m3.1/3.1 MB\u001b[0m \u001b[31m98.2 MB/s\u001b[0m eta \u001b[36m0:00:00\u001b[0m\n",
            "\u001b[2K   \u001b[90m━━━━━━━━━━━━━━━━━━━━━━━━━━━━━━━━━━━━━━━━\u001b[0m \u001b[32m49.5/49.5 kB\u001b[0m \u001b[31m4.4 MB/s\u001b[0m eta \u001b[36m0:00:00\u001b[0m\n",
            "\u001b[?25h"
          ]
        }
      ],
      "source": [
        "%pip install --quiet --upgrade bitsandbytes langchain langchain-community langchain-huggingface transformers beautifulsoup4 faiss-gpu rank_bm25 lark langchain_groq"
      ]
    },
    {
      "cell_type": "code",
      "execution_count": 2,
      "metadata": {
        "id": "mYQK9GISwwxO"
      },
      "outputs": [],
      "source": [
        "from langchain_core.documents import Document\n",
        "from langchain.retrievers import EnsembleRetriever # Supports Ensembling of results from multiple retrievers\n",
        "from langchain_community.retrievers import BM25Retriever\n",
        "from langchain_huggingface import HuggingFaceEmbeddings\n",
        "from langchain_huggingface.llms import HuggingFacePipeline\n",
        "from langchain_huggingface import ChatHuggingFace\n",
        "from pydantic import BaseModel, Field\n",
        "from typing import List\n",
        "from transformers import AutoModelForCausalLM, AutoTokenizer, pipeline\n",
        "from transformers import BitsAndBytesConfig\n",
        "from langchain_community.vectorstores import FAISS\n",
        "from langchain_text_splitters import RecursiveCharacterTextSplitter\n",
        "import faiss\n",
        "from langchain_community.docstore.in_memory import InMemoryDocstore\n",
        "import nltk\n",
        "from nltk.corpus import stopwords\n",
        "import re\n",
        "import pandas as pd\n",
        "import os\n",
        "from google.colab import files\n",
        "import time\n",
        "from langchain_groq import ChatGroq"
      ]
    },
    {
      "cell_type": "markdown",
      "source": [
        "## **Method Type 1: Using Pydantic schema for validation with models that support tool/function calling functionality and JSON modes i.e. provide native APIs for structuring outputs**\n",
        "\n",
        "To utilise method type 1, we leverage the the Groq free API that was mentioned in a list of [examples/LLM providers](https://python.langchain.com/v0.1/docs/modules/model_io/chat/structured_output/) that LangChain provided that supported function calling and JSON\n",
        "\n",
        "To set up your colab environment for Groq\n",
        "1. Go to ```https://console.groq.com/keys``` to create an API key\n",
        "2. Add the created API key to your google colab secrets with the name ```GROQ_API_KEY```"
      ],
      "metadata": {
        "id": "QoS6SZfL1Xoh"
      }
    },
    {
      "cell_type": "code",
      "source": [
        "# List of models Groq provides: https://console.groq.com/docs/models\n",
        "# https://python.langchain.com/docs/integrations/chat/groq/\n",
        "llm = ChatGroq(api_key=\"\")"
      ],
      "metadata": {
        "id": "KfSO9SrapGg4"
      },
      "execution_count": 11,
      "outputs": []
    },
    {
      "cell_type": "code",
      "source": [
        "# Leverage Pydantic objects to validate that data conforms to the output we expect\n",
        "\n",
        "'''\n",
        "Beyond just the structure of the Pydantic class, the name of the Pydantic class,\n",
        "the docstring, and the names and provided descriptions of parameters are very important\n",
        "\n",
        "Define the fields needed and the corresponding types\n",
        "Note that the docstrings here are crucial, as they will be passed along\n",
        "to the model along with the class name.\n",
        "'''\n",
        "\n",
        "class CitedAnswer(BaseModel):\n",
        "    \"\"\"Answer the user question based only on the given sources, and cite the sources used.\"\"\"\n",
        "\n",
        "    answer: str = Field(\n",
        "        ...,\n",
        "        description=\"The answer to the user question, which is based only on the given sources.\",\n",
        "    )\n",
        "    citations: List[int] = Field(\n",
        "        ...,\n",
        "        description=\"The integer IDs of the SPECIFIC sources which justify the answer.\",\n",
        "    )\n",
        "\n",
        "'''\n",
        "Use LangChain's with_structured_output. Takes in schema (Pydantic class, JSON etc.) that specifies the structured\n",
        "output. Returns an object corresponding to the provided schema\n",
        "The method will add the necessary model arguments and output parsers to get the structured output\n",
        "\n",
        "tool/function calling: model comes up with arguments to a tool\n",
        "\n",
        "with_structured_output uses a mode's function/tool calling API\n",
        "\n",
        "Leverages the model's native tools and functions that it can call to ensure it conforms to the\n",
        "schema\n",
        "\n",
        "https://python.langchain.com/v0.1/docs/modules/model_io/chat/structured_output/\n",
        "https://python.langchain.com/docs/how_to/structured_output/\n",
        "https://python.langchain.com/v0.1/docs/use_cases/question_answering/citations/\n",
        "https://python.langchain.com/v0.1/docs/modules/model_io/chat/function_calling/\n",
        "'''\n",
        "structured_llm = llm.with_structured_output(CitedAnswer)"
      ],
      "metadata": {
        "id": "JzQWQdGF0znH"
      },
      "execution_count": 29,
      "outputs": []
    },
    {
      "cell_type": "markdown",
      "source": [
        "**Example question with sources**"
      ],
      "metadata": {
        "id": "Is10ki6mTuNG"
      }
    },
    {
      "cell_type": "code",
      "source": [
        "example_q = \"\"\"What is Brian's height?\n",
        "\n",
        "Sources:\n",
        "1. Suzy is 6'2\".\n",
        "2. Jeremiah is blonde.\n",
        "3. Brian is 3 inches shorter than Suzy.\n",
        "\"\"\""
      ],
      "metadata": {
        "id": "iyWtDUcYp29g",
        "outputId": "a45a483e-2655-4d4a-9aa2-488a810eb10b",
        "colab": {
          "base_uri": "https://localhost:8080/"
        }
      },
      "execution_count": null,
      "outputs": [
        {
          "output_type": "stream",
          "name": "stderr",
          "text": [
            "Setting `pad_token_id` to `eos_token_id`:None for open-end generation.\n"
          ]
        }
      ]
    },
    {
      "cell_type": "code",
      "source": [
        "structured_llm.invoke(example_q)"
      ],
      "metadata": {
        "id": "7Kl2ODB3PS3x"
      },
      "execution_count": null,
      "outputs": []
    },
    {
      "cell_type": "markdown",
      "metadata": {
        "id": "TzOD870XwwxP"
      },
      "source": [
        "### **Simple Experiment Data to test and observe behaviour of Method Type 1**"
      ]
    },
    {
      "cell_type": "code",
      "execution_count": 12,
      "metadata": {
        "id": "QHxGimNtwwxQ"
      },
      "outputs": [],
      "source": [
        "docs = [\n",
        "    Document(\n",
        "        page_content=\"The best hikes in Norway include the Reinebringen hike in the Lofoten islands. At a modest 448 meters high, Reinebringen is far from one of the highest peaks on the Lofoten islands. Yet this is more than made up for by the iconic view from the summit of Reine. It is not suitable for winter! Also, the trail can be quite demanding as the steps are quite steep.\",\n",
        "        metadata={'country': 'Norway', 'source': 'visitNorway', 'link': 'https://www.visitnorway.com/'},\n",
        "    ),\n",
        "    Document(\n",
        "        page_content=\"The most famous hikes in Norway include Preikestolen (a beautiful fjord), Kjeragbolten (with a famous boulder stuck between a mountain crevasse) as well as Trolltunga which resembes a tongue.\",\n",
        "        metadata={'country': 'Norway', 'source': 'norwayhikes', 'link': 'https://www.norwayhikes.com/'},\n",
        "    ),\n",
        "    Document(\n",
        "        page_content=\"The famous street food of Iceland is the Hotdog! It is called the Baejarins Beztu Pylsur hot dog is made of a mix of lamb, beef and pork. Other delicacies of iceland include Fish and Chips as well as Tommi's burger.\",\n",
        "        metadata={'country': 'Iceland', 'source': 'IcelandTours', 'link': 'https://www.icelandtours.com/'},\n",
        "    ),\n",
        "    Document(\n",
        "        page_content=\"Transportation within Reykjavik is fairly convenient as there is a public bus service called BSI. All you need to do is to download their mobile app, follow the instructions, and you're good to go. Transportation to places outside Reykjavik however requires a car. Some options include car rentals as well as booking bus tours.\",\n",
        "        metadata={'country': 'Iceland', 'source': 'IcelandBuses', 'link': 'https://www.icelandbuses.com/'},\n",
        "    )\n",
        "]"
      ]
    },
    {
      "cell_type": "markdown",
      "source": [
        "**Citation with source**"
      ],
      "metadata": {
        "id": "wyz83agasdjM"
      }
    },
    {
      "cell_type": "code",
      "source": [
        "class CitedAnswer(BaseModel):\n",
        "    \"\"\"Answer the user question based only on the given sources, and cite the sources used.\"\"\"\n",
        "\n",
        "    answer: str = Field(\n",
        "        ...,\n",
        "        description=\"The answer to the user question, which is based only on the given sources.\",\n",
        "    )\n",
        "    citations: List[str] = Field(\n",
        "        ...,\n",
        "        description=\"The source in the Document metadata which justify the answer.\",\n",
        "    )\n",
        "\n",
        "question = '''You are an assistant for question-answering tasks.\n",
        "Use the following pieces of retrieved context to answer the question.\n",
        "If you don't know the answer, just say that you don't know.\n",
        "Question: What are the best hikes in Norway?\n",
        "Context: {context}\n",
        "Helpful Answer:'''.format(context=docs)\n",
        "\n",
        "structured_llm = llm.with_structured_output(CitedAnswer)\n",
        "\n",
        "answer = structured_llm.invoke(question)"
      ],
      "metadata": {
        "id": "NS379KmHrH4g"
      },
      "execution_count": 20,
      "outputs": []
    },
    {
      "cell_type": "code",
      "source": [
        "answer"
      ],
      "metadata": {
        "id": "OZjhEWTerApT",
        "outputId": "099c0bea-2af4-4a96-cf4f-9a6e0bf93b87",
        "colab": {
          "base_uri": "https://localhost:8080/"
        }
      },
      "execution_count": 22,
      "outputs": [
        {
          "output_type": "execute_result",
          "data": {
            "text/plain": [
              "CitedAnswer(answer='The best hikes in Norway include the Reinebringen hike in the Lofoten islands.', citations=['visitNorway'])"
            ]
          },
          "metadata": {},
          "execution_count": 22
        }
      ]
    },
    {
      "cell_type": "code",
      "source": [
        "answer.answer"
      ],
      "metadata": {
        "id": "kw-tRq_rqvee",
        "outputId": "b6b37998-343a-4445-9e28-a6bb75d62fa1",
        "colab": {
          "base_uri": "https://localhost:8080/",
          "height": 35
        }
      },
      "execution_count": 23,
      "outputs": [
        {
          "output_type": "execute_result",
          "data": {
            "text/plain": [
              "'The best hikes in Norway include the Reinebringen hike in the Lofoten islands.'"
            ],
            "application/vnd.google.colaboratory.intrinsic+json": {
              "type": "string"
            }
          },
          "metadata": {},
          "execution_count": 23
        }
      ]
    },
    {
      "cell_type": "code",
      "source": [
        "answer.citations"
      ],
      "metadata": {
        "id": "QKjmDYRdqu0o",
        "outputId": "51df3c02-16f0-4f46-fe38-071c73f02896",
        "colab": {
          "base_uri": "https://localhost:8080/"
        }
      },
      "execution_count": 24,
      "outputs": [
        {
          "output_type": "execute_result",
          "data": {
            "text/plain": [
              "['visitNorway']"
            ]
          },
          "metadata": {},
          "execution_count": 24
        }
      ]
    },
    {
      "cell_type": "markdown",
      "source": [
        "**Citation with link**"
      ],
      "metadata": {
        "id": "SRf9mMGJshuz"
      }
    },
    {
      "cell_type": "code",
      "source": [
        "class CitedAnswer(BaseModel):\n",
        "    \"\"\"Answer the user question based only on the given sources, and cite the sources used.\"\"\"\n",
        "\n",
        "    answer: str = Field(\n",
        "        ...,\n",
        "        description=\"The answer to the user question, which is based only on the given sources.\",\n",
        "    )\n",
        "    citations: List[str] = Field(\n",
        "        ...,\n",
        "        description=\"The link in the Document metadata which justify the answer.\",\n",
        "    )\n",
        "\n",
        "question = '''You are an assistant for question-answering tasks.\n",
        "Use the following pieces of retrieved context to answer the question.\n",
        "If you don't know the answer, just say that you don't know.\n",
        "Question: What are the best hikes in Norway?\n",
        "Context: {context}\n",
        "Helpful Answer:'''.format(context=docs)\n",
        "\n",
        "structured_llm = llm.with_structured_output(CitedAnswer)\n",
        "\n",
        "answer = structured_llm.invoke(question)"
      ],
      "metadata": {
        "id": "TU7QLhMoqyQY"
      },
      "execution_count": 27,
      "outputs": []
    },
    {
      "cell_type": "code",
      "source": [
        "answer"
      ],
      "metadata": {
        "id": "jYL6etYlrcBx",
        "outputId": "6ba1da1e-26f6-4101-933c-d2023b840b3d",
        "colab": {
          "base_uri": "https://localhost:8080/"
        }
      },
      "execution_count": 28,
      "outputs": [
        {
          "output_type": "execute_result",
          "data": {
            "text/plain": [
              "CitedAnswer(answer='The best hikes in Norway include the Reinebringen hike in the Lofoten islands.', citations=['https://www.visitnorway.com/'])"
            ]
          },
          "metadata": {},
          "execution_count": 28
        }
      ]
    },
    {
      "cell_type": "markdown",
      "source": [
        "**TODO if got time**\n",
        "\n",
        "- Few-shot prompting\n",
        "  - https://python.langchain.com/docs/how_to/structured_output/\n",
        "  - For citations with source and link? But maybe that's more relevant to method type 2?\n",
        "- Fallback to raw outputs\n",
        "  - https://python.langchain.com/docs/how_to/structured_output/"
      ],
      "metadata": {
        "id": "ljPNFcmWvzWw"
      }
    },
    {
      "cell_type": "markdown",
      "source": [
        "<br/>\n",
        "<br/>\n",
        "<br/>\n",
        "\n",
        "## **Method Type 2: Direct Prompting**\n",
        "\n",
        "Not all models support tool calling/function calling or have native JSON mode support. This method explores the use of direct prompting to ask the model to use a specific format"
      ],
      "metadata": {
        "id": "Q41klqMlvYrJ"
      }
    },
    {
      "cell_type": "code",
      "source": [],
      "metadata": {
        "id": "ORCChBlzvlrk"
      },
      "execution_count": null,
      "outputs": []
    }
  ],
  "metadata": {
    "kernelspec": {
      "display_name": "Python 3",
      "name": "python3"
    },
    "language_info": {
      "name": "python",
      "version": "3.12.5"
    },
    "colab": {
      "provenance": [],
      "gpuType": "A100"
    },
    "accelerator": "GPU"
  },
  "nbformat": 4,
  "nbformat_minor": 0
}