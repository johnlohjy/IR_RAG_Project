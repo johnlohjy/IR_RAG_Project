{
  "cells": [
    {
      "cell_type": "markdown",
      "metadata": {
        "id": "6SUyouPHwwxJ"
      },
      "source": [
        "# **Citation Generation**"
      ]
    },
    {
      "cell_type": "code",
      "execution_count": 1,
      "metadata": {
        "id": "WHiEvt1xwwxN",
        "outputId": "7eb1d0b3-2658-4ca4-b33a-0f8b87d20616",
        "colab": {
          "base_uri": "https://localhost:8080/"
        }
      },
      "outputs": [
        {
          "output_type": "stream",
          "name": "stdout",
          "text": [
            "\u001b[2K     \u001b[90m━━━━━━━━━━━━━━━━━━━━━━━━━━━━━━━━━━━━━━━━\u001b[0m \u001b[32m44.1/44.1 kB\u001b[0m \u001b[31m2.5 MB/s\u001b[0m eta \u001b[36m0:00:00\u001b[0m\n",
            "\u001b[2K   \u001b[90m━━━━━━━━━━━━━━━━━━━━━━━━━━━━━━━━━━━━━━━━\u001b[0m \u001b[32m122.4/122.4 MB\u001b[0m \u001b[31m18.6 MB/s\u001b[0m eta \u001b[36m0:00:00\u001b[0m\n",
            "\u001b[2K   \u001b[90m━━━━━━━━━━━━━━━━━━━━━━━━━━━━━━━━━━━━━━━━\u001b[0m \u001b[32m1.0/1.0 MB\u001b[0m \u001b[31m56.9 MB/s\u001b[0m eta \u001b[36m0:00:00\u001b[0m\n",
            "\u001b[2K   \u001b[90m━━━━━━━━━━━━━━━━━━━━━━━━━━━━━━━━━━━━━━━━\u001b[0m \u001b[32m2.4/2.4 MB\u001b[0m \u001b[31m86.7 MB/s\u001b[0m eta \u001b[36m0:00:00\u001b[0m\n",
            "\u001b[2K   \u001b[90m━━━━━━━━━━━━━━━━━━━━━━━━━━━━━━━━━━━━━━━━\u001b[0m \u001b[32m10.0/10.0 MB\u001b[0m \u001b[31m110.8 MB/s\u001b[0m eta \u001b[36m0:00:00\u001b[0m\n",
            "\u001b[2K   \u001b[90m━━━━━━━━━━━━━━━━━━━━━━━━━━━━━━━━━━━━━━━━\u001b[0m \u001b[32m85.5/85.5 MB\u001b[0m \u001b[31m15.6 MB/s\u001b[0m eta \u001b[36m0:00:00\u001b[0m\n",
            "\u001b[2K   \u001b[90m━━━━━━━━━━━━━━━━━━━━━━━━━━━━━━━━━━━━━━━━\u001b[0m \u001b[32m111.0/111.0 kB\u001b[0m \u001b[31m12.4 MB/s\u001b[0m eta \u001b[36m0:00:00\u001b[0m\n",
            "\u001b[2K   \u001b[90m━━━━━━━━━━━━━━━━━━━━━━━━━━━━━━━━━━━━━━━━\u001b[0m \u001b[32m108.8/108.8 kB\u001b[0m \u001b[31m12.2 MB/s\u001b[0m eta \u001b[36m0:00:00\u001b[0m\n",
            "\u001b[2K   \u001b[90m━━━━━━━━━━━━━━━━━━━━━━━━━━━━━━━━━━━━━━━━\u001b[0m \u001b[32m409.5/409.5 kB\u001b[0m \u001b[31m34.8 MB/s\u001b[0m eta \u001b[36m0:00:00\u001b[0m\n",
            "\u001b[2K   \u001b[90m━━━━━━━━━━━━━━━━━━━━━━━━━━━━━━━━━━━━━━━━\u001b[0m \u001b[32m49.5/49.5 kB\u001b[0m \u001b[31m4.9 MB/s\u001b[0m eta \u001b[36m0:00:00\u001b[0m\n",
            "\u001b[?25h"
          ]
        }
      ],
      "source": [
        "%pip install --quiet --upgrade bitsandbytes langchain langchain-community langchain-huggingface transformers beautifulsoup4 faiss-gpu rank_bm25 lark langchain_groq"
      ]
    },
    {
      "cell_type": "code",
      "execution_count": 2,
      "metadata": {
        "id": "mYQK9GISwwxO"
      },
      "outputs": [],
      "source": [
        "from langchain_core.documents import Document\n",
        "from langchain.retrievers import EnsembleRetriever # Supports Ensembling of results from multiple retrievers\n",
        "from langchain_community.retrievers import BM25Retriever\n",
        "from langchain_huggingface import HuggingFaceEmbeddings\n",
        "from langchain_huggingface.llms import HuggingFacePipeline\n",
        "from langchain_huggingface import ChatHuggingFace\n",
        "from pydantic import BaseModel, Field\n",
        "from typing import List\n",
        "from transformers import AutoModelForCausalLM, AutoTokenizer, pipeline\n",
        "from transformers import BitsAndBytesConfig\n",
        "from langchain_community.vectorstores import FAISS\n",
        "from langchain_text_splitters import RecursiveCharacterTextSplitter\n",
        "from langchain_core.output_parsers import StrOutputParser\n",
        "from google.colab import userdata\n",
        "from langchain import PromptTemplate\n",
        "import faiss\n",
        "from langchain_community.docstore.in_memory import InMemoryDocstore\n",
        "import nltk\n",
        "from nltk.corpus import stopwords\n",
        "import re\n",
        "import pandas as pd\n",
        "import os\n",
        "import json\n",
        "from google.colab import files\n",
        "import time\n",
        "from langchain_groq import ChatGroq"
      ]
    },
    {
      "cell_type": "markdown",
      "source": [
        "## **Method Type 1: Using Pydantic schema for validation with models that support tool/function calling functionality and JSON modes i.e. provide native APIs for structuring outputs**\n",
        "\n",
        "### **User Action Required**\n",
        "\n",
        "To utilise method type 1, we leverage the the Groq free API that was mentioned in a list of [examples/LLM providers](https://python.langchain.com/v0.1/docs/modules/model_io/chat/structured_output/) that LangChain provided that supported function calling and JSON\n",
        "\n",
        "To set up your colab environment for Groq\n",
        "1. Go to ```https://console.groq.com/keys``` to create an API key\n",
        "2. Add the created API key to your google colab secrets with the name ```GROQ_API_KEY```\n",
        "\n",
        "<u>Pydantic Objects</u>\n",
        "\n",
        "Leverage Pydantic objects to validate that data conforms to the output we expect\n",
        "\n",
        "Beyond just the structure of the Pydantic class, the name of the Pydantic class, the docstring, and the names and provided descriptions of parameters are very important\n",
        "\n",
        "Define the fields needed and the corresponding types\n",
        "Note that the docstrings here are crucial, as they will be passed along\n",
        "to the model along with the class name.\n",
        "\n",
        "<u>```.with_structured_output()```</u>\n",
        "Use LangChain's with_structured_output. Takes in schema (Pydantic class, JSON etc.) that specifies the structured\n",
        "output. Returns an object corresponding to the provided schema\n",
        "The method will add the necessary model arguments and output parsers to get the structured output\n",
        "\n",
        "tool/function calling: model comes up with arguments to a tool\n",
        "\n",
        "with_structured_output uses a mode's function/tool calling API\n",
        "\n",
        "Leverages the model's native tools and functions that it can call to ensure it conforms to the\n",
        "schema\n",
        "\n",
        "- https://python.langchain.com/v0.1/docs/modules/model_io/chat/structured_output/\n",
        "- https://python.langchain.com/docs/how_to/structured_output/\n",
        "- https://python.langchain.com/v0.1/docs/use_cases/question_answering/citations/\n",
        "- https://python.langchain.com/v0.1/docs/modules/model_io/chat/function_calling/"
      ],
      "metadata": {
        "id": "QoS6SZfL1Xoh"
      }
    },
    {
      "cell_type": "code",
      "source": [
        "# List of models Groq provides: https://console.groq.com/docs/models\n",
        "# https://python.langchain.com/docs/integrations/chat/groq/\n",
        "os.environ[\"GROQ_API_KEY\"] = userdata.get('GROQ_API_KEY')\n",
        "llm = ChatGroq()"
      ],
      "metadata": {
        "id": "KfSO9SrapGg4"
      },
      "execution_count": null,
      "outputs": []
    },
    {
      "cell_type": "markdown",
      "metadata": {
        "id": "TzOD870XwwxP"
      },
      "source": [
        "### **Simple Experiment Data to test and observe behaviour of Method Type 1**"
      ]
    },
    {
      "cell_type": "code",
      "execution_count": null,
      "metadata": {
        "id": "QHxGimNtwwxQ"
      },
      "outputs": [],
      "source": [
        "docs = [\n",
        "    Document(\n",
        "        page_content=\"The best hikes in Norway include the Reinebringen hike in the Lofoten islands. At a modest 448 meters high, Reinebringen is far from one of the highest peaks on the Lofoten islands. Yet this is more than made up for by the iconic view from the summit of Reine. It is not suitable for winter! Also, the trail can be quite demanding as the steps are quite steep.\",\n",
        "        metadata={'country': 'Norway', 'source': 'visitNorway', 'link': 'https://www.visitnorway.com/'},\n",
        "    ),\n",
        "    Document(\n",
        "        page_content=\"The most famous hikes in Norway include Preikestolen (a beautiful fjord), Kjeragbolten (with a famous boulder stuck between a mountain crevasse) as well as Trolltunga which resembes a tongue.\",\n",
        "        metadata={'country': 'Norway', 'source': 'norwayhikes', 'link': 'https://www.norwayhikes.com/'},\n",
        "    ),\n",
        "    Document(\n",
        "        page_content=\"The famous street food of Iceland is the Hotdog! It is called the Baejarins Beztu Pylsur hot dog is made of a mix of lamb, beef and pork. Other delicacies of iceland include Fish and Chips as well as Tommi's burger.\",\n",
        "        metadata={'country': 'Iceland', 'source': 'IcelandTours', 'link': 'https://www.icelandtours.com/'},\n",
        "    ),\n",
        "    Document(\n",
        "        page_content=\"Transportation within Reykjavik is fairly convenient as there is a public bus service called BSI. All you need to do is to download their mobile app, follow the instructions, and you're good to go. Transportation to places outside Reykjavik however requires a car. Some options include car rentals as well as booking bus tours.\",\n",
        "        metadata={'country': 'Iceland', 'source': 'IcelandBuses', 'link': 'https://www.icelandbuses.com/'},\n",
        "    )\n",
        "]"
      ]
    },
    {
      "cell_type": "markdown",
      "source": [
        "### **Test Question**"
      ],
      "metadata": {
        "id": "i-AFqt0CM50w"
      }
    },
    {
      "cell_type": "code",
      "source": [
        "question = \"what are the best hikes in norway?\""
      ],
      "metadata": {
        "id": "InZ7vnxiM7ad"
      },
      "execution_count": null,
      "outputs": []
    },
    {
      "cell_type": "code",
      "source": [
        "prompt = \"\"\"\n",
        "You are an assistant for question-answering tasks.\n",
        "Use the following pieces of retrieved context to answer the question.\n",
        "If you don't know the answer from the retrieved context, just say that you don't know.\n",
        "Question: {question}\n",
        "Context: {context}\n",
        "Helpful Answer:\n",
        "\"\"\""
      ],
      "metadata": {
        "id": "uJxpQgAfOsWF"
      },
      "execution_count": null,
      "outputs": []
    },
    {
      "cell_type": "markdown",
      "source": [
        "### **Test Citation with source**"
      ],
      "metadata": {
        "id": "wyz83agasdjM"
      }
    },
    {
      "cell_type": "code",
      "source": [
        "class CitedAnswer(BaseModel):\n",
        "    \"\"\"Answer the user question based only on the given sources, and cite the sources used.\"\"\"\n",
        "\n",
        "    answer: str = Field(\n",
        "        ...,\n",
        "        description=\"The answer to the user question, which is based only on the given sources.\",\n",
        "    )\n",
        "    citations: List[str] = Field(\n",
        "        ...,\n",
        "        description=\"The source in the Document metadata which justify the answer.\",\n",
        "    )\n",
        "\n",
        "structured_llm = llm.with_structured_output(CitedAnswer)"
      ],
      "metadata": {
        "id": "MjrbEUX1Mzlf"
      },
      "execution_count": null,
      "outputs": []
    },
    {
      "cell_type": "code",
      "source": [
        "answer = structured_llm.invoke(prompt.format(question=question,context=docs))"
      ],
      "metadata": {
        "id": "CVeA-BcLM2Rm"
      },
      "execution_count": null,
      "outputs": []
    },
    {
      "cell_type": "code",
      "source": [
        "answer"
      ],
      "metadata": {
        "id": "OZjhEWTerApT",
        "outputId": "5848eaac-e461-4655-a503-21f95a218496",
        "colab": {
          "base_uri": "https://localhost:8080/"
        }
      },
      "execution_count": null,
      "outputs": [
        {
          "output_type": "execute_result",
          "data": {
            "text/plain": [
              "CitedAnswer(answer='The best hikes in Norway include the Reinebringen hike in the Lofoten islands, Preikestolen, Kjeragbolten, and Trolltunga.', citations=['visitNorway', 'norwayhikes'])"
            ]
          },
          "metadata": {},
          "execution_count": 38
        }
      ]
    },
    {
      "cell_type": "code",
      "source": [
        "answer.answer"
      ],
      "metadata": {
        "id": "kw-tRq_rqvee",
        "outputId": "a18a8039-b0a8-4d45-c1d3-549424228e67",
        "colab": {
          "base_uri": "https://localhost:8080/",
          "height": 35
        }
      },
      "execution_count": null,
      "outputs": [
        {
          "output_type": "execute_result",
          "data": {
            "text/plain": [
              "'The best hikes in Norway include the Reinebringen hike in the Lofoten islands, Preikestolen, Kjeragbolten, and Trolltunga.'"
            ],
            "application/vnd.google.colaboratory.intrinsic+json": {
              "type": "string"
            }
          },
          "metadata": {},
          "execution_count": 39
        }
      ]
    },
    {
      "cell_type": "code",
      "source": [
        "answer.citations"
      ],
      "metadata": {
        "id": "QKjmDYRdqu0o",
        "outputId": "7f3febf6-62de-4326-e588-b5c18c2e8be6",
        "colab": {
          "base_uri": "https://localhost:8080/"
        }
      },
      "execution_count": null,
      "outputs": [
        {
          "output_type": "execute_result",
          "data": {
            "text/plain": [
              "['visitNorway', 'norwayhikes']"
            ]
          },
          "metadata": {},
          "execution_count": 40
        }
      ]
    },
    {
      "cell_type": "markdown",
      "source": [
        "### **Test Citation with link**"
      ],
      "metadata": {
        "id": "SRf9mMGJshuz"
      }
    },
    {
      "cell_type": "code",
      "source": [
        "class CitedAnswer(BaseModel):\n",
        "    \"\"\"Answer the user question based only on the given sources, and cite the sources used.\"\"\"\n",
        "\n",
        "    answer: str = Field(\n",
        "        ...,\n",
        "        description=\"The answer to the user question, which is based only on the given sources.\",\n",
        "    )\n",
        "    citations: List[str] = Field(\n",
        "        ...,\n",
        "        description=\"The link in the Document metadata which justify the answer.\",\n",
        "    )\n",
        "\n",
        "structured_llm = llm.with_structured_output(CitedAnswer)"
      ],
      "metadata": {
        "id": "TU7QLhMoqyQY"
      },
      "execution_count": null,
      "outputs": []
    },
    {
      "cell_type": "code",
      "source": [
        "answer = structured_llm.invoke(prompt.format(question=question,context=docs))"
      ],
      "metadata": {
        "id": "dpPY1ERaO1g3"
      },
      "execution_count": null,
      "outputs": []
    },
    {
      "cell_type": "code",
      "source": [
        "answer"
      ],
      "metadata": {
        "id": "jYL6etYlrcBx",
        "outputId": "5c560421-cccc-47c1-e3aa-2bb2f6d3acc7",
        "colab": {
          "base_uri": "https://localhost:8080/"
        }
      },
      "execution_count": null,
      "outputs": [
        {
          "output_type": "execute_result",
          "data": {
            "text/plain": [
              "CitedAnswer(answer='The best hikes in Norway include the Reinebringen hike in the Lofoten islands, Preikestolen, Kjeragbolten, and Trolltunga.', citations=['https://www.visitnorway.com/', 'https://www.norwayhikes.com/'])"
            ]
          },
          "metadata": {},
          "execution_count": 43
        }
      ]
    },
    {
      "cell_type": "code",
      "source": [
        "answer.answer"
      ],
      "metadata": {
        "id": "3aDmJl5EFEBQ",
        "outputId": "2fbc99fc-d8bf-4d7a-888c-aa03b199259f",
        "colab": {
          "base_uri": "https://localhost:8080/",
          "height": 35
        }
      },
      "execution_count": null,
      "outputs": [
        {
          "output_type": "execute_result",
          "data": {
            "text/plain": [
              "'The best hikes in Norway include the Reinebringen hike in the Lofoten islands, Preikestolen, Kjeragbolten, and Trolltunga.'"
            ],
            "application/vnd.google.colaboratory.intrinsic+json": {
              "type": "string"
            }
          },
          "metadata": {},
          "execution_count": 44
        }
      ]
    },
    {
      "cell_type": "code",
      "source": [
        "answer.citations"
      ],
      "metadata": {
        "id": "V0i_JLwDFGcp",
        "outputId": "0c9f8900-2f3e-43f1-dd52-fe0323ab2273",
        "colab": {
          "base_uri": "https://localhost:8080/"
        }
      },
      "execution_count": null,
      "outputs": [
        {
          "output_type": "execute_result",
          "data": {
            "text/plain": [
              "['https://www.visitnorway.com/', 'https://www.norwayhikes.com/']"
            ]
          },
          "metadata": {},
          "execution_count": 45
        }
      ]
    },
    {
      "cell_type": "markdown",
      "source": [
        "### **Test Refusal**"
      ],
      "metadata": {
        "id": "e-ZfNwB5LDpY"
      }
    },
    {
      "cell_type": "code",
      "source": [
        "question = \"what is the speed of a rocket\"\n",
        "answer = structured_llm.invoke(prompt.format(question=question,context=docs))"
      ],
      "metadata": {
        "id": "SVv-pfo3LFoV"
      },
      "execution_count": null,
      "outputs": []
    },
    {
      "cell_type": "code",
      "source": [
        "answer"
      ],
      "metadata": {
        "id": "9N8cGwPEPE2R",
        "outputId": "e28991f1-b850-4857-fc88-cc0456d42b10",
        "colab": {
          "base_uri": "https://localhost:8080/"
        }
      },
      "execution_count": null,
      "outputs": [
        {
          "output_type": "execute_result",
          "data": {
            "text/plain": [
              "CitedAnswer(answer=\"I don't have information about the speed of a rocket from the provided context.\", citations=[])"
            ]
          },
          "metadata": {},
          "execution_count": 47
        }
      ]
    },
    {
      "cell_type": "markdown",
      "source": [
        "**TODO if got time**\n",
        "\n",
        "- Few-shot prompting\n",
        "  - https://python.langchain.com/docs/how_to/structured_output/\n",
        "  - For citations with source and link? But maybe that's more relevant to method type 2?\n",
        "- Fallback to raw outputs\n",
        "  - https://python.langchain.com/docs/how_to/structured_output/\n"
      ],
      "metadata": {
        "id": "ljPNFcmWvzWw"
      }
    },
    {
      "cell_type": "markdown",
      "source": [
        "<br/>\n",
        "<br/>\n",
        "<br/>\n",
        "\n",
        "## **Method Type 2: Direct Prompting**\n",
        "\n",
        "Not all models support tool calling/function calling or have native JSON mode support. This method explores the use of direct prompting to ask the model to use a specific format\n",
        "\n",
        "Additionally, we use few-shot prompting to enable in-context learning"
      ],
      "metadata": {
        "id": "Q41klqMlvYrJ"
      }
    },
    {
      "cell_type": "markdown",
      "source": [
        "### **Simple Experiment Data to test and observe behaviour of Method Type 2**"
      ],
      "metadata": {
        "id": "y_dfVUQmJeMY"
      }
    },
    {
      "cell_type": "code",
      "source": [
        "docs = [\n",
        "    Document(\n",
        "        page_content=\"The best hikes in Norway include the Reinebringen hike in the Lofoten islands. At a modest 448 meters high, Reinebringen is far from one of the highest peaks on the Lofoten islands. Yet this is more than made up for by the iconic view from the summit of Reine. It is not suitable for winter! Also, the trail can be quite demanding as the steps are quite steep.\",\n",
        "        metadata={'country': 'Norway', 'source': 'visitNorway', 'link': 'https://www.visitnorway.com/'},\n",
        "    ),\n",
        "    Document(\n",
        "        page_content=\"The most famous hikes in Norway include Preikestolen (a beautiful fjord), Kjeragbolten (with a famous boulder stuck between a mountain crevasse) as well as Trolltunga which resembes a tongue.\",\n",
        "        metadata={'country': 'Norway', 'source': 'norwayhikes', 'link': 'https://www.norwayhikes.com/'},\n",
        "    ),\n",
        "    Document(\n",
        "        page_content=\"The famous street food of Iceland is the Hotdog! It is called the Baejarins Beztu Pylsur hot dog is made of a mix of lamb, beef and pork. Other delicacies of iceland include Fish and Chips as well as Tommi's burger.\",\n",
        "        metadata={'country': 'Iceland', 'source': 'IcelandTours', 'link': 'https://www.icelandtours.com/'},\n",
        "    ),\n",
        "    Document(\n",
        "        page_content=\"Transportation within Reykjavik is fairly convenient as there is a public bus service called BSI. All you need to do is to download their mobile app, follow the instructions, and you're good to go. Transportation to places outside Reykjavik however requires a car. Some options include car rentals as well as booking bus tours.\",\n",
        "        metadata={'country': 'Iceland', 'source': 'IcelandBuses', 'link': 'https://www.icelandbuses.com/'},\n",
        "    )\n",
        "]"
      ],
      "metadata": {
        "id": "6N7BcaYwJfkR"
      },
      "execution_count": null,
      "outputs": []
    },
    {
      "cell_type": "markdown",
      "source": [
        "### **Question**"
      ],
      "metadata": {
        "id": "AWV8c6MBPpgP"
      }
    },
    {
      "cell_type": "code",
      "source": [
        "question = \"what are the best hikes in norway?\""
      ],
      "metadata": {
        "id": "tEMwQUV2PrHo"
      },
      "execution_count": null,
      "outputs": []
    },
    {
      "cell_type": "code",
      "source": [
        "prompt = '''You are a helpful assistant for answering questions using the provided retrieved documents.\n",
        "\n",
        "Use only the provided context to generate your answer. If the answer cannot be found in the context, say \"I don't know.\"\n",
        "\n",
        "Respond in the following JSON format:\n",
        "{{\n",
        "    \"answer\": \"<Your answer here>\", \"citations\": [\"<Link1>\", \"<Link2>\", ...]  // Use the metadata links of the documents that support your answer.\n",
        "}}\n",
        "\n",
        "Here are some examples:\n",
        "\n",
        "{{\n",
        "    \"answer\": \"The best waterfall in iceland is the Skogafoss waterfall and Gullfoss Waterfall\", \"citations\": [\"https://www.besticelandwaterfalls.com\", \"https://www.exploreiceland.com\"]\n",
        "}}\n",
        "\n",
        "{{\n",
        "    \"answer\": \"Transportation in Norway is very easy with its public bus service called Omio\", \"citations\": [\"https://www.omio.com\", \"https://www.visitnorway.com\"]\n",
        "}}\n",
        "\n",
        "Question: {question}\n",
        "\n",
        "Context: {context}\n",
        "\n",
        "Helpful Answer:\n",
        "'''"
      ],
      "metadata": {
        "id": "ORCChBlzvlrk"
      },
      "execution_count": null,
      "outputs": []
    },
    {
      "cell_type": "markdown",
      "source": [
        "### **Test with smaller sized model**"
      ],
      "metadata": {
        "id": "UEkxg80XD-wY"
      }
    },
    {
      "cell_type": "code",
      "source": [
        "llm_small = HuggingFacePipeline(\n",
        "      pipeline=pipeline(\n",
        "        model=\"Qwen/Qwen2.5-3B-Instruct\",\n",
        "        task=\"text-generation\",\n",
        "        temperature=0.2,\n",
        "        do_sample=True,\n",
        "        repetition_penalty=1.1,\n",
        "        max_new_tokens=400,\n",
        "        device_map=\"auto\"\n",
        "      )\n",
        "    )"
      ],
      "metadata": {
        "id": "z8I7RUxIDVMy",
        "outputId": "744f9739-5b24-4b83-c446-657e3c6ec0f8",
        "colab": {
          "base_uri": "https://localhost:8080/",
          "height": 369,
          "referenced_widgets": [
            "8f2d91d2b34348d29acde63ef9f214de",
            "f6266cb187f54dfd821e7342ab058546",
            "ec216b4f19cd4f56b868adb70258f2d6",
            "900ab050442c47ee8fa9b9e203be7ed5",
            "e79e4bef4eb447f2a8f527d8f9e53f5a",
            "573fb782f63c4f36ae51465ac82ae3ab",
            "43093ac3a5314ac9a27e4da2b71b4f46",
            "ce1ba2fa387e46b89e279d7f9b40a6b6",
            "31196a8f394e4b10ab1259e90da8daa8",
            "ad1900f826bb4c9b832d2820f31c995a",
            "1f667de0d9c74c3a863669da493a9b2b",
            "2b7b0425dbcc4758ad4071c81cbe6ec8",
            "1913dc16eab14fa4aa02151ff047dfb6",
            "bb023e01efca482a821aca777614a113",
            "2510b4c9ee6944679c3a25463a5fb21d",
            "914c0508a436464c962f4c9cd8faa16d",
            "54628a854fbf4d07a90f2ddadea9723c",
            "31f1f5bf18a8469aa0cda972b4a1c70a",
            "4016f5d36ac446b49096213ebf60cf37",
            "a57f3d6b0b9a4c60b5287f0c50ac75b5",
            "e6f87bb013c545cf860e1aaff09b7e37",
            "d92a006523a04ad5a3ed1be72be920d3",
            "56d4ab800ec745e0ada699dc620c872d",
            "2b5df0b7ef5b47bbb620b904548a13b8",
            "171f36f791824c0ba023a8cc68e57a88",
            "aff29cc7ed084852b52d0931a47a1af1",
            "567cb579f4544584b59b8f20cbdae916",
            "787537aba0294313bbfe2f83c5ec935d",
            "fbf36386a8b34adbb3bb425ea8e66f84",
            "3fccbb0cc1fe4dbf9df8b45960fe81b9",
            "ef02ffc9658b42e5b018a3833a50f487",
            "e05f5ccfa7204a1da17e489a8e063d51",
            "a0185ffae9cd40ef910566dc94957bca",
            "0785b2a341d347a2a4e364fdaff964f8",
            "d022163addba40f0aebcb70144e87da0",
            "a0147d05c8874092806f516a965b4ff0",
            "8d51677af0fc48a996b0d8c42f7bf835",
            "6a9a8af45bb349aaab1fbec93c3da134",
            "e1b8407b19c54532a2fd708b4db05828",
            "ae71a98975304f2daf3ecd2a7740f4f4",
            "b988ab91a2094876aa3ea1ce689588e9",
            "7b9348e3e9ba49c894c1d828ca9b7804",
            "2965a505e9d84f9a9f51fb220b10707f",
            "2b18402f79074663b9a76ecf36f756a3",
            "0a7dcebbbd274ea0878c24ed814d9e4d",
            "bbc4e41a0ae34970a21750d47573c655",
            "a4fb8c19302c470b835c41ce7e425f9e",
            "9efaa74467154b98a5746acb638c8832",
            "5704ed31e45b41cbb8b5a8507348f17e",
            "6d3c9e358e0a4072bd68af01917a14c9",
            "6a94114dd1bb4851957e43ea6e403f7b",
            "87ed7a761fa444eb9c06001440cf8ecf",
            "73458acbb2c74f2abf0f6e13d2f56c7b",
            "7d6e62c3d3ab4c3bb437f362fd2b5592",
            "3ace5cbfc689438b96f2df860abe1c22",
            "96aa16f6b9d54f1c8bcc102c5c8e84bd",
            "6b2c036a68bf4e14904ccd6ceed74dd7",
            "0cba9ab9511a41a3a91b794fe45f413d",
            "2e51d77940e6447f96ae1e207992d91d",
            "ca37dc74f21e4b43827ad40bdb38e523",
            "3d9ec0f621bc49c8917608a2321bd361",
            "e13823c46d444a94be42a7af8ce57d59",
            "5507d653266d49cda19d203aae2b84e6",
            "791c39805b1748e0918912acc797f3be",
            "913dd961c8704b7bbba379ec605fb887",
            "1c86395f6dfc4eeeaabf0e7aead43cc7",
            "7163d7187fa149778fb97301446101e5",
            "0ef103a6a27547619ed029dc43ed6a5a",
            "f848e92cf4924f7e861f6c52f943f24f",
            "71808c1b8e54415db66572da787caecf",
            "293505aa3c9f458aa9642f89e36ae7dc",
            "b05490e418264369af3ae75b7f412088",
            "1373823ddc8e4f9ab0434c2640655659",
            "5adc82d9268e498f93abb9a0df740bb9",
            "ace5b6fd36ca4da39da617ae7f58e5a2",
            "351f1d5efc0d477e87b882b53e4f91ad",
            "d0d23fc0687e474fb2a5cfc1a2e71a26",
            "8682c6c5607d4ee79d35b12c7f52f791",
            "a1abfeb1733247c98f6efb9037168cc3",
            "51ae3646518c445ca069044b095a800c",
            "4ee99f955b6e4e2ab57d9a3df68411a3",
            "0349a72bee9d44b09ba52a8fd6773854",
            "f539a9bdefeb40faab70aec5054d699f",
            "293d5b0bafe649cbb0155d4d8d711101",
            "bd5d9dcaf3394b24ae290a7b6aab69ca",
            "b5b48cfdfd004dfc8668c57e98b7391a",
            "2e97a7b5d6e245718ae8273a7fdc09e5",
            "88a78abbf22d4fb5acef80589a2131c7",
            "21c8c2a40ba7430aa808bd598fb8631e",
            "c20d19716bca45d49d2c7628035ea933",
            "71efc1164a3e4667b7a55e274cd4ce39",
            "bbd17aec4c714b89abd3ed3e99206c4e",
            "19c911bb8162463ba4c51a7a5800b377",
            "decd36ad657b41c1b9f4d00800066d86",
            "0348d259023444a1b87f36848ccefc14",
            "611187c88af34a2aaeb6b392488d9394",
            "b4dcb99eff0e45eb8b84f88d9ec3b9a7",
            "b611fcadeaec41bf83318917edf282c5",
            "d816a944efa047bf9b02cc2a013b80a7",
            "1f34f837f76e4d15873ab444e2b365f9",
            "e00ef9741b3d4da097183c323c258bc9",
            "ce9b33d2e8af40b1a94d04243634056c",
            "c4d2c763c8a84e09bca03e2e7f3e8cd1",
            "8852d42707a948cfae71f218be432349",
            "4acbb9362fe4455590f97dade8f28847",
            "0968b90471284d43929f66402bcde2e2",
            "cc539212bbe1482aadff3bcb9ed20fb3",
            "ae25fceb442244e5aba086af860c3652",
            "e405f8cbbb464ce3bf6051dd2704cdf3",
            "07db08fd51214d1282bf3c2114f1cb2a",
            "3358f63bdfb147fc99a4aaf7faaaa76c",
            "3a7badb3f7f24a7a808df51f35567432",
            "eedb0b5607094e23bb8be2c8bb6eb34f",
            "15d7d405962343fe9232c35406fc0d57",
            "d2e05fd118bc4042bb8222ebff44d8aa",
            "457ce253eb7d449e9bc5b4cd9703bfb6",
            "205277ffb41b4820b71bb209635aa773",
            "85ebcc7c1e4c4d4c9c0b2ea0fa0ce3ff",
            "e6b57e91ca394f93a2e84cbf5f0f6aa0",
            "5d1f52536c7f4fae817b87aa01cedbbd",
            "7bfe3022ca6043e98602c11b3c51455e"
          ]
        }
      },
      "execution_count": null,
      "outputs": [
        {
          "output_type": "display_data",
          "data": {
            "text/plain": [
              "config.json:   0%|          | 0.00/661 [00:00<?, ?B/s]"
            ],
            "application/vnd.jupyter.widget-view+json": {
              "version_major": 2,
              "version_minor": 0,
              "model_id": "8f2d91d2b34348d29acde63ef9f214de"
            }
          },
          "metadata": {}
        },
        {
          "output_type": "display_data",
          "data": {
            "text/plain": [
              "model.safetensors.index.json:   0%|          | 0.00/35.6k [00:00<?, ?B/s]"
            ],
            "application/vnd.jupyter.widget-view+json": {
              "version_major": 2,
              "version_minor": 0,
              "model_id": "2b7b0425dbcc4758ad4071c81cbe6ec8"
            }
          },
          "metadata": {}
        },
        {
          "output_type": "display_data",
          "data": {
            "text/plain": [
              "Downloading shards:   0%|          | 0/2 [00:00<?, ?it/s]"
            ],
            "application/vnd.jupyter.widget-view+json": {
              "version_major": 2,
              "version_minor": 0,
              "model_id": "56d4ab800ec745e0ada699dc620c872d"
            }
          },
          "metadata": {}
        },
        {
          "output_type": "display_data",
          "data": {
            "text/plain": [
              "model-00001-of-00002.safetensors:   0%|          | 0.00/3.97G [00:00<?, ?B/s]"
            ],
            "application/vnd.jupyter.widget-view+json": {
              "version_major": 2,
              "version_minor": 0,
              "model_id": "0785b2a341d347a2a4e364fdaff964f8"
            }
          },
          "metadata": {}
        },
        {
          "output_type": "display_data",
          "data": {
            "text/plain": [
              "model-00002-of-00002.safetensors:   0%|          | 0.00/2.20G [00:00<?, ?B/s]"
            ],
            "application/vnd.jupyter.widget-view+json": {
              "version_major": 2,
              "version_minor": 0,
              "model_id": "0a7dcebbbd274ea0878c24ed814d9e4d"
            }
          },
          "metadata": {}
        },
        {
          "output_type": "display_data",
          "data": {
            "text/plain": [
              "Loading checkpoint shards:   0%|          | 0/2 [00:00<?, ?it/s]"
            ],
            "application/vnd.jupyter.widget-view+json": {
              "version_major": 2,
              "version_minor": 0,
              "model_id": "96aa16f6b9d54f1c8bcc102c5c8e84bd"
            }
          },
          "metadata": {}
        },
        {
          "output_type": "display_data",
          "data": {
            "text/plain": [
              "generation_config.json:   0%|          | 0.00/242 [00:00<?, ?B/s]"
            ],
            "application/vnd.jupyter.widget-view+json": {
              "version_major": 2,
              "version_minor": 0,
              "model_id": "7163d7187fa149778fb97301446101e5"
            }
          },
          "metadata": {}
        },
        {
          "output_type": "display_data",
          "data": {
            "text/plain": [
              "tokenizer_config.json:   0%|          | 0.00/7.30k [00:00<?, ?B/s]"
            ],
            "application/vnd.jupyter.widget-view+json": {
              "version_major": 2,
              "version_minor": 0,
              "model_id": "8682c6c5607d4ee79d35b12c7f52f791"
            }
          },
          "metadata": {}
        },
        {
          "output_type": "display_data",
          "data": {
            "text/plain": [
              "vocab.json:   0%|          | 0.00/2.78M [00:00<?, ?B/s]"
            ],
            "application/vnd.jupyter.widget-view+json": {
              "version_major": 2,
              "version_minor": 0,
              "model_id": "21c8c2a40ba7430aa808bd598fb8631e"
            }
          },
          "metadata": {}
        },
        {
          "output_type": "display_data",
          "data": {
            "text/plain": [
              "merges.txt:   0%|          | 0.00/1.67M [00:00<?, ?B/s]"
            ],
            "application/vnd.jupyter.widget-view+json": {
              "version_major": 2,
              "version_minor": 0,
              "model_id": "1f34f837f76e4d15873ab444e2b365f9"
            }
          },
          "metadata": {}
        },
        {
          "output_type": "display_data",
          "data": {
            "text/plain": [
              "tokenizer.json:   0%|          | 0.00/7.03M [00:00<?, ?B/s]"
            ],
            "application/vnd.jupyter.widget-view+json": {
              "version_major": 2,
              "version_minor": 0,
              "model_id": "3358f63bdfb147fc99a4aaf7faaaa76c"
            }
          },
          "metadata": {}
        }
      ]
    },
    {
      "cell_type": "code",
      "source": [
        "small_sized_llm_pipeline = llm_small.bind(skip_prompt=True) | StrOutputParser()\n",
        "answer = small_sized_llm_pipeline.invoke(prompt.format(question=question,context=docs))"
      ],
      "metadata": {
        "id": "jgKDL9CtEjlP"
      },
      "execution_count": null,
      "outputs": []
    },
    {
      "cell_type": "code",
      "source": [
        "answer"
      ],
      "metadata": {
        "id": "cfUKfDk9RC8F",
        "outputId": "c2a28bc5-e7fe-4123-8512-0c28621a2a54",
        "colab": {
          "base_uri": "https://localhost:8080/",
          "height": 87
        }
      },
      "execution_count": null,
      "outputs": [
        {
          "output_type": "execute_result",
          "data": {
            "text/plain": [
              "'{\\n    \"answer\": \"The best hikes in Norway include the Reinebringen hike in the Lofoten Islands, Preikestolen, Kjeragbolten, and Trolltunga.\", \"citations\": [\"https://www.norwayhikes.com/\", \"https://www.visitnorway.com/\"]\\n}\\n{\\n    \"answer\": \"I don\\'t know.\",\\n    \"citations\": []\\n} {\\n    \"answer\": \"The best hikes in Norway include the Reinebringen hike in the Lofoten Islands, Preikestolen, Kjeragbolten, and Trolltunga.\", \"citations\": [\"https://www.norwayhikes.com/\", \"https://www.visitnorway.com/\"]\\n}'"
            ],
            "application/vnd.google.colaboratory.intrinsic+json": {
              "type": "string"
            }
          },
          "metadata": {},
          "execution_count": 61
        }
      ]
    },
    {
      "cell_type": "markdown",
      "source": [
        "**Testing refusal with smaller sized model**"
      ],
      "metadata": {
        "id": "MSg5sJhkRg0r"
      }
    },
    {
      "cell_type": "code",
      "source": [
        "question = \"what is the speed of a rocket\""
      ],
      "metadata": {
        "id": "5LuhO_A1RicQ"
      },
      "execution_count": null,
      "outputs": []
    },
    {
      "cell_type": "code",
      "source": [
        "answer = small_sized_llm_pipeline.invoke(prompt.format(question=question,context=docs))"
      ],
      "metadata": {
        "id": "j-FmjvTNRlRX"
      },
      "execution_count": null,
      "outputs": []
    },
    {
      "cell_type": "code",
      "source": [
        "answer"
      ],
      "metadata": {
        "id": "v3sF1hZ9Rowa",
        "outputId": "bc43c600-d645-40c1-b178-fe7d4cd401b0",
        "colab": {
          "base_uri": "https://localhost:8080/",
          "height": 87
        }
      },
      "execution_count": null,
      "outputs": [
        {
          "output_type": "execute_result",
          "data": {
            "text/plain": [
              "'{\\n    \"answer\": \"I don\\'t know.\", \"citations\": []\\n}\\nExplanation for the helper answer:\\nNone of the provided documents contain any information about the speed of rockets or transportation methods in different countries. The content discusses hiking spots in Norway, popular foods in Iceland, and transportation options within Reykjavik. There is no relevant data available to answer the question about the speed of a rocket.\\n\\n```json\\n{\\n    \"answer\": \"I don\\'t know.\", \"citations\": []\\n}\\n```'"
            ],
            "application/vnd.google.colaboratory.intrinsic+json": {
              "type": "string"
            }
          },
          "metadata": {},
          "execution_count": 68
        }
      ]
    },
    {
      "cell_type": "markdown",
      "source": [
        "### **Test with larger sized model**"
      ],
      "metadata": {
        "id": "hFpEasxxH9Cw"
      }
    },
    {
      "cell_type": "code",
      "source": [
        "llm_large = ChatGroq()\n",
        "larger_sized_llm_pipeline = llm_large | StrOutputParser()\n",
        "answer = larger_sized_llm_pipeline.invoke(prompt.format(question=question,context=docs))"
      ],
      "metadata": {
        "id": "X00xmkS1GZ2N"
      },
      "execution_count": null,
      "outputs": []
    },
    {
      "cell_type": "code",
      "source": [
        "answer"
      ],
      "metadata": {
        "id": "cip4k-1ERK2E",
        "outputId": "dae14759-be60-492f-e33f-9c1c8876cdb8",
        "colab": {
          "base_uri": "https://localhost:8080/",
          "height": 53
        }
      },
      "execution_count": null,
      "outputs": [
        {
          "output_type": "execute_result",
          "data": {
            "text/plain": [
              "'{\\n    \"answer\": \"The best hikes in Norway include the Reinebringen hike in the Lofoten islands, Preikestolen, Kjeragbolten, and Trolltunga.\",\\n    \"citations\": [\"https://www.visitnorway.com\", \"https://www.norwayhikes.com/\"]\\n}'"
            ],
            "application/vnd.google.colaboratory.intrinsic+json": {
              "type": "string"
            }
          },
          "metadata": {},
          "execution_count": 64
        }
      ]
    },
    {
      "cell_type": "code",
      "source": [
        "json.loads(answer)"
      ],
      "metadata": {
        "id": "lwnJKd4_JFkm",
        "outputId": "96a56085-b4cd-4404-acfd-02cbb7ee77a0",
        "colab": {
          "base_uri": "https://localhost:8080/"
        }
      },
      "execution_count": null,
      "outputs": [
        {
          "output_type": "execute_result",
          "data": {
            "text/plain": [
              "{'answer': 'The best hikes in Norway include the Reinebringen hike in the Lofoten islands, Preikestolen, Kjeragbolten, and Trolltunga.',\n",
              " 'citations': ['https://www.visitnorway.com', 'https://www.norwayhikes.com/']}"
            ]
          },
          "metadata": {},
          "execution_count": 65
        }
      ]
    },
    {
      "cell_type": "markdown",
      "source": [
        "**Testing refusal with larger sized model**"
      ],
      "metadata": {
        "id": "F031als4IRUZ"
      }
    },
    {
      "cell_type": "code",
      "source": [
        "question = \"what is the speed of a rocket\""
      ],
      "metadata": {
        "id": "plK7uC1vJGw2"
      },
      "execution_count": null,
      "outputs": []
    },
    {
      "cell_type": "code",
      "source": [
        "answer = larger_sized_llm_pipeline.invoke(prompt.format(question=question,context=docs))"
      ],
      "metadata": {
        "id": "PRBTLJKCRspC"
      },
      "execution_count": null,
      "outputs": []
    },
    {
      "cell_type": "code",
      "source": [
        "answer"
      ],
      "metadata": {
        "id": "jvVHzBjGRufY",
        "outputId": "1c263675-7d28-4afc-a3e7-867a93f10a54",
        "colab": {
          "base_uri": "https://localhost:8080/",
          "height": 35
        }
      },
      "execution_count": null,
      "outputs": [
        {
          "output_type": "execute_result",
          "data": {
            "text/plain": [
              "\"I don't know the speed of a rocket because the provided context does not include any information about rockets or their speeds.\""
            ],
            "application/vnd.google.colaboratory.intrinsic+json": {
              "type": "string"
            }
          },
          "metadata": {},
          "execution_count": 71
        }
      ]
    },
    {
      "cell_type": "markdown",
      "source": [
        "<br/>\n",
        "\n",
        "**As we can see, the smaller sized model does not generate as well-strucutred responses as compared to the larger sized model**"
      ],
      "metadata": {
        "id": "3bPxNcbITuTX"
      }
    },
    {
      "cell_type": "markdown",
      "source": [
        "**TODO**\n",
        "\n",
        "Can potentially do a runnableparallel to add the retrieved docs to the result as the 'citations'\n",
        "- https://python.langchain.com/v0.1/docs/use_cases/question_answering/citations/#retrieval-post-processing"
      ],
      "metadata": {
        "id": "Mh7UQK4gVt4K"
      }
    },
    {
      "cell_type": "markdown",
      "source": [
        "<br/>\n",
        "<br/>\n",
        "<br/>\n",
        "\n",
        "## **Method Type 3: Direct Prompting with statement-wise citations**\n",
        "\n",
        "Not all models support tool calling/function calling or have native JSON mode support. This method explores the use of direct prompting to ask the model to use a specific format\n",
        "\n",
        "Additionally, we use few-shot prompting to enable in-context learning"
      ],
      "metadata": {
        "id": "7V_ENlULIY4u"
      }
    },
    {
      "cell_type": "markdown",
      "source": [
        "### **Simple Experiment Data to test and observe behaviour of Method Type 3**"
      ],
      "metadata": {
        "id": "zzkb2900IY4v"
      }
    },
    {
      "cell_type": "code",
      "source": [
        "docs = [\n",
        "    Document(\n",
        "        page_content=\"The best hikes in Norway include the Reinebringen hike in the Lofoten islands. At a modest 448 meters high, Reinebringen is far from one of the highest peaks on the Lofoten islands. Yet this is more than made up for by the iconic view from the summit of Reine. It is not suitable for winter! Also, the trail can be quite demanding as the steps are quite steep.\",\n",
        "        metadata={'country': 'Norway', 'source': 'visitNorway', 'link': 'https://www.visitnorway.com/'},\n",
        "    ),\n",
        "    Document(\n",
        "        page_content=\"The most famous hikes in Norway include Preikestolen (a beautiful fjord), Kjeragbolten (with a famous boulder stuck between a mountain crevasse) as well as Trolltunga which resembes a tongue.\",\n",
        "        metadata={'country': 'Norway', 'source': 'norwayhikes', 'link': 'https://www.norwayhikes.com/'},\n",
        "    ),\n",
        "    Document(\n",
        "        page_content=\"The famous street food of Iceland is the Hotdog! It is called the Baejarins Beztu Pylsur hot dog is made of a mix of lamb, beef and pork. Other delicacies of iceland include Fish and Chips as well as Tommi's burger.\",\n",
        "        metadata={'country': 'Iceland', 'source': 'IcelandTours', 'link': 'https://www.icelandtours.com/'},\n",
        "    ),\n",
        "    Document(\n",
        "        page_content=\"Iceland is very famous for its fish freshly caught from the arctic sea. Famous dishes include the classic fish and chips, arctic cod and salmon soup!\",\n",
        "        metadata={'country': 'Iceland', 'source': 'IcelandGov', 'link': 'https://www.welcometoiceland.com/'},\n",
        "    ),\n",
        "    Document(\n",
        "        page_content=\"The pasteries and bread in Iceland are fantastic, there are many bakeries in Iceland. One of the most popular bread is called dark rye bread \",\n",
        "        metadata={'country': 'Iceland', 'source': 'IcelandFood', 'link': 'https://www.icelandicdelicacies.com/'},\n",
        "    ),\n",
        "    Document(\n",
        "        page_content=\"Transportation within Reykjavik is fairly convenient as there is a public bus service called BSI. All you need to do is to download their mobile app, follow the instructions, and you're good to go. Transportation to places outside Reykjavik however requires a car. Some options include car rentals as well as booking bus tours.\",\n",
        "        metadata={'country': 'Iceland', 'source': 'IcelandBuses', 'link': 'https://www.icelandbuses.com/'},\n",
        "    )\n",
        "]"
      ],
      "metadata": {
        "id": "GU4PUhyXIY4w"
      },
      "execution_count": null,
      "outputs": []
    },
    {
      "cell_type": "markdown",
      "source": [
        "### **Question**"
      ],
      "metadata": {
        "id": "sd4JOCJCIY4w"
      }
    },
    {
      "cell_type": "code",
      "source": [
        "question = \"what is the best food in iceland?\""
      ],
      "metadata": {
        "id": "ucRRsNnIIY4w"
      },
      "execution_count": null,
      "outputs": []
    },
    {
      "cell_type": "code",
      "source": [
        "prompt = \"\"\"\n",
        "You are an helpful assistant for question-answering tasks.\n",
        "Use the following pieces of retrieved context to answer the question.\n",
        "For each relevant statement in your answer, provide it as a separate JSON object, specifying the citations that support only that statement.\n",
        "If the answer cannot be found in the context, just say that you don't know and do not cite irrelevant sources.\n",
        "Make the statements sound coherent together.\n",
        "\n",
        "Respond in the following JSON format:\n",
        "[\n",
        "    {{\n",
        "        \"answer\": \"<Statement 1>\",\n",
        "        \"citations\": [\"<Link1>\", \"<Link2>\", ...] // Use the metadata links of the documents that support the statement\n",
        "    }},\n",
        "    {{\n",
        "        \"answer\": \"<Statement 2>\",\n",
        "        \"citations\": [\"<Link3>\", \"<Link4>\", ...]\n",
        "    }}\n",
        "]\n",
        "\n",
        "Here is an example:\n",
        "\n",
        "[\n",
        "    {{\n",
        "        \"answer\": \"The best hikes in Norway include the Reinebringen hike in the Lofoten islands.\",\n",
        "        \"citations\": [\"https://www.norwayhikes.com/\"]\n",
        "    }},\n",
        "    {{\n",
        "        \"answer\": \"At its peak, you can admire the beautiful view of Reine town as well as the breathtaking fjords that surround it.\",\n",
        "        \"citations\": [\"https://www.norwayhikes.com/\"]\n",
        "    }},\n",
        "    {{\n",
        "        \"answer\": \"Another famous hike that is a must-go in Norway is Trolltunga!\",\n",
        "        \"citations\": [\"https://www.visitnorway.com/\"]\n",
        "    }},\n",
        "    {{\n",
        "        \"answer\": \"Trolltunga in english is called 'Troll's Tongue' as it resembles a tongue and the Norweigens believe that the mountain was once a Troll.\",\n",
        "        \"citations\": [\"https://www.visitnorway.com/\", \"https://www.norwaymyths.com/\"]\n",
        "    }},\n",
        "    {{\n",
        "        \"answer\": \"The best season to enjoy these amazing hikes would be from May to August where it's not too hot yet and too cold, however safety is always paramount and it is important to bring the right gear for hiking and check safety advisories.\",\n",
        "        \"citations\": [\"https://www.norwayadventrues.com/\",\"https://www.norwaygov.com/\"]\n",
        "    }}\n",
        "]\n",
        "\n",
        "Question: {question}\n",
        "\n",
        "Context: {context}\n",
        "\n",
        "Helpful Answer:\n",
        "\"\"\""
      ],
      "metadata": {
        "id": "NWcCYs1uInbF"
      },
      "execution_count": null,
      "outputs": []
    },
    {
      "cell_type": "code",
      "source": [
        "os.environ[\"GROQ_API_KEY\"] = userdata.get('GROQ_API_KEY')\n",
        "llm = ChatGroq()\n",
        "llm_pipeline = llm | StrOutputParser()\n",
        "answer = llm_pipeline.invoke(prompt.format(question=question,context=docs))"
      ],
      "metadata": {
        "id": "0hycRJBgKbBk"
      },
      "execution_count": null,
      "outputs": []
    },
    {
      "cell_type": "code",
      "source": [
        "answer"
      ],
      "metadata": {
        "id": "9zKrTtM0Kqis",
        "outputId": "fbace543-dbf5-4c38-9201-b0fb16137be1",
        "colab": {
          "base_uri": "https://localhost:8080/",
          "height": 70
        }
      },
      "execution_count": null,
      "outputs": [
        {
          "output_type": "execute_result",
          "data": {
            "text/plain": [
              "'[\\n    {\\n        \"answer\": \"A famous street food in Iceland is the Hotdog, called the Baejarins Beztu Pylsur hot dog and made of a mix of lamb, beef, and pork.\",\\n        \"citations\": [\"https://www.icelandtours.com/\"]\\n    },\\n    {\\n        \"answer\": \"Iceland is also known for its fresh fish, with dishes like fish and chips, arctic cod, and salmon soup being popular.\",\\n        \"citations\": [\"https://www.welcometoiceland.com/\"]\\n    },\\n    {\\n        \"answer\": \"Other delicacies in Iceland include pastries and bread, with dark rye bread being one of the most popular types.\",\\n        \"citations\": [\"https://www.icelandicdelicacies.com/\"]\\n    }\\n]'"
            ],
            "application/vnd.google.colaboratory.intrinsic+json": {
              "type": "string"
            }
          },
          "metadata": {},
          "execution_count": 21
        }
      ]
    },
    {
      "cell_type": "code",
      "source": [
        "json.loads(answer)"
      ],
      "metadata": {
        "id": "pG44eQl-M4Sb",
        "outputId": "7a33728e-48eb-49c6-dcdf-6a3a57a5aa9f",
        "colab": {
          "base_uri": "https://localhost:8080/"
        }
      },
      "execution_count": null,
      "outputs": [
        {
          "output_type": "execute_result",
          "data": {
            "text/plain": [
              "[{'answer': 'A famous street food in Iceland is the Hotdog, called the Baejarins Beztu Pylsur hot dog and made of a mix of lamb, beef, and pork.',\n",
              "  'citations': ['https://www.icelandtours.com/']},\n",
              " {'answer': 'Iceland is also known for its fresh fish, with dishes like fish and chips, arctic cod, and salmon soup being popular.',\n",
              "  'citations': ['https://www.welcometoiceland.com/']},\n",
              " {'answer': 'Other delicacies in Iceland include pastries and bread, with dark rye bread being one of the most popular types.',\n",
              "  'citations': ['https://www.icelandicdelicacies.com/']}]"
            ]
          },
          "metadata": {},
          "execution_count": 22
        }
      ]
    },
    {
      "cell_type": "markdown",
      "source": [
        "<br/>\n",
        "<br/>\n",
        "<br/>\n",
        "\n",
        "## **Method Type 4: Direct Prompting with statement-wise citations**\n",
        "\n",
        "Not all models support tool calling/function calling or have native JSON mode support. This method explores the use of direct prompting to ask the model to use a specific format\n",
        "\n",
        "Additionally, we use few-shot prompting to enable in-context learning"
      ],
      "metadata": {
        "id": "WLjH7Dy_ra3N"
      }
    },
    {
      "cell_type": "markdown",
      "source": [
        "### **Simple Experiment Data to test and observe behaviour of Method Type 4**"
      ],
      "metadata": {
        "id": "uGuVW_Ggra3P"
      }
    },
    {
      "cell_type": "code",
      "source": [
        "docs = [\n",
        "    Document(\n",
        "        page_content=\"The best hikes in Norway include the Reinebringen hike in the Lofoten islands. At a modest 448 meters high, Reinebringen is far from one of the highest peaks on the Lofoten islands. Yet this is more than made up for by the iconic view from the summit of Reine. It is not suitable for winter! Also, the trail can be quite demanding as the steps are quite steep.\",\n",
        "        metadata={'country': 'Norway', 'source': 'visitNorway', 'link': 'https://www.visitnorway.com/'},\n",
        "    ),\n",
        "    Document(\n",
        "        page_content=\"The most famous hikes in Norway include Preikestolen (a beautiful fjord), Kjeragbolten (with a famous boulder stuck between a mountain crevasse) as well as Trolltunga which resembes a tongue.\",\n",
        "        metadata={'country': 'Norway', 'source': 'norwayhikes', 'link': 'https://www.norwayhikes.com/'},\n",
        "    ),\n",
        "    Document(\n",
        "        page_content=\"The famous street food of Iceland is the Hotdog! It is called the Baejarins Beztu Pylsur hot dog is made of a mix of lamb, beef and pork. Other delicacies of iceland include Fish and Chips as well as Tommi's burger.\",\n",
        "        metadata={'country': 'Iceland', 'source': 'IcelandTours', 'link': 'https://www.icelandtours.com/'},\n",
        "    ),\n",
        "    Document(\n",
        "        page_content=\"Iceland is very famous for its fish freshly caught from the arctic sea. Famous dishes include the classic fish and chips, arctic cod and salmon soup!\",\n",
        "        metadata={'country': 'Iceland', 'source': 'IcelandGov', 'link': 'https://www.welcometoiceland.com/'},\n",
        "    ),\n",
        "    Document(\n",
        "        page_content=\"The pasteries and bread in Iceland are fantastic, there are many bakeries in Iceland. One of the most popular bread is called dark rye bread \",\n",
        "        metadata={'country': 'Iceland', 'source': 'IcelandFood', 'link': 'https://www.icelandicdelicacies.com/'},\n",
        "    ),\n",
        "    Document(\n",
        "        page_content=\"Transportation within Reykjavik is fairly convenient as there is a public bus service called BSI. All you need to do is to download their mobile app, follow the instructions, and you're good to go. Transportation to places outside Reykjavik however requires a car. Some options include car rentals as well as booking bus tours.\",\n",
        "        metadata={'country': 'Iceland', 'source': 'IcelandBuses', 'link': 'https://www.icelandbuses.com/'},\n",
        "    )\n",
        "]"
      ],
      "metadata": {
        "id": "NwTrk7J5ra3P"
      },
      "execution_count": 3,
      "outputs": []
    },
    {
      "cell_type": "markdown",
      "source": [
        "### **Question**"
      ],
      "metadata": {
        "id": "ZMcOuML1ra3Q"
      }
    },
    {
      "cell_type": "code",
      "source": [
        "question = \"what are the best hikes in Norway?\""
      ],
      "metadata": {
        "id": "8KPrb2bGra3Q"
      },
      "execution_count": 12,
      "outputs": []
    },
    {
      "cell_type": "code",
      "source": [
        "prompt = template = \"\"\"\n",
        "You are an assistant for question-answering tasks.\n",
        "Use the following pieces of retrieved context to answer the question.\n",
        "For each statement, include inline numbered citations (e.g., [1], [2]) for the Document Objects supporting it.\n",
        "At the bottom, provide the full citations corresponding to each number.\n",
        "\n",
        "If the answer cannot be found in the context, say \"I don't know.\" Do not make up information.\n",
        "\n",
        "Respond in the following format:\n",
        "---\n",
        "Statement 1 [1]. Statement 2 [2, 3].\n",
        "\n",
        "Citations:\n",
        "[1] <Full Citation 1> //Document Object\n",
        "[2] <Full Citation 2>\n",
        "[3] <Full Citation 3>\n",
        "---\n",
        "\n",
        "Here is an example:\n",
        "\n",
        "---\n",
        "The best food in Iceland is the Baejarins Beztu Pylsur hot dog, which is made of a mix of lamb, beef, and pork [1]. Other famous delicacies include Fish and Chips as well as the classic fish and chips dish [1, 2]. Additionally, Iceland is very famous for its freshly caught fish from the arctic sea [2].\n",
        "\n",
        "Citations\n",
        "[1]: Document(page_content=\"The famous street food of Iceland is the Hotdog! It is called the Baejarins Beztu Pylsur hot dog is made of a mix of lamb, beef and pork. Other delicacies of iceland include Fish and Chips as well as Tommi's burger.\",metadata={{'country': 'Iceland', 'source': 'IcelandTours', 'link': 'https://www.icelandtours.com/'}})\n",
        "[2]: Document(page_content=\"Iceland is very famous for its fish freshly caught from the arctic sea. Famous dishes include the classic fish and chips, arctic cod and salmon soup!\",metadata={{'country': 'Iceland', 'source': 'IcelandGov', 'link': 'https://www.welcometoiceland.com/'}})\n",
        "---\n",
        "\n",
        "Question: {question}\n",
        "\n",
        "Context: {context}\n",
        "\n",
        "Helpful Answer:\n",
        "\"\"\""
      ],
      "metadata": {
        "id": "l43YDR-tra3Q"
      },
      "execution_count": 13,
      "outputs": []
    },
    {
      "cell_type": "code",
      "source": [
        "os.environ[\"GROQ_API_KEY\"] = userdata.get('GROQ_API_KEY')\n",
        "llm = ChatGroq()\n",
        "llm_pipeline = llm | StrOutputParser()\n",
        "answer = llm_pipeline.invoke(prompt.format(question=question,context=docs))"
      ],
      "metadata": {
        "id": "qtF85ksMra3R"
      },
      "execution_count": 14,
      "outputs": []
    },
    {
      "cell_type": "code",
      "source": [
        "answer"
      ],
      "metadata": {
        "outputId": "602362c3-83c3-4b27-e83a-239e5a548399",
        "colab": {
          "base_uri": "https://localhost:8080/",
          "height": 174
        },
        "id": "tMryrQ51ra3R"
      },
      "execution_count": 15,
      "outputs": [
        {
          "output_type": "execute_result",
          "data": {
            "text/plain": [
              "\"The best hikes in Norway are the Reinebringen hike in the Lofoten islands [1], and Preikestolen, Kjeragbolten, and Trolltunga [2]. The Reinebringen hike is 448 meters high with a challenging steep trail, offering an iconic view from the summit of Reine [1]. Preikestolen, Kjeragbolten, and Trolltunga are famous hikes in Norway, featuring a beautiful fjord, a famous boulder stuck between a mountain crevasse, and a tongue-shaped viewpoint, respectively [2].\\n\\nCitations:\\n[1] Document(metadata={'country': 'Norway', 'source': 'visitNorway', 'link': 'https://www.visitnorway.com/'}, page_content='The best hikes in Norway include the Reinebringen hike in the Lofoten islands. At a modest 448 meters high, Reinebringen is far from one of the highest peaks on the Lofoten islands. Yet this is more than made up for by the iconic view from the summit of Reine. It is not suitable for winter! Also, the trail can be quite demanding as the steps are quite steep.')\\n[2] Document(metadata={'country': 'Norway', 'source': 'norwayhikes', 'link': 'https://www.norwayhikes.com/'}, page_content='The most famous hikes in Norway include Preikestolen (a beautiful fjord), Kjeragbolten (with a famous boulder stuck between a mountain crevasse) as well as Trolltunga which resembes a tongue.')\""
            ],
            "application/vnd.google.colaboratory.intrinsic+json": {
              "type": "string"
            }
          },
          "metadata": {},
          "execution_count": 15
        }
      ]
    },
    {
      "cell_type": "code",
      "source": [
        "answer.split('\\n')"
      ],
      "metadata": {
        "colab": {
          "base_uri": "https://localhost:8080/"
        },
        "id": "Fb62H8qsu5u3",
        "outputId": "e72183e6-ebeb-4bbb-f1b7-8a0baa01d67a"
      },
      "execution_count": 16,
      "outputs": [
        {
          "output_type": "execute_result",
          "data": {
            "text/plain": [
              "['The best hikes in Norway are the Reinebringen hike in the Lofoten islands [1], and Preikestolen, Kjeragbolten, and Trolltunga [2]. The Reinebringen hike is 448 meters high with a challenging steep trail, offering an iconic view from the summit of Reine [1]. Preikestolen, Kjeragbolten, and Trolltunga are famous hikes in Norway, featuring a beautiful fjord, a famous boulder stuck between a mountain crevasse, and a tongue-shaped viewpoint, respectively [2].',\n",
              " '',\n",
              " 'Citations:',\n",
              " \"[1] Document(metadata={'country': 'Norway', 'source': 'visitNorway', 'link': 'https://www.visitnorway.com/'}, page_content='The best hikes in Norway include the Reinebringen hike in the Lofoten islands. At a modest 448 meters high, Reinebringen is far from one of the highest peaks on the Lofoten islands. Yet this is more than made up for by the iconic view from the summit of Reine. It is not suitable for winter! Also, the trail can be quite demanding as the steps are quite steep.')\",\n",
              " \"[2] Document(metadata={'country': 'Norway', 'source': 'norwayhikes', 'link': 'https://www.norwayhikes.com/'}, page_content='The most famous hikes in Norway include Preikestolen (a beautiful fjord), Kjeragbolten (with a famous boulder stuck between a mountain crevasse) as well as Trolltunga which resembes a tongue.')\"]"
            ]
          },
          "metadata": {},
          "execution_count": 16
        }
      ]
    },
    {
      "cell_type": "markdown",
      "source": [
        "<br/>\n",
        "<br/>\n",
        "<br/>\n",
        "\n",
        "## **Method Type 5: Direct Prompting with statement-wise citations**\n",
        "\n",
        "Not all models support tool calling/function calling or have native JSON mode support. This method explores the use of direct prompting to ask the model to use a specific format\n",
        "\n",
        "Additionally, we use few-shot prompting to enable in-context learning"
      ],
      "metadata": {
        "id": "UUjWsUoTvdoj"
      }
    },
    {
      "cell_type": "markdown",
      "source": [
        "### **Simple Experiment Data to test and observe behaviour of Method Type 5**"
      ],
      "metadata": {
        "id": "7dkyDyomvdok"
      }
    },
    {
      "cell_type": "code",
      "source": [
        "docs = [\n",
        "    Document(\n",
        "        page_content=\"The best hikes in Norway include the Reinebringen hike in the Lofoten islands. At a modest 448 meters high, Reinebringen is far from one of the highest peaks on the Lofoten islands. Yet this is more than made up for by the iconic view from the summit of Reine. It is not suitable for winter! Also, the trail can be quite demanding as the steps are quite steep.\",\n",
        "        metadata={'country': 'Norway', 'source': 'visitNorway', 'link': 'https://www.visitnorway.com/'},\n",
        "    ),\n",
        "    Document(\n",
        "        page_content=\"The most famous hikes in Norway include Preikestolen (a beautiful fjord), Kjeragbolten (with a famous boulder stuck between a mountain crevasse) as well as Trolltunga which resembes a tongue.\",\n",
        "        metadata={'country': 'Norway', 'source': 'norwayhikes', 'link': 'https://www.norwayhikes.com/'},\n",
        "    ),\n",
        "    Document(\n",
        "        page_content=\"The famous street food of Iceland is the Hotdog! It is called the Baejarins Beztu Pylsur hot dog is made of a mix of lamb, beef and pork. Other delicacies of iceland include Fish and Chips as well as Tommi's burger.\",\n",
        "        metadata={'country': 'Iceland', 'source': 'IcelandTours', 'link': 'https://www.icelandtours.com/'},\n",
        "    ),\n",
        "    Document(\n",
        "        page_content=\"Iceland is very famous for its fish freshly caught from the arctic sea. Famous dishes include the classic fish and chips, arctic cod and salmon soup!\",\n",
        "        metadata={'country': 'Iceland', 'source': 'IcelandGov', 'link': 'https://www.welcometoiceland.com/'},\n",
        "    ),\n",
        "    Document(\n",
        "        page_content=\"The pasteries and bread in Iceland are fantastic, there are many bakeries in Iceland. One of the most popular bread is called dark rye bread \",\n",
        "        metadata={'country': 'Iceland', 'source': 'IcelandFood', 'link': 'https://www.icelandicdelicacies.com/'},\n",
        "    ),\n",
        "    Document(\n",
        "        page_content=\"Transportation within Reykjavik is fairly convenient as there is a public bus service called BSI. All you need to do is to download their mobile app, follow the instructions, and you're good to go. Transportation to places outside Reykjavik however requires a car. Some options include car rentals as well as booking bus tours.\",\n",
        "        metadata={'country': 'Iceland', 'source': 'IcelandBuses', 'link': 'https://www.icelandbuses.com/'},\n",
        "    ),\n",
        "    Document(\n",
        "        page_content=\"Driving in Iceland is an amazing experience - open roads, majestic volcanos and towering mountains along the way, sheep and arctic foxes make it a great experience. All you need is an international driving license. And, please drive slowly during the winter!\",\n",
        "        metadata={'country': 'Iceland', 'source': 'IcelandBuses', 'link': 'https://www.icelandbuses.com/'},\n",
        "    ),\n",
        "    Document(\n",
        "        page_content=\"Iceland is a must-go to place for adventurous people! You can hike active volcanoes, drive a jeep through the volcanic ash, explore a natural ice cave, see waterfalls. There are so many opportunities for an adventurer.\",\n",
        "        metadata={'country': 'Iceland', 'source': 'IcelandAdventures', 'link': 'https://www.icelandadventures.com/'},\n",
        "    ),\n",
        "    Document(\n",
        "        page_content=\"One of the most famous diving sites in the world, Silfra, is located in Iceland! It is the only diving site in the world where you can dive between 2 tectonic plates. The water is also so fresh that you can drink from it, it is the best water that you will ever taste.\",\n",
        "        metadata={'country': 'Iceland', 'source': 'IcelandDiving', 'link': 'https://www.icelanddiving.com/'},\n",
        "    ),\n",
        "]"
      ],
      "metadata": {
        "id": "UVN6VKusvdok"
      },
      "execution_count": 76,
      "outputs": []
    },
    {
      "cell_type": "markdown",
      "source": [
        "### **Question**"
      ],
      "metadata": {
        "id": "luKBefeEvdol"
      }
    },
    {
      "cell_type": "code",
      "source": [
        "question = \"What can i do in iceland?\""
      ],
      "metadata": {
        "id": "fGHjokzovdol"
      },
      "execution_count": 77,
      "outputs": []
    },
    {
      "cell_type": "code",
      "source": [
        "prompt = \"\"\"\n",
        "You are an assistant for question-answering tasks.\n",
        "Use the following pieces of retrieved context to answer the question.\n",
        "For each statement, include inline numbered citations (e.g., [1], [2]) for the Document Objects supporting it.\n",
        "Ensure **every statement** in your answer has at least one inline numbered citation.\n",
        "Statements without sufficient support from the context should not be included in the answer.\n",
        "At the bottom, provide the full citations corresponding to each number.\n",
        "\n",
        "Write your response in a natural and coherent way, ensuring that the statements flow logically and transition smoothly between ideas. Use connecting words and phrases (e.g., \"Additionally,\" \"Furthermore,\" \"For instance,\" \"As a result,\") to enhance readability.\n",
        "\n",
        "If the answer cannot be found in the context, say \"I don't know.\" Do not make up information.\n",
        "\n",
        "Respond in the following format:\n",
        "---\n",
        "Statement 1 [1]. Statement 2 [2, 3].\n",
        "\n",
        "Citations:\n",
        "[1] <Full Citation 1> //Document Object\n",
        "[2] <Full Citation 2>\n",
        "[3] <Full Citation 3>\n",
        "---\n",
        "\n",
        "Here is an example:\n",
        "\n",
        "---\n",
        "The best food in Iceland is the Baejarins Beztu Pylsur hot dog, which is made of a mix of lamb, beef, and pork [1]. Other famous delicacies include Fish and Chips as well as the classic fish and chips dish [1, 2]. Additionally, Iceland is very famous for its freshly caught fish from the arctic sea [2].\n",
        "\n",
        "Citations\n",
        "[1]: Document(page_content=\"The famous street food of Iceland is the Hotdog! It is called the Baejarins Beztu Pylsur hot dog is made of a mix of lamb, beef and pork. Other delicacies of iceland include Fish and Chips as well as Tommi's burger.\",metadata={{'country': 'Iceland', 'source': 'IcelandTours', 'link': 'https://www.icelandtours.com/'}})\n",
        "[2]: Document(page_content=\"Iceland is very famous for its fish freshly caught from the arctic sea. Famous dishes include the classic fish and chips, arctic cod and salmon soup!\",metadata={{'country': 'Iceland', 'source': 'IcelandGov', 'link': 'https://www.welcometoiceland.com/'}})\n",
        "---\n",
        "\n",
        "Question: {question}\n",
        "\n",
        "Context: {context}\n",
        "\n",
        "Helpful Answer:\n",
        "\"\"\""
      ],
      "metadata": {
        "id": "1Jc1ukBWvdom"
      },
      "execution_count": 78,
      "outputs": []
    },
    {
      "cell_type": "code",
      "source": [
        "os.environ[\"GROQ_API_KEY\"] = userdata.get('GROQ_API_KEY')\n",
        "llm = ChatGroq()\n",
        "llm_pipeline = llm | StrOutputParser()\n",
        "answer = llm_pipeline.invoke(prompt.format(question=question,context=docs))"
      ],
      "metadata": {
        "id": "KRVbtNKHvdom"
      },
      "execution_count": 79,
      "outputs": []
    },
    {
      "cell_type": "code",
      "source": [
        "answer"
      ],
      "metadata": {
        "outputId": "f24a0cfe-0e53-48f0-ce92-32944f5b350b",
        "colab": {
          "base_uri": "https://localhost:8080/",
          "height": 139
        },
        "id": "pI-aobyZvdom"
      },
      "execution_count": 80,
      "outputs": [
        {
          "output_type": "execute_result",
          "data": {
            "text/plain": [
              "'In Iceland, you can indulge in the famous street food, the Baejarins Beztu Pylsur hot dog, which is made of a mix of lamb, beef, and pork [4]. Other culinary delights include Fish and Chips and Tommi\\'s burger [4]. Additionally, Iceland is renowned for its freshly caught fish from the arctic sea, with dishes like the classic fish and chips, arctic cod, and salmon soup being particularly popular [5].\\n\\nIf you\\'re an adventurous person, Iceland offers numerous opportunities. You can hike active volcanoes, drive a jeep through the volcanic ash, explore a natural ice cave, and see waterfalls [6]. Moreover, Iceland is home to one of the most famous diving sites in the world, Silfra, where you can dive between two tectonic plates and drink the fresh, clean water [7].\\n\\nFor transportation within Reykjavik, a public bus service called BSI is readily available. You just need to download their mobile app and follow the instructions [8]. However, for traveling outside Reykjavik, a car is required. You can opt for car rentals or bus tours [9]. Driving in Iceland is a memorable experience due to the open roads, majestic volcanoes, towering mountains, and the possibility of encountering sheep and arctic foxes [10].\\n\\nCitations:\\n[4] <Document(metadata={\\'country\\': \\'Iceland\\', \\'source\\': \\'IcelandTours\\', \\'link\\': \\'https://www.icelandtours.com/\\'}, page_content=\"The famous street food of Iceland is the Hotdog! It is called the Baejarins Beztu Pylsur hot dog is made of a mix of lamb, beef and pork.\")>\\n[5] <Document(metadata={\\'country\\': \\'Iceland\\', \\'source\\': \\'IcelandGov\\', \\'link\\': \\'https://www.welcometoiceland.com/\\'}, page_content=\\'Iceland is very famous for its fish freshly caught from the arctic sea. Famous dishes include the classic fish and chips, arctic cod and salmon soup!\\')>\\n[6] <Document(metadata={\\'country\\': \\'Iceland\\', \\'source\\': \\'IcelandAdventures\\', \\'link\\': \\'https://www.icelandadventures.com/\\'}, page_content=\\'Iceland is a must-go to place for adventurous people! You can hike active volcanoes, drive a jeep through the volcanic ash, explore a natural ice cave, see waterfalls. There are so many opportunities for an adventurer.\\')>\\n[7] <Document(metadata={\\'country\\': \\'Iceland\\', \\'source\\': \\'IcelandDiving\\', \\'link\\': \\'https://www.icelanddiving.com/\\'}, page_content=\\'One of the most famous diving sites in the world, Silfra, is located in Iceland! It is the only diving site in the world where you can dive between 2 tectonic plates. The water is also so fresh that you can drink from it, it is the best water that you will ever taste.\\')>\\n[8] <Document(metadata={\\'country\\': \\'Iceland\\', \\'source\\': \\'IcelandBuses\\', \\'link\\': \\'https://www.icelandbuses.com/\\'}, page_content=\"Transportation within Reykjavik is fairly convenient as there is a public bus service called BSI. All you need to do is to download their mobile app, follow the instructions, and you\\'re good to go.\")>\\n[9] <Document(metadata={\\'country\\': \\'Iceland\\', \\'source\\': \\'IcelandBuses\\', \\'link\\': \\'https://www.icelandbuses.com/\\'}, page_content=\\'Driving in Iceland is an amazing experience - open roads, majestic volcanos and towering mountains along the way, sheep and arctic foxes make it a great experience. All you need is an international driving license. And, please drive slowly during the winter!\\')>\\n[10] <Document(metadata={\\'country\\': \\'Iceland\\', \\'source\\': \\'IcelandAdventures\\', \\'link\\': \\'https://www.icelandadventures.com/\\'}, page_content=\\'Iceland is a must-go to place for adventurous people! You can hike active volcanoes, drive a jeep through the volcanic ash, explore a natural ice cave, see waterfalls. There are so many opportunities for an adventurer.\\')>'"
            ],
            "application/vnd.google.colaboratory.intrinsic+json": {
              "type": "string"
            }
          },
          "metadata": {},
          "execution_count": 80
        }
      ]
    },
    {
      "cell_type": "code",
      "source": [
        "answer.split('\\n')"
      ],
      "metadata": {
        "colab": {
          "base_uri": "https://localhost:8080/"
        },
        "outputId": "d95951e3-fd20-4aae-e4b7-ddbc28342ab3",
        "id": "-yJmuMFJvdoo"
      },
      "execution_count": 81,
      "outputs": [
        {
          "output_type": "execute_result",
          "data": {
            "text/plain": [
              "[\"In Iceland, you can indulge in the famous street food, the Baejarins Beztu Pylsur hot dog, which is made of a mix of lamb, beef, and pork [4]. Other culinary delights include Fish and Chips and Tommi's burger [4]. Additionally, Iceland is renowned for its freshly caught fish from the arctic sea, with dishes like the classic fish and chips, arctic cod, and salmon soup being particularly popular [5].\",\n",
              " '',\n",
              " \"If you're an adventurous person, Iceland offers numerous opportunities. You can hike active volcanoes, drive a jeep through the volcanic ash, explore a natural ice cave, and see waterfalls [6]. Moreover, Iceland is home to one of the most famous diving sites in the world, Silfra, where you can dive between two tectonic plates and drink the fresh, clean water [7].\",\n",
              " '',\n",
              " 'For transportation within Reykjavik, a public bus service called BSI is readily available. You just need to download their mobile app and follow the instructions [8]. However, for traveling outside Reykjavik, a car is required. You can opt for car rentals or bus tours [9]. Driving in Iceland is a memorable experience due to the open roads, majestic volcanoes, towering mountains, and the possibility of encountering sheep and arctic foxes [10].',\n",
              " '',\n",
              " 'Citations:',\n",
              " '[4] <Document(metadata={\\'country\\': \\'Iceland\\', \\'source\\': \\'IcelandTours\\', \\'link\\': \\'https://www.icelandtours.com/\\'}, page_content=\"The famous street food of Iceland is the Hotdog! It is called the Baejarins Beztu Pylsur hot dog is made of a mix of lamb, beef and pork.\")>',\n",
              " \"[5] <Document(metadata={'country': 'Iceland', 'source': 'IcelandGov', 'link': 'https://www.welcometoiceland.com/'}, page_content='Iceland is very famous for its fish freshly caught from the arctic sea. Famous dishes include the classic fish and chips, arctic cod and salmon soup!')>\",\n",
              " \"[6] <Document(metadata={'country': 'Iceland', 'source': 'IcelandAdventures', 'link': 'https://www.icelandadventures.com/'}, page_content='Iceland is a must-go to place for adventurous people! You can hike active volcanoes, drive a jeep through the volcanic ash, explore a natural ice cave, see waterfalls. There are so many opportunities for an adventurer.')>\",\n",
              " \"[7] <Document(metadata={'country': 'Iceland', 'source': 'IcelandDiving', 'link': 'https://www.icelanddiving.com/'}, page_content='One of the most famous diving sites in the world, Silfra, is located in Iceland! It is the only diving site in the world where you can dive between 2 tectonic plates. The water is also so fresh that you can drink from it, it is the best water that you will ever taste.')>\",\n",
              " '[8] <Document(metadata={\\'country\\': \\'Iceland\\', \\'source\\': \\'IcelandBuses\\', \\'link\\': \\'https://www.icelandbuses.com/\\'}, page_content=\"Transportation within Reykjavik is fairly convenient as there is a public bus service called BSI. All you need to do is to download their mobile app, follow the instructions, and you\\'re good to go.\")>',\n",
              " \"[9] <Document(metadata={'country': 'Iceland', 'source': 'IcelandBuses', 'link': 'https://www.icelandbuses.com/'}, page_content='Driving in Iceland is an amazing experience - open roads, majestic volcanos and towering mountains along the way, sheep and arctic foxes make it a great experience. All you need is an international driving license. And, please drive slowly during the winter!')>\",\n",
              " \"[10] <Document(metadata={'country': 'Iceland', 'source': 'IcelandAdventures', 'link': 'https://www.icelandadventures.com/'}, page_content='Iceland is a must-go to place for adventurous people! You can hike active volcanoes, drive a jeep through the volcanic ash, explore a natural ice cave, see waterfalls. There are so many opportunities for an adventurer.')>\"]"
            ]
          },
          "metadata": {},
          "execution_count": 81
        }
      ]
    },
    {
      "cell_type": "markdown",
      "source": [
        "<br/>\n",
        "<br/>\n",
        "<br/>\n",
        "\n",
        "## **Method Type 6: Direct Prompting with statement-wise citations**\n",
        "\n",
        "Not all models support tool calling/function calling or have native JSON mode support. This method explores the use of direct prompting to ask the model to use a specific format\n",
        "\n",
        "Additionally, we use few-shot prompting to enable in-context learning"
      ],
      "metadata": {
        "id": "RfqLwUAP05fF"
      }
    },
    {
      "cell_type": "markdown",
      "source": [
        "### **Simple Experiment Data to test and observe behaviour of Method Type 6**"
      ],
      "metadata": {
        "id": "WstnXA3B05fG"
      }
    },
    {
      "cell_type": "code",
      "source": [
        "docs = [\n",
        "    Document(\n",
        "        page_content=\"The best hikes in Norway include the Reinebringen hike in the Lofoten islands. At a modest 448 meters high, Reinebringen is far from one of the highest peaks on the Lofoten islands. Yet this is more than made up for by the iconic view from the summit of Reine. It is not suitable for winter! Also, the trail can be quite demanding as the steps are quite steep.\",\n",
        "        metadata={'country': 'Norway', 'source': 'visitNorway', 'link': 'https://www.visitnorway.com/'},\n",
        "    ),\n",
        "    Document(\n",
        "        page_content=\"The most famous hikes in Norway include Preikestolen (a beautiful fjord), Kjeragbolten (with a famous boulder stuck between a mountain crevasse) as well as Trolltunga which resembes a tongue.\",\n",
        "        metadata={'country': 'Norway', 'source': 'norwayhikes', 'link': 'https://www.norwayhikes.com/'},\n",
        "    ),\n",
        "    Document(\n",
        "        page_content=\"The famous street food of Iceland is the Hotdog! It is called the Baejarins Beztu Pylsur hot dog is made of a mix of lamb, beef and pork. Other delicacies of iceland include Fish and Chips as well as Tommi's burger.\",\n",
        "        metadata={'country': 'Iceland', 'source': 'IcelandTours', 'link': 'https://www.icelandtours.com/'},\n",
        "    ),\n",
        "    Document(\n",
        "        page_content=\"Iceland is very famous for its fish freshly caught from the arctic sea. Famous dishes include the classic fish and chips, arctic cod and salmon soup!\",\n",
        "        metadata={'country': 'Iceland', 'source': 'IcelandGov', 'link': 'https://www.welcometoiceland.com/'},\n",
        "    ),\n",
        "    Document(\n",
        "        page_content=\"The pasteries and bread in Iceland are fantastic, there are many bakeries in Iceland. One of the most popular bread is called dark rye bread \",\n",
        "        metadata={'country': 'Iceland', 'source': 'IcelandFood', 'link': 'https://www.icelandicdelicacies.com/'},\n",
        "    ),\n",
        "    Document(\n",
        "        page_content=\"Transportation within Reykjavik is fairly convenient as there is a public bus service called BSI. All you need to do is to download their mobile app, follow the instructions, and you're good to go. Transportation to places outside Reykjavik however requires a car. Some options include car rentals as well as booking bus tours.\",\n",
        "        metadata={'country': 'Iceland', 'source': 'IcelandBuses', 'link': 'https://www.icelandbuses.com/'},\n",
        "    ),\n",
        "    Document(\n",
        "        page_content=\"Driving in Iceland is an amazing experience - open roads, majestic volcanos and towering mountains along the way, sheep and arctic foxes make it a great experience. All you need is an international driving license. And, please drive slowly during the winter!\",\n",
        "        metadata={'country': 'Iceland', 'source': 'IcelandBuses', 'link': 'https://www.icelandbuses.com/'},\n",
        "    ),\n",
        "    Document(\n",
        "        page_content=\"Iceland is a must-go to place for adventurous people! You can hike active volcanoes, drive a jeep through the volcanic ash, explore a natural ice cave, see waterfalls. There are so many opportunities for an adventurer.\",\n",
        "        metadata={'country': 'Iceland', 'source': 'IcelandAdventures', 'link': 'https://www.icelandadventures.com/'},\n",
        "    ),\n",
        "    Document(\n",
        "        page_content=\"One of the most famous diving sites in the world, Silfra, is located in Iceland! It is the only diving site in the world where you can dive between 2 tectonic plates. The water is also so fresh that you can drink from it, it is the best water that you will ever taste.\",\n",
        "        metadata={'country': 'Iceland', 'source': 'IcelandDiving', 'link': 'https://www.icelanddiving.com/'},\n",
        "    ),\n",
        "]"
      ],
      "metadata": {
        "id": "uhDvYkTh05fH"
      },
      "execution_count": 129,
      "outputs": []
    },
    {
      "cell_type": "markdown",
      "source": [
        "### **Question**"
      ],
      "metadata": {
        "id": "FYaJ32x905fH"
      }
    },
    {
      "cell_type": "code",
      "source": [
        "question = \"What can i do in iceland?\""
      ],
      "metadata": {
        "id": "9jX1evsf05fH"
      },
      "execution_count": 130,
      "outputs": []
    },
    {
      "cell_type": "code",
      "source": [
        "prompt = \"\"\"\n",
        "You are an assistant for question-answering tasks.\n",
        "Use the following pieces of retrieved context to answer the question.\n",
        "For each statement in your answer, **you must include at least one inline numbered citation** (e.g., [1], [2]) for the Document Objects supporting it.\n",
        "Do not include any statements that lack sufficient support from the provided context.\n",
        "\n",
        "Ensure the numbering of citations starts from **1** for each response.\n",
        "At the bottom, provide the full citations corresponding to each number, but include **only the page content** of the Document Object (exclude metadata).\n",
        "\n",
        "Write your response in a natural and coherent way, ensuring that the statements flow logically and transition smoothly between ideas. Use connecting words and phrases (e.g., \"Additionally,\" \"Furthermore,\" \"For instance,\" \"As a result,\") to enhance readability.\n",
        "\n",
        "If the answer cannot be found in the context, say \"I don't know.\" **Do not include unsupported statements or make up information.**\n",
        "\n",
        "Respond in the following format:\n",
        "---\n",
        "Statement 1 [1]. Statement 2 [2, 3].\n",
        "\n",
        "Citations:\n",
        "[1] <Page Content 1> //Only the page content of the document\n",
        "[2] <Page Content 2>\n",
        "[3] <Page Content 3>\n",
        "---\n",
        "\n",
        "Here is an example:\n",
        "\n",
        "---\n",
        "Iceland is well-known for its culinary scene. The Baejarins Beztu Pylsur hot dog, made of a mix of lamb, beef, and pork, is one of the most popular street foods [1]. Additionally, classic dishes like fish and chips, Arctic cod, and salmon soup highlight the country's reliance on freshly caught fish from the Arctic sea [1, 2].\n",
        "\n",
        "Citations:\n",
        "[1]: \"The famous street food of Iceland is the Hotdog! It is called the Baejarins Beztu Pylsur hot dog is made of a mix of lamb, beef and pork. Other delicacies of iceland include Fish and Chips as well as Tommi's burger.\"\n",
        "[2]: \"Iceland is very famous for its fish freshly caught from the arctic sea. Famous dishes include the classic fish and chips, Arctic cod, and salmon soup!\"\n",
        "---\n",
        "\n",
        "Question: {question}\n",
        "\n",
        "Context: {context}\n",
        "\n",
        "Helpful Answer:\n",
        "\"\"\"\n"
      ],
      "metadata": {
        "id": "xnW7Rqzw05fI"
      },
      "execution_count": 131,
      "outputs": []
    },
    {
      "cell_type": "code",
      "source": [
        "os.environ[\"GROQ_API_KEY\"] = userdata.get('GROQ_API_KEY')\n",
        "llm = ChatGroq()\n",
        "llm_pipeline = llm | StrOutputParser()\n",
        "answer = llm_pipeline.invoke(prompt.format(question=question,context=docs))"
      ],
      "metadata": {
        "id": "k9J4CohJ05fI"
      },
      "execution_count": 132,
      "outputs": []
    },
    {
      "cell_type": "code",
      "source": [
        "answer"
      ],
      "metadata": {
        "outputId": "e9fe43d1-38fa-4d6e-9121-13a239b9fb17",
        "colab": {
          "base_uri": "https://localhost:8080/",
          "height": 139
        },
        "id": "A1cx4STc05fI"
      },
      "execution_count": 133,
      "outputs": [
        {
          "output_type": "execute_result",
          "data": {
            "text/plain": [
              "\"Iceland offers a variety of activities for tourists. For instance, the country is renowned for its unique culinary scene. The Baejarins Beztu Pylsur hot dog, a mix of lamb, beef, and pork, is a popular street food [4]. Additionally, Iceland is very famous for its freshly caught fish from the Arctic sea, with dishes like the classic fish and chips, Arctic cod, and salmon soup being particularly popular [4, 5]. \\n\\nBeyond its food, Iceland is also a must-visit destination for adventurous people. The country offers numerous opportunities for thrilling activities such as hiking active volcanoes, driving a jeep through volcanic ash, exploring a natural ice cave, and seeing waterfalls [6]. \\n\\nFurthermore, for those interested in diving, Iceland is home to one of the most famous diving sites in the world, Silfra. This is the only diving site where you can dive between two tectonic plates, and the water is so fresh that you can drink it [7]. \\n\\nIn terms of transportation, getting around Reykjavik is convenient with the public bus service BSI. However, for travel outside of Reykjavik, a car is required. Options include car rentals and booking bus tours [8]. \\n\\nFor those who enjoy hiking, Iceland also offers several famous hikes. While this information was not provided in the documents about Iceland, it is mentioned in the documents about Norway, suggesting that Iceland might also have notable hiking trails [1, 2].\\n\\nCitations:\\n[4] <The famous street food of Iceland is the Hotdog! It is called the Baejarins Beztu Pylsur hot dog is made of a mix of lamb, beef and pork.>\\n[5] <Iceland is very famous for its fish freshly caught from the arctic sea. Famous dishes include the classic fish and chips, arctic cod and salmon soup!>\\n[6] <Iceland is a must-go to place for adventurous people! You can hike active volcanoes, drive a jeep through the volcanic ash, explore a natural ice cave, see waterfalls. There are so many opportunities for an adventurer.>\\n[7] <One of the most famous diving sites in the world, Silfra, is located in Iceland! It is the only diving site in the world where you can dive between 2 tectonic plates. The water is also so fresh that you can drink from it, it is the best water that you will ever taste.>\\n[8] <Transportation within Reykjavik is fairly convenient as there is a public bus service called BSI. All you need to do is to download their mobile app, follow the instructions, and you're good to go. Transportation to places outside Reykjavik however requires a car. Some options include car rentals as well as booking bus tours.>\""
            ],
            "application/vnd.google.colaboratory.intrinsic+json": {
              "type": "string"
            }
          },
          "metadata": {},
          "execution_count": 133
        }
      ]
    },
    {
      "cell_type": "code",
      "source": [
        "answer.split('\\n')"
      ],
      "metadata": {
        "colab": {
          "base_uri": "https://localhost:8080/"
        },
        "outputId": "32e97991-bfb0-40fa-d338-48da8fffd80c",
        "id": "jAcGIpZo05fJ"
      },
      "execution_count": 134,
      "outputs": [
        {
          "output_type": "execute_result",
          "data": {
            "text/plain": [
              "['Iceland offers a variety of activities for tourists. For instance, the country is renowned for its unique culinary scene. The Baejarins Beztu Pylsur hot dog, a mix of lamb, beef, and pork, is a popular street food [4]. Additionally, Iceland is very famous for its freshly caught fish from the Arctic sea, with dishes like the classic fish and chips, Arctic cod, and salmon soup being particularly popular [4, 5]. ',\n",
              " '',\n",
              " 'Beyond its food, Iceland is also a must-visit destination for adventurous people. The country offers numerous opportunities for thrilling activities such as hiking active volcanoes, driving a jeep through volcanic ash, exploring a natural ice cave, and seeing waterfalls [6]. ',\n",
              " '',\n",
              " 'Furthermore, for those interested in diving, Iceland is home to one of the most famous diving sites in the world, Silfra. This is the only diving site where you can dive between two tectonic plates, and the water is so fresh that you can drink it [7]. ',\n",
              " '',\n",
              " 'In terms of transportation, getting around Reykjavik is convenient with the public bus service BSI. However, for travel outside of Reykjavik, a car is required. Options include car rentals and booking bus tours [8]. ',\n",
              " '',\n",
              " 'For those who enjoy hiking, Iceland also offers several famous hikes. While this information was not provided in the documents about Iceland, it is mentioned in the documents about Norway, suggesting that Iceland might also have notable hiking trails [1, 2].',\n",
              " '',\n",
              " 'Citations:',\n",
              " '[4] <The famous street food of Iceland is the Hotdog! It is called the Baejarins Beztu Pylsur hot dog is made of a mix of lamb, beef and pork.>',\n",
              " '[5] <Iceland is very famous for its fish freshly caught from the arctic sea. Famous dishes include the classic fish and chips, arctic cod and salmon soup!>',\n",
              " '[6] <Iceland is a must-go to place for adventurous people! You can hike active volcanoes, drive a jeep through the volcanic ash, explore a natural ice cave, see waterfalls. There are so many opportunities for an adventurer.>',\n",
              " '[7] <One of the most famous diving sites in the world, Silfra, is located in Iceland! It is the only diving site in the world where you can dive between 2 tectonic plates. The water is also so fresh that you can drink from it, it is the best water that you will ever taste.>',\n",
              " \"[8] <Transportation within Reykjavik is fairly convenient as there is a public bus service called BSI. All you need to do is to download their mobile app, follow the instructions, and you're good to go. Transportation to places outside Reykjavik however requires a car. Some options include car rentals as well as booking bus tours.>\"]"
            ]
          },
          "metadata": {},
          "execution_count": 134
        }
      ]
    },
    {
      "cell_type": "markdown",
      "source": [
        "<br/>\n",
        "<br/>\n",
        "<br/>\n",
        "\n",
        "## **Method Type 7: Direct Prompting with statement-wise citations**\n",
        "\n",
        "Not all models support tool calling/function calling or have native JSON mode support. This method explores the use of direct prompting to ask the model to use a specific format\n",
        "\n",
        "Additionally, we use few-shot prompting to enable in-context learning"
      ],
      "metadata": {
        "id": "vtMXLM7S1_hZ"
      }
    },
    {
      "cell_type": "markdown",
      "source": [
        "### **Simple Experiment Data to test and observe behaviour of Method Type 7**"
      ],
      "metadata": {
        "id": "pLMEM9uK1_ha"
      }
    },
    {
      "cell_type": "code",
      "source": [
        "docs = [\n",
        "    Document(\n",
        "        page_content=\"The best hikes in Norway include the Reinebringen hike in the Lofoten islands. At a modest 448 meters high, Reinebringen is far from one of the highest peaks on the Lofoten islands. Yet this is more than made up for by the iconic view from the summit of Reine. It is not suitable for winter! Also, the trail can be quite demanding as the steps are quite steep.\",\n",
        "        metadata={'country': 'Norway', 'source': 'visitNorway', 'link': 'https://www.visitnorway.com/'},\n",
        "    ),\n",
        "    Document(\n",
        "        page_content=\"The most famous hikes in Norway include Preikestolen (a beautiful fjord), Kjeragbolten (with a famous boulder stuck between a mountain crevasse) as well as Trolltunga which resembes a tongue.\",\n",
        "        metadata={'country': 'Norway', 'source': 'norwayhikes', 'link': 'https://www.norwayhikes.com/'},\n",
        "    ),\n",
        "    Document(\n",
        "        page_content=\"The famous street food of Iceland is the Hotdog! It is called the Baejarins Beztu Pylsur hot dog is made of a mix of lamb, beef and pork. Other delicacies of iceland include Fish and Chips as well as Tommi's burger.\",\n",
        "        metadata={'country': 'Iceland', 'source': 'IcelandTours', 'link': 'https://www.icelandtours.com/'},\n",
        "    ),\n",
        "    Document(\n",
        "        page_content=\"Iceland is very famous for its fish freshly caught from the arctic sea. Famous dishes include the classic fish and chips, arctic cod and salmon soup!\",\n",
        "        metadata={'country': 'Iceland', 'source': 'IcelandGov', 'link': 'https://www.welcometoiceland.com/'},\n",
        "    ),\n",
        "    Document(\n",
        "        page_content=\"The pasteries and bread in Iceland are fantastic, there are many bakeries in Iceland. One of the most popular bread is called dark rye bread \",\n",
        "        metadata={'country': 'Iceland', 'source': 'IcelandFood', 'link': 'https://www.icelandicdelicacies.com/'},\n",
        "    ),\n",
        "    Document(\n",
        "        page_content=\"Transportation within Reykjavik is fairly convenient as there is a public bus service called BSI. All you need to do is to download their mobile app, follow the instructions, and you're good to go. Transportation to places outside Reykjavik however requires a car. Some options include car rentals as well as booking bus tours.\",\n",
        "        metadata={'country': 'Iceland', 'source': 'IcelandBuses', 'link': 'https://www.icelandbuses.com/'},\n",
        "    ),\n",
        "    Document(\n",
        "        page_content=\"Driving in Iceland is an amazing experience - open roads, majestic volcanos and towering mountains along the way, sheep and arctic foxes make it a great experience. All you need is an international driving license. And, please drive slowly during the winter!\",\n",
        "        metadata={'country': 'Iceland', 'source': 'IcelandBuses', 'link': 'https://www.icelandbuses.com/'},\n",
        "    ),\n",
        "    Document(\n",
        "        page_content=\"Iceland is a must-go to place for adventurous people! You can hike active volcanoes, drive a jeep through the volcanic ash, explore a natural ice cave, see waterfalls. There are so many opportunities for an adventurer.\",\n",
        "        metadata={'country': 'Iceland', 'source': 'IcelandAdventures', 'link': 'https://www.icelandadventures.com/'},\n",
        "    ),\n",
        "    Document(\n",
        "        page_content=\"One of the most famous diving sites in the world, Silfra, is located in Iceland! It is the only diving site in the world where you can dive between 2 tectonic plates. The water is also so fresh that you can drink from it, it is the best water that you will ever taste.\",\n",
        "        metadata={'country': 'Iceland', 'source': 'IcelandDiving', 'link': 'https://www.icelanddiving.com/'},\n",
        "    ),\n",
        "]"
      ],
      "metadata": {
        "id": "9XL92Bwk1_hb"
      },
      "execution_count": 141,
      "outputs": []
    },
    {
      "cell_type": "markdown",
      "source": [
        "### **Question**"
      ],
      "metadata": {
        "id": "wgHu0InG1_hb"
      }
    },
    {
      "cell_type": "code",
      "source": [
        "question = \"What adventures are there to do in Iceland\""
      ],
      "metadata": {
        "id": "B1JJQRX51_hc"
      },
      "execution_count": 165,
      "outputs": []
    },
    {
      "cell_type": "code",
      "source": [
        "prompt = \"\"\"\n",
        "You are an assistant for question-answering tasks.\n",
        "Use the following pieces of retrieved context to answer the question.\n",
        "For each statement in your answer, **you must include at least one inline numbered citation** (e.g., [1], [2]) for the Document Objects supporting it.\n",
        "Always reset the numbering for citations to start from **1** for each response, and ensure the numbering increases sequentially.\n",
        "Statements without sufficient support from the context should not be included in the answer.\n",
        "\n",
        "At the bottom, provide the full citations corresponding to each number, but include **only the page content** of the Document Object (exclude metadata).\n",
        "\n",
        "Write your response in a natural and coherent way, ensuring that the statements flow logically and transition smoothly between ideas. Use connecting words and phrases (e.g., \"Additionally,\" \"Furthermore,\" \"For instance,\" \"As a result,\") to enhance readability.\n",
        "\n",
        "If the answer cannot be found in the context, say \"I don't know.\" **Do not include unsupported statements or make up information.**\n",
        "\n",
        "Respond in the following format:\n",
        "---\n",
        "Statement 1 [1]. Statement 2 [2, 3].\n",
        "\n",
        "Citations:\n",
        "[1]: <Page Content 1> //Only the page content of the document\n",
        "[2]: <Page Content 2>\n",
        "[3]: <Page Content 3>\n",
        "---\n",
        "\n",
        "Here are a few examples:\n",
        "\n",
        "---\n",
        "Iceland is well-known for its culinary scene, for instance the Baejarins Beztu Pylsur hot dog, made of a mix of lamb, beef, and pork, is one of the most popular street foods [1]. Additionally, classic dishes like fish and chips, Arctic cod, and salmon soup highlight the country's reliance on freshly caught fish from the Arctic sea [1, 2].\n",
        "\n",
        "Citations:\n",
        "[1]: \"The famous street food of Iceland is the Hotdog! It is called the Baejarins Beztu Pylsur hot dog is made of a mix of lamb, beef and pork. Other delicacies of iceland include Fish and Chips as well as Tommi's burger.\"\n",
        "[2]: \"Iceland is very famous for its fish freshly caught from the arctic sea. Famous dishes include the classic fish and chips, Arctic cod, and salmon soup!\"\n",
        "---\n",
        "\n",
        "---\n",
        "The best hikes in Norway include the Reinebringen hike in the Lofoten islands, Preikestolen, Kjeragbolten, and Trolltunga [1, 2]. The Reinebringen hike, although not one of the highest peaks, offers an iconic view of the Reine fjord from its summit [1]. Preikestolen, Kjeragbolten, and Trolltunga are famous for their stunning fjord views and unique geological formations, such as a boulder stuck between a mountain crevasse and a tongue-shaped rock [2].\n",
        "\n",
        "Citations:\n",
        "[1]: \"The best hikes in Norway include the Reinebringen hike in the Lofoten islands. At a modest 448 meters high, Reinebringen is far from one of the highest peaks on the Lofoten islands. Yet this is more than made up for by the iconic view from the summit of Reine. It is not suitable for winter! Also, the trail can be quite demanding as the steps are quite steep.\"\n",
        "[2]: \"The most famous hikes in Norway include Preikestolen (a beautiful fjord), Kjeragbolten (with a famous boulder stuck between a mountain crevasse) as well as Trolltunga which resembles a tongue.\"\n",
        "---\n",
        "\n",
        "\n",
        "\n",
        "Question: {question}\n",
        "\n",
        "Context: {context}\n",
        "\n",
        "Helpful Answer:\n",
        "\"\"\"\n"
      ],
      "metadata": {
        "id": "enEpnU7g1_hc"
      },
      "execution_count": 170,
      "outputs": []
    },
    {
      "cell_type": "code",
      "source": [
        "os.environ[\"GROQ_API_KEY\"] = userdata.get('GROQ_API_KEY')\n",
        "llm = ChatGroq()\n",
        "llm_pipeline = llm | StrOutputParser()\n",
        "answer = llm_pipeline.invoke(prompt.format(question=question,context=docs))"
      ],
      "metadata": {
        "id": "hxHK1axb1_hc"
      },
      "execution_count": 171,
      "outputs": []
    },
    {
      "cell_type": "code",
      "source": [
        "answer"
      ],
      "metadata": {
        "outputId": "d2ef86c8-c78d-4a91-fb64-0c70eb166666",
        "colab": {
          "base_uri": "https://localhost:8080/",
          "height": 139
        },
        "id": "OQR0Hd_o1_hd"
      },
      "execution_count": 172,
      "outputs": [
        {
          "output_type": "execute_result",
          "data": {
            "text/plain": [
              "'Iceland offers a variety of adventures for visitors [5]. For instance, it is a must-go place for adventurous people who enjoy activities such as hiking active volcanoes, driving a jeep through volcanic ash, and exploring natural ice caves [5]. The country also boasts stunning waterfalls [5]. \\n\\nMoreover, Iceland\\'s unique geographical location provides opportunities for unique adventures. One of the most famous diving sites in the world, Silfra, is located in Iceland. This site is the only place where you can dive between two tectonic plates, and the water is so fresh that you can drink from it [6].\\n\\nTransportation within Reykjavik is convenient with a public bus service, but transportation to places outside Reykjavik requires a car. Some options include car rentals and bus tours [4]. Driving in Iceland is an amazing experience, with open roads, majestic volcanos, and towering mountains along the way [3]. \\n\\nIn terms of culinary adventures, Iceland\\'s famous street food is the Baejarins Beztu Pylsur hot dog, made of a mix of lamb, beef, and pork [2]. Other classic dishes highlight the country\\'s reliance on freshly caught fish from the Arctic sea, such as fish and chips, Arctic cod, and salmon soup [2, 1]. Additionally, the pastries and bread in Iceland are fantastic, with many bakeries across the country [2, 7].\\n\\nCitations:\\n[1]: \"Iceland is very famous for its fish freshly caught from the arctic sea. Famous dishes include the classic fish and chips, arctic cod and salmon soup!\"\\n[2]: \"The famous street food of Iceland is the Hotdog! It is called the Baejarins Beztu Pylsur hot dog is made of a mix of lamb, beef and pork. Other delicacies of iceland include Fish and Chips as well as Tommi\\'s burger.\"\\n[3]: \"Driving in Iceland is an amazing experience - open roads, majestic volcanos and towering mountains along the way, sheep and arctic foxes make it a great experience. All you need is an international driving license. And, please drive slowly during the winter!\"\\n[4]: \"Transportation within Reykjavik is fairly convenient as there is a public bus service called BSI. All you need to do is to download their mobile app, follow the instructions, and you\\'re good to go. Transportation to places outside Reykjavik however requires a car. Some options include car rentals as well as booking bus tours.\"\\n[5]: \"Iceland is a must-go to place for adventurous people! You can hike active volcanoes, drive a jeep through the volcanic ash, explore a natural ice cave, see waterfalls. There are so many opportunities for an adventurer.\"\\n[6]: \"One of the most famous diving sites in the world, Silfra, is located in Iceland! It is the only diving site in the world where you can dive between 2 tectonic plates. The water is also so fresh that you can drink from it, it is the best water that you will ever taste.\"\\n[7]: \"The pastries and bread in Iceland are fantastic, there are many bakeries in Iceland. One of the most popular bread is called dark rye bread \"'"
            ],
            "application/vnd.google.colaboratory.intrinsic+json": {
              "type": "string"
            }
          },
          "metadata": {},
          "execution_count": 172
        }
      ]
    },
    {
      "cell_type": "code",
      "source": [
        "answer.split('\\n')"
      ],
      "metadata": {
        "colab": {
          "base_uri": "https://localhost:8080/"
        },
        "outputId": "62b0b3d2-6854-42ce-cddd-c8aa224ee7a3",
        "id": "-NmKovqr1_he"
      },
      "execution_count": 173,
      "outputs": [
        {
          "output_type": "execute_result",
          "data": {
            "text/plain": [
              "['Iceland offers a variety of adventures for visitors [5]. For instance, it is a must-go place for adventurous people who enjoy activities such as hiking active volcanoes, driving a jeep through volcanic ash, and exploring natural ice caves [5]. The country also boasts stunning waterfalls [5]. ',\n",
              " '',\n",
              " \"Moreover, Iceland's unique geographical location provides opportunities for unique adventures. One of the most famous diving sites in the world, Silfra, is located in Iceland. This site is the only place where you can dive between two tectonic plates, and the water is so fresh that you can drink from it [6].\",\n",
              " '',\n",
              " 'Transportation within Reykjavik is convenient with a public bus service, but transportation to places outside Reykjavik requires a car. Some options include car rentals and bus tours [4]. Driving in Iceland is an amazing experience, with open roads, majestic volcanos, and towering mountains along the way [3]. ',\n",
              " '',\n",
              " \"In terms of culinary adventures, Iceland's famous street food is the Baejarins Beztu Pylsur hot dog, made of a mix of lamb, beef, and pork [2]. Other classic dishes highlight the country's reliance on freshly caught fish from the Arctic sea, such as fish and chips, Arctic cod, and salmon soup [2, 1]. Additionally, the pastries and bread in Iceland are fantastic, with many bakeries across the country [2, 7].\",\n",
              " '',\n",
              " 'Citations:',\n",
              " '[1]: \"Iceland is very famous for its fish freshly caught from the arctic sea. Famous dishes include the classic fish and chips, arctic cod and salmon soup!\"',\n",
              " '[2]: \"The famous street food of Iceland is the Hotdog! It is called the Baejarins Beztu Pylsur hot dog is made of a mix of lamb, beef and pork. Other delicacies of iceland include Fish and Chips as well as Tommi\\'s burger.\"',\n",
              " '[3]: \"Driving in Iceland is an amazing experience - open roads, majestic volcanos and towering mountains along the way, sheep and arctic foxes make it a great experience. All you need is an international driving license. And, please drive slowly during the winter!\"',\n",
              " '[4]: \"Transportation within Reykjavik is fairly convenient as there is a public bus service called BSI. All you need to do is to download their mobile app, follow the instructions, and you\\'re good to go. Transportation to places outside Reykjavik however requires a car. Some options include car rentals as well as booking bus tours.\"',\n",
              " '[5]: \"Iceland is a must-go to place for adventurous people! You can hike active volcanoes, drive a jeep through the volcanic ash, explore a natural ice cave, see waterfalls. There are so many opportunities for an adventurer.\"',\n",
              " '[6]: \"One of the most famous diving sites in the world, Silfra, is located in Iceland! It is the only diving site in the world where you can dive between 2 tectonic plates. The water is also so fresh that you can drink from it, it is the best water that you will ever taste.\"',\n",
              " '[7]: \"The pastries and bread in Iceland are fantastic, there are many bakeries in Iceland. One of the most popular bread is called dark rye bread \"']"
            ]
          },
          "metadata": {},
          "execution_count": 173
        }
      ]
    },
    {
      "cell_type": "markdown",
      "source": [
        "<br/>\n",
        "<br/>\n",
        "<br/>\n",
        "<br/>\n",
        "<br/>\n",
        "\n",
        "## **Conclusions**\n",
        "\n",
        "We decide to use LLMs from LLM providers such as <u>ChatGroq</u> due to the fast inference speed and ability to output well-structured outputs which makes it easy for formatting"
      ],
      "metadata": {
        "id": "2f1PEPMMR7G0"
      }
    },
    {
      "cell_type": "code",
      "source": [],
      "metadata": {
        "id": "y5D4HYRJRvTR"
      },
      "execution_count": null,
      "outputs": []
    }
  ],
  "metadata": {
    "kernelspec": {
      "display_name": "Python 3",
      "name": "python3"
    },
    "language_info": {
      "name": "python",
      "version": "3.12.5"
    },
    "colab": {
      "provenance": [],
      "gpuType": "A100"
    },
    "accelerator": "GPU",
    "widgets": {
      "application/vnd.jupyter.widget-state+json": {
        "8f2d91d2b34348d29acde63ef9f214de": {
          "model_module": "@jupyter-widgets/controls",
          "model_name": "HBoxModel",
          "model_module_version": "1.5.0",
          "state": {
            "_dom_classes": [],
            "_model_module": "@jupyter-widgets/controls",
            "_model_module_version": "1.5.0",
            "_model_name": "HBoxModel",
            "_view_count": null,
            "_view_module": "@jupyter-widgets/controls",
            "_view_module_version": "1.5.0",
            "_view_name": "HBoxView",
            "box_style": "",
            "children": [
              "IPY_MODEL_f6266cb187f54dfd821e7342ab058546",
              "IPY_MODEL_ec216b4f19cd4f56b868adb70258f2d6",
              "IPY_MODEL_900ab050442c47ee8fa9b9e203be7ed5"
            ],
            "layout": "IPY_MODEL_e79e4bef4eb447f2a8f527d8f9e53f5a"
          }
        },
        "f6266cb187f54dfd821e7342ab058546": {
          "model_module": "@jupyter-widgets/controls",
          "model_name": "HTMLModel",
          "model_module_version": "1.5.0",
          "state": {
            "_dom_classes": [],
            "_model_module": "@jupyter-widgets/controls",
            "_model_module_version": "1.5.0",
            "_model_name": "HTMLModel",
            "_view_count": null,
            "_view_module": "@jupyter-widgets/controls",
            "_view_module_version": "1.5.0",
            "_view_name": "HTMLView",
            "description": "",
            "description_tooltip": null,
            "layout": "IPY_MODEL_573fb782f63c4f36ae51465ac82ae3ab",
            "placeholder": "​",
            "style": "IPY_MODEL_43093ac3a5314ac9a27e4da2b71b4f46",
            "value": "config.json: 100%"
          }
        },
        "ec216b4f19cd4f56b868adb70258f2d6": {
          "model_module": "@jupyter-widgets/controls",
          "model_name": "FloatProgressModel",
          "model_module_version": "1.5.0",
          "state": {
            "_dom_classes": [],
            "_model_module": "@jupyter-widgets/controls",
            "_model_module_version": "1.5.0",
            "_model_name": "FloatProgressModel",
            "_view_count": null,
            "_view_module": "@jupyter-widgets/controls",
            "_view_module_version": "1.5.0",
            "_view_name": "ProgressView",
            "bar_style": "success",
            "description": "",
            "description_tooltip": null,
            "layout": "IPY_MODEL_ce1ba2fa387e46b89e279d7f9b40a6b6",
            "max": 661,
            "min": 0,
            "orientation": "horizontal",
            "style": "IPY_MODEL_31196a8f394e4b10ab1259e90da8daa8",
            "value": 661
          }
        },
        "900ab050442c47ee8fa9b9e203be7ed5": {
          "model_module": "@jupyter-widgets/controls",
          "model_name": "HTMLModel",
          "model_module_version": "1.5.0",
          "state": {
            "_dom_classes": [],
            "_model_module": "@jupyter-widgets/controls",
            "_model_module_version": "1.5.0",
            "_model_name": "HTMLModel",
            "_view_count": null,
            "_view_module": "@jupyter-widgets/controls",
            "_view_module_version": "1.5.0",
            "_view_name": "HTMLView",
            "description": "",
            "description_tooltip": null,
            "layout": "IPY_MODEL_ad1900f826bb4c9b832d2820f31c995a",
            "placeholder": "​",
            "style": "IPY_MODEL_1f667de0d9c74c3a863669da493a9b2b",
            "value": " 661/661 [00:00&lt;00:00, 61.6kB/s]"
          }
        },
        "e79e4bef4eb447f2a8f527d8f9e53f5a": {
          "model_module": "@jupyter-widgets/base",
          "model_name": "LayoutModel",
          "model_module_version": "1.2.0",
          "state": {
            "_model_module": "@jupyter-widgets/base",
            "_model_module_version": "1.2.0",
            "_model_name": "LayoutModel",
            "_view_count": null,
            "_view_module": "@jupyter-widgets/base",
            "_view_module_version": "1.2.0",
            "_view_name": "LayoutView",
            "align_content": null,
            "align_items": null,
            "align_self": null,
            "border": null,
            "bottom": null,
            "display": null,
            "flex": null,
            "flex_flow": null,
            "grid_area": null,
            "grid_auto_columns": null,
            "grid_auto_flow": null,
            "grid_auto_rows": null,
            "grid_column": null,
            "grid_gap": null,
            "grid_row": null,
            "grid_template_areas": null,
            "grid_template_columns": null,
            "grid_template_rows": null,
            "height": null,
            "justify_content": null,
            "justify_items": null,
            "left": null,
            "margin": null,
            "max_height": null,
            "max_width": null,
            "min_height": null,
            "min_width": null,
            "object_fit": null,
            "object_position": null,
            "order": null,
            "overflow": null,
            "overflow_x": null,
            "overflow_y": null,
            "padding": null,
            "right": null,
            "top": null,
            "visibility": null,
            "width": null
          }
        },
        "573fb782f63c4f36ae51465ac82ae3ab": {
          "model_module": "@jupyter-widgets/base",
          "model_name": "LayoutModel",
          "model_module_version": "1.2.0",
          "state": {
            "_model_module": "@jupyter-widgets/base",
            "_model_module_version": "1.2.0",
            "_model_name": "LayoutModel",
            "_view_count": null,
            "_view_module": "@jupyter-widgets/base",
            "_view_module_version": "1.2.0",
            "_view_name": "LayoutView",
            "align_content": null,
            "align_items": null,
            "align_self": null,
            "border": null,
            "bottom": null,
            "display": null,
            "flex": null,
            "flex_flow": null,
            "grid_area": null,
            "grid_auto_columns": null,
            "grid_auto_flow": null,
            "grid_auto_rows": null,
            "grid_column": null,
            "grid_gap": null,
            "grid_row": null,
            "grid_template_areas": null,
            "grid_template_columns": null,
            "grid_template_rows": null,
            "height": null,
            "justify_content": null,
            "justify_items": null,
            "left": null,
            "margin": null,
            "max_height": null,
            "max_width": null,
            "min_height": null,
            "min_width": null,
            "object_fit": null,
            "object_position": null,
            "order": null,
            "overflow": null,
            "overflow_x": null,
            "overflow_y": null,
            "padding": null,
            "right": null,
            "top": null,
            "visibility": null,
            "width": null
          }
        },
        "43093ac3a5314ac9a27e4da2b71b4f46": {
          "model_module": "@jupyter-widgets/controls",
          "model_name": "DescriptionStyleModel",
          "model_module_version": "1.5.0",
          "state": {
            "_model_module": "@jupyter-widgets/controls",
            "_model_module_version": "1.5.0",
            "_model_name": "DescriptionStyleModel",
            "_view_count": null,
            "_view_module": "@jupyter-widgets/base",
            "_view_module_version": "1.2.0",
            "_view_name": "StyleView",
            "description_width": ""
          }
        },
        "ce1ba2fa387e46b89e279d7f9b40a6b6": {
          "model_module": "@jupyter-widgets/base",
          "model_name": "LayoutModel",
          "model_module_version": "1.2.0",
          "state": {
            "_model_module": "@jupyter-widgets/base",
            "_model_module_version": "1.2.0",
            "_model_name": "LayoutModel",
            "_view_count": null,
            "_view_module": "@jupyter-widgets/base",
            "_view_module_version": "1.2.0",
            "_view_name": "LayoutView",
            "align_content": null,
            "align_items": null,
            "align_self": null,
            "border": null,
            "bottom": null,
            "display": null,
            "flex": null,
            "flex_flow": null,
            "grid_area": null,
            "grid_auto_columns": null,
            "grid_auto_flow": null,
            "grid_auto_rows": null,
            "grid_column": null,
            "grid_gap": null,
            "grid_row": null,
            "grid_template_areas": null,
            "grid_template_columns": null,
            "grid_template_rows": null,
            "height": null,
            "justify_content": null,
            "justify_items": null,
            "left": null,
            "margin": null,
            "max_height": null,
            "max_width": null,
            "min_height": null,
            "min_width": null,
            "object_fit": null,
            "object_position": null,
            "order": null,
            "overflow": null,
            "overflow_x": null,
            "overflow_y": null,
            "padding": null,
            "right": null,
            "top": null,
            "visibility": null,
            "width": null
          }
        },
        "31196a8f394e4b10ab1259e90da8daa8": {
          "model_module": "@jupyter-widgets/controls",
          "model_name": "ProgressStyleModel",
          "model_module_version": "1.5.0",
          "state": {
            "_model_module": "@jupyter-widgets/controls",
            "_model_module_version": "1.5.0",
            "_model_name": "ProgressStyleModel",
            "_view_count": null,
            "_view_module": "@jupyter-widgets/base",
            "_view_module_version": "1.2.0",
            "_view_name": "StyleView",
            "bar_color": null,
            "description_width": ""
          }
        },
        "ad1900f826bb4c9b832d2820f31c995a": {
          "model_module": "@jupyter-widgets/base",
          "model_name": "LayoutModel",
          "model_module_version": "1.2.0",
          "state": {
            "_model_module": "@jupyter-widgets/base",
            "_model_module_version": "1.2.0",
            "_model_name": "LayoutModel",
            "_view_count": null,
            "_view_module": "@jupyter-widgets/base",
            "_view_module_version": "1.2.0",
            "_view_name": "LayoutView",
            "align_content": null,
            "align_items": null,
            "align_self": null,
            "border": null,
            "bottom": null,
            "display": null,
            "flex": null,
            "flex_flow": null,
            "grid_area": null,
            "grid_auto_columns": null,
            "grid_auto_flow": null,
            "grid_auto_rows": null,
            "grid_column": null,
            "grid_gap": null,
            "grid_row": null,
            "grid_template_areas": null,
            "grid_template_columns": null,
            "grid_template_rows": null,
            "height": null,
            "justify_content": null,
            "justify_items": null,
            "left": null,
            "margin": null,
            "max_height": null,
            "max_width": null,
            "min_height": null,
            "min_width": null,
            "object_fit": null,
            "object_position": null,
            "order": null,
            "overflow": null,
            "overflow_x": null,
            "overflow_y": null,
            "padding": null,
            "right": null,
            "top": null,
            "visibility": null,
            "width": null
          }
        },
        "1f667de0d9c74c3a863669da493a9b2b": {
          "model_module": "@jupyter-widgets/controls",
          "model_name": "DescriptionStyleModel",
          "model_module_version": "1.5.0",
          "state": {
            "_model_module": "@jupyter-widgets/controls",
            "_model_module_version": "1.5.0",
            "_model_name": "DescriptionStyleModel",
            "_view_count": null,
            "_view_module": "@jupyter-widgets/base",
            "_view_module_version": "1.2.0",
            "_view_name": "StyleView",
            "description_width": ""
          }
        },
        "2b7b0425dbcc4758ad4071c81cbe6ec8": {
          "model_module": "@jupyter-widgets/controls",
          "model_name": "HBoxModel",
          "model_module_version": "1.5.0",
          "state": {
            "_dom_classes": [],
            "_model_module": "@jupyter-widgets/controls",
            "_model_module_version": "1.5.0",
            "_model_name": "HBoxModel",
            "_view_count": null,
            "_view_module": "@jupyter-widgets/controls",
            "_view_module_version": "1.5.0",
            "_view_name": "HBoxView",
            "box_style": "",
            "children": [
              "IPY_MODEL_1913dc16eab14fa4aa02151ff047dfb6",
              "IPY_MODEL_bb023e01efca482a821aca777614a113",
              "IPY_MODEL_2510b4c9ee6944679c3a25463a5fb21d"
            ],
            "layout": "IPY_MODEL_914c0508a436464c962f4c9cd8faa16d"
          }
        },
        "1913dc16eab14fa4aa02151ff047dfb6": {
          "model_module": "@jupyter-widgets/controls",
          "model_name": "HTMLModel",
          "model_module_version": "1.5.0",
          "state": {
            "_dom_classes": [],
            "_model_module": "@jupyter-widgets/controls",
            "_model_module_version": "1.5.0",
            "_model_name": "HTMLModel",
            "_view_count": null,
            "_view_module": "@jupyter-widgets/controls",
            "_view_module_version": "1.5.0",
            "_view_name": "HTMLView",
            "description": "",
            "description_tooltip": null,
            "layout": "IPY_MODEL_54628a854fbf4d07a90f2ddadea9723c",
            "placeholder": "​",
            "style": "IPY_MODEL_31f1f5bf18a8469aa0cda972b4a1c70a",
            "value": "model.safetensors.index.json: 100%"
          }
        },
        "bb023e01efca482a821aca777614a113": {
          "model_module": "@jupyter-widgets/controls",
          "model_name": "FloatProgressModel",
          "model_module_version": "1.5.0",
          "state": {
            "_dom_classes": [],
            "_model_module": "@jupyter-widgets/controls",
            "_model_module_version": "1.5.0",
            "_model_name": "FloatProgressModel",
            "_view_count": null,
            "_view_module": "@jupyter-widgets/controls",
            "_view_module_version": "1.5.0",
            "_view_name": "ProgressView",
            "bar_style": "success",
            "description": "",
            "description_tooltip": null,
            "layout": "IPY_MODEL_4016f5d36ac446b49096213ebf60cf37",
            "max": 35581,
            "min": 0,
            "orientation": "horizontal",
            "style": "IPY_MODEL_a57f3d6b0b9a4c60b5287f0c50ac75b5",
            "value": 35581
          }
        },
        "2510b4c9ee6944679c3a25463a5fb21d": {
          "model_module": "@jupyter-widgets/controls",
          "model_name": "HTMLModel",
          "model_module_version": "1.5.0",
          "state": {
            "_dom_classes": [],
            "_model_module": "@jupyter-widgets/controls",
            "_model_module_version": "1.5.0",
            "_model_name": "HTMLModel",
            "_view_count": null,
            "_view_module": "@jupyter-widgets/controls",
            "_view_module_version": "1.5.0",
            "_view_name": "HTMLView",
            "description": "",
            "description_tooltip": null,
            "layout": "IPY_MODEL_e6f87bb013c545cf860e1aaff09b7e37",
            "placeholder": "​",
            "style": "IPY_MODEL_d92a006523a04ad5a3ed1be72be920d3",
            "value": " 35.6k/35.6k [00:00&lt;00:00, 2.75MB/s]"
          }
        },
        "914c0508a436464c962f4c9cd8faa16d": {
          "model_module": "@jupyter-widgets/base",
          "model_name": "LayoutModel",
          "model_module_version": "1.2.0",
          "state": {
            "_model_module": "@jupyter-widgets/base",
            "_model_module_version": "1.2.0",
            "_model_name": "LayoutModel",
            "_view_count": null,
            "_view_module": "@jupyter-widgets/base",
            "_view_module_version": "1.2.0",
            "_view_name": "LayoutView",
            "align_content": null,
            "align_items": null,
            "align_self": null,
            "border": null,
            "bottom": null,
            "display": null,
            "flex": null,
            "flex_flow": null,
            "grid_area": null,
            "grid_auto_columns": null,
            "grid_auto_flow": null,
            "grid_auto_rows": null,
            "grid_column": null,
            "grid_gap": null,
            "grid_row": null,
            "grid_template_areas": null,
            "grid_template_columns": null,
            "grid_template_rows": null,
            "height": null,
            "justify_content": null,
            "justify_items": null,
            "left": null,
            "margin": null,
            "max_height": null,
            "max_width": null,
            "min_height": null,
            "min_width": null,
            "object_fit": null,
            "object_position": null,
            "order": null,
            "overflow": null,
            "overflow_x": null,
            "overflow_y": null,
            "padding": null,
            "right": null,
            "top": null,
            "visibility": null,
            "width": null
          }
        },
        "54628a854fbf4d07a90f2ddadea9723c": {
          "model_module": "@jupyter-widgets/base",
          "model_name": "LayoutModel",
          "model_module_version": "1.2.0",
          "state": {
            "_model_module": "@jupyter-widgets/base",
            "_model_module_version": "1.2.0",
            "_model_name": "LayoutModel",
            "_view_count": null,
            "_view_module": "@jupyter-widgets/base",
            "_view_module_version": "1.2.0",
            "_view_name": "LayoutView",
            "align_content": null,
            "align_items": null,
            "align_self": null,
            "border": null,
            "bottom": null,
            "display": null,
            "flex": null,
            "flex_flow": null,
            "grid_area": null,
            "grid_auto_columns": null,
            "grid_auto_flow": null,
            "grid_auto_rows": null,
            "grid_column": null,
            "grid_gap": null,
            "grid_row": null,
            "grid_template_areas": null,
            "grid_template_columns": null,
            "grid_template_rows": null,
            "height": null,
            "justify_content": null,
            "justify_items": null,
            "left": null,
            "margin": null,
            "max_height": null,
            "max_width": null,
            "min_height": null,
            "min_width": null,
            "object_fit": null,
            "object_position": null,
            "order": null,
            "overflow": null,
            "overflow_x": null,
            "overflow_y": null,
            "padding": null,
            "right": null,
            "top": null,
            "visibility": null,
            "width": null
          }
        },
        "31f1f5bf18a8469aa0cda972b4a1c70a": {
          "model_module": "@jupyter-widgets/controls",
          "model_name": "DescriptionStyleModel",
          "model_module_version": "1.5.0",
          "state": {
            "_model_module": "@jupyter-widgets/controls",
            "_model_module_version": "1.5.0",
            "_model_name": "DescriptionStyleModel",
            "_view_count": null,
            "_view_module": "@jupyter-widgets/base",
            "_view_module_version": "1.2.0",
            "_view_name": "StyleView",
            "description_width": ""
          }
        },
        "4016f5d36ac446b49096213ebf60cf37": {
          "model_module": "@jupyter-widgets/base",
          "model_name": "LayoutModel",
          "model_module_version": "1.2.0",
          "state": {
            "_model_module": "@jupyter-widgets/base",
            "_model_module_version": "1.2.0",
            "_model_name": "LayoutModel",
            "_view_count": null,
            "_view_module": "@jupyter-widgets/base",
            "_view_module_version": "1.2.0",
            "_view_name": "LayoutView",
            "align_content": null,
            "align_items": null,
            "align_self": null,
            "border": null,
            "bottom": null,
            "display": null,
            "flex": null,
            "flex_flow": null,
            "grid_area": null,
            "grid_auto_columns": null,
            "grid_auto_flow": null,
            "grid_auto_rows": null,
            "grid_column": null,
            "grid_gap": null,
            "grid_row": null,
            "grid_template_areas": null,
            "grid_template_columns": null,
            "grid_template_rows": null,
            "height": null,
            "justify_content": null,
            "justify_items": null,
            "left": null,
            "margin": null,
            "max_height": null,
            "max_width": null,
            "min_height": null,
            "min_width": null,
            "object_fit": null,
            "object_position": null,
            "order": null,
            "overflow": null,
            "overflow_x": null,
            "overflow_y": null,
            "padding": null,
            "right": null,
            "top": null,
            "visibility": null,
            "width": null
          }
        },
        "a57f3d6b0b9a4c60b5287f0c50ac75b5": {
          "model_module": "@jupyter-widgets/controls",
          "model_name": "ProgressStyleModel",
          "model_module_version": "1.5.0",
          "state": {
            "_model_module": "@jupyter-widgets/controls",
            "_model_module_version": "1.5.0",
            "_model_name": "ProgressStyleModel",
            "_view_count": null,
            "_view_module": "@jupyter-widgets/base",
            "_view_module_version": "1.2.0",
            "_view_name": "StyleView",
            "bar_color": null,
            "description_width": ""
          }
        },
        "e6f87bb013c545cf860e1aaff09b7e37": {
          "model_module": "@jupyter-widgets/base",
          "model_name": "LayoutModel",
          "model_module_version": "1.2.0",
          "state": {
            "_model_module": "@jupyter-widgets/base",
            "_model_module_version": "1.2.0",
            "_model_name": "LayoutModel",
            "_view_count": null,
            "_view_module": "@jupyter-widgets/base",
            "_view_module_version": "1.2.0",
            "_view_name": "LayoutView",
            "align_content": null,
            "align_items": null,
            "align_self": null,
            "border": null,
            "bottom": null,
            "display": null,
            "flex": null,
            "flex_flow": null,
            "grid_area": null,
            "grid_auto_columns": null,
            "grid_auto_flow": null,
            "grid_auto_rows": null,
            "grid_column": null,
            "grid_gap": null,
            "grid_row": null,
            "grid_template_areas": null,
            "grid_template_columns": null,
            "grid_template_rows": null,
            "height": null,
            "justify_content": null,
            "justify_items": null,
            "left": null,
            "margin": null,
            "max_height": null,
            "max_width": null,
            "min_height": null,
            "min_width": null,
            "object_fit": null,
            "object_position": null,
            "order": null,
            "overflow": null,
            "overflow_x": null,
            "overflow_y": null,
            "padding": null,
            "right": null,
            "top": null,
            "visibility": null,
            "width": null
          }
        },
        "d92a006523a04ad5a3ed1be72be920d3": {
          "model_module": "@jupyter-widgets/controls",
          "model_name": "DescriptionStyleModel",
          "model_module_version": "1.5.0",
          "state": {
            "_model_module": "@jupyter-widgets/controls",
            "_model_module_version": "1.5.0",
            "_model_name": "DescriptionStyleModel",
            "_view_count": null,
            "_view_module": "@jupyter-widgets/base",
            "_view_module_version": "1.2.0",
            "_view_name": "StyleView",
            "description_width": ""
          }
        },
        "56d4ab800ec745e0ada699dc620c872d": {
          "model_module": "@jupyter-widgets/controls",
          "model_name": "HBoxModel",
          "model_module_version": "1.5.0",
          "state": {
            "_dom_classes": [],
            "_model_module": "@jupyter-widgets/controls",
            "_model_module_version": "1.5.0",
            "_model_name": "HBoxModel",
            "_view_count": null,
            "_view_module": "@jupyter-widgets/controls",
            "_view_module_version": "1.5.0",
            "_view_name": "HBoxView",
            "box_style": "",
            "children": [
              "IPY_MODEL_2b5df0b7ef5b47bbb620b904548a13b8",
              "IPY_MODEL_171f36f791824c0ba023a8cc68e57a88",
              "IPY_MODEL_aff29cc7ed084852b52d0931a47a1af1"
            ],
            "layout": "IPY_MODEL_567cb579f4544584b59b8f20cbdae916"
          }
        },
        "2b5df0b7ef5b47bbb620b904548a13b8": {
          "model_module": "@jupyter-widgets/controls",
          "model_name": "HTMLModel",
          "model_module_version": "1.5.0",
          "state": {
            "_dom_classes": [],
            "_model_module": "@jupyter-widgets/controls",
            "_model_module_version": "1.5.0",
            "_model_name": "HTMLModel",
            "_view_count": null,
            "_view_module": "@jupyter-widgets/controls",
            "_view_module_version": "1.5.0",
            "_view_name": "HTMLView",
            "description": "",
            "description_tooltip": null,
            "layout": "IPY_MODEL_787537aba0294313bbfe2f83c5ec935d",
            "placeholder": "​",
            "style": "IPY_MODEL_fbf36386a8b34adbb3bb425ea8e66f84",
            "value": "Downloading shards: 100%"
          }
        },
        "171f36f791824c0ba023a8cc68e57a88": {
          "model_module": "@jupyter-widgets/controls",
          "model_name": "FloatProgressModel",
          "model_module_version": "1.5.0",
          "state": {
            "_dom_classes": [],
            "_model_module": "@jupyter-widgets/controls",
            "_model_module_version": "1.5.0",
            "_model_name": "FloatProgressModel",
            "_view_count": null,
            "_view_module": "@jupyter-widgets/controls",
            "_view_module_version": "1.5.0",
            "_view_name": "ProgressView",
            "bar_style": "success",
            "description": "",
            "description_tooltip": null,
            "layout": "IPY_MODEL_3fccbb0cc1fe4dbf9df8b45960fe81b9",
            "max": 2,
            "min": 0,
            "orientation": "horizontal",
            "style": "IPY_MODEL_ef02ffc9658b42e5b018a3833a50f487",
            "value": 2
          }
        },
        "aff29cc7ed084852b52d0931a47a1af1": {
          "model_module": "@jupyter-widgets/controls",
          "model_name": "HTMLModel",
          "model_module_version": "1.5.0",
          "state": {
            "_dom_classes": [],
            "_model_module": "@jupyter-widgets/controls",
            "_model_module_version": "1.5.0",
            "_model_name": "HTMLModel",
            "_view_count": null,
            "_view_module": "@jupyter-widgets/controls",
            "_view_module_version": "1.5.0",
            "_view_name": "HTMLView",
            "description": "",
            "description_tooltip": null,
            "layout": "IPY_MODEL_e05f5ccfa7204a1da17e489a8e063d51",
            "placeholder": "​",
            "style": "IPY_MODEL_a0185ffae9cd40ef910566dc94957bca",
            "value": " 2/2 [02:27&lt;00:00, 70.06s/it]"
          }
        },
        "567cb579f4544584b59b8f20cbdae916": {
          "model_module": "@jupyter-widgets/base",
          "model_name": "LayoutModel",
          "model_module_version": "1.2.0",
          "state": {
            "_model_module": "@jupyter-widgets/base",
            "_model_module_version": "1.2.0",
            "_model_name": "LayoutModel",
            "_view_count": null,
            "_view_module": "@jupyter-widgets/base",
            "_view_module_version": "1.2.0",
            "_view_name": "LayoutView",
            "align_content": null,
            "align_items": null,
            "align_self": null,
            "border": null,
            "bottom": null,
            "display": null,
            "flex": null,
            "flex_flow": null,
            "grid_area": null,
            "grid_auto_columns": null,
            "grid_auto_flow": null,
            "grid_auto_rows": null,
            "grid_column": null,
            "grid_gap": null,
            "grid_row": null,
            "grid_template_areas": null,
            "grid_template_columns": null,
            "grid_template_rows": null,
            "height": null,
            "justify_content": null,
            "justify_items": null,
            "left": null,
            "margin": null,
            "max_height": null,
            "max_width": null,
            "min_height": null,
            "min_width": null,
            "object_fit": null,
            "object_position": null,
            "order": null,
            "overflow": null,
            "overflow_x": null,
            "overflow_y": null,
            "padding": null,
            "right": null,
            "top": null,
            "visibility": null,
            "width": null
          }
        },
        "787537aba0294313bbfe2f83c5ec935d": {
          "model_module": "@jupyter-widgets/base",
          "model_name": "LayoutModel",
          "model_module_version": "1.2.0",
          "state": {
            "_model_module": "@jupyter-widgets/base",
            "_model_module_version": "1.2.0",
            "_model_name": "LayoutModel",
            "_view_count": null,
            "_view_module": "@jupyter-widgets/base",
            "_view_module_version": "1.2.0",
            "_view_name": "LayoutView",
            "align_content": null,
            "align_items": null,
            "align_self": null,
            "border": null,
            "bottom": null,
            "display": null,
            "flex": null,
            "flex_flow": null,
            "grid_area": null,
            "grid_auto_columns": null,
            "grid_auto_flow": null,
            "grid_auto_rows": null,
            "grid_column": null,
            "grid_gap": null,
            "grid_row": null,
            "grid_template_areas": null,
            "grid_template_columns": null,
            "grid_template_rows": null,
            "height": null,
            "justify_content": null,
            "justify_items": null,
            "left": null,
            "margin": null,
            "max_height": null,
            "max_width": null,
            "min_height": null,
            "min_width": null,
            "object_fit": null,
            "object_position": null,
            "order": null,
            "overflow": null,
            "overflow_x": null,
            "overflow_y": null,
            "padding": null,
            "right": null,
            "top": null,
            "visibility": null,
            "width": null
          }
        },
        "fbf36386a8b34adbb3bb425ea8e66f84": {
          "model_module": "@jupyter-widgets/controls",
          "model_name": "DescriptionStyleModel",
          "model_module_version": "1.5.0",
          "state": {
            "_model_module": "@jupyter-widgets/controls",
            "_model_module_version": "1.5.0",
            "_model_name": "DescriptionStyleModel",
            "_view_count": null,
            "_view_module": "@jupyter-widgets/base",
            "_view_module_version": "1.2.0",
            "_view_name": "StyleView",
            "description_width": ""
          }
        },
        "3fccbb0cc1fe4dbf9df8b45960fe81b9": {
          "model_module": "@jupyter-widgets/base",
          "model_name": "LayoutModel",
          "model_module_version": "1.2.0",
          "state": {
            "_model_module": "@jupyter-widgets/base",
            "_model_module_version": "1.2.0",
            "_model_name": "LayoutModel",
            "_view_count": null,
            "_view_module": "@jupyter-widgets/base",
            "_view_module_version": "1.2.0",
            "_view_name": "LayoutView",
            "align_content": null,
            "align_items": null,
            "align_self": null,
            "border": null,
            "bottom": null,
            "display": null,
            "flex": null,
            "flex_flow": null,
            "grid_area": null,
            "grid_auto_columns": null,
            "grid_auto_flow": null,
            "grid_auto_rows": null,
            "grid_column": null,
            "grid_gap": null,
            "grid_row": null,
            "grid_template_areas": null,
            "grid_template_columns": null,
            "grid_template_rows": null,
            "height": null,
            "justify_content": null,
            "justify_items": null,
            "left": null,
            "margin": null,
            "max_height": null,
            "max_width": null,
            "min_height": null,
            "min_width": null,
            "object_fit": null,
            "object_position": null,
            "order": null,
            "overflow": null,
            "overflow_x": null,
            "overflow_y": null,
            "padding": null,
            "right": null,
            "top": null,
            "visibility": null,
            "width": null
          }
        },
        "ef02ffc9658b42e5b018a3833a50f487": {
          "model_module": "@jupyter-widgets/controls",
          "model_name": "ProgressStyleModel",
          "model_module_version": "1.5.0",
          "state": {
            "_model_module": "@jupyter-widgets/controls",
            "_model_module_version": "1.5.0",
            "_model_name": "ProgressStyleModel",
            "_view_count": null,
            "_view_module": "@jupyter-widgets/base",
            "_view_module_version": "1.2.0",
            "_view_name": "StyleView",
            "bar_color": null,
            "description_width": ""
          }
        },
        "e05f5ccfa7204a1da17e489a8e063d51": {
          "model_module": "@jupyter-widgets/base",
          "model_name": "LayoutModel",
          "model_module_version": "1.2.0",
          "state": {
            "_model_module": "@jupyter-widgets/base",
            "_model_module_version": "1.2.0",
            "_model_name": "LayoutModel",
            "_view_count": null,
            "_view_module": "@jupyter-widgets/base",
            "_view_module_version": "1.2.0",
            "_view_name": "LayoutView",
            "align_content": null,
            "align_items": null,
            "align_self": null,
            "border": null,
            "bottom": null,
            "display": null,
            "flex": null,
            "flex_flow": null,
            "grid_area": null,
            "grid_auto_columns": null,
            "grid_auto_flow": null,
            "grid_auto_rows": null,
            "grid_column": null,
            "grid_gap": null,
            "grid_row": null,
            "grid_template_areas": null,
            "grid_template_columns": null,
            "grid_template_rows": null,
            "height": null,
            "justify_content": null,
            "justify_items": null,
            "left": null,
            "margin": null,
            "max_height": null,
            "max_width": null,
            "min_height": null,
            "min_width": null,
            "object_fit": null,
            "object_position": null,
            "order": null,
            "overflow": null,
            "overflow_x": null,
            "overflow_y": null,
            "padding": null,
            "right": null,
            "top": null,
            "visibility": null,
            "width": null
          }
        },
        "a0185ffae9cd40ef910566dc94957bca": {
          "model_module": "@jupyter-widgets/controls",
          "model_name": "DescriptionStyleModel",
          "model_module_version": "1.5.0",
          "state": {
            "_model_module": "@jupyter-widgets/controls",
            "_model_module_version": "1.5.0",
            "_model_name": "DescriptionStyleModel",
            "_view_count": null,
            "_view_module": "@jupyter-widgets/base",
            "_view_module_version": "1.2.0",
            "_view_name": "StyleView",
            "description_width": ""
          }
        },
        "0785b2a341d347a2a4e364fdaff964f8": {
          "model_module": "@jupyter-widgets/controls",
          "model_name": "HBoxModel",
          "model_module_version": "1.5.0",
          "state": {
            "_dom_classes": [],
            "_model_module": "@jupyter-widgets/controls",
            "_model_module_version": "1.5.0",
            "_model_name": "HBoxModel",
            "_view_count": null,
            "_view_module": "@jupyter-widgets/controls",
            "_view_module_version": "1.5.0",
            "_view_name": "HBoxView",
            "box_style": "",
            "children": [
              "IPY_MODEL_d022163addba40f0aebcb70144e87da0",
              "IPY_MODEL_a0147d05c8874092806f516a965b4ff0",
              "IPY_MODEL_8d51677af0fc48a996b0d8c42f7bf835"
            ],
            "layout": "IPY_MODEL_6a9a8af45bb349aaab1fbec93c3da134"
          }
        },
        "d022163addba40f0aebcb70144e87da0": {
          "model_module": "@jupyter-widgets/controls",
          "model_name": "HTMLModel",
          "model_module_version": "1.5.0",
          "state": {
            "_dom_classes": [],
            "_model_module": "@jupyter-widgets/controls",
            "_model_module_version": "1.5.0",
            "_model_name": "HTMLModel",
            "_view_count": null,
            "_view_module": "@jupyter-widgets/controls",
            "_view_module_version": "1.5.0",
            "_view_name": "HTMLView",
            "description": "",
            "description_tooltip": null,
            "layout": "IPY_MODEL_e1b8407b19c54532a2fd708b4db05828",
            "placeholder": "​",
            "style": "IPY_MODEL_ae71a98975304f2daf3ecd2a7740f4f4",
            "value": "model-00001-of-00002.safetensors: 100%"
          }
        },
        "a0147d05c8874092806f516a965b4ff0": {
          "model_module": "@jupyter-widgets/controls",
          "model_name": "FloatProgressModel",
          "model_module_version": "1.5.0",
          "state": {
            "_dom_classes": [],
            "_model_module": "@jupyter-widgets/controls",
            "_model_module_version": "1.5.0",
            "_model_name": "FloatProgressModel",
            "_view_count": null,
            "_view_module": "@jupyter-widgets/controls",
            "_view_module_version": "1.5.0",
            "_view_name": "ProgressView",
            "bar_style": "success",
            "description": "",
            "description_tooltip": null,
            "layout": "IPY_MODEL_b988ab91a2094876aa3ea1ce689588e9",
            "max": 3968658944,
            "min": 0,
            "orientation": "horizontal",
            "style": "IPY_MODEL_7b9348e3e9ba49c894c1d828ca9b7804",
            "value": 3968658944
          }
        },
        "8d51677af0fc48a996b0d8c42f7bf835": {
          "model_module": "@jupyter-widgets/controls",
          "model_name": "HTMLModel",
          "model_module_version": "1.5.0",
          "state": {
            "_dom_classes": [],
            "_model_module": "@jupyter-widgets/controls",
            "_model_module_version": "1.5.0",
            "_model_name": "HTMLModel",
            "_view_count": null,
            "_view_module": "@jupyter-widgets/controls",
            "_view_module_version": "1.5.0",
            "_view_name": "HTMLView",
            "description": "",
            "description_tooltip": null,
            "layout": "IPY_MODEL_2965a505e9d84f9a9f51fb220b10707f",
            "placeholder": "​",
            "style": "IPY_MODEL_2b18402f79074663b9a76ecf36f756a3",
            "value": " 3.97G/3.97G [01:34&lt;00:00, 42.2MB/s]"
          }
        },
        "6a9a8af45bb349aaab1fbec93c3da134": {
          "model_module": "@jupyter-widgets/base",
          "model_name": "LayoutModel",
          "model_module_version": "1.2.0",
          "state": {
            "_model_module": "@jupyter-widgets/base",
            "_model_module_version": "1.2.0",
            "_model_name": "LayoutModel",
            "_view_count": null,
            "_view_module": "@jupyter-widgets/base",
            "_view_module_version": "1.2.0",
            "_view_name": "LayoutView",
            "align_content": null,
            "align_items": null,
            "align_self": null,
            "border": null,
            "bottom": null,
            "display": null,
            "flex": null,
            "flex_flow": null,
            "grid_area": null,
            "grid_auto_columns": null,
            "grid_auto_flow": null,
            "grid_auto_rows": null,
            "grid_column": null,
            "grid_gap": null,
            "grid_row": null,
            "grid_template_areas": null,
            "grid_template_columns": null,
            "grid_template_rows": null,
            "height": null,
            "justify_content": null,
            "justify_items": null,
            "left": null,
            "margin": null,
            "max_height": null,
            "max_width": null,
            "min_height": null,
            "min_width": null,
            "object_fit": null,
            "object_position": null,
            "order": null,
            "overflow": null,
            "overflow_x": null,
            "overflow_y": null,
            "padding": null,
            "right": null,
            "top": null,
            "visibility": null,
            "width": null
          }
        },
        "e1b8407b19c54532a2fd708b4db05828": {
          "model_module": "@jupyter-widgets/base",
          "model_name": "LayoutModel",
          "model_module_version": "1.2.0",
          "state": {
            "_model_module": "@jupyter-widgets/base",
            "_model_module_version": "1.2.0",
            "_model_name": "LayoutModel",
            "_view_count": null,
            "_view_module": "@jupyter-widgets/base",
            "_view_module_version": "1.2.0",
            "_view_name": "LayoutView",
            "align_content": null,
            "align_items": null,
            "align_self": null,
            "border": null,
            "bottom": null,
            "display": null,
            "flex": null,
            "flex_flow": null,
            "grid_area": null,
            "grid_auto_columns": null,
            "grid_auto_flow": null,
            "grid_auto_rows": null,
            "grid_column": null,
            "grid_gap": null,
            "grid_row": null,
            "grid_template_areas": null,
            "grid_template_columns": null,
            "grid_template_rows": null,
            "height": null,
            "justify_content": null,
            "justify_items": null,
            "left": null,
            "margin": null,
            "max_height": null,
            "max_width": null,
            "min_height": null,
            "min_width": null,
            "object_fit": null,
            "object_position": null,
            "order": null,
            "overflow": null,
            "overflow_x": null,
            "overflow_y": null,
            "padding": null,
            "right": null,
            "top": null,
            "visibility": null,
            "width": null
          }
        },
        "ae71a98975304f2daf3ecd2a7740f4f4": {
          "model_module": "@jupyter-widgets/controls",
          "model_name": "DescriptionStyleModel",
          "model_module_version": "1.5.0",
          "state": {
            "_model_module": "@jupyter-widgets/controls",
            "_model_module_version": "1.5.0",
            "_model_name": "DescriptionStyleModel",
            "_view_count": null,
            "_view_module": "@jupyter-widgets/base",
            "_view_module_version": "1.2.0",
            "_view_name": "StyleView",
            "description_width": ""
          }
        },
        "b988ab91a2094876aa3ea1ce689588e9": {
          "model_module": "@jupyter-widgets/base",
          "model_name": "LayoutModel",
          "model_module_version": "1.2.0",
          "state": {
            "_model_module": "@jupyter-widgets/base",
            "_model_module_version": "1.2.0",
            "_model_name": "LayoutModel",
            "_view_count": null,
            "_view_module": "@jupyter-widgets/base",
            "_view_module_version": "1.2.0",
            "_view_name": "LayoutView",
            "align_content": null,
            "align_items": null,
            "align_self": null,
            "border": null,
            "bottom": null,
            "display": null,
            "flex": null,
            "flex_flow": null,
            "grid_area": null,
            "grid_auto_columns": null,
            "grid_auto_flow": null,
            "grid_auto_rows": null,
            "grid_column": null,
            "grid_gap": null,
            "grid_row": null,
            "grid_template_areas": null,
            "grid_template_columns": null,
            "grid_template_rows": null,
            "height": null,
            "justify_content": null,
            "justify_items": null,
            "left": null,
            "margin": null,
            "max_height": null,
            "max_width": null,
            "min_height": null,
            "min_width": null,
            "object_fit": null,
            "object_position": null,
            "order": null,
            "overflow": null,
            "overflow_x": null,
            "overflow_y": null,
            "padding": null,
            "right": null,
            "top": null,
            "visibility": null,
            "width": null
          }
        },
        "7b9348e3e9ba49c894c1d828ca9b7804": {
          "model_module": "@jupyter-widgets/controls",
          "model_name": "ProgressStyleModel",
          "model_module_version": "1.5.0",
          "state": {
            "_model_module": "@jupyter-widgets/controls",
            "_model_module_version": "1.5.0",
            "_model_name": "ProgressStyleModel",
            "_view_count": null,
            "_view_module": "@jupyter-widgets/base",
            "_view_module_version": "1.2.0",
            "_view_name": "StyleView",
            "bar_color": null,
            "description_width": ""
          }
        },
        "2965a505e9d84f9a9f51fb220b10707f": {
          "model_module": "@jupyter-widgets/base",
          "model_name": "LayoutModel",
          "model_module_version": "1.2.0",
          "state": {
            "_model_module": "@jupyter-widgets/base",
            "_model_module_version": "1.2.0",
            "_model_name": "LayoutModel",
            "_view_count": null,
            "_view_module": "@jupyter-widgets/base",
            "_view_module_version": "1.2.0",
            "_view_name": "LayoutView",
            "align_content": null,
            "align_items": null,
            "align_self": null,
            "border": null,
            "bottom": null,
            "display": null,
            "flex": null,
            "flex_flow": null,
            "grid_area": null,
            "grid_auto_columns": null,
            "grid_auto_flow": null,
            "grid_auto_rows": null,
            "grid_column": null,
            "grid_gap": null,
            "grid_row": null,
            "grid_template_areas": null,
            "grid_template_columns": null,
            "grid_template_rows": null,
            "height": null,
            "justify_content": null,
            "justify_items": null,
            "left": null,
            "margin": null,
            "max_height": null,
            "max_width": null,
            "min_height": null,
            "min_width": null,
            "object_fit": null,
            "object_position": null,
            "order": null,
            "overflow": null,
            "overflow_x": null,
            "overflow_y": null,
            "padding": null,
            "right": null,
            "top": null,
            "visibility": null,
            "width": null
          }
        },
        "2b18402f79074663b9a76ecf36f756a3": {
          "model_module": "@jupyter-widgets/controls",
          "model_name": "DescriptionStyleModel",
          "model_module_version": "1.5.0",
          "state": {
            "_model_module": "@jupyter-widgets/controls",
            "_model_module_version": "1.5.0",
            "_model_name": "DescriptionStyleModel",
            "_view_count": null,
            "_view_module": "@jupyter-widgets/base",
            "_view_module_version": "1.2.0",
            "_view_name": "StyleView",
            "description_width": ""
          }
        },
        "0a7dcebbbd274ea0878c24ed814d9e4d": {
          "model_module": "@jupyter-widgets/controls",
          "model_name": "HBoxModel",
          "model_module_version": "1.5.0",
          "state": {
            "_dom_classes": [],
            "_model_module": "@jupyter-widgets/controls",
            "_model_module_version": "1.5.0",
            "_model_name": "HBoxModel",
            "_view_count": null,
            "_view_module": "@jupyter-widgets/controls",
            "_view_module_version": "1.5.0",
            "_view_name": "HBoxView",
            "box_style": "",
            "children": [
              "IPY_MODEL_bbc4e41a0ae34970a21750d47573c655",
              "IPY_MODEL_a4fb8c19302c470b835c41ce7e425f9e",
              "IPY_MODEL_9efaa74467154b98a5746acb638c8832"
            ],
            "layout": "IPY_MODEL_5704ed31e45b41cbb8b5a8507348f17e"
          }
        },
        "bbc4e41a0ae34970a21750d47573c655": {
          "model_module": "@jupyter-widgets/controls",
          "model_name": "HTMLModel",
          "model_module_version": "1.5.0",
          "state": {
            "_dom_classes": [],
            "_model_module": "@jupyter-widgets/controls",
            "_model_module_version": "1.5.0",
            "_model_name": "HTMLModel",
            "_view_count": null,
            "_view_module": "@jupyter-widgets/controls",
            "_view_module_version": "1.5.0",
            "_view_name": "HTMLView",
            "description": "",
            "description_tooltip": null,
            "layout": "IPY_MODEL_6d3c9e358e0a4072bd68af01917a14c9",
            "placeholder": "​",
            "style": "IPY_MODEL_6a94114dd1bb4851957e43ea6e403f7b",
            "value": "model-00002-of-00002.safetensors: 100%"
          }
        },
        "a4fb8c19302c470b835c41ce7e425f9e": {
          "model_module": "@jupyter-widgets/controls",
          "model_name": "FloatProgressModel",
          "model_module_version": "1.5.0",
          "state": {
            "_dom_classes": [],
            "_model_module": "@jupyter-widgets/controls",
            "_model_module_version": "1.5.0",
            "_model_name": "FloatProgressModel",
            "_view_count": null,
            "_view_module": "@jupyter-widgets/controls",
            "_view_module_version": "1.5.0",
            "_view_name": "ProgressView",
            "bar_style": "success",
            "description": "",
            "description_tooltip": null,
            "layout": "IPY_MODEL_87ed7a761fa444eb9c06001440cf8ecf",
            "max": 2203268048,
            "min": 0,
            "orientation": "horizontal",
            "style": "IPY_MODEL_73458acbb2c74f2abf0f6e13d2f56c7b",
            "value": 2203268048
          }
        },
        "9efaa74467154b98a5746acb638c8832": {
          "model_module": "@jupyter-widgets/controls",
          "model_name": "HTMLModel",
          "model_module_version": "1.5.0",
          "state": {
            "_dom_classes": [],
            "_model_module": "@jupyter-widgets/controls",
            "_model_module_version": "1.5.0",
            "_model_name": "HTMLModel",
            "_view_count": null,
            "_view_module": "@jupyter-widgets/controls",
            "_view_module_version": "1.5.0",
            "_view_name": "HTMLView",
            "description": "",
            "description_tooltip": null,
            "layout": "IPY_MODEL_7d6e62c3d3ab4c3bb437f362fd2b5592",
            "placeholder": "​",
            "style": "IPY_MODEL_3ace5cbfc689438b96f2df860abe1c22",
            "value": " 2.20G/2.20G [00:52&lt;00:00, 42.5MB/s]"
          }
        },
        "5704ed31e45b41cbb8b5a8507348f17e": {
          "model_module": "@jupyter-widgets/base",
          "model_name": "LayoutModel",
          "model_module_version": "1.2.0",
          "state": {
            "_model_module": "@jupyter-widgets/base",
            "_model_module_version": "1.2.0",
            "_model_name": "LayoutModel",
            "_view_count": null,
            "_view_module": "@jupyter-widgets/base",
            "_view_module_version": "1.2.0",
            "_view_name": "LayoutView",
            "align_content": null,
            "align_items": null,
            "align_self": null,
            "border": null,
            "bottom": null,
            "display": null,
            "flex": null,
            "flex_flow": null,
            "grid_area": null,
            "grid_auto_columns": null,
            "grid_auto_flow": null,
            "grid_auto_rows": null,
            "grid_column": null,
            "grid_gap": null,
            "grid_row": null,
            "grid_template_areas": null,
            "grid_template_columns": null,
            "grid_template_rows": null,
            "height": null,
            "justify_content": null,
            "justify_items": null,
            "left": null,
            "margin": null,
            "max_height": null,
            "max_width": null,
            "min_height": null,
            "min_width": null,
            "object_fit": null,
            "object_position": null,
            "order": null,
            "overflow": null,
            "overflow_x": null,
            "overflow_y": null,
            "padding": null,
            "right": null,
            "top": null,
            "visibility": null,
            "width": null
          }
        },
        "6d3c9e358e0a4072bd68af01917a14c9": {
          "model_module": "@jupyter-widgets/base",
          "model_name": "LayoutModel",
          "model_module_version": "1.2.0",
          "state": {
            "_model_module": "@jupyter-widgets/base",
            "_model_module_version": "1.2.0",
            "_model_name": "LayoutModel",
            "_view_count": null,
            "_view_module": "@jupyter-widgets/base",
            "_view_module_version": "1.2.0",
            "_view_name": "LayoutView",
            "align_content": null,
            "align_items": null,
            "align_self": null,
            "border": null,
            "bottom": null,
            "display": null,
            "flex": null,
            "flex_flow": null,
            "grid_area": null,
            "grid_auto_columns": null,
            "grid_auto_flow": null,
            "grid_auto_rows": null,
            "grid_column": null,
            "grid_gap": null,
            "grid_row": null,
            "grid_template_areas": null,
            "grid_template_columns": null,
            "grid_template_rows": null,
            "height": null,
            "justify_content": null,
            "justify_items": null,
            "left": null,
            "margin": null,
            "max_height": null,
            "max_width": null,
            "min_height": null,
            "min_width": null,
            "object_fit": null,
            "object_position": null,
            "order": null,
            "overflow": null,
            "overflow_x": null,
            "overflow_y": null,
            "padding": null,
            "right": null,
            "top": null,
            "visibility": null,
            "width": null
          }
        },
        "6a94114dd1bb4851957e43ea6e403f7b": {
          "model_module": "@jupyter-widgets/controls",
          "model_name": "DescriptionStyleModel",
          "model_module_version": "1.5.0",
          "state": {
            "_model_module": "@jupyter-widgets/controls",
            "_model_module_version": "1.5.0",
            "_model_name": "DescriptionStyleModel",
            "_view_count": null,
            "_view_module": "@jupyter-widgets/base",
            "_view_module_version": "1.2.0",
            "_view_name": "StyleView",
            "description_width": ""
          }
        },
        "87ed7a761fa444eb9c06001440cf8ecf": {
          "model_module": "@jupyter-widgets/base",
          "model_name": "LayoutModel",
          "model_module_version": "1.2.0",
          "state": {
            "_model_module": "@jupyter-widgets/base",
            "_model_module_version": "1.2.0",
            "_model_name": "LayoutModel",
            "_view_count": null,
            "_view_module": "@jupyter-widgets/base",
            "_view_module_version": "1.2.0",
            "_view_name": "LayoutView",
            "align_content": null,
            "align_items": null,
            "align_self": null,
            "border": null,
            "bottom": null,
            "display": null,
            "flex": null,
            "flex_flow": null,
            "grid_area": null,
            "grid_auto_columns": null,
            "grid_auto_flow": null,
            "grid_auto_rows": null,
            "grid_column": null,
            "grid_gap": null,
            "grid_row": null,
            "grid_template_areas": null,
            "grid_template_columns": null,
            "grid_template_rows": null,
            "height": null,
            "justify_content": null,
            "justify_items": null,
            "left": null,
            "margin": null,
            "max_height": null,
            "max_width": null,
            "min_height": null,
            "min_width": null,
            "object_fit": null,
            "object_position": null,
            "order": null,
            "overflow": null,
            "overflow_x": null,
            "overflow_y": null,
            "padding": null,
            "right": null,
            "top": null,
            "visibility": null,
            "width": null
          }
        },
        "73458acbb2c74f2abf0f6e13d2f56c7b": {
          "model_module": "@jupyter-widgets/controls",
          "model_name": "ProgressStyleModel",
          "model_module_version": "1.5.0",
          "state": {
            "_model_module": "@jupyter-widgets/controls",
            "_model_module_version": "1.5.0",
            "_model_name": "ProgressStyleModel",
            "_view_count": null,
            "_view_module": "@jupyter-widgets/base",
            "_view_module_version": "1.2.0",
            "_view_name": "StyleView",
            "bar_color": null,
            "description_width": ""
          }
        },
        "7d6e62c3d3ab4c3bb437f362fd2b5592": {
          "model_module": "@jupyter-widgets/base",
          "model_name": "LayoutModel",
          "model_module_version": "1.2.0",
          "state": {
            "_model_module": "@jupyter-widgets/base",
            "_model_module_version": "1.2.0",
            "_model_name": "LayoutModel",
            "_view_count": null,
            "_view_module": "@jupyter-widgets/base",
            "_view_module_version": "1.2.0",
            "_view_name": "LayoutView",
            "align_content": null,
            "align_items": null,
            "align_self": null,
            "border": null,
            "bottom": null,
            "display": null,
            "flex": null,
            "flex_flow": null,
            "grid_area": null,
            "grid_auto_columns": null,
            "grid_auto_flow": null,
            "grid_auto_rows": null,
            "grid_column": null,
            "grid_gap": null,
            "grid_row": null,
            "grid_template_areas": null,
            "grid_template_columns": null,
            "grid_template_rows": null,
            "height": null,
            "justify_content": null,
            "justify_items": null,
            "left": null,
            "margin": null,
            "max_height": null,
            "max_width": null,
            "min_height": null,
            "min_width": null,
            "object_fit": null,
            "object_position": null,
            "order": null,
            "overflow": null,
            "overflow_x": null,
            "overflow_y": null,
            "padding": null,
            "right": null,
            "top": null,
            "visibility": null,
            "width": null
          }
        },
        "3ace5cbfc689438b96f2df860abe1c22": {
          "model_module": "@jupyter-widgets/controls",
          "model_name": "DescriptionStyleModel",
          "model_module_version": "1.5.0",
          "state": {
            "_model_module": "@jupyter-widgets/controls",
            "_model_module_version": "1.5.0",
            "_model_name": "DescriptionStyleModel",
            "_view_count": null,
            "_view_module": "@jupyter-widgets/base",
            "_view_module_version": "1.2.0",
            "_view_name": "StyleView",
            "description_width": ""
          }
        },
        "96aa16f6b9d54f1c8bcc102c5c8e84bd": {
          "model_module": "@jupyter-widgets/controls",
          "model_name": "HBoxModel",
          "model_module_version": "1.5.0",
          "state": {
            "_dom_classes": [],
            "_model_module": "@jupyter-widgets/controls",
            "_model_module_version": "1.5.0",
            "_model_name": "HBoxModel",
            "_view_count": null,
            "_view_module": "@jupyter-widgets/controls",
            "_view_module_version": "1.5.0",
            "_view_name": "HBoxView",
            "box_style": "",
            "children": [
              "IPY_MODEL_6b2c036a68bf4e14904ccd6ceed74dd7",
              "IPY_MODEL_0cba9ab9511a41a3a91b794fe45f413d",
              "IPY_MODEL_2e51d77940e6447f96ae1e207992d91d"
            ],
            "layout": "IPY_MODEL_ca37dc74f21e4b43827ad40bdb38e523"
          }
        },
        "6b2c036a68bf4e14904ccd6ceed74dd7": {
          "model_module": "@jupyter-widgets/controls",
          "model_name": "HTMLModel",
          "model_module_version": "1.5.0",
          "state": {
            "_dom_classes": [],
            "_model_module": "@jupyter-widgets/controls",
            "_model_module_version": "1.5.0",
            "_model_name": "HTMLModel",
            "_view_count": null,
            "_view_module": "@jupyter-widgets/controls",
            "_view_module_version": "1.5.0",
            "_view_name": "HTMLView",
            "description": "",
            "description_tooltip": null,
            "layout": "IPY_MODEL_3d9ec0f621bc49c8917608a2321bd361",
            "placeholder": "​",
            "style": "IPY_MODEL_e13823c46d444a94be42a7af8ce57d59",
            "value": "Loading checkpoint shards: 100%"
          }
        },
        "0cba9ab9511a41a3a91b794fe45f413d": {
          "model_module": "@jupyter-widgets/controls",
          "model_name": "FloatProgressModel",
          "model_module_version": "1.5.0",
          "state": {
            "_dom_classes": [],
            "_model_module": "@jupyter-widgets/controls",
            "_model_module_version": "1.5.0",
            "_model_name": "FloatProgressModel",
            "_view_count": null,
            "_view_module": "@jupyter-widgets/controls",
            "_view_module_version": "1.5.0",
            "_view_name": "ProgressView",
            "bar_style": "success",
            "description": "",
            "description_tooltip": null,
            "layout": "IPY_MODEL_5507d653266d49cda19d203aae2b84e6",
            "max": 2,
            "min": 0,
            "orientation": "horizontal",
            "style": "IPY_MODEL_791c39805b1748e0918912acc797f3be",
            "value": 2
          }
        },
        "2e51d77940e6447f96ae1e207992d91d": {
          "model_module": "@jupyter-widgets/controls",
          "model_name": "HTMLModel",
          "model_module_version": "1.5.0",
          "state": {
            "_dom_classes": [],
            "_model_module": "@jupyter-widgets/controls",
            "_model_module_version": "1.5.0",
            "_model_name": "HTMLModel",
            "_view_count": null,
            "_view_module": "@jupyter-widgets/controls",
            "_view_module_version": "1.5.0",
            "_view_name": "HTMLView",
            "description": "",
            "description_tooltip": null,
            "layout": "IPY_MODEL_913dd961c8704b7bbba379ec605fb887",
            "placeholder": "​",
            "style": "IPY_MODEL_1c86395f6dfc4eeeaabf0e7aead43cc7",
            "value": " 2/2 [00:05&lt;00:00,  2.71s/it]"
          }
        },
        "ca37dc74f21e4b43827ad40bdb38e523": {
          "model_module": "@jupyter-widgets/base",
          "model_name": "LayoutModel",
          "model_module_version": "1.2.0",
          "state": {
            "_model_module": "@jupyter-widgets/base",
            "_model_module_version": "1.2.0",
            "_model_name": "LayoutModel",
            "_view_count": null,
            "_view_module": "@jupyter-widgets/base",
            "_view_module_version": "1.2.0",
            "_view_name": "LayoutView",
            "align_content": null,
            "align_items": null,
            "align_self": null,
            "border": null,
            "bottom": null,
            "display": null,
            "flex": null,
            "flex_flow": null,
            "grid_area": null,
            "grid_auto_columns": null,
            "grid_auto_flow": null,
            "grid_auto_rows": null,
            "grid_column": null,
            "grid_gap": null,
            "grid_row": null,
            "grid_template_areas": null,
            "grid_template_columns": null,
            "grid_template_rows": null,
            "height": null,
            "justify_content": null,
            "justify_items": null,
            "left": null,
            "margin": null,
            "max_height": null,
            "max_width": null,
            "min_height": null,
            "min_width": null,
            "object_fit": null,
            "object_position": null,
            "order": null,
            "overflow": null,
            "overflow_x": null,
            "overflow_y": null,
            "padding": null,
            "right": null,
            "top": null,
            "visibility": null,
            "width": null
          }
        },
        "3d9ec0f621bc49c8917608a2321bd361": {
          "model_module": "@jupyter-widgets/base",
          "model_name": "LayoutModel",
          "model_module_version": "1.2.0",
          "state": {
            "_model_module": "@jupyter-widgets/base",
            "_model_module_version": "1.2.0",
            "_model_name": "LayoutModel",
            "_view_count": null,
            "_view_module": "@jupyter-widgets/base",
            "_view_module_version": "1.2.0",
            "_view_name": "LayoutView",
            "align_content": null,
            "align_items": null,
            "align_self": null,
            "border": null,
            "bottom": null,
            "display": null,
            "flex": null,
            "flex_flow": null,
            "grid_area": null,
            "grid_auto_columns": null,
            "grid_auto_flow": null,
            "grid_auto_rows": null,
            "grid_column": null,
            "grid_gap": null,
            "grid_row": null,
            "grid_template_areas": null,
            "grid_template_columns": null,
            "grid_template_rows": null,
            "height": null,
            "justify_content": null,
            "justify_items": null,
            "left": null,
            "margin": null,
            "max_height": null,
            "max_width": null,
            "min_height": null,
            "min_width": null,
            "object_fit": null,
            "object_position": null,
            "order": null,
            "overflow": null,
            "overflow_x": null,
            "overflow_y": null,
            "padding": null,
            "right": null,
            "top": null,
            "visibility": null,
            "width": null
          }
        },
        "e13823c46d444a94be42a7af8ce57d59": {
          "model_module": "@jupyter-widgets/controls",
          "model_name": "DescriptionStyleModel",
          "model_module_version": "1.5.0",
          "state": {
            "_model_module": "@jupyter-widgets/controls",
            "_model_module_version": "1.5.0",
            "_model_name": "DescriptionStyleModel",
            "_view_count": null,
            "_view_module": "@jupyter-widgets/base",
            "_view_module_version": "1.2.0",
            "_view_name": "StyleView",
            "description_width": ""
          }
        },
        "5507d653266d49cda19d203aae2b84e6": {
          "model_module": "@jupyter-widgets/base",
          "model_name": "LayoutModel",
          "model_module_version": "1.2.0",
          "state": {
            "_model_module": "@jupyter-widgets/base",
            "_model_module_version": "1.2.0",
            "_model_name": "LayoutModel",
            "_view_count": null,
            "_view_module": "@jupyter-widgets/base",
            "_view_module_version": "1.2.0",
            "_view_name": "LayoutView",
            "align_content": null,
            "align_items": null,
            "align_self": null,
            "border": null,
            "bottom": null,
            "display": null,
            "flex": null,
            "flex_flow": null,
            "grid_area": null,
            "grid_auto_columns": null,
            "grid_auto_flow": null,
            "grid_auto_rows": null,
            "grid_column": null,
            "grid_gap": null,
            "grid_row": null,
            "grid_template_areas": null,
            "grid_template_columns": null,
            "grid_template_rows": null,
            "height": null,
            "justify_content": null,
            "justify_items": null,
            "left": null,
            "margin": null,
            "max_height": null,
            "max_width": null,
            "min_height": null,
            "min_width": null,
            "object_fit": null,
            "object_position": null,
            "order": null,
            "overflow": null,
            "overflow_x": null,
            "overflow_y": null,
            "padding": null,
            "right": null,
            "top": null,
            "visibility": null,
            "width": null
          }
        },
        "791c39805b1748e0918912acc797f3be": {
          "model_module": "@jupyter-widgets/controls",
          "model_name": "ProgressStyleModel",
          "model_module_version": "1.5.0",
          "state": {
            "_model_module": "@jupyter-widgets/controls",
            "_model_module_version": "1.5.0",
            "_model_name": "ProgressStyleModel",
            "_view_count": null,
            "_view_module": "@jupyter-widgets/base",
            "_view_module_version": "1.2.0",
            "_view_name": "StyleView",
            "bar_color": null,
            "description_width": ""
          }
        },
        "913dd961c8704b7bbba379ec605fb887": {
          "model_module": "@jupyter-widgets/base",
          "model_name": "LayoutModel",
          "model_module_version": "1.2.0",
          "state": {
            "_model_module": "@jupyter-widgets/base",
            "_model_module_version": "1.2.0",
            "_model_name": "LayoutModel",
            "_view_count": null,
            "_view_module": "@jupyter-widgets/base",
            "_view_module_version": "1.2.0",
            "_view_name": "LayoutView",
            "align_content": null,
            "align_items": null,
            "align_self": null,
            "border": null,
            "bottom": null,
            "display": null,
            "flex": null,
            "flex_flow": null,
            "grid_area": null,
            "grid_auto_columns": null,
            "grid_auto_flow": null,
            "grid_auto_rows": null,
            "grid_column": null,
            "grid_gap": null,
            "grid_row": null,
            "grid_template_areas": null,
            "grid_template_columns": null,
            "grid_template_rows": null,
            "height": null,
            "justify_content": null,
            "justify_items": null,
            "left": null,
            "margin": null,
            "max_height": null,
            "max_width": null,
            "min_height": null,
            "min_width": null,
            "object_fit": null,
            "object_position": null,
            "order": null,
            "overflow": null,
            "overflow_x": null,
            "overflow_y": null,
            "padding": null,
            "right": null,
            "top": null,
            "visibility": null,
            "width": null
          }
        },
        "1c86395f6dfc4eeeaabf0e7aead43cc7": {
          "model_module": "@jupyter-widgets/controls",
          "model_name": "DescriptionStyleModel",
          "model_module_version": "1.5.0",
          "state": {
            "_model_module": "@jupyter-widgets/controls",
            "_model_module_version": "1.5.0",
            "_model_name": "DescriptionStyleModel",
            "_view_count": null,
            "_view_module": "@jupyter-widgets/base",
            "_view_module_version": "1.2.0",
            "_view_name": "StyleView",
            "description_width": ""
          }
        },
        "7163d7187fa149778fb97301446101e5": {
          "model_module": "@jupyter-widgets/controls",
          "model_name": "HBoxModel",
          "model_module_version": "1.5.0",
          "state": {
            "_dom_classes": [],
            "_model_module": "@jupyter-widgets/controls",
            "_model_module_version": "1.5.0",
            "_model_name": "HBoxModel",
            "_view_count": null,
            "_view_module": "@jupyter-widgets/controls",
            "_view_module_version": "1.5.0",
            "_view_name": "HBoxView",
            "box_style": "",
            "children": [
              "IPY_MODEL_0ef103a6a27547619ed029dc43ed6a5a",
              "IPY_MODEL_f848e92cf4924f7e861f6c52f943f24f",
              "IPY_MODEL_71808c1b8e54415db66572da787caecf"
            ],
            "layout": "IPY_MODEL_293505aa3c9f458aa9642f89e36ae7dc"
          }
        },
        "0ef103a6a27547619ed029dc43ed6a5a": {
          "model_module": "@jupyter-widgets/controls",
          "model_name": "HTMLModel",
          "model_module_version": "1.5.0",
          "state": {
            "_dom_classes": [],
            "_model_module": "@jupyter-widgets/controls",
            "_model_module_version": "1.5.0",
            "_model_name": "HTMLModel",
            "_view_count": null,
            "_view_module": "@jupyter-widgets/controls",
            "_view_module_version": "1.5.0",
            "_view_name": "HTMLView",
            "description": "",
            "description_tooltip": null,
            "layout": "IPY_MODEL_b05490e418264369af3ae75b7f412088",
            "placeholder": "​",
            "style": "IPY_MODEL_1373823ddc8e4f9ab0434c2640655659",
            "value": "generation_config.json: 100%"
          }
        },
        "f848e92cf4924f7e861f6c52f943f24f": {
          "model_module": "@jupyter-widgets/controls",
          "model_name": "FloatProgressModel",
          "model_module_version": "1.5.0",
          "state": {
            "_dom_classes": [],
            "_model_module": "@jupyter-widgets/controls",
            "_model_module_version": "1.5.0",
            "_model_name": "FloatProgressModel",
            "_view_count": null,
            "_view_module": "@jupyter-widgets/controls",
            "_view_module_version": "1.5.0",
            "_view_name": "ProgressView",
            "bar_style": "success",
            "description": "",
            "description_tooltip": null,
            "layout": "IPY_MODEL_5adc82d9268e498f93abb9a0df740bb9",
            "max": 242,
            "min": 0,
            "orientation": "horizontal",
            "style": "IPY_MODEL_ace5b6fd36ca4da39da617ae7f58e5a2",
            "value": 242
          }
        },
        "71808c1b8e54415db66572da787caecf": {
          "model_module": "@jupyter-widgets/controls",
          "model_name": "HTMLModel",
          "model_module_version": "1.5.0",
          "state": {
            "_dom_classes": [],
            "_model_module": "@jupyter-widgets/controls",
            "_model_module_version": "1.5.0",
            "_model_name": "HTMLModel",
            "_view_count": null,
            "_view_module": "@jupyter-widgets/controls",
            "_view_module_version": "1.5.0",
            "_view_name": "HTMLView",
            "description": "",
            "description_tooltip": null,
            "layout": "IPY_MODEL_351f1d5efc0d477e87b882b53e4f91ad",
            "placeholder": "​",
            "style": "IPY_MODEL_d0d23fc0687e474fb2a5cfc1a2e71a26",
            "value": " 242/242 [00:00&lt;00:00, 20.5kB/s]"
          }
        },
        "293505aa3c9f458aa9642f89e36ae7dc": {
          "model_module": "@jupyter-widgets/base",
          "model_name": "LayoutModel",
          "model_module_version": "1.2.0",
          "state": {
            "_model_module": "@jupyter-widgets/base",
            "_model_module_version": "1.2.0",
            "_model_name": "LayoutModel",
            "_view_count": null,
            "_view_module": "@jupyter-widgets/base",
            "_view_module_version": "1.2.0",
            "_view_name": "LayoutView",
            "align_content": null,
            "align_items": null,
            "align_self": null,
            "border": null,
            "bottom": null,
            "display": null,
            "flex": null,
            "flex_flow": null,
            "grid_area": null,
            "grid_auto_columns": null,
            "grid_auto_flow": null,
            "grid_auto_rows": null,
            "grid_column": null,
            "grid_gap": null,
            "grid_row": null,
            "grid_template_areas": null,
            "grid_template_columns": null,
            "grid_template_rows": null,
            "height": null,
            "justify_content": null,
            "justify_items": null,
            "left": null,
            "margin": null,
            "max_height": null,
            "max_width": null,
            "min_height": null,
            "min_width": null,
            "object_fit": null,
            "object_position": null,
            "order": null,
            "overflow": null,
            "overflow_x": null,
            "overflow_y": null,
            "padding": null,
            "right": null,
            "top": null,
            "visibility": null,
            "width": null
          }
        },
        "b05490e418264369af3ae75b7f412088": {
          "model_module": "@jupyter-widgets/base",
          "model_name": "LayoutModel",
          "model_module_version": "1.2.0",
          "state": {
            "_model_module": "@jupyter-widgets/base",
            "_model_module_version": "1.2.0",
            "_model_name": "LayoutModel",
            "_view_count": null,
            "_view_module": "@jupyter-widgets/base",
            "_view_module_version": "1.2.0",
            "_view_name": "LayoutView",
            "align_content": null,
            "align_items": null,
            "align_self": null,
            "border": null,
            "bottom": null,
            "display": null,
            "flex": null,
            "flex_flow": null,
            "grid_area": null,
            "grid_auto_columns": null,
            "grid_auto_flow": null,
            "grid_auto_rows": null,
            "grid_column": null,
            "grid_gap": null,
            "grid_row": null,
            "grid_template_areas": null,
            "grid_template_columns": null,
            "grid_template_rows": null,
            "height": null,
            "justify_content": null,
            "justify_items": null,
            "left": null,
            "margin": null,
            "max_height": null,
            "max_width": null,
            "min_height": null,
            "min_width": null,
            "object_fit": null,
            "object_position": null,
            "order": null,
            "overflow": null,
            "overflow_x": null,
            "overflow_y": null,
            "padding": null,
            "right": null,
            "top": null,
            "visibility": null,
            "width": null
          }
        },
        "1373823ddc8e4f9ab0434c2640655659": {
          "model_module": "@jupyter-widgets/controls",
          "model_name": "DescriptionStyleModel",
          "model_module_version": "1.5.0",
          "state": {
            "_model_module": "@jupyter-widgets/controls",
            "_model_module_version": "1.5.0",
            "_model_name": "DescriptionStyleModel",
            "_view_count": null,
            "_view_module": "@jupyter-widgets/base",
            "_view_module_version": "1.2.0",
            "_view_name": "StyleView",
            "description_width": ""
          }
        },
        "5adc82d9268e498f93abb9a0df740bb9": {
          "model_module": "@jupyter-widgets/base",
          "model_name": "LayoutModel",
          "model_module_version": "1.2.0",
          "state": {
            "_model_module": "@jupyter-widgets/base",
            "_model_module_version": "1.2.0",
            "_model_name": "LayoutModel",
            "_view_count": null,
            "_view_module": "@jupyter-widgets/base",
            "_view_module_version": "1.2.0",
            "_view_name": "LayoutView",
            "align_content": null,
            "align_items": null,
            "align_self": null,
            "border": null,
            "bottom": null,
            "display": null,
            "flex": null,
            "flex_flow": null,
            "grid_area": null,
            "grid_auto_columns": null,
            "grid_auto_flow": null,
            "grid_auto_rows": null,
            "grid_column": null,
            "grid_gap": null,
            "grid_row": null,
            "grid_template_areas": null,
            "grid_template_columns": null,
            "grid_template_rows": null,
            "height": null,
            "justify_content": null,
            "justify_items": null,
            "left": null,
            "margin": null,
            "max_height": null,
            "max_width": null,
            "min_height": null,
            "min_width": null,
            "object_fit": null,
            "object_position": null,
            "order": null,
            "overflow": null,
            "overflow_x": null,
            "overflow_y": null,
            "padding": null,
            "right": null,
            "top": null,
            "visibility": null,
            "width": null
          }
        },
        "ace5b6fd36ca4da39da617ae7f58e5a2": {
          "model_module": "@jupyter-widgets/controls",
          "model_name": "ProgressStyleModel",
          "model_module_version": "1.5.0",
          "state": {
            "_model_module": "@jupyter-widgets/controls",
            "_model_module_version": "1.5.0",
            "_model_name": "ProgressStyleModel",
            "_view_count": null,
            "_view_module": "@jupyter-widgets/base",
            "_view_module_version": "1.2.0",
            "_view_name": "StyleView",
            "bar_color": null,
            "description_width": ""
          }
        },
        "351f1d5efc0d477e87b882b53e4f91ad": {
          "model_module": "@jupyter-widgets/base",
          "model_name": "LayoutModel",
          "model_module_version": "1.2.0",
          "state": {
            "_model_module": "@jupyter-widgets/base",
            "_model_module_version": "1.2.0",
            "_model_name": "LayoutModel",
            "_view_count": null,
            "_view_module": "@jupyter-widgets/base",
            "_view_module_version": "1.2.0",
            "_view_name": "LayoutView",
            "align_content": null,
            "align_items": null,
            "align_self": null,
            "border": null,
            "bottom": null,
            "display": null,
            "flex": null,
            "flex_flow": null,
            "grid_area": null,
            "grid_auto_columns": null,
            "grid_auto_flow": null,
            "grid_auto_rows": null,
            "grid_column": null,
            "grid_gap": null,
            "grid_row": null,
            "grid_template_areas": null,
            "grid_template_columns": null,
            "grid_template_rows": null,
            "height": null,
            "justify_content": null,
            "justify_items": null,
            "left": null,
            "margin": null,
            "max_height": null,
            "max_width": null,
            "min_height": null,
            "min_width": null,
            "object_fit": null,
            "object_position": null,
            "order": null,
            "overflow": null,
            "overflow_x": null,
            "overflow_y": null,
            "padding": null,
            "right": null,
            "top": null,
            "visibility": null,
            "width": null
          }
        },
        "d0d23fc0687e474fb2a5cfc1a2e71a26": {
          "model_module": "@jupyter-widgets/controls",
          "model_name": "DescriptionStyleModel",
          "model_module_version": "1.5.0",
          "state": {
            "_model_module": "@jupyter-widgets/controls",
            "_model_module_version": "1.5.0",
            "_model_name": "DescriptionStyleModel",
            "_view_count": null,
            "_view_module": "@jupyter-widgets/base",
            "_view_module_version": "1.2.0",
            "_view_name": "StyleView",
            "description_width": ""
          }
        },
        "8682c6c5607d4ee79d35b12c7f52f791": {
          "model_module": "@jupyter-widgets/controls",
          "model_name": "HBoxModel",
          "model_module_version": "1.5.0",
          "state": {
            "_dom_classes": [],
            "_model_module": "@jupyter-widgets/controls",
            "_model_module_version": "1.5.0",
            "_model_name": "HBoxModel",
            "_view_count": null,
            "_view_module": "@jupyter-widgets/controls",
            "_view_module_version": "1.5.0",
            "_view_name": "HBoxView",
            "box_style": "",
            "children": [
              "IPY_MODEL_a1abfeb1733247c98f6efb9037168cc3",
              "IPY_MODEL_51ae3646518c445ca069044b095a800c",
              "IPY_MODEL_4ee99f955b6e4e2ab57d9a3df68411a3"
            ],
            "layout": "IPY_MODEL_0349a72bee9d44b09ba52a8fd6773854"
          }
        },
        "a1abfeb1733247c98f6efb9037168cc3": {
          "model_module": "@jupyter-widgets/controls",
          "model_name": "HTMLModel",
          "model_module_version": "1.5.0",
          "state": {
            "_dom_classes": [],
            "_model_module": "@jupyter-widgets/controls",
            "_model_module_version": "1.5.0",
            "_model_name": "HTMLModel",
            "_view_count": null,
            "_view_module": "@jupyter-widgets/controls",
            "_view_module_version": "1.5.0",
            "_view_name": "HTMLView",
            "description": "",
            "description_tooltip": null,
            "layout": "IPY_MODEL_f539a9bdefeb40faab70aec5054d699f",
            "placeholder": "​",
            "style": "IPY_MODEL_293d5b0bafe649cbb0155d4d8d711101",
            "value": "tokenizer_config.json: 100%"
          }
        },
        "51ae3646518c445ca069044b095a800c": {
          "model_module": "@jupyter-widgets/controls",
          "model_name": "FloatProgressModel",
          "model_module_version": "1.5.0",
          "state": {
            "_dom_classes": [],
            "_model_module": "@jupyter-widgets/controls",
            "_model_module_version": "1.5.0",
            "_model_name": "FloatProgressModel",
            "_view_count": null,
            "_view_module": "@jupyter-widgets/controls",
            "_view_module_version": "1.5.0",
            "_view_name": "ProgressView",
            "bar_style": "success",
            "description": "",
            "description_tooltip": null,
            "layout": "IPY_MODEL_bd5d9dcaf3394b24ae290a7b6aab69ca",
            "max": 7305,
            "min": 0,
            "orientation": "horizontal",
            "style": "IPY_MODEL_b5b48cfdfd004dfc8668c57e98b7391a",
            "value": 7305
          }
        },
        "4ee99f955b6e4e2ab57d9a3df68411a3": {
          "model_module": "@jupyter-widgets/controls",
          "model_name": "HTMLModel",
          "model_module_version": "1.5.0",
          "state": {
            "_dom_classes": [],
            "_model_module": "@jupyter-widgets/controls",
            "_model_module_version": "1.5.0",
            "_model_name": "HTMLModel",
            "_view_count": null,
            "_view_module": "@jupyter-widgets/controls",
            "_view_module_version": "1.5.0",
            "_view_name": "HTMLView",
            "description": "",
            "description_tooltip": null,
            "layout": "IPY_MODEL_2e97a7b5d6e245718ae8273a7fdc09e5",
            "placeholder": "​",
            "style": "IPY_MODEL_88a78abbf22d4fb5acef80589a2131c7",
            "value": " 7.30k/7.30k [00:00&lt;00:00, 613kB/s]"
          }
        },
        "0349a72bee9d44b09ba52a8fd6773854": {
          "model_module": "@jupyter-widgets/base",
          "model_name": "LayoutModel",
          "model_module_version": "1.2.0",
          "state": {
            "_model_module": "@jupyter-widgets/base",
            "_model_module_version": "1.2.0",
            "_model_name": "LayoutModel",
            "_view_count": null,
            "_view_module": "@jupyter-widgets/base",
            "_view_module_version": "1.2.0",
            "_view_name": "LayoutView",
            "align_content": null,
            "align_items": null,
            "align_self": null,
            "border": null,
            "bottom": null,
            "display": null,
            "flex": null,
            "flex_flow": null,
            "grid_area": null,
            "grid_auto_columns": null,
            "grid_auto_flow": null,
            "grid_auto_rows": null,
            "grid_column": null,
            "grid_gap": null,
            "grid_row": null,
            "grid_template_areas": null,
            "grid_template_columns": null,
            "grid_template_rows": null,
            "height": null,
            "justify_content": null,
            "justify_items": null,
            "left": null,
            "margin": null,
            "max_height": null,
            "max_width": null,
            "min_height": null,
            "min_width": null,
            "object_fit": null,
            "object_position": null,
            "order": null,
            "overflow": null,
            "overflow_x": null,
            "overflow_y": null,
            "padding": null,
            "right": null,
            "top": null,
            "visibility": null,
            "width": null
          }
        },
        "f539a9bdefeb40faab70aec5054d699f": {
          "model_module": "@jupyter-widgets/base",
          "model_name": "LayoutModel",
          "model_module_version": "1.2.0",
          "state": {
            "_model_module": "@jupyter-widgets/base",
            "_model_module_version": "1.2.0",
            "_model_name": "LayoutModel",
            "_view_count": null,
            "_view_module": "@jupyter-widgets/base",
            "_view_module_version": "1.2.0",
            "_view_name": "LayoutView",
            "align_content": null,
            "align_items": null,
            "align_self": null,
            "border": null,
            "bottom": null,
            "display": null,
            "flex": null,
            "flex_flow": null,
            "grid_area": null,
            "grid_auto_columns": null,
            "grid_auto_flow": null,
            "grid_auto_rows": null,
            "grid_column": null,
            "grid_gap": null,
            "grid_row": null,
            "grid_template_areas": null,
            "grid_template_columns": null,
            "grid_template_rows": null,
            "height": null,
            "justify_content": null,
            "justify_items": null,
            "left": null,
            "margin": null,
            "max_height": null,
            "max_width": null,
            "min_height": null,
            "min_width": null,
            "object_fit": null,
            "object_position": null,
            "order": null,
            "overflow": null,
            "overflow_x": null,
            "overflow_y": null,
            "padding": null,
            "right": null,
            "top": null,
            "visibility": null,
            "width": null
          }
        },
        "293d5b0bafe649cbb0155d4d8d711101": {
          "model_module": "@jupyter-widgets/controls",
          "model_name": "DescriptionStyleModel",
          "model_module_version": "1.5.0",
          "state": {
            "_model_module": "@jupyter-widgets/controls",
            "_model_module_version": "1.5.0",
            "_model_name": "DescriptionStyleModel",
            "_view_count": null,
            "_view_module": "@jupyter-widgets/base",
            "_view_module_version": "1.2.0",
            "_view_name": "StyleView",
            "description_width": ""
          }
        },
        "bd5d9dcaf3394b24ae290a7b6aab69ca": {
          "model_module": "@jupyter-widgets/base",
          "model_name": "LayoutModel",
          "model_module_version": "1.2.0",
          "state": {
            "_model_module": "@jupyter-widgets/base",
            "_model_module_version": "1.2.0",
            "_model_name": "LayoutModel",
            "_view_count": null,
            "_view_module": "@jupyter-widgets/base",
            "_view_module_version": "1.2.0",
            "_view_name": "LayoutView",
            "align_content": null,
            "align_items": null,
            "align_self": null,
            "border": null,
            "bottom": null,
            "display": null,
            "flex": null,
            "flex_flow": null,
            "grid_area": null,
            "grid_auto_columns": null,
            "grid_auto_flow": null,
            "grid_auto_rows": null,
            "grid_column": null,
            "grid_gap": null,
            "grid_row": null,
            "grid_template_areas": null,
            "grid_template_columns": null,
            "grid_template_rows": null,
            "height": null,
            "justify_content": null,
            "justify_items": null,
            "left": null,
            "margin": null,
            "max_height": null,
            "max_width": null,
            "min_height": null,
            "min_width": null,
            "object_fit": null,
            "object_position": null,
            "order": null,
            "overflow": null,
            "overflow_x": null,
            "overflow_y": null,
            "padding": null,
            "right": null,
            "top": null,
            "visibility": null,
            "width": null
          }
        },
        "b5b48cfdfd004dfc8668c57e98b7391a": {
          "model_module": "@jupyter-widgets/controls",
          "model_name": "ProgressStyleModel",
          "model_module_version": "1.5.0",
          "state": {
            "_model_module": "@jupyter-widgets/controls",
            "_model_module_version": "1.5.0",
            "_model_name": "ProgressStyleModel",
            "_view_count": null,
            "_view_module": "@jupyter-widgets/base",
            "_view_module_version": "1.2.0",
            "_view_name": "StyleView",
            "bar_color": null,
            "description_width": ""
          }
        },
        "2e97a7b5d6e245718ae8273a7fdc09e5": {
          "model_module": "@jupyter-widgets/base",
          "model_name": "LayoutModel",
          "model_module_version": "1.2.0",
          "state": {
            "_model_module": "@jupyter-widgets/base",
            "_model_module_version": "1.2.0",
            "_model_name": "LayoutModel",
            "_view_count": null,
            "_view_module": "@jupyter-widgets/base",
            "_view_module_version": "1.2.0",
            "_view_name": "LayoutView",
            "align_content": null,
            "align_items": null,
            "align_self": null,
            "border": null,
            "bottom": null,
            "display": null,
            "flex": null,
            "flex_flow": null,
            "grid_area": null,
            "grid_auto_columns": null,
            "grid_auto_flow": null,
            "grid_auto_rows": null,
            "grid_column": null,
            "grid_gap": null,
            "grid_row": null,
            "grid_template_areas": null,
            "grid_template_columns": null,
            "grid_template_rows": null,
            "height": null,
            "justify_content": null,
            "justify_items": null,
            "left": null,
            "margin": null,
            "max_height": null,
            "max_width": null,
            "min_height": null,
            "min_width": null,
            "object_fit": null,
            "object_position": null,
            "order": null,
            "overflow": null,
            "overflow_x": null,
            "overflow_y": null,
            "padding": null,
            "right": null,
            "top": null,
            "visibility": null,
            "width": null
          }
        },
        "88a78abbf22d4fb5acef80589a2131c7": {
          "model_module": "@jupyter-widgets/controls",
          "model_name": "DescriptionStyleModel",
          "model_module_version": "1.5.0",
          "state": {
            "_model_module": "@jupyter-widgets/controls",
            "_model_module_version": "1.5.0",
            "_model_name": "DescriptionStyleModel",
            "_view_count": null,
            "_view_module": "@jupyter-widgets/base",
            "_view_module_version": "1.2.0",
            "_view_name": "StyleView",
            "description_width": ""
          }
        },
        "21c8c2a40ba7430aa808bd598fb8631e": {
          "model_module": "@jupyter-widgets/controls",
          "model_name": "HBoxModel",
          "model_module_version": "1.5.0",
          "state": {
            "_dom_classes": [],
            "_model_module": "@jupyter-widgets/controls",
            "_model_module_version": "1.5.0",
            "_model_name": "HBoxModel",
            "_view_count": null,
            "_view_module": "@jupyter-widgets/controls",
            "_view_module_version": "1.5.0",
            "_view_name": "HBoxView",
            "box_style": "",
            "children": [
              "IPY_MODEL_c20d19716bca45d49d2c7628035ea933",
              "IPY_MODEL_71efc1164a3e4667b7a55e274cd4ce39",
              "IPY_MODEL_bbd17aec4c714b89abd3ed3e99206c4e"
            ],
            "layout": "IPY_MODEL_19c911bb8162463ba4c51a7a5800b377"
          }
        },
        "c20d19716bca45d49d2c7628035ea933": {
          "model_module": "@jupyter-widgets/controls",
          "model_name": "HTMLModel",
          "model_module_version": "1.5.0",
          "state": {
            "_dom_classes": [],
            "_model_module": "@jupyter-widgets/controls",
            "_model_module_version": "1.5.0",
            "_model_name": "HTMLModel",
            "_view_count": null,
            "_view_module": "@jupyter-widgets/controls",
            "_view_module_version": "1.5.0",
            "_view_name": "HTMLView",
            "description": "",
            "description_tooltip": null,
            "layout": "IPY_MODEL_decd36ad657b41c1b9f4d00800066d86",
            "placeholder": "​",
            "style": "IPY_MODEL_0348d259023444a1b87f36848ccefc14",
            "value": "vocab.json: 100%"
          }
        },
        "71efc1164a3e4667b7a55e274cd4ce39": {
          "model_module": "@jupyter-widgets/controls",
          "model_name": "FloatProgressModel",
          "model_module_version": "1.5.0",
          "state": {
            "_dom_classes": [],
            "_model_module": "@jupyter-widgets/controls",
            "_model_module_version": "1.5.0",
            "_model_name": "FloatProgressModel",
            "_view_count": null,
            "_view_module": "@jupyter-widgets/controls",
            "_view_module_version": "1.5.0",
            "_view_name": "ProgressView",
            "bar_style": "success",
            "description": "",
            "description_tooltip": null,
            "layout": "IPY_MODEL_611187c88af34a2aaeb6b392488d9394",
            "max": 2776833,
            "min": 0,
            "orientation": "horizontal",
            "style": "IPY_MODEL_b4dcb99eff0e45eb8b84f88d9ec3b9a7",
            "value": 2776833
          }
        },
        "bbd17aec4c714b89abd3ed3e99206c4e": {
          "model_module": "@jupyter-widgets/controls",
          "model_name": "HTMLModel",
          "model_module_version": "1.5.0",
          "state": {
            "_dom_classes": [],
            "_model_module": "@jupyter-widgets/controls",
            "_model_module_version": "1.5.0",
            "_model_name": "HTMLModel",
            "_view_count": null,
            "_view_module": "@jupyter-widgets/controls",
            "_view_module_version": "1.5.0",
            "_view_name": "HTMLView",
            "description": "",
            "description_tooltip": null,
            "layout": "IPY_MODEL_b611fcadeaec41bf83318917edf282c5",
            "placeholder": "​",
            "style": "IPY_MODEL_d816a944efa047bf9b02cc2a013b80a7",
            "value": " 2.78M/2.78M [00:00&lt;00:00, 40.9MB/s]"
          }
        },
        "19c911bb8162463ba4c51a7a5800b377": {
          "model_module": "@jupyter-widgets/base",
          "model_name": "LayoutModel",
          "model_module_version": "1.2.0",
          "state": {
            "_model_module": "@jupyter-widgets/base",
            "_model_module_version": "1.2.0",
            "_model_name": "LayoutModel",
            "_view_count": null,
            "_view_module": "@jupyter-widgets/base",
            "_view_module_version": "1.2.0",
            "_view_name": "LayoutView",
            "align_content": null,
            "align_items": null,
            "align_self": null,
            "border": null,
            "bottom": null,
            "display": null,
            "flex": null,
            "flex_flow": null,
            "grid_area": null,
            "grid_auto_columns": null,
            "grid_auto_flow": null,
            "grid_auto_rows": null,
            "grid_column": null,
            "grid_gap": null,
            "grid_row": null,
            "grid_template_areas": null,
            "grid_template_columns": null,
            "grid_template_rows": null,
            "height": null,
            "justify_content": null,
            "justify_items": null,
            "left": null,
            "margin": null,
            "max_height": null,
            "max_width": null,
            "min_height": null,
            "min_width": null,
            "object_fit": null,
            "object_position": null,
            "order": null,
            "overflow": null,
            "overflow_x": null,
            "overflow_y": null,
            "padding": null,
            "right": null,
            "top": null,
            "visibility": null,
            "width": null
          }
        },
        "decd36ad657b41c1b9f4d00800066d86": {
          "model_module": "@jupyter-widgets/base",
          "model_name": "LayoutModel",
          "model_module_version": "1.2.0",
          "state": {
            "_model_module": "@jupyter-widgets/base",
            "_model_module_version": "1.2.0",
            "_model_name": "LayoutModel",
            "_view_count": null,
            "_view_module": "@jupyter-widgets/base",
            "_view_module_version": "1.2.0",
            "_view_name": "LayoutView",
            "align_content": null,
            "align_items": null,
            "align_self": null,
            "border": null,
            "bottom": null,
            "display": null,
            "flex": null,
            "flex_flow": null,
            "grid_area": null,
            "grid_auto_columns": null,
            "grid_auto_flow": null,
            "grid_auto_rows": null,
            "grid_column": null,
            "grid_gap": null,
            "grid_row": null,
            "grid_template_areas": null,
            "grid_template_columns": null,
            "grid_template_rows": null,
            "height": null,
            "justify_content": null,
            "justify_items": null,
            "left": null,
            "margin": null,
            "max_height": null,
            "max_width": null,
            "min_height": null,
            "min_width": null,
            "object_fit": null,
            "object_position": null,
            "order": null,
            "overflow": null,
            "overflow_x": null,
            "overflow_y": null,
            "padding": null,
            "right": null,
            "top": null,
            "visibility": null,
            "width": null
          }
        },
        "0348d259023444a1b87f36848ccefc14": {
          "model_module": "@jupyter-widgets/controls",
          "model_name": "DescriptionStyleModel",
          "model_module_version": "1.5.0",
          "state": {
            "_model_module": "@jupyter-widgets/controls",
            "_model_module_version": "1.5.0",
            "_model_name": "DescriptionStyleModel",
            "_view_count": null,
            "_view_module": "@jupyter-widgets/base",
            "_view_module_version": "1.2.0",
            "_view_name": "StyleView",
            "description_width": ""
          }
        },
        "611187c88af34a2aaeb6b392488d9394": {
          "model_module": "@jupyter-widgets/base",
          "model_name": "LayoutModel",
          "model_module_version": "1.2.0",
          "state": {
            "_model_module": "@jupyter-widgets/base",
            "_model_module_version": "1.2.0",
            "_model_name": "LayoutModel",
            "_view_count": null,
            "_view_module": "@jupyter-widgets/base",
            "_view_module_version": "1.2.0",
            "_view_name": "LayoutView",
            "align_content": null,
            "align_items": null,
            "align_self": null,
            "border": null,
            "bottom": null,
            "display": null,
            "flex": null,
            "flex_flow": null,
            "grid_area": null,
            "grid_auto_columns": null,
            "grid_auto_flow": null,
            "grid_auto_rows": null,
            "grid_column": null,
            "grid_gap": null,
            "grid_row": null,
            "grid_template_areas": null,
            "grid_template_columns": null,
            "grid_template_rows": null,
            "height": null,
            "justify_content": null,
            "justify_items": null,
            "left": null,
            "margin": null,
            "max_height": null,
            "max_width": null,
            "min_height": null,
            "min_width": null,
            "object_fit": null,
            "object_position": null,
            "order": null,
            "overflow": null,
            "overflow_x": null,
            "overflow_y": null,
            "padding": null,
            "right": null,
            "top": null,
            "visibility": null,
            "width": null
          }
        },
        "b4dcb99eff0e45eb8b84f88d9ec3b9a7": {
          "model_module": "@jupyter-widgets/controls",
          "model_name": "ProgressStyleModel",
          "model_module_version": "1.5.0",
          "state": {
            "_model_module": "@jupyter-widgets/controls",
            "_model_module_version": "1.5.0",
            "_model_name": "ProgressStyleModel",
            "_view_count": null,
            "_view_module": "@jupyter-widgets/base",
            "_view_module_version": "1.2.0",
            "_view_name": "StyleView",
            "bar_color": null,
            "description_width": ""
          }
        },
        "b611fcadeaec41bf83318917edf282c5": {
          "model_module": "@jupyter-widgets/base",
          "model_name": "LayoutModel",
          "model_module_version": "1.2.0",
          "state": {
            "_model_module": "@jupyter-widgets/base",
            "_model_module_version": "1.2.0",
            "_model_name": "LayoutModel",
            "_view_count": null,
            "_view_module": "@jupyter-widgets/base",
            "_view_module_version": "1.2.0",
            "_view_name": "LayoutView",
            "align_content": null,
            "align_items": null,
            "align_self": null,
            "border": null,
            "bottom": null,
            "display": null,
            "flex": null,
            "flex_flow": null,
            "grid_area": null,
            "grid_auto_columns": null,
            "grid_auto_flow": null,
            "grid_auto_rows": null,
            "grid_column": null,
            "grid_gap": null,
            "grid_row": null,
            "grid_template_areas": null,
            "grid_template_columns": null,
            "grid_template_rows": null,
            "height": null,
            "justify_content": null,
            "justify_items": null,
            "left": null,
            "margin": null,
            "max_height": null,
            "max_width": null,
            "min_height": null,
            "min_width": null,
            "object_fit": null,
            "object_position": null,
            "order": null,
            "overflow": null,
            "overflow_x": null,
            "overflow_y": null,
            "padding": null,
            "right": null,
            "top": null,
            "visibility": null,
            "width": null
          }
        },
        "d816a944efa047bf9b02cc2a013b80a7": {
          "model_module": "@jupyter-widgets/controls",
          "model_name": "DescriptionStyleModel",
          "model_module_version": "1.5.0",
          "state": {
            "_model_module": "@jupyter-widgets/controls",
            "_model_module_version": "1.5.0",
            "_model_name": "DescriptionStyleModel",
            "_view_count": null,
            "_view_module": "@jupyter-widgets/base",
            "_view_module_version": "1.2.0",
            "_view_name": "StyleView",
            "description_width": ""
          }
        },
        "1f34f837f76e4d15873ab444e2b365f9": {
          "model_module": "@jupyter-widgets/controls",
          "model_name": "HBoxModel",
          "model_module_version": "1.5.0",
          "state": {
            "_dom_classes": [],
            "_model_module": "@jupyter-widgets/controls",
            "_model_module_version": "1.5.0",
            "_model_name": "HBoxModel",
            "_view_count": null,
            "_view_module": "@jupyter-widgets/controls",
            "_view_module_version": "1.5.0",
            "_view_name": "HBoxView",
            "box_style": "",
            "children": [
              "IPY_MODEL_e00ef9741b3d4da097183c323c258bc9",
              "IPY_MODEL_ce9b33d2e8af40b1a94d04243634056c",
              "IPY_MODEL_c4d2c763c8a84e09bca03e2e7f3e8cd1"
            ],
            "layout": "IPY_MODEL_8852d42707a948cfae71f218be432349"
          }
        },
        "e00ef9741b3d4da097183c323c258bc9": {
          "model_module": "@jupyter-widgets/controls",
          "model_name": "HTMLModel",
          "model_module_version": "1.5.0",
          "state": {
            "_dom_classes": [],
            "_model_module": "@jupyter-widgets/controls",
            "_model_module_version": "1.5.0",
            "_model_name": "HTMLModel",
            "_view_count": null,
            "_view_module": "@jupyter-widgets/controls",
            "_view_module_version": "1.5.0",
            "_view_name": "HTMLView",
            "description": "",
            "description_tooltip": null,
            "layout": "IPY_MODEL_4acbb9362fe4455590f97dade8f28847",
            "placeholder": "​",
            "style": "IPY_MODEL_0968b90471284d43929f66402bcde2e2",
            "value": "merges.txt: 100%"
          }
        },
        "ce9b33d2e8af40b1a94d04243634056c": {
          "model_module": "@jupyter-widgets/controls",
          "model_name": "FloatProgressModel",
          "model_module_version": "1.5.0",
          "state": {
            "_dom_classes": [],
            "_model_module": "@jupyter-widgets/controls",
            "_model_module_version": "1.5.0",
            "_model_name": "FloatProgressModel",
            "_view_count": null,
            "_view_module": "@jupyter-widgets/controls",
            "_view_module_version": "1.5.0",
            "_view_name": "ProgressView",
            "bar_style": "success",
            "description": "",
            "description_tooltip": null,
            "layout": "IPY_MODEL_cc539212bbe1482aadff3bcb9ed20fb3",
            "max": 1671839,
            "min": 0,
            "orientation": "horizontal",
            "style": "IPY_MODEL_ae25fceb442244e5aba086af860c3652",
            "value": 1671839
          }
        },
        "c4d2c763c8a84e09bca03e2e7f3e8cd1": {
          "model_module": "@jupyter-widgets/controls",
          "model_name": "HTMLModel",
          "model_module_version": "1.5.0",
          "state": {
            "_dom_classes": [],
            "_model_module": "@jupyter-widgets/controls",
            "_model_module_version": "1.5.0",
            "_model_name": "HTMLModel",
            "_view_count": null,
            "_view_module": "@jupyter-widgets/controls",
            "_view_module_version": "1.5.0",
            "_view_name": "HTMLView",
            "description": "",
            "description_tooltip": null,
            "layout": "IPY_MODEL_e405f8cbbb464ce3bf6051dd2704cdf3",
            "placeholder": "​",
            "style": "IPY_MODEL_07db08fd51214d1282bf3c2114f1cb2a",
            "value": " 1.67M/1.67M [00:00&lt;00:00, 28.4MB/s]"
          }
        },
        "8852d42707a948cfae71f218be432349": {
          "model_module": "@jupyter-widgets/base",
          "model_name": "LayoutModel",
          "model_module_version": "1.2.0",
          "state": {
            "_model_module": "@jupyter-widgets/base",
            "_model_module_version": "1.2.0",
            "_model_name": "LayoutModel",
            "_view_count": null,
            "_view_module": "@jupyter-widgets/base",
            "_view_module_version": "1.2.0",
            "_view_name": "LayoutView",
            "align_content": null,
            "align_items": null,
            "align_self": null,
            "border": null,
            "bottom": null,
            "display": null,
            "flex": null,
            "flex_flow": null,
            "grid_area": null,
            "grid_auto_columns": null,
            "grid_auto_flow": null,
            "grid_auto_rows": null,
            "grid_column": null,
            "grid_gap": null,
            "grid_row": null,
            "grid_template_areas": null,
            "grid_template_columns": null,
            "grid_template_rows": null,
            "height": null,
            "justify_content": null,
            "justify_items": null,
            "left": null,
            "margin": null,
            "max_height": null,
            "max_width": null,
            "min_height": null,
            "min_width": null,
            "object_fit": null,
            "object_position": null,
            "order": null,
            "overflow": null,
            "overflow_x": null,
            "overflow_y": null,
            "padding": null,
            "right": null,
            "top": null,
            "visibility": null,
            "width": null
          }
        },
        "4acbb9362fe4455590f97dade8f28847": {
          "model_module": "@jupyter-widgets/base",
          "model_name": "LayoutModel",
          "model_module_version": "1.2.0",
          "state": {
            "_model_module": "@jupyter-widgets/base",
            "_model_module_version": "1.2.0",
            "_model_name": "LayoutModel",
            "_view_count": null,
            "_view_module": "@jupyter-widgets/base",
            "_view_module_version": "1.2.0",
            "_view_name": "LayoutView",
            "align_content": null,
            "align_items": null,
            "align_self": null,
            "border": null,
            "bottom": null,
            "display": null,
            "flex": null,
            "flex_flow": null,
            "grid_area": null,
            "grid_auto_columns": null,
            "grid_auto_flow": null,
            "grid_auto_rows": null,
            "grid_column": null,
            "grid_gap": null,
            "grid_row": null,
            "grid_template_areas": null,
            "grid_template_columns": null,
            "grid_template_rows": null,
            "height": null,
            "justify_content": null,
            "justify_items": null,
            "left": null,
            "margin": null,
            "max_height": null,
            "max_width": null,
            "min_height": null,
            "min_width": null,
            "object_fit": null,
            "object_position": null,
            "order": null,
            "overflow": null,
            "overflow_x": null,
            "overflow_y": null,
            "padding": null,
            "right": null,
            "top": null,
            "visibility": null,
            "width": null
          }
        },
        "0968b90471284d43929f66402bcde2e2": {
          "model_module": "@jupyter-widgets/controls",
          "model_name": "DescriptionStyleModel",
          "model_module_version": "1.5.0",
          "state": {
            "_model_module": "@jupyter-widgets/controls",
            "_model_module_version": "1.5.0",
            "_model_name": "DescriptionStyleModel",
            "_view_count": null,
            "_view_module": "@jupyter-widgets/base",
            "_view_module_version": "1.2.0",
            "_view_name": "StyleView",
            "description_width": ""
          }
        },
        "cc539212bbe1482aadff3bcb9ed20fb3": {
          "model_module": "@jupyter-widgets/base",
          "model_name": "LayoutModel",
          "model_module_version": "1.2.0",
          "state": {
            "_model_module": "@jupyter-widgets/base",
            "_model_module_version": "1.2.0",
            "_model_name": "LayoutModel",
            "_view_count": null,
            "_view_module": "@jupyter-widgets/base",
            "_view_module_version": "1.2.0",
            "_view_name": "LayoutView",
            "align_content": null,
            "align_items": null,
            "align_self": null,
            "border": null,
            "bottom": null,
            "display": null,
            "flex": null,
            "flex_flow": null,
            "grid_area": null,
            "grid_auto_columns": null,
            "grid_auto_flow": null,
            "grid_auto_rows": null,
            "grid_column": null,
            "grid_gap": null,
            "grid_row": null,
            "grid_template_areas": null,
            "grid_template_columns": null,
            "grid_template_rows": null,
            "height": null,
            "justify_content": null,
            "justify_items": null,
            "left": null,
            "margin": null,
            "max_height": null,
            "max_width": null,
            "min_height": null,
            "min_width": null,
            "object_fit": null,
            "object_position": null,
            "order": null,
            "overflow": null,
            "overflow_x": null,
            "overflow_y": null,
            "padding": null,
            "right": null,
            "top": null,
            "visibility": null,
            "width": null
          }
        },
        "ae25fceb442244e5aba086af860c3652": {
          "model_module": "@jupyter-widgets/controls",
          "model_name": "ProgressStyleModel",
          "model_module_version": "1.5.0",
          "state": {
            "_model_module": "@jupyter-widgets/controls",
            "_model_module_version": "1.5.0",
            "_model_name": "ProgressStyleModel",
            "_view_count": null,
            "_view_module": "@jupyter-widgets/base",
            "_view_module_version": "1.2.0",
            "_view_name": "StyleView",
            "bar_color": null,
            "description_width": ""
          }
        },
        "e405f8cbbb464ce3bf6051dd2704cdf3": {
          "model_module": "@jupyter-widgets/base",
          "model_name": "LayoutModel",
          "model_module_version": "1.2.0",
          "state": {
            "_model_module": "@jupyter-widgets/base",
            "_model_module_version": "1.2.0",
            "_model_name": "LayoutModel",
            "_view_count": null,
            "_view_module": "@jupyter-widgets/base",
            "_view_module_version": "1.2.0",
            "_view_name": "LayoutView",
            "align_content": null,
            "align_items": null,
            "align_self": null,
            "border": null,
            "bottom": null,
            "display": null,
            "flex": null,
            "flex_flow": null,
            "grid_area": null,
            "grid_auto_columns": null,
            "grid_auto_flow": null,
            "grid_auto_rows": null,
            "grid_column": null,
            "grid_gap": null,
            "grid_row": null,
            "grid_template_areas": null,
            "grid_template_columns": null,
            "grid_template_rows": null,
            "height": null,
            "justify_content": null,
            "justify_items": null,
            "left": null,
            "margin": null,
            "max_height": null,
            "max_width": null,
            "min_height": null,
            "min_width": null,
            "object_fit": null,
            "object_position": null,
            "order": null,
            "overflow": null,
            "overflow_x": null,
            "overflow_y": null,
            "padding": null,
            "right": null,
            "top": null,
            "visibility": null,
            "width": null
          }
        },
        "07db08fd51214d1282bf3c2114f1cb2a": {
          "model_module": "@jupyter-widgets/controls",
          "model_name": "DescriptionStyleModel",
          "model_module_version": "1.5.0",
          "state": {
            "_model_module": "@jupyter-widgets/controls",
            "_model_module_version": "1.5.0",
            "_model_name": "DescriptionStyleModel",
            "_view_count": null,
            "_view_module": "@jupyter-widgets/base",
            "_view_module_version": "1.2.0",
            "_view_name": "StyleView",
            "description_width": ""
          }
        },
        "3358f63bdfb147fc99a4aaf7faaaa76c": {
          "model_module": "@jupyter-widgets/controls",
          "model_name": "HBoxModel",
          "model_module_version": "1.5.0",
          "state": {
            "_dom_classes": [],
            "_model_module": "@jupyter-widgets/controls",
            "_model_module_version": "1.5.0",
            "_model_name": "HBoxModel",
            "_view_count": null,
            "_view_module": "@jupyter-widgets/controls",
            "_view_module_version": "1.5.0",
            "_view_name": "HBoxView",
            "box_style": "",
            "children": [
              "IPY_MODEL_3a7badb3f7f24a7a808df51f35567432",
              "IPY_MODEL_eedb0b5607094e23bb8be2c8bb6eb34f",
              "IPY_MODEL_15d7d405962343fe9232c35406fc0d57"
            ],
            "layout": "IPY_MODEL_d2e05fd118bc4042bb8222ebff44d8aa"
          }
        },
        "3a7badb3f7f24a7a808df51f35567432": {
          "model_module": "@jupyter-widgets/controls",
          "model_name": "HTMLModel",
          "model_module_version": "1.5.0",
          "state": {
            "_dom_classes": [],
            "_model_module": "@jupyter-widgets/controls",
            "_model_module_version": "1.5.0",
            "_model_name": "HTMLModel",
            "_view_count": null,
            "_view_module": "@jupyter-widgets/controls",
            "_view_module_version": "1.5.0",
            "_view_name": "HTMLView",
            "description": "",
            "description_tooltip": null,
            "layout": "IPY_MODEL_457ce253eb7d449e9bc5b4cd9703bfb6",
            "placeholder": "​",
            "style": "IPY_MODEL_205277ffb41b4820b71bb209635aa773",
            "value": "tokenizer.json: 100%"
          }
        },
        "eedb0b5607094e23bb8be2c8bb6eb34f": {
          "model_module": "@jupyter-widgets/controls",
          "model_name": "FloatProgressModel",
          "model_module_version": "1.5.0",
          "state": {
            "_dom_classes": [],
            "_model_module": "@jupyter-widgets/controls",
            "_model_module_version": "1.5.0",
            "_model_name": "FloatProgressModel",
            "_view_count": null,
            "_view_module": "@jupyter-widgets/controls",
            "_view_module_version": "1.5.0",
            "_view_name": "ProgressView",
            "bar_style": "success",
            "description": "",
            "description_tooltip": null,
            "layout": "IPY_MODEL_85ebcc7c1e4c4d4c9c0b2ea0fa0ce3ff",
            "max": 7031645,
            "min": 0,
            "orientation": "horizontal",
            "style": "IPY_MODEL_e6b57e91ca394f93a2e84cbf5f0f6aa0",
            "value": 7031645
          }
        },
        "15d7d405962343fe9232c35406fc0d57": {
          "model_module": "@jupyter-widgets/controls",
          "model_name": "HTMLModel",
          "model_module_version": "1.5.0",
          "state": {
            "_dom_classes": [],
            "_model_module": "@jupyter-widgets/controls",
            "_model_module_version": "1.5.0",
            "_model_name": "HTMLModel",
            "_view_count": null,
            "_view_module": "@jupyter-widgets/controls",
            "_view_module_version": "1.5.0",
            "_view_name": "HTMLView",
            "description": "",
            "description_tooltip": null,
            "layout": "IPY_MODEL_5d1f52536c7f4fae817b87aa01cedbbd",
            "placeholder": "​",
            "style": "IPY_MODEL_7bfe3022ca6043e98602c11b3c51455e",
            "value": " 7.03M/7.03M [00:00&lt;00:00, 9.87MB/s]"
          }
        },
        "d2e05fd118bc4042bb8222ebff44d8aa": {
          "model_module": "@jupyter-widgets/base",
          "model_name": "LayoutModel",
          "model_module_version": "1.2.0",
          "state": {
            "_model_module": "@jupyter-widgets/base",
            "_model_module_version": "1.2.0",
            "_model_name": "LayoutModel",
            "_view_count": null,
            "_view_module": "@jupyter-widgets/base",
            "_view_module_version": "1.2.0",
            "_view_name": "LayoutView",
            "align_content": null,
            "align_items": null,
            "align_self": null,
            "border": null,
            "bottom": null,
            "display": null,
            "flex": null,
            "flex_flow": null,
            "grid_area": null,
            "grid_auto_columns": null,
            "grid_auto_flow": null,
            "grid_auto_rows": null,
            "grid_column": null,
            "grid_gap": null,
            "grid_row": null,
            "grid_template_areas": null,
            "grid_template_columns": null,
            "grid_template_rows": null,
            "height": null,
            "justify_content": null,
            "justify_items": null,
            "left": null,
            "margin": null,
            "max_height": null,
            "max_width": null,
            "min_height": null,
            "min_width": null,
            "object_fit": null,
            "object_position": null,
            "order": null,
            "overflow": null,
            "overflow_x": null,
            "overflow_y": null,
            "padding": null,
            "right": null,
            "top": null,
            "visibility": null,
            "width": null
          }
        },
        "457ce253eb7d449e9bc5b4cd9703bfb6": {
          "model_module": "@jupyter-widgets/base",
          "model_name": "LayoutModel",
          "model_module_version": "1.2.0",
          "state": {
            "_model_module": "@jupyter-widgets/base",
            "_model_module_version": "1.2.0",
            "_model_name": "LayoutModel",
            "_view_count": null,
            "_view_module": "@jupyter-widgets/base",
            "_view_module_version": "1.2.0",
            "_view_name": "LayoutView",
            "align_content": null,
            "align_items": null,
            "align_self": null,
            "border": null,
            "bottom": null,
            "display": null,
            "flex": null,
            "flex_flow": null,
            "grid_area": null,
            "grid_auto_columns": null,
            "grid_auto_flow": null,
            "grid_auto_rows": null,
            "grid_column": null,
            "grid_gap": null,
            "grid_row": null,
            "grid_template_areas": null,
            "grid_template_columns": null,
            "grid_template_rows": null,
            "height": null,
            "justify_content": null,
            "justify_items": null,
            "left": null,
            "margin": null,
            "max_height": null,
            "max_width": null,
            "min_height": null,
            "min_width": null,
            "object_fit": null,
            "object_position": null,
            "order": null,
            "overflow": null,
            "overflow_x": null,
            "overflow_y": null,
            "padding": null,
            "right": null,
            "top": null,
            "visibility": null,
            "width": null
          }
        },
        "205277ffb41b4820b71bb209635aa773": {
          "model_module": "@jupyter-widgets/controls",
          "model_name": "DescriptionStyleModel",
          "model_module_version": "1.5.0",
          "state": {
            "_model_module": "@jupyter-widgets/controls",
            "_model_module_version": "1.5.0",
            "_model_name": "DescriptionStyleModel",
            "_view_count": null,
            "_view_module": "@jupyter-widgets/base",
            "_view_module_version": "1.2.0",
            "_view_name": "StyleView",
            "description_width": ""
          }
        },
        "85ebcc7c1e4c4d4c9c0b2ea0fa0ce3ff": {
          "model_module": "@jupyter-widgets/base",
          "model_name": "LayoutModel",
          "model_module_version": "1.2.0",
          "state": {
            "_model_module": "@jupyter-widgets/base",
            "_model_module_version": "1.2.0",
            "_model_name": "LayoutModel",
            "_view_count": null,
            "_view_module": "@jupyter-widgets/base",
            "_view_module_version": "1.2.0",
            "_view_name": "LayoutView",
            "align_content": null,
            "align_items": null,
            "align_self": null,
            "border": null,
            "bottom": null,
            "display": null,
            "flex": null,
            "flex_flow": null,
            "grid_area": null,
            "grid_auto_columns": null,
            "grid_auto_flow": null,
            "grid_auto_rows": null,
            "grid_column": null,
            "grid_gap": null,
            "grid_row": null,
            "grid_template_areas": null,
            "grid_template_columns": null,
            "grid_template_rows": null,
            "height": null,
            "justify_content": null,
            "justify_items": null,
            "left": null,
            "margin": null,
            "max_height": null,
            "max_width": null,
            "min_height": null,
            "min_width": null,
            "object_fit": null,
            "object_position": null,
            "order": null,
            "overflow": null,
            "overflow_x": null,
            "overflow_y": null,
            "padding": null,
            "right": null,
            "top": null,
            "visibility": null,
            "width": null
          }
        },
        "e6b57e91ca394f93a2e84cbf5f0f6aa0": {
          "model_module": "@jupyter-widgets/controls",
          "model_name": "ProgressStyleModel",
          "model_module_version": "1.5.0",
          "state": {
            "_model_module": "@jupyter-widgets/controls",
            "_model_module_version": "1.5.0",
            "_model_name": "ProgressStyleModel",
            "_view_count": null,
            "_view_module": "@jupyter-widgets/base",
            "_view_module_version": "1.2.0",
            "_view_name": "StyleView",
            "bar_color": null,
            "description_width": ""
          }
        },
        "5d1f52536c7f4fae817b87aa01cedbbd": {
          "model_module": "@jupyter-widgets/base",
          "model_name": "LayoutModel",
          "model_module_version": "1.2.0",
          "state": {
            "_model_module": "@jupyter-widgets/base",
            "_model_module_version": "1.2.0",
            "_model_name": "LayoutModel",
            "_view_count": null,
            "_view_module": "@jupyter-widgets/base",
            "_view_module_version": "1.2.0",
            "_view_name": "LayoutView",
            "align_content": null,
            "align_items": null,
            "align_self": null,
            "border": null,
            "bottom": null,
            "display": null,
            "flex": null,
            "flex_flow": null,
            "grid_area": null,
            "grid_auto_columns": null,
            "grid_auto_flow": null,
            "grid_auto_rows": null,
            "grid_column": null,
            "grid_gap": null,
            "grid_row": null,
            "grid_template_areas": null,
            "grid_template_columns": null,
            "grid_template_rows": null,
            "height": null,
            "justify_content": null,
            "justify_items": null,
            "left": null,
            "margin": null,
            "max_height": null,
            "max_width": null,
            "min_height": null,
            "min_width": null,
            "object_fit": null,
            "object_position": null,
            "order": null,
            "overflow": null,
            "overflow_x": null,
            "overflow_y": null,
            "padding": null,
            "right": null,
            "top": null,
            "visibility": null,
            "width": null
          }
        },
        "7bfe3022ca6043e98602c11b3c51455e": {
          "model_module": "@jupyter-widgets/controls",
          "model_name": "DescriptionStyleModel",
          "model_module_version": "1.5.0",
          "state": {
            "_model_module": "@jupyter-widgets/controls",
            "_model_module_version": "1.5.0",
            "_model_name": "DescriptionStyleModel",
            "_view_count": null,
            "_view_module": "@jupyter-widgets/base",
            "_view_module_version": "1.2.0",
            "_view_name": "StyleView",
            "description_width": ""
          }
        }
      }
    }
  },
  "nbformat": 4,
  "nbformat_minor": 0
}