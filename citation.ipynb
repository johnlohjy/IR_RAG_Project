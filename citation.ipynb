{
  "cells": [
    {
      "cell_type": "markdown",
      "metadata": {
        "id": "6SUyouPHwwxJ"
      },
      "source": [
        "# **Citation Generation**"
      ]
    },
    {
      "cell_type": "code",
      "execution_count": 1,
      "metadata": {
        "id": "WHiEvt1xwwxN",
        "outputId": "759f33fc-0de8-4207-8ee5-4c1d87c093dd",
        "colab": {
          "base_uri": "https://localhost:8080/"
        }
      },
      "outputs": [
        {
          "output_type": "stream",
          "name": "stdout",
          "text": [
            "\u001b[2K     \u001b[90m━━━━━━━━━━━━━━━━━━━━━━━━━━━━━━━━━━━━━━━━\u001b[0m \u001b[32m44.1/44.1 kB\u001b[0m \u001b[31m1.7 MB/s\u001b[0m eta \u001b[36m0:00:00\u001b[0m\n",
            "\u001b[2K   \u001b[90m━━━━━━━━━━━━━━━━━━━━━━━━━━━━━━━━━━━━━━━━\u001b[0m \u001b[32m122.4/122.4 MB\u001b[0m \u001b[31m16.1 MB/s\u001b[0m eta \u001b[36m0:00:00\u001b[0m\n",
            "\u001b[2K   \u001b[90m━━━━━━━━━━━━━━━━━━━━━━━━━━━━━━━━━━━━━━━━\u001b[0m \u001b[32m1.0/1.0 MB\u001b[0m \u001b[31m48.0 MB/s\u001b[0m eta \u001b[36m0:00:00\u001b[0m\n",
            "\u001b[2K   \u001b[90m━━━━━━━━━━━━━━━━━━━━━━━━━━━━━━━━━━━━━━━━\u001b[0m \u001b[32m2.4/2.4 MB\u001b[0m \u001b[31m79.2 MB/s\u001b[0m eta \u001b[36m0:00:00\u001b[0m\n",
            "\u001b[2K   \u001b[90m━━━━━━━━━━━━━━━━━━━━━━━━━━━━━━━━━━━━━━━━\u001b[0m \u001b[32m10.0/10.0 MB\u001b[0m \u001b[31m113.5 MB/s\u001b[0m eta \u001b[36m0:00:00\u001b[0m\n",
            "\u001b[2K   \u001b[90m━━━━━━━━━━━━━━━━━━━━━━━━━━━━━━━━━━━━━━━━\u001b[0m \u001b[32m85.5/85.5 MB\u001b[0m \u001b[31m22.8 MB/s\u001b[0m eta \u001b[36m0:00:00\u001b[0m\n",
            "\u001b[2K   \u001b[90m━━━━━━━━━━━━━━━━━━━━━━━━━━━━━━━━━━━━━━━━\u001b[0m \u001b[32m111.0/111.0 kB\u001b[0m \u001b[31m8.3 MB/s\u001b[0m eta \u001b[36m0:00:00\u001b[0m\n",
            "\u001b[2K   \u001b[90m━━━━━━━━━━━━━━━━━━━━━━━━━━━━━━━━━━━━━━━━\u001b[0m \u001b[32m409.5/409.5 kB\u001b[0m \u001b[31m31.7 MB/s\u001b[0m eta \u001b[36m0:00:00\u001b[0m\n",
            "\u001b[2K   \u001b[90m━━━━━━━━━━━━━━━━━━━━━━━━━━━━━━━━━━━━━━━━\u001b[0m \u001b[32m3.1/3.1 MB\u001b[0m \u001b[31m85.4 MB/s\u001b[0m eta \u001b[36m0:00:00\u001b[0m\n",
            "\u001b[2K   \u001b[90m━━━━━━━━━━━━━━━━━━━━━━━━━━━━━━━━━━━━━━━━\u001b[0m \u001b[32m49.5/49.5 kB\u001b[0m \u001b[31m4.0 MB/s\u001b[0m eta \u001b[36m0:00:00\u001b[0m\n",
            "\u001b[?25h"
          ]
        }
      ],
      "source": [
        "%pip install --quiet --upgrade bitsandbytes langchain langchain-community langchain-huggingface transformers beautifulsoup4 faiss-gpu rank_bm25 lark langchain_groq"
      ]
    },
    {
      "cell_type": "code",
      "execution_count": 2,
      "metadata": {
        "id": "mYQK9GISwwxO"
      },
      "outputs": [],
      "source": [
        "from langchain_core.documents import Document\n",
        "from langchain.retrievers import EnsembleRetriever # Supports Ensembling of results from multiple retrievers\n",
        "from langchain_community.retrievers import BM25Retriever\n",
        "from langchain_huggingface import HuggingFaceEmbeddings\n",
        "from langchain_huggingface.llms import HuggingFacePipeline\n",
        "from langchain_huggingface import ChatHuggingFace\n",
        "from pydantic import BaseModel, Field\n",
        "from typing import List\n",
        "from transformers import AutoModelForCausalLM, AutoTokenizer, pipeline\n",
        "from transformers import BitsAndBytesConfig\n",
        "from langchain_community.vectorstores import FAISS\n",
        "from langchain_text_splitters import RecursiveCharacterTextSplitter\n",
        "import faiss\n",
        "from langchain_community.docstore.in_memory import InMemoryDocstore\n",
        "import nltk\n",
        "from nltk.corpus import stopwords\n",
        "import re\n",
        "import pandas as pd\n",
        "import os\n",
        "from google.colab import files\n",
        "import time\n",
        "from langchain_groq import ChatGroq"
      ]
    },
    {
      "cell_type": "markdown",
      "source": [
        "## **Method Type 1: Models that support tool/function calling functionality and JSON modes i.e. provide native APIs for structuring outputs**\n",
        "\n",
        "To utilise method type 1, we leverage the the Groq free API that was mentioned in a list of [examples/LLM providers](https://python.langchain.com/v0.1/docs/modules/model_io/chat/structured_output/) that LangChain provided that supported function calling and JSON\n",
        "\n",
        "To set up your colab environment for Groq\n",
        "1. Go to ```https://console.groq.com/keys``` to create an API key\n",
        "2. Add the created API key to your google colab secrets with the name ```GROQ_API_KEY```"
      ],
      "metadata": {
        "id": "QoS6SZfL1Xoh"
      }
    },
    {
      "cell_type": "code",
      "source": [
        "# Leverage Pydantic objects to validate that data conforms to the output we expect\n",
        "\n",
        "'''\n",
        "Beyond just the structure of the Pydantic class, the name of the Pydantic class,\n",
        "the docstring, and the names and provided descriptions of parameters are very important\n",
        "\n",
        "Define the fields needed and the corresponding types\n",
        "Note that the docstrings here are crucial, as they will be passed along\n",
        "to the model along with the class name.\n",
        "'''\n",
        "\n",
        "class CitedAnswer(BaseModel):\n",
        "    \"\"\"Answer the user question based only on the given sources, and cite the sources used.\"\"\"\n",
        "\n",
        "    answer: str = Field(\n",
        "        ...,\n",
        "        description=\"The answer to the user question, which is based only on the given sources.\",\n",
        "    )\n",
        "    citations: List[int] = Field(\n",
        "        ...,\n",
        "        description=\"The integer IDs of the SPECIFIC sources which justify the answer.\",\n",
        "    )\n",
        "\n",
        "api_key = os.getenv(\"GROQ_API_KEY\")\n",
        "\n",
        "# List of models Groq provides: https://console.groq.com/docs/models\n",
        "# https://python.langchain.com/docs/integrations/chat/groq/\n",
        "llm = ChatGroq(api_key = api_key)\n",
        "\n",
        "'''\n",
        "Use LangChain's with_structured_output. Takes in schema (Pydantic class, JSON etc.) that specifies the structured\n",
        "output. Returns an object corresponding to the provided schema\n",
        "The method will add the necessary model arguments and output parsers to get the structured output\n",
        "\n",
        "tool/function calling: model comes up with arguments to a tool\n",
        "\n",
        "with_structured_output uses a mode's function/tool calling API\n",
        "\n",
        "Leverages the model's native tools and functions that it can call to ensure it conforms to the\n",
        "schema\n",
        "\n",
        "https://python.langchain.com/v0.1/docs/modules/model_io/chat/structured_output/\n",
        "https://python.langchain.com/docs/how_to/structured_output/\n",
        "https://python.langchain.com/v0.1/docs/use_cases/question_answering/citations/\n",
        "https://python.langchain.com/v0.1/docs/modules/model_io/chat/function_calling/\n",
        "'''\n",
        "structured_llm = llm.with_structured_output(CitedAnswer)"
      ],
      "metadata": {
        "id": "JzQWQdGF0znH"
      },
      "execution_count": 5,
      "outputs": []
    },
    {
      "cell_type": "markdown",
      "source": [
        "**Example question with sources**"
      ],
      "metadata": {
        "id": "Is10ki6mTuNG"
      }
    },
    {
      "cell_type": "code",
      "source": [
        "example_q = \"\"\"What is Brian's height?\n",
        "\n",
        "Sources:\n",
        "1. Suzy is 6'2\".\n",
        "2. Jeremiah is blonde.\n",
        "3. Brian is 3 inches shorter than Suzy.\n",
        "\"\"\""
      ],
      "metadata": {
        "id": "iyWtDUcYp29g",
        "outputId": "a45a483e-2655-4d4a-9aa2-488a810eb10b",
        "colab": {
          "base_uri": "https://localhost:8080/"
        }
      },
      "execution_count": 22,
      "outputs": [
        {
          "output_type": "stream",
          "name": "stderr",
          "text": [
            "Setting `pad_token_id` to `eos_token_id`:None for open-end generation.\n"
          ]
        }
      ]
    },
    {
      "cell_type": "code",
      "source": [
        "structured_llm.invoke(example_q)"
      ],
      "metadata": {
        "id": "7Kl2ODB3PS3x"
      },
      "execution_count": null,
      "outputs": []
    },
    {
      "cell_type": "markdown",
      "metadata": {
        "id": "TzOD870XwwxP"
      },
      "source": [
        "**Simple experiment data to test method type 1**"
      ]
    },
    {
      "cell_type": "code",
      "execution_count": 3,
      "metadata": {
        "id": "QHxGimNtwwxQ"
      },
      "outputs": [],
      "source": [
        "docs = [\n",
        "    Document(\n",
        "        page_content=\"The best hikes in Norway include the Reinebringen hike in the Lofoten islands. At a modest 448 meters high, Reinebringen is far from one of the highest peaks on the Lofoten islands. Yet this is more than made up for by the iconic view from the summit of Reine. It is not suitable for winter! Also, the trail can be quite demanding as the steps are quite steep.\",\n",
        "        metadata={'country': 'Norway', 'source': 'visitNorway', 'link': 'https://www.visitnorway.com/'},\n",
        "    ),\n",
        "    Document(\n",
        "        page_content=\"The famous street food of Iceland is the Hotdog! It is called the Baejarins Beztu Pylsur hot dog is made of a mix of lamb, beef and pork. Other delicacies of iceland include Fish and Chips as well as Tommi's burger.\",\n",
        "        metadata={'country': 'Iceland', 'source': 'IcelandTours', 'link': 'https://www.icelandtours.com/'},\n",
        "    ),\n",
        "    Document(\n",
        "        page_content=\"Transportation within Reykjavik is fairly convenient as there is a public bus service called BSI. All you need to do is to download their mobile app, follow the instructions, and you're good to go. Transportation to places outside Reykjavik however requires a car. Some options include car rentals as well as booking bus tours.\",\n",
        "        metadata={'country': 'Iceland', 'source': 'IcelandBuses', 'link': 'https://www.icelandbuses.com/'},\n",
        "    )\n",
        "]"
      ]
    },
    {
      "cell_type": "code",
      "source": [
        "class CitedAnswer(BaseModel):\n",
        "    \"\"\"Answer the user question based only on the given sources, and cite the sources used.\"\"\"\n",
        "\n",
        "    answer: str = Field(\n",
        "        ...,\n",
        "        description=\"The answer to the user question, which is based only on the given sources.\",\n",
        "    )\n",
        "    citations: List[str] = Field(\n",
        "        ...,\n",
        "        description=\"The source in the Document metadata which justify the answer.\",\n",
        "    )"
      ],
      "metadata": {
        "id": "E3ZEaEN0ZFvM"
      },
      "execution_count": null,
      "outputs": []
    },
    {
      "cell_type": "code",
      "source": [
        "structured_llm.invoke(example_q)"
      ],
      "metadata": {
        "id": "ipwJh7C3ZkG6"
      },
      "execution_count": null,
      "outputs": []
    }
  ],
  "metadata": {
    "kernelspec": {
      "display_name": "Python 3",
      "name": "python3"
    },
    "language_info": {
      "name": "python",
      "version": "3.12.5"
    },
    "colab": {
      "provenance": [],
      "gpuType": "A100"
    },
    "accelerator": "GPU"
  },
  "nbformat": 4,
  "nbformat_minor": 0
}