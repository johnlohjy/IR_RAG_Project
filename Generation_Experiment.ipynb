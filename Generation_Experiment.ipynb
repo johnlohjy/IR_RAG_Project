{
  "cells": [
    {
      "cell_type": "markdown",
      "metadata": {
        "id": "NpN7djOVwluU"
      },
      "source": [
        "# **Generation Experiment**"
      ]
    },
    {
      "cell_type": "code",
      "execution_count": 1,
      "metadata": {
        "colab": {
          "base_uri": "https://localhost:8080/"
        },
        "id": "3nBwytexAOMi",
        "outputId": "b51cc4c9-dfab-4a2b-e467-a65f6644baf1"
      },
      "outputs": [
        {
          "output_type": "stream",
          "name": "stdout",
          "text": [
            "\u001b[2K     \u001b[90m━━━━━━━━━━━━━━━━━━━━━━━━━━━━━━━━━━━━━━━━\u001b[0m \u001b[32m44.1/44.1 kB\u001b[0m \u001b[31m2.1 MB/s\u001b[0m eta \u001b[36m0:00:00\u001b[0m\n",
            "\u001b[2K     \u001b[90m━━━━━━━━━━━━━━━━━━━━━━━━━━━━━━━━━━━━━━━━\u001b[0m \u001b[32m67.3/67.3 kB\u001b[0m \u001b[31m2.7 MB/s\u001b[0m eta \u001b[36m0:00:00\u001b[0m\n",
            "\u001b[?25h  Installing build dependencies ... \u001b[?25l\u001b[?25hdone\n",
            "  Getting requirements to build wheel ... \u001b[?25l\u001b[?25hdone\n",
            "  Preparing metadata (pyproject.toml) ... \u001b[?25l\u001b[?25hdone\n",
            "\u001b[2K   \u001b[90m━━━━━━━━━━━━━━━━━━━━━━━━━━━━━━━━━━━━━━━━\u001b[0m \u001b[32m122.4/122.4 MB\u001b[0m \u001b[31m7.5 MB/s\u001b[0m eta \u001b[36m0:00:00\u001b[0m\n",
            "\u001b[2K   \u001b[90m━━━━━━━━━━━━━━━━━━━━━━━━━━━━━━━━━━━━━━━━\u001b[0m \u001b[32m1.0/1.0 MB\u001b[0m \u001b[31m59.3 MB/s\u001b[0m eta \u001b[36m0:00:00\u001b[0m\n",
            "\u001b[2K   \u001b[90m━━━━━━━━━━━━━━━━━━━━━━━━━━━━━━━━━━━━━━━━\u001b[0m \u001b[32m2.4/2.4 MB\u001b[0m \u001b[31m95.0 MB/s\u001b[0m eta \u001b[36m0:00:00\u001b[0m\n",
            "\u001b[2K   \u001b[90m━━━━━━━━━━━━━━━━━━━━━━━━━━━━━━━━━━━━━━━━\u001b[0m \u001b[32m10.0/10.0 MB\u001b[0m \u001b[31m123.8 MB/s\u001b[0m eta \u001b[36m0:00:00\u001b[0m\n",
            "\u001b[2K   \u001b[90m━━━━━━━━━━━━━━━━━━━━━━━━━━━━━━━━━━━━━━━━\u001b[0m \u001b[32m85.5/85.5 MB\u001b[0m \u001b[31m8.8 MB/s\u001b[0m eta \u001b[36m0:00:00\u001b[0m\n",
            "\u001b[2K   \u001b[90m━━━━━━━━━━━━━━━━━━━━━━━━━━━━━━━━━━━━━━━━\u001b[0m \u001b[32m111.0/111.0 kB\u001b[0m \u001b[31m10.1 MB/s\u001b[0m eta \u001b[36m0:00:00\u001b[0m\n",
            "\u001b[2K   \u001b[90m━━━━━━━━━━━━━━━━━━━━━━━━━━━━━━━━━━━━━━━━\u001b[0m \u001b[32m267.2/267.2 kB\u001b[0m \u001b[31m22.2 MB/s\u001b[0m eta \u001b[36m0:00:00\u001b[0m\n",
            "\u001b[2K   \u001b[90m━━━━━━━━━━━━━━━━━━━━━━━━━━━━━━━━━━━━━━━━\u001b[0m \u001b[32m628.3/628.3 kB\u001b[0m \u001b[31m35.9 MB/s\u001b[0m eta \u001b[36m0:00:00\u001b[0m\n",
            "\u001b[2K   \u001b[90m━━━━━━━━━━━━━━━━━━━━━━━━━━━━━━━━━━━━━━━━\u001b[0m \u001b[32m2.4/2.4 MB\u001b[0m \u001b[31m72.6 MB/s\u001b[0m eta \u001b[36m0:00:00\u001b[0m\n",
            "\u001b[2K   \u001b[90m━━━━━━━━━━━━━━━━━━━━━━━━━━━━━━━━━━━━━━━━\u001b[0m \u001b[32m94.9/94.9 kB\u001b[0m \u001b[31m9.4 MB/s\u001b[0m eta \u001b[36m0:00:00\u001b[0m\n",
            "\u001b[2K   \u001b[90m━━━━━━━━━━━━━━━━━━━━━━━━━━━━━━━━━━━━━━━━\u001b[0m \u001b[32m108.8/108.8 kB\u001b[0m \u001b[31m10.7 MB/s\u001b[0m eta \u001b[36m0:00:00\u001b[0m\n",
            "\u001b[2K   \u001b[90m━━━━━━━━━━━━━━━━━━━━━━━━━━━━━━━━━━━━━━━━\u001b[0m \u001b[32m2.4/2.4 MB\u001b[0m \u001b[31m64.5 MB/s\u001b[0m eta \u001b[36m0:00:00\u001b[0m\n",
            "\u001b[2K   \u001b[90m━━━━━━━━━━━━━━━━━━━━━━━━━━━━━━━━━━━━━━━━\u001b[0m \u001b[32m5.9/5.9 MB\u001b[0m \u001b[31m90.4 MB/s\u001b[0m eta \u001b[36m0:00:00\u001b[0m\n",
            "\u001b[2K   \u001b[90m━━━━━━━━━━━━━━━━━━━━━━━━━━━━━━━━━━━━━━━━\u001b[0m \u001b[32m409.5/409.5 kB\u001b[0m \u001b[31m32.6 MB/s\u001b[0m eta \u001b[36m0:00:00\u001b[0m\n",
            "\u001b[2K   \u001b[90m━━━━━━━━━━━━━━━━━━━━━━━━━━━━━━━━━━━━━━━━\u001b[0m \u001b[32m278.6/278.6 kB\u001b[0m \u001b[31m24.1 MB/s\u001b[0m eta \u001b[36m0:00:00\u001b[0m\n",
            "\u001b[2K   \u001b[90m━━━━━━━━━━━━━━━━━━━━━━━━━━━━━━━━━━━━━━━━\u001b[0m \u001b[32m57.5/57.5 kB\u001b[0m \u001b[31m4.8 MB/s\u001b[0m eta \u001b[36m0:00:00\u001b[0m\n",
            "\u001b[2K   \u001b[90m━━━━━━━━━━━━━━━━━━━━━━━━━━━━━━━━━━━━━━━━\u001b[0m \u001b[32m1.9/1.9 MB\u001b[0m \u001b[31m62.9 MB/s\u001b[0m eta \u001b[36m0:00:00\u001b[0m\n",
            "\u001b[2K   \u001b[90m━━━━━━━━━━━━━━━━━━━━━━━━━━━━━━━━━━━━━━━━\u001b[0m \u001b[32m49.5/49.5 kB\u001b[0m \u001b[31m3.4 MB/s\u001b[0m eta \u001b[36m0:00:00\u001b[0m\n",
            "\u001b[2K   \u001b[90m━━━━━━━━━━━━━━━━━━━━━━━━━━━━━━━━━━━━━━━━\u001b[0m \u001b[32m93.2/93.2 kB\u001b[0m \u001b[31m8.1 MB/s\u001b[0m eta \u001b[36m0:00:00\u001b[0m\n",
            "\u001b[2K   \u001b[90m━━━━━━━━━━━━━━━━━━━━━━━━━━━━━━━━━━━━━━━━\u001b[0m \u001b[32m13.3/13.3 MB\u001b[0m \u001b[31m74.9 MB/s\u001b[0m eta \u001b[36m0:00:00\u001b[0m\n",
            "\u001b[2K   \u001b[90m━━━━━━━━━━━━━━━━━━━━━━━━━━━━━━━━━━━━━━━━\u001b[0m \u001b[32m55.8/55.8 kB\u001b[0m \u001b[31m5.4 MB/s\u001b[0m eta \u001b[36m0:00:00\u001b[0m\n",
            "\u001b[2K   \u001b[90m━━━━━━━━━━━━━━━━━━━━━━━━━━━━━━━━━━━━━━━━\u001b[0m \u001b[32m54.8/54.8 kB\u001b[0m \u001b[31m5.1 MB/s\u001b[0m eta \u001b[36m0:00:00\u001b[0m\n",
            "\u001b[2K   \u001b[90m━━━━━━━━━━━━━━━━━━━━━━━━━━━━━━━━━━━━━━━━\u001b[0m \u001b[32m319.7/319.7 kB\u001b[0m \u001b[31m24.3 MB/s\u001b[0m eta \u001b[36m0:00:00\u001b[0m\n",
            "\u001b[2K   \u001b[90m━━━━━━━━━━━━━━━━━━━━━━━━━━━━━━━━━━━━━━━━\u001b[0m \u001b[32m73.2/73.2 kB\u001b[0m \u001b[31m6.5 MB/s\u001b[0m eta \u001b[36m0:00:00\u001b[0m\n",
            "\u001b[2K   \u001b[90m━━━━━━━━━━━━━━━━━━━━━━━━━━━━━━━━━━━━━━━━\u001b[0m \u001b[32m63.8/63.8 kB\u001b[0m \u001b[31m5.0 MB/s\u001b[0m eta \u001b[36m0:00:00\u001b[0m\n",
            "\u001b[2K   \u001b[90m━━━━━━━━━━━━━━━━━━━━━━━━━━━━━━━━━━━━━━━━\u001b[0m \u001b[32m442.1/442.1 kB\u001b[0m \u001b[31m30.9 MB/s\u001b[0m eta \u001b[36m0:00:00\u001b[0m\n",
            "\u001b[2K   \u001b[90m━━━━━━━━━━━━━━━━━━━━━━━━━━━━━━━━━━━━━━━━\u001b[0m \u001b[32m3.8/3.8 MB\u001b[0m \u001b[31m73.8 MB/s\u001b[0m eta \u001b[36m0:00:00\u001b[0m\n",
            "\u001b[2K   \u001b[90m━━━━━━━━━━━━━━━━━━━━━━━━━━━━━━━━━━━━━━━━\u001b[0m \u001b[32m442.6/442.6 kB\u001b[0m \u001b[31m30.2 MB/s\u001b[0m eta \u001b[36m0:00:00\u001b[0m\n",
            "\u001b[2K   \u001b[90m━━━━━━━━━━━━━━━━━━━━━━━━━━━━━━━━━━━━━━━━\u001b[0m \u001b[32m168.2/168.2 kB\u001b[0m \u001b[31m14.5 MB/s\u001b[0m eta \u001b[36m0:00:00\u001b[0m\n",
            "\u001b[2K   \u001b[90m━━━━━━━━━━━━━━━━━━━━━━━━━━━━━━━━━━━━━━━━\u001b[0m \u001b[32m46.0/46.0 kB\u001b[0m \u001b[31m3.8 MB/s\u001b[0m eta \u001b[36m0:00:00\u001b[0m\n",
            "\u001b[2K   \u001b[90m━━━━━━━━━━━━━━━━━━━━━━━━━━━━━━━━━━━━━━━━\u001b[0m \u001b[32m86.8/86.8 kB\u001b[0m \u001b[31m8.2 MB/s\u001b[0m eta \u001b[36m0:00:00\u001b[0m\n",
            "\u001b[?25h  Building wheel for pypika (pyproject.toml) ... \u001b[?25l\u001b[?25hdone\n",
            "\u001b[31mERROR: pip's dependency resolver does not currently take into account all the packages that are installed. This behaviour is the source of the following dependency conflicts.\n",
            "tensorflow 2.17.1 requires protobuf!=4.21.0,!=4.21.1,!=4.21.2,!=4.21.3,!=4.21.4,!=4.21.5,<5.0.0dev,>=3.20.3, but you have protobuf 5.29.0 which is incompatible.\n",
            "tensorflow-metadata 1.13.1 requires protobuf<5,>=3.20.3, but you have protobuf 5.29.0 which is incompatible.\u001b[0m\u001b[31m\n",
            "\u001b[0m"
          ]
        }
      ],
      "source": [
        "%pip install --quiet --upgrade bitsandbytes langchain langchain-community langchain-huggingface transformers beautifulsoup4 faiss-gpu rank_bm25 lark qdrant-client langchain-chroma langchain_groq"
      ]
    },
    {
      "cell_type": "code",
      "execution_count": 31,
      "metadata": {
        "id": "FBUuQT4-i8rr"
      },
      "outputs": [],
      "source": [
        "from langchain_core.documents import Document\n",
        "from langchain.chains.query_constructor.base import AttributeInfo\n",
        "import torch\n",
        "from langchain_huggingface.llms import HuggingFacePipeline\n",
        "from transformers import AutoModelForCausalLM, AutoTokenizer, pipeline\n",
        "from transformers import BitsAndBytesConfig\n",
        "from langchain_core.output_parsers import StrOutputParser\n",
        "import re\n",
        "from langchain_huggingface import HuggingFaceEmbeddings\n",
        "from langchain_community.vectorstores import FAISS\n",
        "import faiss\n",
        "from langchain_community.docstore.in_memory import InMemoryDocstore\n",
        "from langchain.storage import InMemoryStore\n",
        "from operator import itemgetter\n",
        "from langchain import hub\n",
        "from langchain_core.runnables import RunnablePassthrough, RunnableLambda\n",
        "from langchain.retrievers import EnsembleRetriever # Supports Ensembling of results from multiple retrievers\n",
        "from langchain_community.retrievers import BM25Retriever\n",
        "from pydantic import BaseModel, Field\n",
        "from typing import List\n",
        "from langchain_text_splitters import RecursiveCharacterTextSplitter\n",
        "from google.colab import userdata\n",
        "from langchain import PromptTemplate\n",
        "import nltk\n",
        "from nltk.corpus import stopwords\n",
        "import re\n",
        "import pandas as pd\n",
        "import os\n",
        "import json\n",
        "from google.colab import files\n",
        "import time\n",
        "from langchain_groq import ChatGroq\n",
        "from langchain.retrievers import ParentDocumentRetriever\n",
        "from langchain_community.cross_encoders import HuggingFaceCrossEncoder\n",
        "from langchain.callbacks.manager import CallbackManagerForRetrieverRun"
      ]
    },
    {
      "cell_type": "markdown",
      "source": [
        "## **User Action Required**\n",
        "\n",
        "1. Run the code below to create the ```data``` folder\n",
        "\n",
        "2. Choose to upload the following files\n",
        "- ```iceland_articles_updated.csv```\n",
        "- ```finland_articles_updated.csv```"
      ],
      "metadata": {
        "id": "M-qQ2aJLCFL3"
      }
    },
    {
      "cell_type": "code",
      "source": [
        "data_folder = os.path.join(os.getcwd(), 'data')\n",
        "os.makedirs(data_folder, exist_ok=True)"
      ],
      "metadata": {
        "id": "utnhqnc6CG46"
      },
      "execution_count": 3,
      "outputs": []
    },
    {
      "cell_type": "code",
      "source": [
        "uploaded_files = files.upload()"
      ],
      "metadata": {
        "id": "W52bvebjCHOg",
        "outputId": "2032602c-7528-4c08-a04a-d1a6f6527af9",
        "colab": {
          "base_uri": "https://localhost:8080/",
          "height": 107
        }
      },
      "execution_count": 4,
      "outputs": [
        {
          "output_type": "display_data",
          "data": {
            "text/plain": [
              "<IPython.core.display.HTML object>"
            ],
            "text/html": [
              "\n",
              "     <input type=\"file\" id=\"files-5644a59d-4cf1-470f-96ea-1d08396d591b\" name=\"files[]\" multiple disabled\n",
              "        style=\"border:none\" />\n",
              "     <output id=\"result-5644a59d-4cf1-470f-96ea-1d08396d591b\">\n",
              "      Upload widget is only available when the cell has been executed in the\n",
              "      current browser session. Please rerun this cell to enable.\n",
              "      </output>\n",
              "      <script>// Copyright 2017 Google LLC\n",
              "//\n",
              "// Licensed under the Apache License, Version 2.0 (the \"License\");\n",
              "// you may not use this file except in compliance with the License.\n",
              "// You may obtain a copy of the License at\n",
              "//\n",
              "//      http://www.apache.org/licenses/LICENSE-2.0\n",
              "//\n",
              "// Unless required by applicable law or agreed to in writing, software\n",
              "// distributed under the License is distributed on an \"AS IS\" BASIS,\n",
              "// WITHOUT WARRANTIES OR CONDITIONS OF ANY KIND, either express or implied.\n",
              "// See the License for the specific language governing permissions and\n",
              "// limitations under the License.\n",
              "\n",
              "/**\n",
              " * @fileoverview Helpers for google.colab Python module.\n",
              " */\n",
              "(function(scope) {\n",
              "function span(text, styleAttributes = {}) {\n",
              "  const element = document.createElement('span');\n",
              "  element.textContent = text;\n",
              "  for (const key of Object.keys(styleAttributes)) {\n",
              "    element.style[key] = styleAttributes[key];\n",
              "  }\n",
              "  return element;\n",
              "}\n",
              "\n",
              "// Max number of bytes which will be uploaded at a time.\n",
              "const MAX_PAYLOAD_SIZE = 100 * 1024;\n",
              "\n",
              "function _uploadFiles(inputId, outputId) {\n",
              "  const steps = uploadFilesStep(inputId, outputId);\n",
              "  const outputElement = document.getElementById(outputId);\n",
              "  // Cache steps on the outputElement to make it available for the next call\n",
              "  // to uploadFilesContinue from Python.\n",
              "  outputElement.steps = steps;\n",
              "\n",
              "  return _uploadFilesContinue(outputId);\n",
              "}\n",
              "\n",
              "// This is roughly an async generator (not supported in the browser yet),\n",
              "// where there are multiple asynchronous steps and the Python side is going\n",
              "// to poll for completion of each step.\n",
              "// This uses a Promise to block the python side on completion of each step,\n",
              "// then passes the result of the previous step as the input to the next step.\n",
              "function _uploadFilesContinue(outputId) {\n",
              "  const outputElement = document.getElementById(outputId);\n",
              "  const steps = outputElement.steps;\n",
              "\n",
              "  const next = steps.next(outputElement.lastPromiseValue);\n",
              "  return Promise.resolve(next.value.promise).then((value) => {\n",
              "    // Cache the last promise value to make it available to the next\n",
              "    // step of the generator.\n",
              "    outputElement.lastPromiseValue = value;\n",
              "    return next.value.response;\n",
              "  });\n",
              "}\n",
              "\n",
              "/**\n",
              " * Generator function which is called between each async step of the upload\n",
              " * process.\n",
              " * @param {string} inputId Element ID of the input file picker element.\n",
              " * @param {string} outputId Element ID of the output display.\n",
              " * @return {!Iterable<!Object>} Iterable of next steps.\n",
              " */\n",
              "function* uploadFilesStep(inputId, outputId) {\n",
              "  const inputElement = document.getElementById(inputId);\n",
              "  inputElement.disabled = false;\n",
              "\n",
              "  const outputElement = document.getElementById(outputId);\n",
              "  outputElement.innerHTML = '';\n",
              "\n",
              "  const pickedPromise = new Promise((resolve) => {\n",
              "    inputElement.addEventListener('change', (e) => {\n",
              "      resolve(e.target.files);\n",
              "    });\n",
              "  });\n",
              "\n",
              "  const cancel = document.createElement('button');\n",
              "  inputElement.parentElement.appendChild(cancel);\n",
              "  cancel.textContent = 'Cancel upload';\n",
              "  const cancelPromise = new Promise((resolve) => {\n",
              "    cancel.onclick = () => {\n",
              "      resolve(null);\n",
              "    };\n",
              "  });\n",
              "\n",
              "  // Wait for the user to pick the files.\n",
              "  const files = yield {\n",
              "    promise: Promise.race([pickedPromise, cancelPromise]),\n",
              "    response: {\n",
              "      action: 'starting',\n",
              "    }\n",
              "  };\n",
              "\n",
              "  cancel.remove();\n",
              "\n",
              "  // Disable the input element since further picks are not allowed.\n",
              "  inputElement.disabled = true;\n",
              "\n",
              "  if (!files) {\n",
              "    return {\n",
              "      response: {\n",
              "        action: 'complete',\n",
              "      }\n",
              "    };\n",
              "  }\n",
              "\n",
              "  for (const file of files) {\n",
              "    const li = document.createElement('li');\n",
              "    li.append(span(file.name, {fontWeight: 'bold'}));\n",
              "    li.append(span(\n",
              "        `(${file.type || 'n/a'}) - ${file.size} bytes, ` +\n",
              "        `last modified: ${\n",
              "            file.lastModifiedDate ? file.lastModifiedDate.toLocaleDateString() :\n",
              "                                    'n/a'} - `));\n",
              "    const percent = span('0% done');\n",
              "    li.appendChild(percent);\n",
              "\n",
              "    outputElement.appendChild(li);\n",
              "\n",
              "    const fileDataPromise = new Promise((resolve) => {\n",
              "      const reader = new FileReader();\n",
              "      reader.onload = (e) => {\n",
              "        resolve(e.target.result);\n",
              "      };\n",
              "      reader.readAsArrayBuffer(file);\n",
              "    });\n",
              "    // Wait for the data to be ready.\n",
              "    let fileData = yield {\n",
              "      promise: fileDataPromise,\n",
              "      response: {\n",
              "        action: 'continue',\n",
              "      }\n",
              "    };\n",
              "\n",
              "    // Use a chunked sending to avoid message size limits. See b/62115660.\n",
              "    let position = 0;\n",
              "    do {\n",
              "      const length = Math.min(fileData.byteLength - position, MAX_PAYLOAD_SIZE);\n",
              "      const chunk = new Uint8Array(fileData, position, length);\n",
              "      position += length;\n",
              "\n",
              "      const base64 = btoa(String.fromCharCode.apply(null, chunk));\n",
              "      yield {\n",
              "        response: {\n",
              "          action: 'append',\n",
              "          file: file.name,\n",
              "          data: base64,\n",
              "        },\n",
              "      };\n",
              "\n",
              "      let percentDone = fileData.byteLength === 0 ?\n",
              "          100 :\n",
              "          Math.round((position / fileData.byteLength) * 100);\n",
              "      percent.textContent = `${percentDone}% done`;\n",
              "\n",
              "    } while (position < fileData.byteLength);\n",
              "  }\n",
              "\n",
              "  // All done.\n",
              "  yield {\n",
              "    response: {\n",
              "      action: 'complete',\n",
              "    }\n",
              "  };\n",
              "}\n",
              "\n",
              "scope.google = scope.google || {};\n",
              "scope.google.colab = scope.google.colab || {};\n",
              "scope.google.colab._files = {\n",
              "  _uploadFiles,\n",
              "  _uploadFilesContinue,\n",
              "};\n",
              "})(self);\n",
              "</script> "
            ]
          },
          "metadata": {}
        },
        {
          "output_type": "stream",
          "name": "stdout",
          "text": [
            "Saving iceland_articles_updated.csv to iceland_articles_updated.csv\n",
            "Saving finland_articles_updated.csv to finland_articles_updated.csv\n"
          ]
        }
      ]
    },
    {
      "cell_type": "code",
      "source": [
        "for file_name in uploaded_files.keys():\n",
        "    os.rename(file_name, os.path.join(data_folder, file_name))"
      ],
      "metadata": {
        "id": "8vBN8JfBCJVV"
      },
      "execution_count": 5,
      "outputs": []
    },
    {
      "cell_type": "markdown",
      "source": [
        "Your folder structure should now look as such:\n",
        "\n",
        "```\n",
        "data\n",
        "  - iceland_articles_updated.csv\n",
        "  - finland_articles_updated.csv\n",
        "```"
      ],
      "metadata": {
        "id": "AfCvszP4CJ4A"
      }
    },
    {
      "cell_type": "code",
      "source": [
        "article_names = ['finland_articles_updated.csv', 'iceland_articles_updated.csv']\n",
        "article_fps = [os.path.join(data_folder, article_name) for article_name in article_names]\n",
        "\n",
        "docs = []\n",
        "for article_fp in article_fps:\n",
        "  df = pd.read_csv(article_fp)\n",
        "  for _, row in df.iterrows():\n",
        "    text = row['Title'] + \" \" + row['Content']\n",
        "\n",
        "    doc = Document(\n",
        "        page_content=text,\n",
        "        metadata={'country': row['Country'], 'source': row['Source'], 'link': row['Article Links']}\n",
        "    )\n",
        "\n",
        "    docs.append(doc)"
      ],
      "metadata": {
        "id": "jUDyDVgfYa74"
      },
      "execution_count": 6,
      "outputs": []
    },
    {
      "cell_type": "markdown",
      "source": [
        "## **Query Decomposition:**\n",
        "\n",
        "Decomposition is a query re-writing technique that focuses on decomposing a question into a set of subquestions.\n",
        "\n",
        "This is applicable and effective for our use case as users planning a holiday tend to string together many requests in a single query. By breaking down a large queries into sub-queries, the retriever can retrieve more relevant documents to each sub-query and therefore, support the LLM in answering the whole query better"
      ],
      "metadata": {
        "id": "Z7qoHA5xueTy"
      }
    },
    {
      "cell_type": "code",
      "execution_count": 17,
      "metadata": {
        "id": "ioBgd3TcyV1D"
      },
      "outputs": [],
      "source": [
        "# Prompt Decomposition template used by the LLM to help break a question into sub questions\n",
        "\n",
        "template = \"\"\"You are an expert at converting user travel questions into sub-questions. \\\n",
        "You have access to several documents about the different travel destinations. \\\n",
        "\n",
        "Perform query decomposition. Given a user question, break it down into the most specific sub questions you can \\\n",
        "which will help you answer the original question. Each sub question should be about a single concept/fact/idea.\n",
        "\n",
        "If there are acronyms or words you are not familiar with, do not try to rephrase them.\n",
        "\"\"\"\n",
        "\n",
        "template_2 = \"\"\"You are a helpful assistant that generates multiple sub-questions related to an input question. \\n\n",
        "The goal is to break down the input into a set of sub-questions that can be answers in isolation. \\n\n",
        "Generate multiple search queries related to: {question} \\n\n",
        "Output (3 queries only):\"\"\"\n",
        "\n",
        "prompt_decomposition = PromptTemplate.from_template(template_2)"
      ]
    },
    {
      "cell_type": "code",
      "source": [
        "os.environ[\"GROQ_API_KEY\"] = userdata.get('GROQ_API_KEY')\n",
        "llm = ChatGroq()"
      ],
      "metadata": {
        "id": "C37JDhLytG5j"
      },
      "execution_count": 18,
      "outputs": []
    },
    {
      "cell_type": "code",
      "source": [
        "query_decomp = ( prompt_decomposition | llm | StrOutputParser())"
      ],
      "metadata": {
        "id": "0ciPCI29CUVO"
      },
      "execution_count": 19,
      "outputs": []
    },
    {
      "cell_type": "markdown",
      "metadata": {
        "id": "ISATFGYEj3Op"
      },
      "source": [
        "**Simple experiment test queries for query decomposition**"
      ]
    },
    {
      "cell_type": "code",
      "execution_count": 20,
      "metadata": {
        "id": "pbdsYx8ekD3r"
      },
      "outputs": [],
      "source": [
        "test_queries = [\"When is the best time to go Finland and what is there to do\", \"Help me plan a trip to Iceland, I am adventurous and like activities such as hiking\", \"How do I get around Iceland\"]"
      ]
    },
    {
      "cell_type": "code",
      "execution_count": 21,
      "metadata": {
        "id": "9oHWZOyqkHz9",
        "outputId": "e540f4b5-5b6d-4ae4-8dad-5e9bc49b01fd",
        "colab": {
          "base_uri": "https://localhost:8080/"
        }
      },
      "outputs": [
        {
          "output_type": "stream",
          "name": "stdout",
          "text": [
            "Query: When is the best time to go Finland and what is there to do\n",
            "Query Decomposed:\n",
            "1. \"What is the best time to visit Finland based on weather?\"\n",
            "2. \"What are the popular activities to do in Finland during summer?\"\n",
            "3. \"What are the recommended winter activities in Finland?\"\n",
            "###################################################################\n",
            "Query: Help me plan a trip to Iceland, I am adventurous and like activities such as hiking\n",
            "Query Decomposed:\n",
            "1. \"What are the best hiking trails in Iceland?\"\n",
            "2. \"What is the weather like in Iceland during hiking season?\"\n",
            "3. \"What permits or safety equipment are required for hiking in Iceland?\"\n",
            "###################################################################\n",
            "Query: How do I get around Iceland\n",
            "Query Decomposed:\n",
            "1. \"What are the transportation options available in Iceland?\"\n",
            "2. \"How do I rent a car in Iceland?\"\n",
            "3. \"Is there public transportation in Iceland?\"\n",
            "###################################################################\n"
          ]
        }
      ],
      "source": [
        "# Apply the decompsition template and break down the questions into sub questions using the prompt decompsition pipeline\n",
        "for q in test_queries:\n",
        "  print(f'Query: {q}')\n",
        "  print('Query Decomposed:')\n",
        "  print(query_decomp.invoke({\"question\":q}))\n",
        "  print('###################################################################')"
      ]
    },
    {
      "cell_type": "markdown",
      "source": [
        "<br/>\n",
        "<br/>\n",
        "\n",
        "## **Use Best Retriever from Retreiver Evaluation: FAISS (Index Flat L2) with Re-ranking+ParentDocumentRetriever**\n",
        "\n",
        "- Bi-Encoder/Embeddings model: all-mpnet-base-v2\n",
        "- Retriever: FAISS with Index Flat L2\n",
        "- Documents retrieved: 20\n",
        "- Documents after re-ranking: 10\n",
        "- Text Split Method: Recursive Character Text Splitter\n",
        "- Child Chunk Size: 250\n",
        "- Child Chunk Overlap: 50\n",
        "- Parent Chunk Size: 650\n",
        "- Parent Chunk Overlap: 160\n",
        "- Cross-Encoder/Re-ranking model: BAAI/bge-reranker-large\n",
        "- Similarity Search type: MMR"
      ],
      "metadata": {
        "id": "naTfkeFmuvqa"
      }
    },
    {
      "cell_type": "code",
      "execution_count": 45,
      "metadata": {
        "id": "GqsJjnHmEhj7"
      },
      "outputs": [],
      "source": [
        "bi_encoder_embeddings_model_name = \"sentence-transformers/all-mpnet-base-v2\"\n",
        "\n",
        "embeddings_model = HuggingFaceEmbeddings(model_name=bi_encoder_embeddings_model_name)\n",
        "vector_store_index = faiss.IndexFlatL2(len(embeddings_model.embed_query(\"hello world\")))\n",
        "index = faiss.IndexFlatL2(len(embeddings_model.embed_query(\"hello world\")))\n",
        "faiss_vector_store = FAISS(\n",
        "    embedding_function=embeddings_model,\n",
        "    index=vector_store_index,\n",
        "    docstore=InMemoryDocstore(),\n",
        "    index_to_docstore_id={},\n",
        ")\n",
        "store = InMemoryStore()\n",
        "\n",
        "num_docs_retrieved = 20\n",
        "\n",
        "top_k = 10\n",
        "\n",
        "child_text_splitter = RecursiveCharacterTextSplitter(\n",
        "    chunk_size=250, chunk_overlap=50, add_start_index=True\n",
        ")\n",
        "\n",
        "parent_text_splitter = RecursiveCharacterTextSplitter(\n",
        "    chunk_size=650, chunk_overlap=160, add_start_index=True\n",
        ")\n",
        "\n",
        "cross_encoder_embedings_model_name = \"BAAI/bge-reranker-large\"\n",
        "\n",
        "cross_encoder_model = HuggingFaceCrossEncoder(model_name=cross_encoder_embedings_model_name)\n",
        "\n",
        "search_type = 'mmr'"
      ]
    },
    {
      "cell_type": "code",
      "source": [
        "class ParentDocumentReranker(ParentDocumentRetriever):\n",
        "    model_config = {\"extra\": \"allow\"}\n",
        "\n",
        "    def __init__(self, cross_encoder_model, *args, **kwargs):\n",
        "        super().__init__(*args, **kwargs)\n",
        "        self.cross_encoder_model = cross_encoder_model\n",
        "\n",
        "    def _get_relevant_documents(\n",
        "        self, query: str, *, run_manager: CallbackManagerForRetrieverRun\n",
        "    ) -> List[Document]:\n",
        "        \"\"\"Get documents relevant to a query.\n",
        "        Args:\n",
        "            query: String to find relevant documents for\n",
        "            run_manager: The callbacks handler to use\n",
        "        Returns:\n",
        "            List of relevant documents\n",
        "        \"\"\"\n",
        "        if self.search_kwargs['search_type'] == 'mmr':\n",
        "            print('mmr search type')\n",
        "            sub_docs = self.vectorstore.max_marginal_relevance_search(\n",
        "                query, **self.search_kwargs\n",
        "            )\n",
        "        else:\n",
        "            print('non-mmr search type')\n",
        "            sub_docs = self.vectorstore.similarity_search(query, **self.search_kwargs)\n",
        "\n",
        "        # Reranking logic here with sub_docs (child documents)\n",
        "        for r in sub_docs:\n",
        "          print(r)\n",
        "        print('')\n",
        "        print('')\n",
        "        sub_docs_rerank_vals = []\n",
        "        for r in sub_docs:\n",
        "          sub_docs_rerank_vals.append((r,self.cross_encoder_model.score((r.page_content,query))))\n",
        "\n",
        "        sub_docs = [key for key, value in sorted(sub_docs_rerank_vals, key=lambda x: x[1], reverse=True)]\n",
        "\n",
        "        # We do this to maintain the order of the ids that are returned\n",
        "        ids = []\n",
        "        for d in sub_docs:\n",
        "            if self.id_key in d.metadata and d.metadata[self.id_key] not in ids:\n",
        "                ids.append(d.metadata[self.id_key])\n",
        "        docs = self.docstore.mget(ids)\n",
        "        return [d for d in docs if d is not None]"
      ],
      "metadata": {
        "id": "fCU5H2GEczvt"
      },
      "execution_count": 80,
      "outputs": []
    },
    {
      "cell_type": "code",
      "source": [
        "reranked_retriever = ParentDocumentReranker(\n",
        "    cross_encoder_model=cross_encoder_model,\n",
        "    vectorstore=faiss_vector_store,\n",
        "    docstore=store,\n",
        "    child_splitter=child_text_splitter,\n",
        "    parent_splitter=parent_text_splitter,\n",
        "    search_kwargs={\"k\": num_docs_retrieved, \"fetch_k\": num_docs_retrieved, \"search_type\": search_type}\n",
        ")\n",
        "\n",
        "reranked_retriever.add_documents(docs)"
      ],
      "metadata": {
        "id": "21i2B5FIhWQY"
      },
      "execution_count": 81,
      "outputs": []
    },
    {
      "cell_type": "code",
      "source": [
        "reranked_retriever.invoke('best food in iceland')"
      ],
      "metadata": {
        "id": "lnDiO_-IhoUg",
        "outputId": "50184dd1-db2a-4b34-b8ee-53a1afed1154",
        "colab": {
          "base_uri": "https://localhost:8080/"
        }
      },
      "execution_count": 82,
      "outputs": [
        {
          "output_type": "stream",
          "name": "stdout",
          "text": [
            "mmr search type\n",
            "page_content='ENJOY ICELANDIC FOOD Iceland has emerged as one of Europe's most dynamic gastronomic destinations, full of exciting places to taste thrilling new recipes. Chefs create modern dishes with traditional ingredients, influenced by the philosophy of the' metadata={'country': 'Iceland', 'source': 'visiticeland', 'link': 'https://www.visiticeland.com/article/enjoy-icelandic-food', 'start_index': 0, 'doc_id': '46eb038b-9808-4dcb-9f71-61ea9ab7ab51'}\n",
            "page_content='\"íslenskt grænmeti\"), flatbrauð (flat rye-bread) with Icelandic cheese and kleinur (donut-like pastry) are perfect for any adventure!  THE ICELANDIC HOTDOG The Icelandic hotdog has a lot of fans. Order \"Eina með öllu\" to learn what the fuss is about' metadata={'country': 'Iceland', 'source': 'visiticeland', 'link': 'https://www.visiticeland.com/article/iceland-on-a-budget', 'start_index': 198, 'doc_id': '868ff055-e085-4b7a-8856-a192bb6f4b16'}\n",
            "page_content='SEAFOOD - ICELAND’S TOP PRIDE Local fish of the day is a must for any foodie. A staple of Icelandic cuisine is freshly caught fish, as fishing has been an essential part of Icelandic history and culture for centuries. Fish is the main export product' metadata={'country': 'Iceland', 'source': 'visiticeland', 'link': 'https://www.visiticeland.com/article/enjoy-icelandic-food', 'start_index': 0, 'doc_id': 'ce033104-418a-46a1-ab6e-e23cd2af58b2'}\n",
            "page_content='of the island leave it relatively free from animal and plant diseases and pests. SEAFOOD - ICELAND’S TOP PRIDE Local fish of the day is a must for any foodie. A staple of Icelandic cuisine is freshly caught fish, as fishing has been an' metadata={'country': 'Iceland', 'source': 'visiticeland', 'link': 'https://www.visiticeland.com/article/enjoy-icelandic-food', 'start_index': 406, 'doc_id': 'c5044af4-4bd8-4423-ae0c-f9c0c58f5132'}\n",
            "page_content='ENJOY ICELANDIC FOOD Iceland has emerged as one of Europe's most dynamic gastronomic destinations, full of exciting places to taste thrilling new recipes. Chefs create modern dishes with traditional ingredients, influenced by the philosophy of the' metadata={'country': 'Iceland', 'source': 'visiticeland', 'link': 'https://www.visiticeland.com/article/enjoy-icelandic-food', 'start_index': 0, 'doc_id': '7c63c7df-a287-418c-ae63-6f6f350f1616'}\n",
            "page_content='ENJOY ICELANDIC FOOD Iceland has emerged as one of Europe's most dynamic gastronomic destinations, full of exciting places to taste thrilling new recipes. Chefs create modern dishes with traditional ingredients, influenced by the philosophy of the' metadata={'country': 'Iceland', 'source': 'visiticeland', 'link': 'https://www.visiticeland.com/article/enjoy-icelandic-food', 'start_index': 0, 'doc_id': '38d90bee-847e-4f11-8cab-47312e6b98aa'}\n",
            "page_content='ENJOY ICELANDIC FOOD Iceland has emerged as one of Europe's most dynamic gastronomic destinations, full of exciting places to taste thrilling new recipes. Chefs create modern dishes with traditional ingredients, influenced by the philosophy of the' metadata={'country': 'Iceland', 'source': 'visiticeland', 'link': 'https://www.visiticeland.com/article/enjoy-icelandic-food', 'start_index': 0, 'doc_id': 'ecdac79e-14aa-4484-ac94-686eb6a6cdbb'}\n",
            "page_content='ENJOY ICELANDIC FOOD Iceland has emerged as one of Europe's most dynamic gastronomic destinations, full of exciting places to taste thrilling new recipes. Chefs create modern dishes with traditional ingredients, influenced by the philosophy of the' metadata={'country': 'Iceland', 'source': 'visiticeland', 'link': 'https://www.visiticeland.com/article/enjoy-icelandic-food', 'start_index': 0, 'doc_id': '511c0f11-8045-477f-b91a-7988f126b1d0'}\n",
            "page_content='of the island leave it relatively free from animal and plant diseases and pests. SEAFOOD - ICELAND’S TOP PRIDE Local fish of the day is a must for any foodie. A staple of Icelandic cuisine is freshly caught fish, as fishing has been an' metadata={'country': 'Iceland', 'source': 'visiticeland', 'link': 'https://www.visiticeland.com/article/enjoy-icelandic-food', 'start_index': 406, 'doc_id': '9a4fa8fd-f6c1-4d83-86f6-54a20efb1fc6'}\n",
            "page_content='of the island leave it relatively free from animal and plant diseases and pests. SEAFOOD - ICELAND’S TOP PRIDE Local fish of the day is a must for any foodie. A staple of Icelandic cuisine is freshly caught fish, as fishing has been an' metadata={'country': 'Iceland', 'source': 'visiticeland', 'link': 'https://www.visiticeland.com/article/enjoy-icelandic-food', 'start_index': 406, 'doc_id': '4c371bd3-dea8-48eb-b864-b8d234f7c8b2'}\n",
            "page_content='of the island leave it relatively free from animal and plant diseases and pests. SEAFOOD - ICELAND’S TOP PRIDE Local fish of the day is a must for any foodie. A staple of Icelandic cuisine is freshly caught fish, as fishing has been an' metadata={'country': 'Iceland', 'source': 'visiticeland', 'link': 'https://www.visiticeland.com/article/enjoy-icelandic-food', 'start_index': 406, 'doc_id': 'cc72503b-b96e-48aa-b46b-01b6e4a81279'}\n",
            "page_content='of the island leave it relatively free from animal and plant diseases and pests. SEAFOOD - ICELAND’S TOP PRIDE Local fish of the day is a must for any foodie. A staple of Icelandic cuisine is freshly caught fish, as fishing has been an' metadata={'country': 'Iceland', 'source': 'visiticeland', 'link': 'https://www.visiticeland.com/article/enjoy-icelandic-food', 'start_index': 406, 'doc_id': 'a54a2718-2304-43b8-a7f7-7c4210b441a5'}\n",
            "page_content='SEAFOOD - ICELAND’S TOP PRIDE Local fish of the day is a must for any foodie. A staple of Icelandic cuisine is freshly caught fish, as fishing has been an essential part of Icelandic history and culture for centuries. Fish is the main export product' metadata={'country': 'Iceland', 'source': 'visiticeland', 'link': 'https://www.visiticeland.com/article/enjoy-icelandic-food', 'start_index': 0, 'doc_id': '1b830cbd-b319-4c20-927d-aa118502caaf'}\n",
            "page_content='SEAFOOD - ICELAND’S TOP PRIDE Local fish of the day is a must for any foodie. A staple of Icelandic cuisine is freshly caught fish, as fishing has been an essential part of Icelandic history and culture for centuries. Fish is the main export product' metadata={'country': 'Iceland', 'source': 'visiticeland', 'link': 'https://www.visiticeland.com/article/enjoy-icelandic-food', 'start_index': 0, 'doc_id': 'c6b323d1-af7c-4e51-afa6-7c081b5c907d'}\n",
            "page_content='SEAFOOD - ICELAND’S TOP PRIDE Local fish of the day is a must for any foodie. A staple of Icelandic cuisine is freshly caught fish, as fishing has been an essential part of Icelandic history and culture for centuries. Fish is the main export product' metadata={'country': 'Iceland', 'source': 'visiticeland', 'link': 'https://www.visiticeland.com/article/enjoy-icelandic-food', 'start_index': 0, 'doc_id': '7d0538f3-b1e4-4cd4-942b-330d07a6f0a2'}\n",
            "page_content='SEAFOOD - ICELAND’S TOP PRIDE Local fish of the day is a must for any foodie. A staple of Icelandic cuisine is freshly caught fish, as fishing has been an essential part of Icelandic history and culture for centuries. Fish is the main export product' metadata={'country': 'Iceland', 'source': 'visiticeland', 'link': 'https://www.visiticeland.com/article/enjoy-icelandic-food', 'start_index': 0, 'doc_id': '489f89a3-d03d-4197-886a-3a527267b110'}\n",
            "page_content='\"íslenskt grænmeti\"), flatbrauð (flat rye-bread) with Icelandic cheese and kleinur (donut-like pastry) are perfect for any adventure!  THE ICELANDIC HOTDOG The Icelandic hotdog has a lot of fans. Order \"Eina með öllu\" to learn what the fuss is about' metadata={'country': 'Iceland', 'source': 'visiticeland', 'link': 'https://www.visiticeland.com/article/iceland-on-a-budget', 'start_index': 198, 'doc_id': '807c1d02-aa35-40d7-9b49-e3c8a6e3c9f8'}\n",
            "page_content='\"íslenskt grænmeti\"), flatbrauð (flat rye-bread) with Icelandic cheese and kleinur (donut-like pastry) are perfect for any adventure!  THE ICELANDIC HOTDOG The Icelandic hotdog has a lot of fans. Order \"Eina með öllu\" to learn what the fuss is about' metadata={'country': 'Iceland', 'source': 'visiticeland', 'link': 'https://www.visiticeland.com/article/iceland-on-a-budget', 'start_index': 198, 'doc_id': '57a0f8eb-fdbe-44cc-a5ae-c2ba5d8fcf93'}\n",
            "page_content='\"íslenskt grænmeti\"), flatbrauð (flat rye-bread) with Icelandic cheese and kleinur (donut-like pastry) are perfect for any adventure!  THE ICELANDIC HOTDOG The Icelandic hotdog has a lot of fans. Order \"Eina með öllu\" to learn what the fuss is about' metadata={'country': 'Iceland', 'source': 'visiticeland', 'link': 'https://www.visiticeland.com/article/iceland-on-a-budget', 'start_index': 198, 'doc_id': '198cd3e1-0d98-44a2-9a21-83020c140d60'}\n",
            "page_content='\"íslenskt grænmeti\"), flatbrauð (flat rye-bread) with Icelandic cheese and kleinur (donut-like pastry) are perfect for any adventure!  THE ICELANDIC HOTDOG The Icelandic hotdog has a lot of fans. Order \"Eina með öllu\" to learn what the fuss is about' metadata={'country': 'Iceland', 'source': 'visiticeland', 'link': 'https://www.visiticeland.com/article/iceland-on-a-budget', 'start_index': 198, 'doc_id': 'f30cc1f2-5c96-43b7-8153-5c45905218ce'}\n",
            "\n",
            "\n"
          ]
        },
        {
          "output_type": "execute_result",
          "data": {
            "text/plain": [
              "[Document(metadata={'country': 'Iceland', 'source': 'visiticeland', 'link': 'https://www.visiticeland.com/article/enjoy-icelandic-food', 'start_index': 976}, page_content='SEAFOOD - ICELAND’S TOP PRIDE Local fish of the day is a must for any foodie. A staple of Icelandic cuisine is freshly caught fish, as fishing has been an essential part of Icelandic history and culture for centuries. Fish is the main export product of Iceland, and sustainable fishing and optimal treatment of the cath are a priority. Try one of the many Icelandic fish restaurants, and you will understand why the locals will have you believe they invented the thing. The Icelandic “lobster,” or langoustine, is also delicious and many Icelanders’ favorite food. Most restaurants offer langoustine, either in soup or roasted in garlic butter - a'),\n",
              " Document(metadata={'country': 'Iceland', 'source': 'visiticeland', 'link': 'https://www.visiticeland.com/article/enjoy-icelandic-food', 'start_index': 976}, page_content='SEAFOOD - ICELAND’S TOP PRIDE Local fish of the day is a must for any foodie. A staple of Icelandic cuisine is freshly caught fish, as fishing has been an essential part of Icelandic history and culture for centuries. Fish is the main export product of Iceland, and sustainable fishing and optimal treatment of the cath are a priority. Try one of the many Icelandic fish restaurants, and you will understand why the locals will have you believe they invented the thing. The Icelandic “lobster,” or langoustine, is also delicious and many Icelanders’ favorite food. Most restaurants offer langoustine, either in soup or roasted in garlic butter - a'),\n",
              " Document(metadata={'country': 'Iceland', 'source': 'visiticeland', 'link': 'https://www.visiticeland.com/article/enjoy-icelandic-food', 'start_index': 976}, page_content='SEAFOOD - ICELAND’S TOP PRIDE Local fish of the day is a must for any foodie. A staple of Icelandic cuisine is freshly caught fish, as fishing has been an essential part of Icelandic history and culture for centuries. Fish is the main export product of Iceland, and sustainable fishing and optimal treatment of the cath are a priority. Try one of the many Icelandic fish restaurants, and you will understand why the locals will have you believe they invented the thing. The Icelandic “lobster,” or langoustine, is also delicious and many Icelanders’ favorite food. Most restaurants offer langoustine, either in soup or roasted in garlic butter - a'),\n",
              " Document(metadata={'country': 'Iceland', 'source': 'visiticeland', 'link': 'https://www.visiticeland.com/article/enjoy-icelandic-food', 'start_index': 976}, page_content='SEAFOOD - ICELAND’S TOP PRIDE Local fish of the day is a must for any foodie. A staple of Icelandic cuisine is freshly caught fish, as fishing has been an essential part of Icelandic history and culture for centuries. Fish is the main export product of Iceland, and sustainable fishing and optimal treatment of the cath are a priority. Try one of the many Icelandic fish restaurants, and you will understand why the locals will have you believe they invented the thing. The Icelandic “lobster,” or langoustine, is also delicious and many Icelanders’ favorite food. Most restaurants offer langoustine, either in soup or roasted in garlic butter - a'),\n",
              " Document(metadata={'country': 'Iceland', 'source': 'visiticeland', 'link': 'https://www.visiticeland.com/article/enjoy-icelandic-food', 'start_index': 976}, page_content='SEAFOOD - ICELAND’S TOP PRIDE Local fish of the day is a must for any foodie. A staple of Icelandic cuisine is freshly caught fish, as fishing has been an essential part of Icelandic history and culture for centuries. Fish is the main export product of Iceland, and sustainable fishing and optimal treatment of the cath are a priority. Try one of the many Icelandic fish restaurants, and you will understand why the locals will have you believe they invented the thing. The Icelandic “lobster,” or langoustine, is also delicious and many Icelanders’ favorite food. Most restaurants offer langoustine, either in soup or roasted in garlic butter - a'),\n",
              " Document(metadata={'country': 'Iceland', 'source': 'visiticeland', 'link': 'https://www.visiticeland.com/article/enjoy-icelandic-food', 'start_index': 0}, page_content=\"ENJOY ICELANDIC FOOD Iceland has emerged as one of Europe's most dynamic gastronomic destinations, full of exciting places to taste thrilling new recipes. Chefs create modern dishes with traditional ingredients, influenced by the philosophy of the New Nordic Cuisine, where freshness and local seasonal ingredients play a vital role. LOCATION IS AN ESSENTIAL INGREDIENT Iceland is known for exceptional seafood restaurants and an outstanding quality of food in general. The land offers an abundance of clean spring water, fresh air, and unpolluted nature. Some of the most fertile fishing grounds in the North-Atlantic can be found off the coast of\"),\n",
              " Document(metadata={'country': 'Iceland', 'source': 'visiticeland', 'link': 'https://www.visiticeland.com/article/enjoy-icelandic-food', 'start_index': 0}, page_content=\"ENJOY ICELANDIC FOOD Iceland has emerged as one of Europe's most dynamic gastronomic destinations, full of exciting places to taste thrilling new recipes. Chefs create modern dishes with traditional ingredients, influenced by the philosophy of the New Nordic Cuisine, where freshness and local seasonal ingredients play a vital role. LOCATION IS AN ESSENTIAL INGREDIENT Iceland is known for exceptional seafood restaurants and an outstanding quality of food in general. The land offers an abundance of clean spring water, fresh air, and unpolluted nature. Some of the most fertile fishing grounds in the North-Atlantic can be found off the coast of\"),\n",
              " Document(metadata={'country': 'Iceland', 'source': 'visiticeland', 'link': 'https://www.visiticeland.com/article/enjoy-icelandic-food', 'start_index': 0}, page_content=\"ENJOY ICELANDIC FOOD Iceland has emerged as one of Europe's most dynamic gastronomic destinations, full of exciting places to taste thrilling new recipes. Chefs create modern dishes with traditional ingredients, influenced by the philosophy of the New Nordic Cuisine, where freshness and local seasonal ingredients play a vital role. LOCATION IS AN ESSENTIAL INGREDIENT Iceland is known for exceptional seafood restaurants and an outstanding quality of food in general. The land offers an abundance of clean spring water, fresh air, and unpolluted nature. Some of the most fertile fishing grounds in the North-Atlantic can be found off the coast of\"),\n",
              " Document(metadata={'country': 'Iceland', 'source': 'visiticeland', 'link': 'https://www.visiticeland.com/article/enjoy-icelandic-food', 'start_index': 0}, page_content=\"ENJOY ICELANDIC FOOD Iceland has emerged as one of Europe's most dynamic gastronomic destinations, full of exciting places to taste thrilling new recipes. Chefs create modern dishes with traditional ingredients, influenced by the philosophy of the New Nordic Cuisine, where freshness and local seasonal ingredients play a vital role. LOCATION IS AN ESSENTIAL INGREDIENT Iceland is known for exceptional seafood restaurants and an outstanding quality of food in general. The land offers an abundance of clean spring water, fresh air, and unpolluted nature. Some of the most fertile fishing grounds in the North-Atlantic can be found off the coast of\"),\n",
              " Document(metadata={'country': 'Iceland', 'source': 'visiticeland', 'link': 'https://www.visiticeland.com/article/enjoy-icelandic-food', 'start_index': 0}, page_content=\"ENJOY ICELANDIC FOOD Iceland has emerged as one of Europe's most dynamic gastronomic destinations, full of exciting places to taste thrilling new recipes. Chefs create modern dishes with traditional ingredients, influenced by the philosophy of the New Nordic Cuisine, where freshness and local seasonal ingredients play a vital role. LOCATION IS AN ESSENTIAL INGREDIENT Iceland is known for exceptional seafood restaurants and an outstanding quality of food in general. The land offers an abundance of clean spring water, fresh air, and unpolluted nature. Some of the most fertile fishing grounds in the North-Atlantic can be found off the coast of\"),\n",
              " Document(metadata={'country': 'Iceland', 'source': 'visiticeland', 'link': 'https://www.visiticeland.com/article/enjoy-icelandic-food', 'start_index': 489}, page_content='abundance of clean spring water, fresh air, and unpolluted nature. Some of the most fertile fishing grounds in the North-Atlantic can be found off the coast of Iceland. Cool and warm ocean currents meet there to create the ideal conditions for fish stocks to thrive. Another critical factor is the abundance of green energy available for food production and cooking. In addition, the climate and isolation of the island leave it relatively free from animal and plant diseases and pests. SEAFOOD - ICELAND’S TOP PRIDE Local fish of the day is a must for any foodie. A staple of Icelandic cuisine is freshly caught fish, as fishing has been an'),\n",
              " Document(metadata={'country': 'Iceland', 'source': 'visiticeland', 'link': 'https://www.visiticeland.com/article/enjoy-icelandic-food', 'start_index': 489}, page_content='abundance of clean spring water, fresh air, and unpolluted nature. Some of the most fertile fishing grounds in the North-Atlantic can be found off the coast of Iceland. Cool and warm ocean currents meet there to create the ideal conditions for fish stocks to thrive. Another critical factor is the abundance of green energy available for food production and cooking. In addition, the climate and isolation of the island leave it relatively free from animal and plant diseases and pests. SEAFOOD - ICELAND’S TOP PRIDE Local fish of the day is a must for any foodie. A staple of Icelandic cuisine is freshly caught fish, as fishing has been an'),\n",
              " Document(metadata={'country': 'Iceland', 'source': 'visiticeland', 'link': 'https://www.visiticeland.com/article/enjoy-icelandic-food', 'start_index': 489}, page_content='abundance of clean spring water, fresh air, and unpolluted nature. Some of the most fertile fishing grounds in the North-Atlantic can be found off the coast of Iceland. Cool and warm ocean currents meet there to create the ideal conditions for fish stocks to thrive. Another critical factor is the abundance of green energy available for food production and cooking. In addition, the climate and isolation of the island leave it relatively free from animal and plant diseases and pests. SEAFOOD - ICELAND’S TOP PRIDE Local fish of the day is a must for any foodie. A staple of Icelandic cuisine is freshly caught fish, as fishing has been an'),\n",
              " Document(metadata={'country': 'Iceland', 'source': 'visiticeland', 'link': 'https://www.visiticeland.com/article/enjoy-icelandic-food', 'start_index': 489}, page_content='abundance of clean spring water, fresh air, and unpolluted nature. Some of the most fertile fishing grounds in the North-Atlantic can be found off the coast of Iceland. Cool and warm ocean currents meet there to create the ideal conditions for fish stocks to thrive. Another critical factor is the abundance of green energy available for food production and cooking. In addition, the climate and isolation of the island leave it relatively free from animal and plant diseases and pests. SEAFOOD - ICELAND’S TOP PRIDE Local fish of the day is a must for any foodie. A staple of Icelandic cuisine is freshly caught fish, as fishing has been an'),\n",
              " Document(metadata={'country': 'Iceland', 'source': 'visiticeland', 'link': 'https://www.visiticeland.com/article/enjoy-icelandic-food', 'start_index': 489}, page_content='abundance of clean spring water, fresh air, and unpolluted nature. Some of the most fertile fishing grounds in the North-Atlantic can be found off the coast of Iceland. Cool and warm ocean currents meet there to create the ideal conditions for fish stocks to thrive. Another critical factor is the abundance of green energy available for food production and cooking. In addition, the climate and isolation of the island leave it relatively free from animal and plant diseases and pests. SEAFOOD - ICELAND’S TOP PRIDE Local fish of the day is a must for any foodie. A staple of Icelandic cuisine is freshly caught fish, as fishing has been an'),\n",
              " Document(metadata={'country': 'Iceland', 'source': 'visiticeland', 'link': 'https://www.visiticeland.com/article/iceland-on-a-budget', 'start_index': 2580}, page_content='are supermarket chains that often offer the lowest prices. Recommended road snacks: Skyr – a special yogurt low on fat and filled with protein, vegetables from our very own greenhouses (marked with \"íslenskt grænmeti\"), flatbrauð (flat rye-bread) with Icelandic cheese and kleinur (donut-like pastry) are perfect for any adventure!  THE ICELANDIC HOTDOG The Icelandic hotdog has a lot of fans. Order \"Eina með öllu\" to learn what the fuss is about You‘ve probably already heard of the famous Icelandic pylsa, aka the Icelandic hotdog. What‘s in it? An Icelandic sausage accompanied by sweet brown mustard, ketchup, and remoulade sauce, raw white and'),\n",
              " Document(metadata={'country': 'Iceland', 'source': 'visiticeland', 'link': 'https://www.visiticeland.com/article/iceland-on-a-budget', 'start_index': 2580}, page_content='are supermarket chains that often offer the lowest prices. Recommended road snacks: Skyr – a special yogurt low on fat and filled with protein, vegetables from our very own greenhouses (marked with \"íslenskt grænmeti\"), flatbrauð (flat rye-bread) with Icelandic cheese and kleinur (donut-like pastry) are perfect for any adventure!  THE ICELANDIC HOTDOG The Icelandic hotdog has a lot of fans. Order \"Eina með öllu\" to learn what the fuss is about You‘ve probably already heard of the famous Icelandic pylsa, aka the Icelandic hotdog. What‘s in it? An Icelandic sausage accompanied by sweet brown mustard, ketchup, and remoulade sauce, raw white and'),\n",
              " Document(metadata={'country': 'Iceland', 'source': 'visiticeland', 'link': 'https://www.visiticeland.com/article/iceland-on-a-budget', 'start_index': 2580}, page_content='are supermarket chains that often offer the lowest prices. Recommended road snacks: Skyr – a special yogurt low on fat and filled with protein, vegetables from our very own greenhouses (marked with \"íslenskt grænmeti\"), flatbrauð (flat rye-bread) with Icelandic cheese and kleinur (donut-like pastry) are perfect for any adventure!  THE ICELANDIC HOTDOG The Icelandic hotdog has a lot of fans. Order \"Eina með öllu\" to learn what the fuss is about You‘ve probably already heard of the famous Icelandic pylsa, aka the Icelandic hotdog. What‘s in it? An Icelandic sausage accompanied by sweet brown mustard, ketchup, and remoulade sauce, raw white and'),\n",
              " Document(metadata={'country': 'Iceland', 'source': 'visiticeland', 'link': 'https://www.visiticeland.com/article/iceland-on-a-budget', 'start_index': 2580}, page_content='are supermarket chains that often offer the lowest prices. Recommended road snacks: Skyr – a special yogurt low on fat and filled with protein, vegetables from our very own greenhouses (marked with \"íslenskt grænmeti\"), flatbrauð (flat rye-bread) with Icelandic cheese and kleinur (donut-like pastry) are perfect for any adventure!  THE ICELANDIC HOTDOG The Icelandic hotdog has a lot of fans. Order \"Eina með öllu\" to learn what the fuss is about You‘ve probably already heard of the famous Icelandic pylsa, aka the Icelandic hotdog. What‘s in it? An Icelandic sausage accompanied by sweet brown mustard, ketchup, and remoulade sauce, raw white and'),\n",
              " Document(metadata={'country': 'Iceland', 'source': 'visiticeland', 'link': 'https://www.visiticeland.com/article/iceland-on-a-budget', 'start_index': 2580}, page_content='are supermarket chains that often offer the lowest prices. Recommended road snacks: Skyr – a special yogurt low on fat and filled with protein, vegetables from our very own greenhouses (marked with \"íslenskt grænmeti\"), flatbrauð (flat rye-bread) with Icelandic cheese and kleinur (donut-like pastry) are perfect for any adventure!  THE ICELANDIC HOTDOG The Icelandic hotdog has a lot of fans. Order \"Eina með öllu\" to learn what the fuss is about You‘ve probably already heard of the famous Icelandic pylsa, aka the Icelandic hotdog. What‘s in it? An Icelandic sausage accompanied by sweet brown mustard, ketchup, and remoulade sauce, raw white and')]"
            ]
          },
          "metadata": {},
          "execution_count": 82
        }
      ]
    },
    {
      "cell_type": "markdown",
      "source": [
        "<br/>\n",
        "<br/>\n",
        "\n",
        "## **Re-order re-ranked results to mitigate \"lost-in-the-middle\" effect**"
      ],
      "metadata": {
        "id": "guByzIWAFyGy"
      }
    },
    {
      "cell_type": "markdown",
      "metadata": {
        "id": "WYTT7jaWBbFG"
      },
      "source": [
        "<u>Build the Final Answer Individually</u>"
      ]
    },
    {
      "cell_type": "code",
      "execution_count": null,
      "metadata": {
        "colab": {
          "base_uri": "https://localhost:8080/"
        },
        "id": "avOg004jBdp9",
        "outputId": "a87043a9-7a56-4f87-8e00-08f9f4217244"
      },
      "outputs": [
        {
          "name": "stderr",
          "output_type": "stream",
          "text": [
            "/usr/local/lib/python3.10/dist-packages/langsmith/client.py:241: LangSmithMissingAPIKeyWarning: API key must be provided when using hosted LangSmith API\n",
            "  warnings.warn(\n",
            "You seem to be using the pipelines sequentially on GPU. In order to maximize efficiency please use a dataset\n",
            "<ipython-input-38-9197ef3514dd>:32: LangChainDeprecationWarning: The method `BaseRetriever.get_relevant_documents` was deprecated in langchain-core 0.1.46 and will be removed in 1.0. Use :meth:`~invoke` instead.\n",
            "  retrieved_docs = retriever.get_relevant_documents(sub_question)\n"
          ]
        }
      ],
      "source": [
        "# Answer each sub-question individually\n",
        "# RAG prompt\n",
        "'''\n",
        "You are an assistant for question-answering tasks. Use the following pieces of retrieved context to answer the question. If you don't know the answer, just say that you don't know. Use three sentences maximum and keep the answer concise.\n",
        "\n",
        "Question: {question}\n",
        "\n",
        "Context: {context}\n",
        "\n",
        "Answer:\n",
        "'''\n",
        "prompt_rag = hub.pull(\"rlm/rag-prompt\")\n",
        "def retrieve_and_rag(question,prompt_rag,sub_question_generator_chain):\n",
        "    \"\"\"Perform RAG on each sub-question\"\"\"\n",
        "    # Generate the sub questions using the chain\n",
        "    sub_questions = sub_question_generator_chain.invoke({\"question\":question})\n",
        "    # Initialize a list to hold RAG results of each sub-question\n",
        "    rag_results = []\n",
        "    for sub_question in sub_questions:\n",
        "        # Retrieve documents for each sub-question\n",
        "        retrieved_docs = retriever.get_relevant_documents(sub_question)\n",
        "        # Use retrieved documents and sub-question to answer the sub question\n",
        "        answer = (prompt_rag | llm.bind(skip_prompt=True) | StrOutputParser()).invoke({\"context\": retrieved_docs,\n",
        "                                                                \"question\": sub_question})\n",
        "        # Append the answer to the sub question\n",
        "        rag_results.append(answer)\n",
        "    # Return the list of sub questions and their answers\n",
        "    return rag_results,sub_questions\n",
        "\n",
        "answers, questions = retrieve_and_rag(question, prompt_rag, generate_queries_decomposition)"
      ]
    },
    {
      "cell_type": "code",
      "execution_count": null,
      "metadata": {
        "colab": {
          "base_uri": "https://localhost:8080/",
          "height": 200
        },
        "id": "8Olh0GE3CZSa",
        "outputId": "10b707fa-e61d-4a94-856b-24887786b5a6"
      },
      "outputs": [
        {
          "data": {
            "application/vnd.google.colaboratory.intrinsic+json": {
              "type": "string"
            },
            "text/plain": [
              "\"To answer your question, the best time to visit Finland for tourism is during winter months like December through February when the Northern Lights (auroras) are most visible due to long nights and cold temperatures. This period provides opportunities for activities like snowshoeing, skiing, and aurora watching. However, summer from June to August also offers unique experiences such as midnight sun and vibrant nature with activities including hiking, kayaking, and berry-picking. Additionally, there's a chance to experience the country's unique glass huts in Lapland during the winter season. Overall, both winter and summer offer distinct and memorable experiences in Finland. To get the most out of your trip, it's recommended to check local forecasts and plan accordingly based on your interests and preferences. Here’s a summary of the key points:\\n\\n- **Best Time to Visit:** Winter (December through February) for Northern Lights and snowy landscapes.\\n- **Summer Activities:** Hiking, kayaking, berry-picking, and exploring glass huts in Lapland.\\n- **General Tips:** Check weather forecasts and tailor your itinerary to maximize enjoyment of each season's unique offerings.\""
            ]
          },
          "execution_count": 39,
          "metadata": {},
          "output_type": "execute_result"
        }
      ],
      "source": [
        "# Utility function to format a given question and answer\n",
        "def format_qa_pairs(questions, answers):\n",
        "    \"\"\"Format Q and A pairs\"\"\"\n",
        "    formatted_string = \"\"\n",
        "    for i, (question, answer) in enumerate(zip(questions, answers), start=1):\n",
        "        formatted_string += f\"Question {i}: {question}\\nAnswer {i}: {answer}\\n\\n\"\n",
        "    return formatted_string.strip()\n",
        "\n",
        "# Format the list of sub questions and their answers from just now\n",
        "context = format_qa_pairs(questions, answers)\n",
        "\n",
        "# Prompt template to use each individual sub-question and answer, as well as the main question\n",
        "template = \"\"\"Here is a set of Q+A pairs:\n",
        "\n",
        "{context}\n",
        "\n",
        "Use these to synthesize an answer to the question: {question}\n",
        "\"\"\"\n",
        "\n",
        "prompt = PromptTemplate.from_template(template)\n",
        "\n",
        "final_rag_chain = (\n",
        "    prompt\n",
        "    | llm.bind(skip_prompt=True)\n",
        "    | StrOutputParser()\n",
        ")\n",
        "\n",
        "final_rag_chain.invoke({\"context\":context,\"question\":question})"
      ]
    },
    {
      "cell_type": "markdown",
      "metadata": {
        "id": "fPQI0arPvLuw"
      },
      "source": [
        "**Conclusion**: To be filled in"
      ]
    },
    {
      "cell_type": "markdown",
      "metadata": {
        "id": "goL7fLxZFicO"
      },
      "source": []
    }
  ],
  "metadata": {
    "colab": {
      "provenance": [],
      "gpuType": "T4"
    },
    "language_info": {
      "name": "python"
    },
    "kernelspec": {
      "name": "python3",
      "display_name": "Python 3"
    },
    "accelerator": "GPU"
  },
  "nbformat": 4,
  "nbformat_minor": 0
}