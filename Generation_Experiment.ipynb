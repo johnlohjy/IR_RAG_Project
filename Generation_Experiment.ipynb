{
  "cells": [
    {
      "cell_type": "markdown",
      "metadata": {
        "id": "NpN7djOVwluU"
      },
      "source": [
        "# **Generation Experiment**"
      ]
    },
    {
      "cell_type": "code",
      "execution_count": 1,
      "metadata": {
        "colab": {
          "base_uri": "https://localhost:8080/"
        },
        "id": "3nBwytexAOMi",
        "outputId": "b51cc4c9-dfab-4a2b-e467-a65f6644baf1"
      },
      "outputs": [
        {
          "output_type": "stream",
          "name": "stdout",
          "text": [
            "\u001b[2K     \u001b[90m━━━━━━━━━━━━━━━━━━━━━━━━━━━━━━━━━━━━━━━━\u001b[0m \u001b[32m44.1/44.1 kB\u001b[0m \u001b[31m2.1 MB/s\u001b[0m eta \u001b[36m0:00:00\u001b[0m\n",
            "\u001b[2K     \u001b[90m━━━━━━━━━━━━━━━━━━━━━━━━━━━━━━━━━━━━━━━━\u001b[0m \u001b[32m67.3/67.3 kB\u001b[0m \u001b[31m2.7 MB/s\u001b[0m eta \u001b[36m0:00:00\u001b[0m\n",
            "\u001b[?25h  Installing build dependencies ... \u001b[?25l\u001b[?25hdone\n",
            "  Getting requirements to build wheel ... \u001b[?25l\u001b[?25hdone\n",
            "  Preparing metadata (pyproject.toml) ... \u001b[?25l\u001b[?25hdone\n",
            "\u001b[2K   \u001b[90m━━━━━━━━━━━━━━━━━━━━━━━━━━━━━━━━━━━━━━━━\u001b[0m \u001b[32m122.4/122.4 MB\u001b[0m \u001b[31m7.5 MB/s\u001b[0m eta \u001b[36m0:00:00\u001b[0m\n",
            "\u001b[2K   \u001b[90m━━━━━━━━━━━━━━━━━━━━━━━━━━━━━━━━━━━━━━━━\u001b[0m \u001b[32m1.0/1.0 MB\u001b[0m \u001b[31m59.3 MB/s\u001b[0m eta \u001b[36m0:00:00\u001b[0m\n",
            "\u001b[2K   \u001b[90m━━━━━━━━━━━━━━━━━━━━━━━━━━━━━━━━━━━━━━━━\u001b[0m \u001b[32m2.4/2.4 MB\u001b[0m \u001b[31m95.0 MB/s\u001b[0m eta \u001b[36m0:00:00\u001b[0m\n",
            "\u001b[2K   \u001b[90m━━━━━━━━━━━━━━━━━━━━━━━━━━━━━━━━━━━━━━━━\u001b[0m \u001b[32m10.0/10.0 MB\u001b[0m \u001b[31m123.8 MB/s\u001b[0m eta \u001b[36m0:00:00\u001b[0m\n",
            "\u001b[2K   \u001b[90m━━━━━━━━━━━━━━━━━━━━━━━━━━━━━━━━━━━━━━━━\u001b[0m \u001b[32m85.5/85.5 MB\u001b[0m \u001b[31m8.8 MB/s\u001b[0m eta \u001b[36m0:00:00\u001b[0m\n",
            "\u001b[2K   \u001b[90m━━━━━━━━━━━━━━━━━━━━━━━━━━━━━━━━━━━━━━━━\u001b[0m \u001b[32m111.0/111.0 kB\u001b[0m \u001b[31m10.1 MB/s\u001b[0m eta \u001b[36m0:00:00\u001b[0m\n",
            "\u001b[2K   \u001b[90m━━━━━━━━━━━━━━━━━━━━━━━━━━━━━━━━━━━━━━━━\u001b[0m \u001b[32m267.2/267.2 kB\u001b[0m \u001b[31m22.2 MB/s\u001b[0m eta \u001b[36m0:00:00\u001b[0m\n",
            "\u001b[2K   \u001b[90m━━━━━━━━━━━━━━━━━━━━━━━━━━━━━━━━━━━━━━━━\u001b[0m \u001b[32m628.3/628.3 kB\u001b[0m \u001b[31m35.9 MB/s\u001b[0m eta \u001b[36m0:00:00\u001b[0m\n",
            "\u001b[2K   \u001b[90m━━━━━━━━━━━━━━━━━━━━━━━━━━━━━━━━━━━━━━━━\u001b[0m \u001b[32m2.4/2.4 MB\u001b[0m \u001b[31m72.6 MB/s\u001b[0m eta \u001b[36m0:00:00\u001b[0m\n",
            "\u001b[2K   \u001b[90m━━━━━━━━━━━━━━━━━━━━━━━━━━━━━━━━━━━━━━━━\u001b[0m \u001b[32m94.9/94.9 kB\u001b[0m \u001b[31m9.4 MB/s\u001b[0m eta \u001b[36m0:00:00\u001b[0m\n",
            "\u001b[2K   \u001b[90m━━━━━━━━━━━━━━━━━━━━━━━━━━━━━━━━━━━━━━━━\u001b[0m \u001b[32m108.8/108.8 kB\u001b[0m \u001b[31m10.7 MB/s\u001b[0m eta \u001b[36m0:00:00\u001b[0m\n",
            "\u001b[2K   \u001b[90m━━━━━━━━━━━━━━━━━━━━━━━━━━━━━━━━━━━━━━━━\u001b[0m \u001b[32m2.4/2.4 MB\u001b[0m \u001b[31m64.5 MB/s\u001b[0m eta \u001b[36m0:00:00\u001b[0m\n",
            "\u001b[2K   \u001b[90m━━━━━━━━━━━━━━━━━━━━━━━━━━━━━━━━━━━━━━━━\u001b[0m \u001b[32m5.9/5.9 MB\u001b[0m \u001b[31m90.4 MB/s\u001b[0m eta \u001b[36m0:00:00\u001b[0m\n",
            "\u001b[2K   \u001b[90m━━━━━━━━━━━━━━━━━━━━━━━━━━━━━━━━━━━━━━━━\u001b[0m \u001b[32m409.5/409.5 kB\u001b[0m \u001b[31m32.6 MB/s\u001b[0m eta \u001b[36m0:00:00\u001b[0m\n",
            "\u001b[2K   \u001b[90m━━━━━━━━━━━━━━━━━━━━━━━━━━━━━━━━━━━━━━━━\u001b[0m \u001b[32m278.6/278.6 kB\u001b[0m \u001b[31m24.1 MB/s\u001b[0m eta \u001b[36m0:00:00\u001b[0m\n",
            "\u001b[2K   \u001b[90m━━━━━━━━━━━━━━━━━━━━━━━━━━━━━━━━━━━━━━━━\u001b[0m \u001b[32m57.5/57.5 kB\u001b[0m \u001b[31m4.8 MB/s\u001b[0m eta \u001b[36m0:00:00\u001b[0m\n",
            "\u001b[2K   \u001b[90m━━━━━━━━━━━━━━━━━━━━━━━━━━━━━━━━━━━━━━━━\u001b[0m \u001b[32m1.9/1.9 MB\u001b[0m \u001b[31m62.9 MB/s\u001b[0m eta \u001b[36m0:00:00\u001b[0m\n",
            "\u001b[2K   \u001b[90m━━━━━━━━━━━━━━━━━━━━━━━━━━━━━━━━━━━━━━━━\u001b[0m \u001b[32m49.5/49.5 kB\u001b[0m \u001b[31m3.4 MB/s\u001b[0m eta \u001b[36m0:00:00\u001b[0m\n",
            "\u001b[2K   \u001b[90m━━━━━━━━━━━━━━━━━━━━━━━━━━━━━━━━━━━━━━━━\u001b[0m \u001b[32m93.2/93.2 kB\u001b[0m \u001b[31m8.1 MB/s\u001b[0m eta \u001b[36m0:00:00\u001b[0m\n",
            "\u001b[2K   \u001b[90m━━━━━━━━━━━━━━━━━━━━━━━━━━━━━━━━━━━━━━━━\u001b[0m \u001b[32m13.3/13.3 MB\u001b[0m \u001b[31m74.9 MB/s\u001b[0m eta \u001b[36m0:00:00\u001b[0m\n",
            "\u001b[2K   \u001b[90m━━━━━━━━━━━━━━━━━━━━━━━━━━━━━━━━━━━━━━━━\u001b[0m \u001b[32m55.8/55.8 kB\u001b[0m \u001b[31m5.4 MB/s\u001b[0m eta \u001b[36m0:00:00\u001b[0m\n",
            "\u001b[2K   \u001b[90m━━━━━━━━━━━━━━━━━━━━━━━━━━━━━━━━━━━━━━━━\u001b[0m \u001b[32m54.8/54.8 kB\u001b[0m \u001b[31m5.1 MB/s\u001b[0m eta \u001b[36m0:00:00\u001b[0m\n",
            "\u001b[2K   \u001b[90m━━━━━━━━━━━━━━━━━━━━━━━━━━━━━━━━━━━━━━━━\u001b[0m \u001b[32m319.7/319.7 kB\u001b[0m \u001b[31m24.3 MB/s\u001b[0m eta \u001b[36m0:00:00\u001b[0m\n",
            "\u001b[2K   \u001b[90m━━━━━━━━━━━━━━━━━━━━━━━━━━━━━━━━━━━━━━━━\u001b[0m \u001b[32m73.2/73.2 kB\u001b[0m \u001b[31m6.5 MB/s\u001b[0m eta \u001b[36m0:00:00\u001b[0m\n",
            "\u001b[2K   \u001b[90m━━━━━━━━━━━━━━━━━━━━━━━━━━━━━━━━━━━━━━━━\u001b[0m \u001b[32m63.8/63.8 kB\u001b[0m \u001b[31m5.0 MB/s\u001b[0m eta \u001b[36m0:00:00\u001b[0m\n",
            "\u001b[2K   \u001b[90m━━━━━━━━━━━━━━━━━━━━━━━━━━━━━━━━━━━━━━━━\u001b[0m \u001b[32m442.1/442.1 kB\u001b[0m \u001b[31m30.9 MB/s\u001b[0m eta \u001b[36m0:00:00\u001b[0m\n",
            "\u001b[2K   \u001b[90m━━━━━━━━━━━━━━━━━━━━━━━━━━━━━━━━━━━━━━━━\u001b[0m \u001b[32m3.8/3.8 MB\u001b[0m \u001b[31m73.8 MB/s\u001b[0m eta \u001b[36m0:00:00\u001b[0m\n",
            "\u001b[2K   \u001b[90m━━━━━━━━━━━━━━━━━━━━━━━━━━━━━━━━━━━━━━━━\u001b[0m \u001b[32m442.6/442.6 kB\u001b[0m \u001b[31m30.2 MB/s\u001b[0m eta \u001b[36m0:00:00\u001b[0m\n",
            "\u001b[2K   \u001b[90m━━━━━━━━━━━━━━━━━━━━━━━━━━━━━━━━━━━━━━━━\u001b[0m \u001b[32m168.2/168.2 kB\u001b[0m \u001b[31m14.5 MB/s\u001b[0m eta \u001b[36m0:00:00\u001b[0m\n",
            "\u001b[2K   \u001b[90m━━━━━━━━━━━━━━━━━━━━━━━━━━━━━━━━━━━━━━━━\u001b[0m \u001b[32m46.0/46.0 kB\u001b[0m \u001b[31m3.8 MB/s\u001b[0m eta \u001b[36m0:00:00\u001b[0m\n",
            "\u001b[2K   \u001b[90m━━━━━━━━━━━━━━━━━━━━━━━━━━━━━━━━━━━━━━━━\u001b[0m \u001b[32m86.8/86.8 kB\u001b[0m \u001b[31m8.2 MB/s\u001b[0m eta \u001b[36m0:00:00\u001b[0m\n",
            "\u001b[?25h  Building wheel for pypika (pyproject.toml) ... \u001b[?25l\u001b[?25hdone\n",
            "\u001b[31mERROR: pip's dependency resolver does not currently take into account all the packages that are installed. This behaviour is the source of the following dependency conflicts.\n",
            "tensorflow 2.17.1 requires protobuf!=4.21.0,!=4.21.1,!=4.21.2,!=4.21.3,!=4.21.4,!=4.21.5,<5.0.0dev,>=3.20.3, but you have protobuf 5.29.0 which is incompatible.\n",
            "tensorflow-metadata 1.13.1 requires protobuf<5,>=3.20.3, but you have protobuf 5.29.0 which is incompatible.\u001b[0m\u001b[31m\n",
            "\u001b[0m"
          ]
        }
      ],
      "source": [
        "%pip install --quiet --upgrade bitsandbytes langchain langchain-community langchain-huggingface transformers beautifulsoup4 faiss-gpu rank_bm25 lark qdrant-client langchain-chroma langchain_groq"
      ]
    },
    {
      "cell_type": "code",
      "execution_count": 31,
      "metadata": {
        "id": "FBUuQT4-i8rr"
      },
      "outputs": [],
      "source": [
        "from langchain_core.documents import Document\n",
        "from langchain.chains.query_constructor.base import AttributeInfo\n",
        "import torch\n",
        "from langchain_huggingface.llms import HuggingFacePipeline\n",
        "from transformers import AutoModelForCausalLM, AutoTokenizer, pipeline\n",
        "from transformers import BitsAndBytesConfig\n",
        "from langchain_core.output_parsers import StrOutputParser\n",
        "import re\n",
        "from langchain_huggingface import HuggingFaceEmbeddings\n",
        "from langchain_community.vectorstores import FAISS\n",
        "import faiss\n",
        "from langchain_community.docstore.in_memory import InMemoryDocstore\n",
        "from langchain.storage import InMemoryStore\n",
        "from operator import itemgetter\n",
        "from langchain import hub\n",
        "from langchain_core.runnables import RunnablePassthrough, RunnableLambda\n",
        "from langchain.retrievers import EnsembleRetriever # Supports Ensembling of results from multiple retrievers\n",
        "from langchain_community.retrievers import BM25Retriever\n",
        "from pydantic import BaseModel, Field\n",
        "from typing import List\n",
        "from langchain_text_splitters import RecursiveCharacterTextSplitter\n",
        "from google.colab import userdata\n",
        "from langchain import PromptTemplate\n",
        "import nltk\n",
        "from nltk.corpus import stopwords\n",
        "import re\n",
        "import pandas as pd\n",
        "import os\n",
        "import json\n",
        "from google.colab import files\n",
        "import time\n",
        "from langchain_groq import ChatGroq\n",
        "from langchain.retrievers import ParentDocumentRetriever\n",
        "from langchain_community.cross_encoders import HuggingFaceCrossEncoder\n",
        "from langchain.callbacks.manager import CallbackManagerForRetrieverRun"
      ]
    },
    {
      "cell_type": "markdown",
      "source": [
        "## **User Action Required**\n",
        "\n",
        "1. Run the code below to create the ```data``` folder\n",
        "\n",
        "2. Choose to upload the following files\n",
        "- ```iceland_articles_updated.csv```\n",
        "- ```finland_articles_updated.csv```"
      ],
      "metadata": {
        "id": "M-qQ2aJLCFL3"
      }
    },
    {
      "cell_type": "code",
      "source": [
        "data_folder = os.path.join(os.getcwd(), 'data')\n",
        "os.makedirs(data_folder, exist_ok=True)"
      ],
      "metadata": {
        "id": "utnhqnc6CG46"
      },
      "execution_count": 3,
      "outputs": []
    },
    {
      "cell_type": "code",
      "source": [
        "uploaded_files = files.upload()"
      ],
      "metadata": {
        "colab": {
          "base_uri": "https://localhost:8080/",
          "height": 107
        },
        "id": "W52bvebjCHOg",
        "outputId": "2032602c-7528-4c08-a04a-d1a6f6527af9"
      },
      "execution_count": 4,
      "outputs": [
        {
          "output_type": "display_data",
          "data": {
            "text/plain": [
              "<IPython.core.display.HTML object>"
            ],
            "text/html": [
              "\n",
              "     <input type=\"file\" id=\"files-5644a59d-4cf1-470f-96ea-1d08396d591b\" name=\"files[]\" multiple disabled\n",
              "        style=\"border:none\" />\n",
              "     <output id=\"result-5644a59d-4cf1-470f-96ea-1d08396d591b\">\n",
              "      Upload widget is only available when the cell has been executed in the\n",
              "      current browser session. Please rerun this cell to enable.\n",
              "      </output>\n",
              "      <script>// Copyright 2017 Google LLC\n",
              "//\n",
              "// Licensed under the Apache License, Version 2.0 (the \"License\");\n",
              "// you may not use this file except in compliance with the License.\n",
              "// You may obtain a copy of the License at\n",
              "//\n",
              "//      http://www.apache.org/licenses/LICENSE-2.0\n",
              "//\n",
              "// Unless required by applicable law or agreed to in writing, software\n",
              "// distributed under the License is distributed on an \"AS IS\" BASIS,\n",
              "// WITHOUT WARRANTIES OR CONDITIONS OF ANY KIND, either express or implied.\n",
              "// See the License for the specific language governing permissions and\n",
              "// limitations under the License.\n",
              "\n",
              "/**\n",
              " * @fileoverview Helpers for google.colab Python module.\n",
              " */\n",
              "(function(scope) {\n",
              "function span(text, styleAttributes = {}) {\n",
              "  const element = document.createElement('span');\n",
              "  element.textContent = text;\n",
              "  for (const key of Object.keys(styleAttributes)) {\n",
              "    element.style[key] = styleAttributes[key];\n",
              "  }\n",
              "  return element;\n",
              "}\n",
              "\n",
              "// Max number of bytes which will be uploaded at a time.\n",
              "const MAX_PAYLOAD_SIZE = 100 * 1024;\n",
              "\n",
              "function _uploadFiles(inputId, outputId) {\n",
              "  const steps = uploadFilesStep(inputId, outputId);\n",
              "  const outputElement = document.getElementById(outputId);\n",
              "  // Cache steps on the outputElement to make it available for the next call\n",
              "  // to uploadFilesContinue from Python.\n",
              "  outputElement.steps = steps;\n",
              "\n",
              "  return _uploadFilesContinue(outputId);\n",
              "}\n",
              "\n",
              "// This is roughly an async generator (not supported in the browser yet),\n",
              "// where there are multiple asynchronous steps and the Python side is going\n",
              "// to poll for completion of each step.\n",
              "// This uses a Promise to block the python side on completion of each step,\n",
              "// then passes the result of the previous step as the input to the next step.\n",
              "function _uploadFilesContinue(outputId) {\n",
              "  const outputElement = document.getElementById(outputId);\n",
              "  const steps = outputElement.steps;\n",
              "\n",
              "  const next = steps.next(outputElement.lastPromiseValue);\n",
              "  return Promise.resolve(next.value.promise).then((value) => {\n",
              "    // Cache the last promise value to make it available to the next\n",
              "    // step of the generator.\n",
              "    outputElement.lastPromiseValue = value;\n",
              "    return next.value.response;\n",
              "  });\n",
              "}\n",
              "\n",
              "/**\n",
              " * Generator function which is called between each async step of the upload\n",
              " * process.\n",
              " * @param {string} inputId Element ID of the input file picker element.\n",
              " * @param {string} outputId Element ID of the output display.\n",
              " * @return {!Iterable<!Object>} Iterable of next steps.\n",
              " */\n",
              "function* uploadFilesStep(inputId, outputId) {\n",
              "  const inputElement = document.getElementById(inputId);\n",
              "  inputElement.disabled = false;\n",
              "\n",
              "  const outputElement = document.getElementById(outputId);\n",
              "  outputElement.innerHTML = '';\n",
              "\n",
              "  const pickedPromise = new Promise((resolve) => {\n",
              "    inputElement.addEventListener('change', (e) => {\n",
              "      resolve(e.target.files);\n",
              "    });\n",
              "  });\n",
              "\n",
              "  const cancel = document.createElement('button');\n",
              "  inputElement.parentElement.appendChild(cancel);\n",
              "  cancel.textContent = 'Cancel upload';\n",
              "  const cancelPromise = new Promise((resolve) => {\n",
              "    cancel.onclick = () => {\n",
              "      resolve(null);\n",
              "    };\n",
              "  });\n",
              "\n",
              "  // Wait for the user to pick the files.\n",
              "  const files = yield {\n",
              "    promise: Promise.race([pickedPromise, cancelPromise]),\n",
              "    response: {\n",
              "      action: 'starting',\n",
              "    }\n",
              "  };\n",
              "\n",
              "  cancel.remove();\n",
              "\n",
              "  // Disable the input element since further picks are not allowed.\n",
              "  inputElement.disabled = true;\n",
              "\n",
              "  if (!files) {\n",
              "    return {\n",
              "      response: {\n",
              "        action: 'complete',\n",
              "      }\n",
              "    };\n",
              "  }\n",
              "\n",
              "  for (const file of files) {\n",
              "    const li = document.createElement('li');\n",
              "    li.append(span(file.name, {fontWeight: 'bold'}));\n",
              "    li.append(span(\n",
              "        `(${file.type || 'n/a'}) - ${file.size} bytes, ` +\n",
              "        `last modified: ${\n",
              "            file.lastModifiedDate ? file.lastModifiedDate.toLocaleDateString() :\n",
              "                                    'n/a'} - `));\n",
              "    const percent = span('0% done');\n",
              "    li.appendChild(percent);\n",
              "\n",
              "    outputElement.appendChild(li);\n",
              "\n",
              "    const fileDataPromise = new Promise((resolve) => {\n",
              "      const reader = new FileReader();\n",
              "      reader.onload = (e) => {\n",
              "        resolve(e.target.result);\n",
              "      };\n",
              "      reader.readAsArrayBuffer(file);\n",
              "    });\n",
              "    // Wait for the data to be ready.\n",
              "    let fileData = yield {\n",
              "      promise: fileDataPromise,\n",
              "      response: {\n",
              "        action: 'continue',\n",
              "      }\n",
              "    };\n",
              "\n",
              "    // Use a chunked sending to avoid message size limits. See b/62115660.\n",
              "    let position = 0;\n",
              "    do {\n",
              "      const length = Math.min(fileData.byteLength - position, MAX_PAYLOAD_SIZE);\n",
              "      const chunk = new Uint8Array(fileData, position, length);\n",
              "      position += length;\n",
              "\n",
              "      const base64 = btoa(String.fromCharCode.apply(null, chunk));\n",
              "      yield {\n",
              "        response: {\n",
              "          action: 'append',\n",
              "          file: file.name,\n",
              "          data: base64,\n",
              "        },\n",
              "      };\n",
              "\n",
              "      let percentDone = fileData.byteLength === 0 ?\n",
              "          100 :\n",
              "          Math.round((position / fileData.byteLength) * 100);\n",
              "      percent.textContent = `${percentDone}% done`;\n",
              "\n",
              "    } while (position < fileData.byteLength);\n",
              "  }\n",
              "\n",
              "  // All done.\n",
              "  yield {\n",
              "    response: {\n",
              "      action: 'complete',\n",
              "    }\n",
              "  };\n",
              "}\n",
              "\n",
              "scope.google = scope.google || {};\n",
              "scope.google.colab = scope.google.colab || {};\n",
              "scope.google.colab._files = {\n",
              "  _uploadFiles,\n",
              "  _uploadFilesContinue,\n",
              "};\n",
              "})(self);\n",
              "</script> "
            ]
          },
          "metadata": {}
        },
        {
          "output_type": "stream",
          "name": "stdout",
          "text": [
            "Saving iceland_articles_updated.csv to iceland_articles_updated.csv\n",
            "Saving finland_articles_updated.csv to finland_articles_updated.csv\n"
          ]
        }
      ]
    },
    {
      "cell_type": "code",
      "source": [
        "for file_name in uploaded_files.keys():\n",
        "    os.rename(file_name, os.path.join(data_folder, file_name))"
      ],
      "metadata": {
        "id": "8vBN8JfBCJVV"
      },
      "execution_count": 5,
      "outputs": []
    },
    {
      "cell_type": "markdown",
      "source": [
        "Your folder structure should now look as such:\n",
        "\n",
        "```\n",
        "data\n",
        "  - iceland_articles_updated.csv\n",
        "  - finland_articles_updated.csv\n",
        "```"
      ],
      "metadata": {
        "id": "AfCvszP4CJ4A"
      }
    },
    {
      "cell_type": "code",
      "source": [
        "article_names = ['finland_articles_updated.csv', 'iceland_articles_updated.csv']\n",
        "article_fps = [os.path.join(data_folder, article_name) for article_name in article_names]\n",
        "\n",
        "docs = []\n",
        "for article_fp in article_fps:\n",
        "  df = pd.read_csv(article_fp)\n",
        "  for _, row in df.iterrows():\n",
        "    text = row['Title'] + \" \" + row['Content']\n",
        "\n",
        "    doc = Document(\n",
        "        page_content=text,\n",
        "        metadata={'country': row['Country'], 'source': row['Source'], 'link': row['Article Links']}\n",
        "    )\n",
        "\n",
        "    docs.append(doc)"
      ],
      "metadata": {
        "id": "jUDyDVgfYa74"
      },
      "execution_count": 6,
      "outputs": []
    },
    {
      "cell_type": "markdown",
      "source": [
        "## **Query Decomposition:**\n",
        "\n",
        "Decomposition is a query re-writing technique that focuses on decomposing a question into a set of subquestions.\n",
        "\n",
        "This is applicable and effective for our use case as users planning a holiday tend to string together many requests in a single query. By breaking down a large queries into sub-queries, the retriever can retrieve more relevant documents to each sub-query and therefore, support the LLM in answering the whole query better"
      ],
      "metadata": {
        "id": "Z7qoHA5xueTy"
      }
    },
    {
      "cell_type": "code",
      "execution_count": 129,
      "metadata": {
        "id": "ioBgd3TcyV1D"
      },
      "outputs": [],
      "source": [
        "# Prompt Decomposition template used by the LLM to help break a question into sub questions\n",
        "\n",
        "template = \"\"\"You are an expert at converting user travel questions into sub-questions. \\\n",
        "You have access to several documents about the different travel destinations. \\\n",
        "\n",
        "Perform query decomposition. Given a user question, break it down into the most specific sub questions you can \\\n",
        "which will help you answer the original question. Each sub question should be about a single concept/fact/idea.\n",
        "\n",
        "If there are acronyms or words you are not familiar with, do not try to rephrase them.\n",
        "\"\"\"\n",
        "\n",
        "template_2 = \"\"\"You are a helpful assistant that generates multiple sub-questions related to an input question. \\n\n",
        "The goal is to break down the input into a set of sub-questions that can be answers in isolation. \\n\n",
        "Generate multiple search queries related to: {question} \\n\n",
        "Output (3 queries only):\"\"\" # add few shot?\n",
        "\n",
        "prompt_decomposition = PromptTemplate.from_template(template_2)"
      ]
    },
    {
      "cell_type": "code",
      "source": [
        "os.environ[\"GROQ_API_KEY\"] = userdata.get('GROQ_API_KEY')\n",
        "llm = ChatGroq()"
      ],
      "metadata": {
        "id": "C37JDhLytG5j"
      },
      "execution_count": 130,
      "outputs": []
    },
    {
      "cell_type": "code",
      "source": [
        "def clean_questions(questions):\n",
        "  questions = questions.strip()\n",
        "  questions = questions.split('\\n')\n",
        "  return questions"
      ],
      "metadata": {
        "id": "GhZk0k-z6mrq"
      },
      "execution_count": 131,
      "outputs": []
    },
    {
      "cell_type": "code",
      "source": [
        "query_decomp = ( prompt_decomposition | llm | StrOutputParser() | clean_questions)"
      ],
      "metadata": {
        "id": "0ciPCI29CUVO"
      },
      "execution_count": 132,
      "outputs": []
    },
    {
      "cell_type": "markdown",
      "metadata": {
        "id": "ISATFGYEj3Op"
      },
      "source": [
        "**Simple experiment test queries for query decomposition**"
      ]
    },
    {
      "cell_type": "code",
      "execution_count": 133,
      "metadata": {
        "id": "pbdsYx8ekD3r"
      },
      "outputs": [],
      "source": [
        "test_queries = [\"When is the best time to go Finland and what is there to do\", \"Help me plan a trip to Iceland, I am adventurous and like activities such as hiking\", \"How do I get around Iceland\"]"
      ]
    },
    {
      "cell_type": "code",
      "execution_count": 134,
      "metadata": {
        "id": "9oHWZOyqkHz9",
        "colab": {
          "base_uri": "https://localhost:8080/"
        },
        "outputId": "16a37aa5-26f3-4365-b260-cea16fe8ff1b"
      },
      "outputs": [
        {
          "output_type": "stream",
          "name": "stdout",
          "text": [
            "Query: When is the best time to go Finland and what is there to do\n",
            "Query Decomposed:\n",
            "['1. \"What is the best time to visit Finland for good weather?\"', '2. \"What are the popular activities to do in Finland during summer?\"', '3. \"Are there any festivals or events in Finland during winter months?\"']\n",
            "###################################################################\n",
            "Query: Help me plan a trip to Iceland, I am adventurous and like activities such as hiking\n",
            "Query Decomposed:\n",
            "['1. \"What are the best hiking trails in Iceland?\"', '2. \"What is the climate like in Iceland during (specific month of trip) for hiking?\"', '3. \"What permits or guidelines should I follow for hiking in Iceland?\"']\n",
            "###################################################################\n",
            "Query: How do I get around Iceland\n",
            "Query Decomposed:\n",
            "['1. \"What are the transportation options available in Iceland?\"', '2. \"How can I rent a car in Iceland?\"', '3. \"Is there public transportation in Iceland?\"']\n",
            "###################################################################\n"
          ]
        }
      ],
      "source": [
        "# Apply the decompsition template and break down the questions into sub questions using the prompt decompsition pipeline\n",
        "for q in test_queries:\n",
        "  print(f'Query: {q}')\n",
        "  print('Query Decomposed:')\n",
        "  print(query_decomp.invoke({\"question\":q}))\n",
        "  print('###################################################################')"
      ]
    },
    {
      "cell_type": "markdown",
      "source": [
        "<br/>\n",
        "<br/>\n",
        "\n",
        "## **Initialise Best Retriever from Retreiver Evaluation: FAISS (Index Flat L2)+Re-ranking+ParentDocumentRetriever**\n",
        "\n",
        "- Bi-Encoder/Embeddings model: all-mpnet-base-v2\n",
        "- Retriever: FAISS with Index Flat L2\n",
        "- Documents retrieved: 20\n",
        "- Documents to keep after re-ranking: 10\n",
        "- Text Split Method: Recursive Character Text Splitter\n",
        "- Child Chunk Size: 250\n",
        "- Child Chunk Overlap: 50\n",
        "- Parent Chunk Size: 650\n",
        "- Parent Chunk Overlap: 160\n",
        "- Cross-Encoder/Re-ranking model: BAAI/bge-reranker-large\n",
        "- Similarity Search type: MMR"
      ],
      "metadata": {
        "id": "naTfkeFmuvqa"
      }
    },
    {
      "cell_type": "code",
      "execution_count": 45,
      "metadata": {
        "id": "GqsJjnHmEhj7"
      },
      "outputs": [],
      "source": [
        "bi_encoder_embeddings_model_name = \"sentence-transformers/all-mpnet-base-v2\"\n",
        "\n",
        "embeddings_model = HuggingFaceEmbeddings(model_name=bi_encoder_embeddings_model_name)\n",
        "vector_store_index = faiss.IndexFlatL2(len(embeddings_model.embed_query(\"hello world\")))\n",
        "index = faiss.IndexFlatL2(len(embeddings_model.embed_query(\"hello world\")))\n",
        "faiss_vector_store = FAISS(\n",
        "    embedding_function=embeddings_model,\n",
        "    index=vector_store_index,\n",
        "    docstore=InMemoryDocstore(),\n",
        "    index_to_docstore_id={},\n",
        ")\n",
        "store = InMemoryStore()\n",
        "\n",
        "num_docs_retrieved = 20\n",
        "\n",
        "top_k = 10\n",
        "\n",
        "child_text_splitter = RecursiveCharacterTextSplitter(\n",
        "    chunk_size=250, chunk_overlap=50, add_start_index=True\n",
        ")\n",
        "\n",
        "parent_text_splitter = RecursiveCharacterTextSplitter(\n",
        "    chunk_size=650, chunk_overlap=160, add_start_index=True\n",
        ")\n",
        "\n",
        "cross_encoder_embedings_model_name = \"BAAI/bge-reranker-large\"\n",
        "\n",
        "cross_encoder_model = HuggingFaceCrossEncoder(model_name=cross_encoder_embedings_model_name)\n",
        "\n",
        "search_type = 'mmr'"
      ]
    },
    {
      "cell_type": "code",
      "source": [
        "'''\n",
        "Custom ParentDocumentRetriever object (ParentDocumentReranker) to do re-ranking of child chunks and return the parent chunks in the same order\n",
        "'''\n",
        "class ParentDocumentReranker(ParentDocumentRetriever):\n",
        "    model_config = {\"extra\": \"allow\"}\n",
        "\n",
        "    def __init__(self, cross_encoder_model, *args, **kwargs):\n",
        "        super().__init__(*args, **kwargs)\n",
        "        self.cross_encoder_model = cross_encoder_model\n",
        "\n",
        "    def _get_relevant_documents(\n",
        "        self, query: str, *, run_manager: CallbackManagerForRetrieverRun\n",
        "    ) -> List[Document]:\n",
        "        \"\"\"Get documents relevant to a query.\n",
        "        Args:\n",
        "            query: String to find relevant documents for\n",
        "            run_manager: The callbacks handler to use\n",
        "        Returns:\n",
        "            List of relevant documents\n",
        "        \"\"\"\n",
        "        if self.search_kwargs['search_type'] == 'mmr':\n",
        "            sub_docs = self.vectorstore.max_marginal_relevance_search(\n",
        "                query, **self.search_kwargs\n",
        "            )\n",
        "        else:\n",
        "            sub_docs = self.vectorstore.similarity_search(query, **self.search_kwargs)\n",
        "\n",
        "        # Reranking logic here with sub_docs (child documents)\n",
        "        sub_docs_rerank_vals = []\n",
        "        for r in sub_docs:\n",
        "          sub_docs_rerank_vals.append((r,self.cross_encoder_model.score((r.page_content,query))))\n",
        "\n",
        "        sub_docs = [key for key, value in sorted(sub_docs_rerank_vals, key=lambda x: x[1], reverse=True)]\n",
        "\n",
        "        # We do this to maintain the order of the ids that are returned\n",
        "        ids = []\n",
        "        for d in sub_docs:\n",
        "            if self.id_key in d.metadata and d.metadata[self.id_key] not in ids:\n",
        "                ids.append(d.metadata[self.id_key])\n",
        "        docs = self.docstore.mget(ids)\n",
        "        return [d for d in docs if d is not None]"
      ],
      "metadata": {
        "id": "fCU5H2GEczvt"
      },
      "execution_count": 84,
      "outputs": []
    },
    {
      "cell_type": "code",
      "source": [
        "custom_retriever = ParentDocumentReranker(\n",
        "    cross_encoder_model=cross_encoder_model,\n",
        "    vectorstore=faiss_vector_store,\n",
        "    docstore=store,\n",
        "    child_splitter=child_text_splitter,\n",
        "    parent_splitter=parent_text_splitter,\n",
        "    search_kwargs={\"k\": num_docs_retrieved, \"fetch_k\": num_docs_retrieved*2, \"search_type\": search_type}\n",
        ")\n",
        "\n",
        "custom_retriever.add_documents(docs)"
      ],
      "metadata": {
        "id": "21i2B5FIhWQY"
      },
      "execution_count": 96,
      "outputs": []
    },
    {
      "cell_type": "code",
      "source": [
        "res = custom_retriever.invoke('best things to do in iceland')"
      ],
      "metadata": {
        "id": "ypKf6UMPqX4W"
      },
      "execution_count": 97,
      "outputs": []
    },
    {
      "cell_type": "code",
      "source": [
        "res"
      ],
      "metadata": {
        "id": "Q6FJK8zJrjf-",
        "outputId": "2335d3b0-3ebf-4a0c-8bb6-9e7cd55af405",
        "colab": {
          "base_uri": "https://localhost:8080/"
        }
      },
      "execution_count": 98,
      "outputs": [
        {
          "output_type": "execute_result",
          "data": {
            "text/plain": [
              "[Document(metadata={'country': 'Iceland', 'source': 'visiticeland', 'link': 'https://www.visiticeland.com/article/how-to-practice-your-hobby-in-iceland', 'start_index': 1966}, page_content='tours are available as well. For the ones who don’t want to use their own body strength: Snowmobiling tours are a popular pastime in North Iceland as well as dogsledding. For even more adventurous back-country skiing, heli-skiing and glacial mountain skiing make for an incredible experience in Iceland’s winter wonderland! FISHING Iceland is a mecca for river fishing, fly fishing, sea angling, and even ice fishing. Some of the most famous salmon fishing rivers in Iceland are Vatnsdalsá, Láxá í Aðaldal and Laxá í Kjós,Hofsá and Selá and Jökulsá á Brú, amongst many others. What they all have in common is their beautiful setting in a tranquil'),\n",
              " Document(metadata={'country': 'Iceland', 'source': 'visiticeland', 'link': 'https://www.visiticeland.com/article/christmas-in-iceland', 'start_index': 5428}, page_content=\"Christmas food, and try the traditional fermented skate on the 23rd. 9. Go to Hallgrímskirkja church, The Pearl, or any other hill in the capital area around midnight on New Year's eve to witness the renowned Reykjavík firework show. 10. Go on an Ice-cave tour and attempt to see the Icelandic reindeer in East Iceland. 11. Go Ice-skating downtown Reykjavík. 12. Go experience Christmas in the snow-heaviest and darkest regions of Iceland The Westfjords and North Iceland. 13. Have a stroll in town to look at lights and decorations and search for animations of the 13 yule-lads around town.\"),\n",
              " Document(metadata={'country': 'Iceland', 'source': 'visiticeland', 'link': 'https://www.visiticeland.com/article/christmas-in-iceland', 'start_index': 5428}, page_content=\"Christmas food, and try the traditional fermented skate on the 23rd. 9. Go to Hallgrímskirkja church, The Pearl, or any other hill in the capital area around midnight on New Year's eve to witness the renowned Reykjavík firework show. 10. Go on an Ice-cave tour and attempt to see the Icelandic reindeer in East Iceland. 11. Go Ice-skating downtown Reykjavík. 12. Go experience Christmas in the snow-heaviest and darkest regions of Iceland The Westfjords and North Iceland. 13. Have a stroll in town to look at lights and decorations and search for animations of the 13 yule-lads around town.\"),\n",
              " Document(metadata={'country': 'Iceland', 'source': 'visiticeland', 'link': 'https://www.visiticeland.com/article/christmas-in-iceland', 'start_index': 5428}, page_content=\"Christmas food, and try the traditional fermented skate on the 23rd. 9. Go to Hallgrímskirkja church, The Pearl, or any other hill in the capital area around midnight on New Year's eve to witness the renowned Reykjavík firework show. 10. Go on an Ice-cave tour and attempt to see the Icelandic reindeer in East Iceland. 11. Go Ice-skating downtown Reykjavík. 12. Go experience Christmas in the snow-heaviest and darkest regions of Iceland The Westfjords and North Iceland. 13. Have a stroll in town to look at lights and decorations and search for animations of the 13 yule-lads around town.\"),\n",
              " Document(metadata={'country': 'Iceland', 'source': 'visiticeland', 'link': 'https://www.visiticeland.com/article/christmas-in-iceland', 'start_index': 5428}, page_content=\"Christmas food, and try the traditional fermented skate on the 23rd. 9. Go to Hallgrímskirkja church, The Pearl, or any other hill in the capital area around midnight on New Year's eve to witness the renowned Reykjavík firework show. 10. Go on an Ice-cave tour and attempt to see the Icelandic reindeer in East Iceland. 11. Go Ice-skating downtown Reykjavík. 12. Go experience Christmas in the snow-heaviest and darkest regions of Iceland The Westfjords and North Iceland. 13. Have a stroll in town to look at lights and decorations and search for animations of the 13 yule-lads around town.\"),\n",
              " Document(metadata={'country': 'Iceland', 'source': 'visiticeland', 'link': 'https://www.visiticeland.com/article/christmas-in-iceland', 'start_index': 5428}, page_content=\"Christmas food, and try the traditional fermented skate on the 23rd. 9. Go to Hallgrímskirkja church, The Pearl, or any other hill in the capital area around midnight on New Year's eve to witness the renowned Reykjavík firework show. 10. Go on an Ice-cave tour and attempt to see the Icelandic reindeer in East Iceland. 11. Go Ice-skating downtown Reykjavík. 12. Go experience Christmas in the snow-heaviest and darkest regions of Iceland The Westfjords and North Iceland. 13. Have a stroll in town to look at lights and decorations and search for animations of the 13 yule-lads around town.\"),\n",
              " Document(metadata={'country': 'Iceland', 'source': 'visiticeland', 'link': 'https://www.visiticeland.com/article/christmas-in-iceland', 'start_index': 5428}, page_content=\"Christmas food, and try the traditional fermented skate on the 23rd. 9. Go to Hallgrímskirkja church, The Pearl, or any other hill in the capital area around midnight on New Year's eve to witness the renowned Reykjavík firework show. 10. Go on an Ice-cave tour and attempt to see the Icelandic reindeer in East Iceland. 11. Go Ice-skating downtown Reykjavík. 12. Go experience Christmas in the snow-heaviest and darkest regions of Iceland The Westfjords and North Iceland. 13. Have a stroll in town to look at lights and decorations and search for animations of the 13 yule-lads around town.\"),\n",
              " Document(metadata={'country': 'Iceland', 'source': 'visiticeland', 'link': 'https://www.visiticeland.com/article/christmas-in-iceland', 'start_index': 5428}, page_content=\"Christmas food, and try the traditional fermented skate on the 23rd. 9. Go to Hallgrímskirkja church, The Pearl, or any other hill in the capital area around midnight on New Year's eve to witness the renowned Reykjavík firework show. 10. Go on an Ice-cave tour and attempt to see the Icelandic reindeer in East Iceland. 11. Go Ice-skating downtown Reykjavík. 12. Go experience Christmas in the snow-heaviest and darkest regions of Iceland The Westfjords and North Iceland. 13. Have a stroll in town to look at lights and decorations and search for animations of the 13 yule-lads around town.\"),\n",
              " Document(metadata={'country': 'Iceland', 'source': 'visiticeland', 'link': 'https://www.visiticeland.com/article/iceland-in-14-days', 'start_index': 5648}, page_content='are so many options: A half-day trip to Reykjavík with its landmarks, cafés, restaurants, bars, and museums is an option, as well as an afternoon hike to the Volcano Fagradalsfjall on the Reykjanes peninsula. And if you want to relax from all your adventures, you can wash the travel dust off in some of the town swimming pools or the nearby spas, such as Blue Lagoon or Sky Lagoon. Then you can start planning your next trip to Iceland!'),\n",
              " Document(metadata={'country': 'Iceland', 'source': 'visiticeland', 'link': 'https://www.visiticeland.com/article/iceland-in-14-days', 'start_index': 5648}, page_content='are so many options: A half-day trip to Reykjavík with its landmarks, cafés, restaurants, bars, and museums is an option, as well as an afternoon hike to the Volcano Fagradalsfjall on the Reykjanes peninsula. And if you want to relax from all your adventures, you can wash the travel dust off in some of the town swimming pools or the nearby spas, such as Blue Lagoon or Sky Lagoon. Then you can start planning your next trip to Iceland!'),\n",
              " Document(metadata={'country': 'Iceland', 'source': 'visiticeland', 'link': 'https://www.visiticeland.com/article/iceland-in-14-days', 'start_index': 5648}, page_content='are so many options: A half-day trip to Reykjavík with its landmarks, cafés, restaurants, bars, and museums is an option, as well as an afternoon hike to the Volcano Fagradalsfjall on the Reykjanes peninsula. And if you want to relax from all your adventures, you can wash the travel dust off in some of the town swimming pools or the nearby spas, such as Blue Lagoon or Sky Lagoon. Then you can start planning your next trip to Iceland!'),\n",
              " Document(metadata={'country': 'Iceland', 'source': 'visiticeland', 'link': 'https://www.visiticeland.com/article/eleven-sustainability-travel-tips', 'start_index': 0}, page_content='SUSTAINABILITY TRAVEL TIPS  VISIT THE REGIONS, STAY FOR LONGER AND TRAVEL SLOWLY DURING THE OFF-SEASON One of the best ways to visit Iceland sustainably is by visiting the regions, staying for longer, and traveling slowly during the off-season. Take your time to explore the island, rather than hurrying from sight to sight, trying to do as much as possible in a short time. Instead, use alternative “slow” means of transportation, eat locally produced food, shop at local markets, and engage in cultural events and activities that let you connect with the various places around Iceland and the people living in the country. Check out scenic routes'),\n",
              " Document(metadata={'country': 'Iceland', 'source': 'visiticeland', 'link': 'https://www.visiticeland.com/article/travel-advice', 'start_index': 0}, page_content='ICELAND TRAVEL ADVICE - FROM ONE TOURIST TO ANOTHER  Planning a trip to Iceland doesn‘t have to be hard, though the questions for first-timers can be overwhelming:  What are the top things to see? How to plan the drive around Iceland? What to pack? So we thought: Why not ask the ones that are already here? We roamed the streets of Iceland and got some great advice from travelers for other travelers.  Your friends plan to travel around Iceland: What is the most important advice you would give them? \"Book your accommodation ahead, and drive carefully, Icelandic driving conditions can be challenging! Expect the unexpected.\"'),\n",
              " Document(metadata={'country': 'Iceland', 'source': 'visiticeland', 'link': 'https://www.visiticeland.com/article/travel-advice', 'start_index': 0}, page_content='ICELAND TRAVEL ADVICE - FROM ONE TOURIST TO ANOTHER  Planning a trip to Iceland doesn‘t have to be hard, though the questions for first-timers can be overwhelming:  What are the top things to see? How to plan the drive around Iceland? What to pack? So we thought: Why not ask the ones that are already here? We roamed the streets of Iceland and got some great advice from travelers for other travelers.  Your friends plan to travel around Iceland: What is the most important advice you would give them? \"Book your accommodation ahead, and drive carefully, Icelandic driving conditions can be challenging! Expect the unexpected.\"'),\n",
              " Document(metadata={'country': 'Iceland', 'source': 'visiticeland', 'link': 'https://www.visiticeland.com/article/travel-advice', 'start_index': 0}, page_content='ICELAND TRAVEL ADVICE - FROM ONE TOURIST TO ANOTHER  Planning a trip to Iceland doesn‘t have to be hard, though the questions for first-timers can be overwhelming:  What are the top things to see? How to plan the drive around Iceland? What to pack? So we thought: Why not ask the ones that are already here? We roamed the streets of Iceland and got some great advice from travelers for other travelers.  Your friends plan to travel around Iceland: What is the most important advice you would give them? \"Book your accommodation ahead, and drive carefully, Icelandic driving conditions can be challenging! Expect the unexpected.\"'),\n",
              " Document(metadata={'country': 'Iceland', 'source': 'visiticeland', 'link': 'https://www.visiticeland.com/article/travel-advice', 'start_index': 0}, page_content='ICELAND TRAVEL ADVICE - FROM ONE TOURIST TO ANOTHER  Planning a trip to Iceland doesn‘t have to be hard, though the questions for first-timers can be overwhelming:  What are the top things to see? How to plan the drive around Iceland? What to pack? So we thought: Why not ask the ones that are already here? We roamed the streets of Iceland and got some great advice from travelers for other travelers.  Your friends plan to travel around Iceland: What is the most important advice you would give them? \"Book your accommodation ahead, and drive carefully, Icelandic driving conditions can be challenging! Expect the unexpected.\"'),\n",
              " Document(metadata={'country': 'Iceland', 'source': 'visiticeland', 'link': 'https://www.visiticeland.com/article/travel-advice', 'start_index': 0}, page_content='ICELAND TRAVEL ADVICE - FROM ONE TOURIST TO ANOTHER  Planning a trip to Iceland doesn‘t have to be hard, though the questions for first-timers can be overwhelming:  What are the top things to see? How to plan the drive around Iceland? What to pack? So we thought: Why not ask the ones that are already here? We roamed the streets of Iceland and got some great advice from travelers for other travelers.  Your friends plan to travel around Iceland: What is the most important advice you would give them? \"Book your accommodation ahead, and drive carefully, Icelandic driving conditions can be challenging! Expect the unexpected.\"'),\n",
              " Document(metadata={'country': 'Iceland', 'source': 'visiticeland', 'link': 'https://www.visiticeland.com/article/travel-advice', 'start_index': 0}, page_content='ICELAND TRAVEL ADVICE - FROM ONE TOURIST TO ANOTHER  Planning a trip to Iceland doesn‘t have to be hard, though the questions for first-timers can be overwhelming:  What are the top things to see? How to plan the drive around Iceland? What to pack? So we thought: Why not ask the ones that are already here? We roamed the streets of Iceland and got some great advice from travelers for other travelers.  Your friends plan to travel around Iceland: What is the most important advice you would give them? \"Book your accommodation ahead, and drive carefully, Icelandic driving conditions can be challenging! Expect the unexpected.\"'),\n",
              " Document(metadata={'country': 'Iceland', 'source': 'visiticeland', 'link': 'https://www.visiticeland.com/article/travel-advice', 'start_index': 0}, page_content='ICELAND TRAVEL ADVICE - FROM ONE TOURIST TO ANOTHER  Planning a trip to Iceland doesn‘t have to be hard, though the questions for first-timers can be overwhelming:  What are the top things to see? How to plan the drive around Iceland? What to pack? So we thought: Why not ask the ones that are already here? We roamed the streets of Iceland and got some great advice from travelers for other travelers.  Your friends plan to travel around Iceland: What is the most important advice you would give them? \"Book your accommodation ahead, and drive carefully, Icelandic driving conditions can be challenging! Expect the unexpected.\"')]"
            ]
          },
          "metadata": {},
          "execution_count": 98
        }
      ]
    },
    {
      "cell_type": "markdown",
      "source": [
        "<br/>\n",
        "<br/>\n",
        "\n",
        "## **Re-order re-ranked results such that extremas have the most relevent documents to mitigate \"lost-in-the-middle\" effect**"
      ],
      "metadata": {
        "id": "guByzIWAFyGy"
      }
    },
    {
      "cell_type": "code",
      "source": [
        "def reorder_docs(res):\n",
        "  res_reordered = [None] * len(res)\n",
        "  start = 0\n",
        "  end = len(res) - 1\n",
        "  place_at_start = True\n",
        "\n",
        "  for doc in res:\n",
        "      if place_at_start:\n",
        "          res_reordered[start] = doc\n",
        "          start += 1\n",
        "      else:\n",
        "          res_reordered[end] = doc\n",
        "          end -= 1\n",
        "\n",
        "      place_at_start = not place_at_start\n",
        "  return res_reordered"
      ],
      "metadata": {
        "id": "N6_mWr0ppt9P"
      },
      "execution_count": 99,
      "outputs": []
    },
    {
      "cell_type": "code",
      "source": [
        "reorder_docs(res)"
      ],
      "metadata": {
        "id": "5D2af6G8rx0Q",
        "outputId": "5c149d5e-4550-467f-b4d4-bf0162123f1a",
        "colab": {
          "base_uri": "https://localhost:8080/"
        }
      },
      "execution_count": 100,
      "outputs": [
        {
          "output_type": "execute_result",
          "data": {
            "text/plain": [
              "[Document(metadata={'country': 'Iceland', 'source': 'visiticeland', 'link': 'https://www.visiticeland.com/article/how-to-practice-your-hobby-in-iceland', 'start_index': 1966}, page_content='tours are available as well. For the ones who don’t want to use their own body strength: Snowmobiling tours are a popular pastime in North Iceland as well as dogsledding. For even more adventurous back-country skiing, heli-skiing and glacial mountain skiing make for an incredible experience in Iceland’s winter wonderland! FISHING Iceland is a mecca for river fishing, fly fishing, sea angling, and even ice fishing. Some of the most famous salmon fishing rivers in Iceland are Vatnsdalsá, Láxá í Aðaldal and Laxá í Kjós,Hofsá and Selá and Jökulsá á Brú, amongst many others. What they all have in common is their beautiful setting in a tranquil'),\n",
              " Document(metadata={'country': 'Iceland', 'source': 'visiticeland', 'link': 'https://www.visiticeland.com/article/christmas-in-iceland', 'start_index': 5428}, page_content=\"Christmas food, and try the traditional fermented skate on the 23rd. 9. Go to Hallgrímskirkja church, The Pearl, or any other hill in the capital area around midnight on New Year's eve to witness the renowned Reykjavík firework show. 10. Go on an Ice-cave tour and attempt to see the Icelandic reindeer in East Iceland. 11. Go Ice-skating downtown Reykjavík. 12. Go experience Christmas in the snow-heaviest and darkest regions of Iceland The Westfjords and North Iceland. 13. Have a stroll in town to look at lights and decorations and search for animations of the 13 yule-lads around town.\"),\n",
              " Document(metadata={'country': 'Iceland', 'source': 'visiticeland', 'link': 'https://www.visiticeland.com/article/christmas-in-iceland', 'start_index': 5428}, page_content=\"Christmas food, and try the traditional fermented skate on the 23rd. 9. Go to Hallgrímskirkja church, The Pearl, or any other hill in the capital area around midnight on New Year's eve to witness the renowned Reykjavík firework show. 10. Go on an Ice-cave tour and attempt to see the Icelandic reindeer in East Iceland. 11. Go Ice-skating downtown Reykjavík. 12. Go experience Christmas in the snow-heaviest and darkest regions of Iceland The Westfjords and North Iceland. 13. Have a stroll in town to look at lights and decorations and search for animations of the 13 yule-lads around town.\"),\n",
              " Document(metadata={'country': 'Iceland', 'source': 'visiticeland', 'link': 'https://www.visiticeland.com/article/christmas-in-iceland', 'start_index': 5428}, page_content=\"Christmas food, and try the traditional fermented skate on the 23rd. 9. Go to Hallgrímskirkja church, The Pearl, or any other hill in the capital area around midnight on New Year's eve to witness the renowned Reykjavík firework show. 10. Go on an Ice-cave tour and attempt to see the Icelandic reindeer in East Iceland. 11. Go Ice-skating downtown Reykjavík. 12. Go experience Christmas in the snow-heaviest and darkest regions of Iceland The Westfjords and North Iceland. 13. Have a stroll in town to look at lights and decorations and search for animations of the 13 yule-lads around town.\"),\n",
              " Document(metadata={'country': 'Iceland', 'source': 'visiticeland', 'link': 'https://www.visiticeland.com/article/iceland-in-14-days', 'start_index': 5648}, page_content='are so many options: A half-day trip to Reykjavík with its landmarks, cafés, restaurants, bars, and museums is an option, as well as an afternoon hike to the Volcano Fagradalsfjall on the Reykjanes peninsula. And if you want to relax from all your adventures, you can wash the travel dust off in some of the town swimming pools or the nearby spas, such as Blue Lagoon or Sky Lagoon. Then you can start planning your next trip to Iceland!'),\n",
              " Document(metadata={'country': 'Iceland', 'source': 'visiticeland', 'link': 'https://www.visiticeland.com/article/iceland-in-14-days', 'start_index': 5648}, page_content='are so many options: A half-day trip to Reykjavík with its landmarks, cafés, restaurants, bars, and museums is an option, as well as an afternoon hike to the Volcano Fagradalsfjall on the Reykjanes peninsula. And if you want to relax from all your adventures, you can wash the travel dust off in some of the town swimming pools or the nearby spas, such as Blue Lagoon or Sky Lagoon. Then you can start planning your next trip to Iceland!'),\n",
              " Document(metadata={'country': 'Iceland', 'source': 'visiticeland', 'link': 'https://www.visiticeland.com/article/travel-advice', 'start_index': 0}, page_content='ICELAND TRAVEL ADVICE - FROM ONE TOURIST TO ANOTHER  Planning a trip to Iceland doesn‘t have to be hard, though the questions for first-timers can be overwhelming:  What are the top things to see? How to plan the drive around Iceland? What to pack? So we thought: Why not ask the ones that are already here? We roamed the streets of Iceland and got some great advice from travelers for other travelers.  Your friends plan to travel around Iceland: What is the most important advice you would give them? \"Book your accommodation ahead, and drive carefully, Icelandic driving conditions can be challenging! Expect the unexpected.\"'),\n",
              " Document(metadata={'country': 'Iceland', 'source': 'visiticeland', 'link': 'https://www.visiticeland.com/article/travel-advice', 'start_index': 0}, page_content='ICELAND TRAVEL ADVICE - FROM ONE TOURIST TO ANOTHER  Planning a trip to Iceland doesn‘t have to be hard, though the questions for first-timers can be overwhelming:  What are the top things to see? How to plan the drive around Iceland? What to pack? So we thought: Why not ask the ones that are already here? We roamed the streets of Iceland and got some great advice from travelers for other travelers.  Your friends plan to travel around Iceland: What is the most important advice you would give them? \"Book your accommodation ahead, and drive carefully, Icelandic driving conditions can be challenging! Expect the unexpected.\"'),\n",
              " Document(metadata={'country': 'Iceland', 'source': 'visiticeland', 'link': 'https://www.visiticeland.com/article/travel-advice', 'start_index': 0}, page_content='ICELAND TRAVEL ADVICE - FROM ONE TOURIST TO ANOTHER  Planning a trip to Iceland doesn‘t have to be hard, though the questions for first-timers can be overwhelming:  What are the top things to see? How to plan the drive around Iceland? What to pack? So we thought: Why not ask the ones that are already here? We roamed the streets of Iceland and got some great advice from travelers for other travelers.  Your friends plan to travel around Iceland: What is the most important advice you would give them? \"Book your accommodation ahead, and drive carefully, Icelandic driving conditions can be challenging! Expect the unexpected.\"'),\n",
              " Document(metadata={'country': 'Iceland', 'source': 'visiticeland', 'link': 'https://www.visiticeland.com/article/travel-advice', 'start_index': 0}, page_content='ICELAND TRAVEL ADVICE - FROM ONE TOURIST TO ANOTHER  Planning a trip to Iceland doesn‘t have to be hard, though the questions for first-timers can be overwhelming:  What are the top things to see? How to plan the drive around Iceland? What to pack? So we thought: Why not ask the ones that are already here? We roamed the streets of Iceland and got some great advice from travelers for other travelers.  Your friends plan to travel around Iceland: What is the most important advice you would give them? \"Book your accommodation ahead, and drive carefully, Icelandic driving conditions can be challenging! Expect the unexpected.\"'),\n",
              " Document(metadata={'country': 'Iceland', 'source': 'visiticeland', 'link': 'https://www.visiticeland.com/article/travel-advice', 'start_index': 0}, page_content='ICELAND TRAVEL ADVICE - FROM ONE TOURIST TO ANOTHER  Planning a trip to Iceland doesn‘t have to be hard, though the questions for first-timers can be overwhelming:  What are the top things to see? How to plan the drive around Iceland? What to pack? So we thought: Why not ask the ones that are already here? We roamed the streets of Iceland and got some great advice from travelers for other travelers.  Your friends plan to travel around Iceland: What is the most important advice you would give them? \"Book your accommodation ahead, and drive carefully, Icelandic driving conditions can be challenging! Expect the unexpected.\"'),\n",
              " Document(metadata={'country': 'Iceland', 'source': 'visiticeland', 'link': 'https://www.visiticeland.com/article/travel-advice', 'start_index': 0}, page_content='ICELAND TRAVEL ADVICE - FROM ONE TOURIST TO ANOTHER  Planning a trip to Iceland doesn‘t have to be hard, though the questions for first-timers can be overwhelming:  What are the top things to see? How to plan the drive around Iceland? What to pack? So we thought: Why not ask the ones that are already here? We roamed the streets of Iceland and got some great advice from travelers for other travelers.  Your friends plan to travel around Iceland: What is the most important advice you would give them? \"Book your accommodation ahead, and drive carefully, Icelandic driving conditions can be challenging! Expect the unexpected.\"'),\n",
              " Document(metadata={'country': 'Iceland', 'source': 'visiticeland', 'link': 'https://www.visiticeland.com/article/travel-advice', 'start_index': 0}, page_content='ICELAND TRAVEL ADVICE - FROM ONE TOURIST TO ANOTHER  Planning a trip to Iceland doesn‘t have to be hard, though the questions for first-timers can be overwhelming:  What are the top things to see? How to plan the drive around Iceland? What to pack? So we thought: Why not ask the ones that are already here? We roamed the streets of Iceland and got some great advice from travelers for other travelers.  Your friends plan to travel around Iceland: What is the most important advice you would give them? \"Book your accommodation ahead, and drive carefully, Icelandic driving conditions can be challenging! Expect the unexpected.\"'),\n",
              " Document(metadata={'country': 'Iceland', 'source': 'visiticeland', 'link': 'https://www.visiticeland.com/article/eleven-sustainability-travel-tips', 'start_index': 0}, page_content='SUSTAINABILITY TRAVEL TIPS  VISIT THE REGIONS, STAY FOR LONGER AND TRAVEL SLOWLY DURING THE OFF-SEASON One of the best ways to visit Iceland sustainably is by visiting the regions, staying for longer, and traveling slowly during the off-season. Take your time to explore the island, rather than hurrying from sight to sight, trying to do as much as possible in a short time. Instead, use alternative “slow” means of transportation, eat locally produced food, shop at local markets, and engage in cultural events and activities that let you connect with the various places around Iceland and the people living in the country. Check out scenic routes'),\n",
              " Document(metadata={'country': 'Iceland', 'source': 'visiticeland', 'link': 'https://www.visiticeland.com/article/iceland-in-14-days', 'start_index': 5648}, page_content='are so many options: A half-day trip to Reykjavík with its landmarks, cafés, restaurants, bars, and museums is an option, as well as an afternoon hike to the Volcano Fagradalsfjall on the Reykjanes peninsula. And if you want to relax from all your adventures, you can wash the travel dust off in some of the town swimming pools or the nearby spas, such as Blue Lagoon or Sky Lagoon. Then you can start planning your next trip to Iceland!'),\n",
              " Document(metadata={'country': 'Iceland', 'source': 'visiticeland', 'link': 'https://www.visiticeland.com/article/christmas-in-iceland', 'start_index': 5428}, page_content=\"Christmas food, and try the traditional fermented skate on the 23rd. 9. Go to Hallgrímskirkja church, The Pearl, or any other hill in the capital area around midnight on New Year's eve to witness the renowned Reykjavík firework show. 10. Go on an Ice-cave tour and attempt to see the Icelandic reindeer in East Iceland. 11. Go Ice-skating downtown Reykjavík. 12. Go experience Christmas in the snow-heaviest and darkest regions of Iceland The Westfjords and North Iceland. 13. Have a stroll in town to look at lights and decorations and search for animations of the 13 yule-lads around town.\"),\n",
              " Document(metadata={'country': 'Iceland', 'source': 'visiticeland', 'link': 'https://www.visiticeland.com/article/christmas-in-iceland', 'start_index': 5428}, page_content=\"Christmas food, and try the traditional fermented skate on the 23rd. 9. Go to Hallgrímskirkja church, The Pearl, or any other hill in the capital area around midnight on New Year's eve to witness the renowned Reykjavík firework show. 10. Go on an Ice-cave tour and attempt to see the Icelandic reindeer in East Iceland. 11. Go Ice-skating downtown Reykjavík. 12. Go experience Christmas in the snow-heaviest and darkest regions of Iceland The Westfjords and North Iceland. 13. Have a stroll in town to look at lights and decorations and search for animations of the 13 yule-lads around town.\"),\n",
              " Document(metadata={'country': 'Iceland', 'source': 'visiticeland', 'link': 'https://www.visiticeland.com/article/christmas-in-iceland', 'start_index': 5428}, page_content=\"Christmas food, and try the traditional fermented skate on the 23rd. 9. Go to Hallgrímskirkja church, The Pearl, or any other hill in the capital area around midnight on New Year's eve to witness the renowned Reykjavík firework show. 10. Go on an Ice-cave tour and attempt to see the Icelandic reindeer in East Iceland. 11. Go Ice-skating downtown Reykjavík. 12. Go experience Christmas in the snow-heaviest and darkest regions of Iceland The Westfjords and North Iceland. 13. Have a stroll in town to look at lights and decorations and search for animations of the 13 yule-lads around town.\"),\n",
              " Document(metadata={'country': 'Iceland', 'source': 'visiticeland', 'link': 'https://www.visiticeland.com/article/christmas-in-iceland', 'start_index': 5428}, page_content=\"Christmas food, and try the traditional fermented skate on the 23rd. 9. Go to Hallgrímskirkja church, The Pearl, or any other hill in the capital area around midnight on New Year's eve to witness the renowned Reykjavík firework show. 10. Go on an Ice-cave tour and attempt to see the Icelandic reindeer in East Iceland. 11. Go Ice-skating downtown Reykjavík. 12. Go experience Christmas in the snow-heaviest and darkest regions of Iceland The Westfjords and North Iceland. 13. Have a stroll in town to look at lights and decorations and search for animations of the 13 yule-lads around town.\")]"
            ]
          },
          "metadata": {},
          "execution_count": 100
        }
      ]
    },
    {
      "cell_type": "markdown",
      "metadata": {
        "id": "WYTT7jaWBbFG"
      },
      "source": [
        "<br/>\n",
        "<br/>\n",
        "<br/>\n",
        "\n",
        "### **Build the Final Answer By Answering Each Sub-Question**"
      ]
    },
    {
      "cell_type": "code",
      "execution_count": 104,
      "metadata": {
        "colab": {
          "base_uri": "https://localhost:8080/"
        },
        "id": "avOg004jBdp9",
        "outputId": "d9a626ee-c630-4cc0-8feb-6583fc380f09"
      },
      "outputs": [
        {
          "output_type": "stream",
          "name": "stderr",
          "text": [
            "/usr/local/lib/python3.10/dist-packages/langsmith/client.py:241: LangSmithMissingAPIKeyWarning: API key must be provided when using hosted LangSmith API\n",
            "  warnings.warn(\n"
          ]
        }
      ],
      "source": [
        "qna_prompt = hub.pull(\"rlm/rag-prompt\")\n",
        "synthesize_template = \"\"\"Here is a set of Q+A pairs:\n",
        "\n",
        "  {context}\n",
        "\n",
        "  Use these to synthesize an answer to the question: {question}\n",
        "\"\"\"\n",
        "synthesize_prompt = PromptTemplate.from_template(template)\n",
        "\n",
        "def build_answer(question,qna_prompt,synthesize_prompt,sub_question_generator_chain,retriever):\n",
        "  sub_questions = sub_question_generator_chain.invoke({\"question\":question})\n",
        "  print('Sub Questions: ')\n",
        "  print(sub_questions)\n",
        "  print('###################################################################')\n",
        "  print('###################################################################')\n",
        "  sub_answers = []\n",
        "  for sub_question in sub_questions:\n",
        "      print(f'Sub Question: {sub_question}')\n",
        "      retrieved_docs = retriever.invoke(sub_question)[:top_k]\n",
        "      print('Retrieved Docs:')\n",
        "      print(retrieved_docs)\n",
        "      retreived_docs = reorder_docs(retrieved_docs)\n",
        "      answer = (qna_prompt | llm | StrOutputParser()).invoke({\"question\": sub_question,\"context\": retrieved_docs})\n",
        "      print('LLM Answer:')\n",
        "      print(answer)\n",
        "      print('###################################################################')\n",
        "      sub_answers.append(answer)\n",
        "\n",
        "  formatted_string = \"\"\n",
        "  for i, (question, answer) in enumerate(zip(sub_questions, sub_answers), start=1):\n",
        "      formatted_string += f\"Question {i}: {question}\\nAnswer {i}: {answer}\\n\\n\"\n",
        "\n",
        "  context = formatted_string.strip()\n",
        "\n",
        "  final_rag_chain = (\n",
        "      synthesize_prompt\n",
        "      | llm\n",
        "      | StrOutputParser()\n",
        "  )\n",
        "\n",
        "  final_rag_chain.invoke({\"question\":question, \"context\":context})"
      ]
    },
    {
      "cell_type": "code",
      "source": [
        "build_answer('best things to do in iceland',qna_prompt,synthesize_prompt,query_decomp,custom_retriever)"
      ],
      "metadata": {
        "id": "i1xH0D2_vuCG",
        "outputId": "bce31fe3-d887-4e37-83b3-0c704db53f35",
        "colab": {
          "base_uri": "https://localhost:8080/",
          "height": 1000
        }
      },
      "execution_count": 105,
      "outputs": [
        {
          "output_type": "stream",
          "name": "stdout",
          "text": [
            "Sub Questions: \n",
            "1. \"Top rated attractions in Iceland\"\n",
            "2. \"Must-visit natural wonders in Iceland\"\n",
            "3. \"Exciting activities to do in Iceland\"\n",
            "###################################################################\n",
            "###################################################################\n",
            "Sub Question: 1\n",
            "Retrieved Docs:\n",
            "[Document(metadata={'country': 'Finland', 'source': 'visitfinland', 'link': 'https://www.visitfinland.com/en/articles/finnish-food-culture/', 'start_index': 8831}, page_content='consumed, these savoury delights go great with heaps of butter and scorching black coffee. Tip: Try a different flatbread in each place you visit. Hopefully, you’ll have the chance to taste the local Savo variety, which is made with sour milk.; Korvapuusti – a pastry enjoyed with a cup of coffee: Korvapuusti translates to “slapped ears” in English, but these pastries are essentially cinnamon buns. And while Finland doesn’t hold a patent on cinnamon buns, it probably should. Usually enjoyed with a cup of coffee (Finns consume more coffee and, perhaps, more cinnamon buns than any other European nation), it can be difficult to stop at just one.'), Document(metadata={'country': 'Finland', 'source': 'visitfinland', 'link': 'https://www.visitfinland.com/en/articles/cruise-your-way-to-finland/', 'start_index': 4540}, page_content='You can spend a good while of your cruise wandering between the aisles of duty-free shops. The offering is extensive ranging from cosmetics, perfumes, and alcohol to clothes, toys, and candy. Onboard shopping is also a wallet-friendly option since tax-free prices can be up to 40% cheaper than in inland.  4. Relax in a spa\\nMany Viking Line and Tallink Silja ships, especially the ones operating between Helsinki, Turku and Stockholm, have spas on board. Relax in a jacuzzi, visit a sauna, or go for a massage – they are all available for a small extra fee. 5. Take on the karaoke stage and party the night away'), Document(metadata={'country': 'Finland', 'source': 'visitfinland', 'link': 'https://www.visitfinland.com/en/articles/cruise-your-way-to-finland/', 'start_index': 4540}, page_content='You can spend a good while of your cruise wandering between the aisles of duty-free shops. The offering is extensive ranging from cosmetics, perfumes, and alcohol to clothes, toys, and candy. Onboard shopping is also a wallet-friendly option since tax-free prices can be up to 40% cheaper than in inland.  4. Relax in a spa\\nMany Viking Line and Tallink Silja ships, especially the ones operating between Helsinki, Turku and Stockholm, have spas on board. Relax in a jacuzzi, visit a sauna, or go for a massage – they are all available for a small extra fee. 5. Take on the karaoke stage and party the night away'), Document(metadata={'country': 'Finland', 'source': 'visitfinland', 'link': 'https://www.visitfinland.com/en/articles/cruise-your-way-to-finland/', 'start_index': 4540}, page_content='You can spend a good while of your cruise wandering between the aisles of duty-free shops. The offering is extensive ranging from cosmetics, perfumes, and alcohol to clothes, toys, and candy. Onboard shopping is also a wallet-friendly option since tax-free prices can be up to 40% cheaper than in inland.  4. Relax in a spa\\nMany Viking Line and Tallink Silja ships, especially the ones operating between Helsinki, Turku and Stockholm, have spas on board. Relax in a jacuzzi, visit a sauna, or go for a massage – they are all available for a small extra fee. 5. Take on the karaoke stage and party the night away'), Document(metadata={'country': 'Finland', 'source': 'visitfinland', 'link': 'https://www.visitfinland.com/en/articles/cruise-your-way-to-finland/', 'start_index': 4540}, page_content='You can spend a good while of your cruise wandering between the aisles of duty-free shops. The offering is extensive ranging from cosmetics, perfumes, and alcohol to clothes, toys, and candy. Onboard shopping is also a wallet-friendly option since tax-free prices can be up to 40% cheaper than in inland.  4. Relax in a spa\\nMany Viking Line and Tallink Silja ships, especially the ones operating between Helsinki, Turku and Stockholm, have spas on board. Relax in a jacuzzi, visit a sauna, or go for a massage – they are all available for a small extra fee. 5. Take on the karaoke stage and party the night away')]\n",
            "LLM Answer:\n",
            "The context does not provide information on Finnish food culture on a cruise in Finland. However, it mentions that duty-free shops, spas, and karaoke are available on Viking Line and Tallink Silja ships operating between Helsinki, Turku, and Stockholm.\n",
            "###################################################################\n",
            "Sub Question: .\n",
            "Retrieved Docs:\n",
            "[Document(metadata={'country': 'Iceland', 'source': 'visiticeland', 'link': 'https://www.visiticeland.com/article/lgbt-iceland', 'start_index': 3424}, page_content='towards the end of June. In East Iceland, Hinsegin Austurland has organized pride celebrations in different towns of the region. Furthermore, since 2014 a fabulous parade has annually marched down the rainbow street in Seyðisfjörður, corresponding with the timing of Reykjavik Pride.'), Document(metadata={'country': 'Iceland', 'source': 'visiticeland', 'link': 'https://www.visiticeland.com/article/2024-projects', 'start_index': 1961}, page_content='by pitches from residents. Public telescope at the vista in Grafarvogur, infrared sauna at a public pool and recycling bins along popular walking paths – all of these forthcoming installments are the result of the direct democracy project known as Hverfið mitt, taking place every two years. After making an open call for pitches, city planners assess the cost of each initiative and then put the roster to an online vote. Residents, fifteen and older, have two weeks to weigh in. Reading the results from 2023, one thing is clear: voters love neighborhood playgrounds to have rainbow-coloured jumping pillows (pictured) and drinking fountains along'), Document(metadata={'country': 'Finland', 'source': 'visitfinland', 'link': 'https://www.visitfinland.com/en/articles/in-the-footsteps-of-the-masterclass-of-happiness/', 'start_index': 3920}, page_content='practical tools to add a touch of beauty – and happiness – to their everyday lives.   At Putkisalo Manor in Rantasalmi, just 25 minutes away from Kuru Resort, visitors can embark on a journey through the past dating back to the 1500s. Over the decades, the manor has been the backdrop for grand celebrations and dinners hosted by nobility. Today, the manor, which functions as a sheep farm, offers captivating estate tours that delve into the history of the location. It also provides accommodation, dining options, and a farm shop where visitors can purchase delicacies, such as locally produced lamb meat.; PihlasResort  : The final celebration of'), Document(metadata={'country': 'Finland', 'source': 'visitfinland', 'link': 'https://www.visitfinland.com/en/articles/in-the-footsteps-of-the-masterclass-of-happiness/', 'start_index': 3920}, page_content='practical tools to add a touch of beauty – and happiness – to their everyday lives.   At Putkisalo Manor in Rantasalmi, just 25 minutes away from Kuru Resort, visitors can embark on a journey through the past dating back to the 1500s. Over the decades, the manor has been the backdrop for grand celebrations and dinners hosted by nobility. Today, the manor, which functions as a sheep farm, offers captivating estate tours that delve into the history of the location. It also provides accommodation, dining options, and a farm shop where visitors can purchase delicacies, such as locally produced lamb meat.; PihlasResort  : The final celebration of'), Document(metadata={'country': 'Finland', 'source': 'visitfinland', 'link': 'https://www.visitfinland.com/en/articles/in-the-footsteps-of-the-masterclass-of-happiness/', 'start_index': 3920}, page_content='practical tools to add a touch of beauty – and happiness – to their everyday lives.   At Putkisalo Manor in Rantasalmi, just 25 minutes away from Kuru Resort, visitors can embark on a journey through the past dating back to the 1500s. Over the decades, the manor has been the backdrop for grand celebrations and dinners hosted by nobility. Today, the manor, which functions as a sheep farm, offers captivating estate tours that delve into the history of the location. It also provides accommodation, dining options, and a farm shop where visitors can purchase delicacies, such as locally produced lamb meat.; PihlasResort  : The final celebration of')]\n",
            "LLM Answer:\n",
            "The context does not provide information about the location of PihlasResort in Finland.\n",
            "###################################################################\n",
            "Sub Question:  \n",
            "Retrieved Docs:\n",
            "[Document(metadata={'country': 'Iceland', 'source': 'visiticeland', 'link': 'https://www.visiticeland.com/article/lgbt-iceland', 'start_index': 3424}, page_content='towards the end of June. In East Iceland, Hinsegin Austurland has organized pride celebrations in different towns of the region. Furthermore, since 2014 a fabulous parade has annually marched down the rainbow street in Seyðisfjörður, corresponding with the timing of Reykjavik Pride.'), Document(metadata={'country': 'Finland', 'source': 'visitfinland', 'link': 'https://www.visitfinland.com/en/articles/in-the-footsteps-of-the-masterclass-of-happiness/', 'start_index': 3920}, page_content='practical tools to add a touch of beauty – and happiness – to their everyday lives.   At Putkisalo Manor in Rantasalmi, just 25 minutes away from Kuru Resort, visitors can embark on a journey through the past dating back to the 1500s. Over the decades, the manor has been the backdrop for grand celebrations and dinners hosted by nobility. Today, the manor, which functions as a sheep farm, offers captivating estate tours that delve into the history of the location. It also provides accommodation, dining options, and a farm shop where visitors can purchase delicacies, such as locally produced lamb meat.; PihlasResort  : The final celebration of'), Document(metadata={'country': 'Finland', 'source': 'visitfinland', 'link': 'https://www.visitfinland.com/en/articles/in-the-footsteps-of-the-masterclass-of-happiness/', 'start_index': 3920}, page_content='practical tools to add a touch of beauty – and happiness – to their everyday lives.   At Putkisalo Manor in Rantasalmi, just 25 minutes away from Kuru Resort, visitors can embark on a journey through the past dating back to the 1500s. Over the decades, the manor has been the backdrop for grand celebrations and dinners hosted by nobility. Today, the manor, which functions as a sheep farm, offers captivating estate tours that delve into the history of the location. It also provides accommodation, dining options, and a farm shop where visitors can purchase delicacies, such as locally produced lamb meat.; PihlasResort  : The final celebration of'), Document(metadata={'country': 'Finland', 'source': 'visitfinland', 'link': 'https://www.visitfinland.com/en/articles/in-the-footsteps-of-the-masterclass-of-happiness/', 'start_index': 3920}, page_content='practical tools to add a touch of beauty – and happiness – to their everyday lives.   At Putkisalo Manor in Rantasalmi, just 25 minutes away from Kuru Resort, visitors can embark on a journey through the past dating back to the 1500s. Over the decades, the manor has been the backdrop for grand celebrations and dinners hosted by nobility. Today, the manor, which functions as a sheep farm, offers captivating estate tours that delve into the history of the location. It also provides accommodation, dining options, and a farm shop where visitors can purchase delicacies, such as locally produced lamb meat.; PihlasResort  : The final celebration of'), Document(metadata={'country': 'Finland', 'source': 'visitfinland', 'link': 'https://www.visitfinland.com/en/articles/new-museums-in-finland-2023/', 'start_index': 1538}, page_content='Explore the opening hours at chappe.fi. The museum is accessible but please note that the facility has an uneven courtyard made of stone.; 2. Museum of Visual Arts Malva, Lahti: Malva is a brand new museum dedicated to all things visual – art, design, posters and culture. The regular rotation of contemporary visual art will keep visitors coming back for more which is easy if you’re in Helsinki, since it’s located less than an hour away by train in the nearby city of Lahti.  Amidst the changing roster of exciting exhibitions, one special artwork from Finland’s Ekho Collective will be on permanent display to enchant visitors for years to come.')]\n",
            "LLM Answer:\n",
            "The Museum of Visual Arts Malva, located in Lahti, Finland, is a new museum dedicated to visual arts, design, posters, and culture. It's easily accessible from Helsinki, being just under an hour away by train. The museum features a rotation of contemporary visual art and a permanent display of a special artwork from Finland’s Ekho Collective.\n",
            "###################################################################\n",
            "Sub Question: \"\n",
            "Retrieved Docs:\n",
            "[Document(metadata={'country': 'Iceland', 'source': 'visiticeland', 'link': 'https://www.visiticeland.com/article/travel-advice', 'start_index': 4290}, page_content='\"First, two of my friends posted some pictures on Facebook and that inspired us to come! We found most of the information on the internet, but we bought a physical map.\"'), Document(metadata={'country': 'Iceland', 'source': 'visiticeland', 'link': 'https://www.visiticeland.com/article/travel-advice', 'start_index': 2241}, page_content='(John and Wendy) \"We brought Euros but  don‘t really need them, everything is easy by paying by card.\"\\n(Pam, John, Mark, Linda)  Some items belong in every suitcase when traveling to Iceland, no matter what kind of trip you are planning. After a few days in Iceland, our Interview partners figured out, what is vital : What is your absolute must-pack for Iceland? „An absolute must-pack are raincoats and sturdy boots. We didn‘t really need our sandals, though!“ See article What to wear in Iceland'), Document(metadata={'country': 'Iceland', 'source': 'visiticeland', 'link': 'https://www.visiticeland.com/article/travel-advice', 'start_index': 1494}, page_content='(Zack and Wendy)  Nobody\\'s perfect and on their first trip, every Iceland traveler might discover something that could\\'ve been planned better. Learn from the mistakes of others and what they wish they had or hadn\\'t done: What were your biggest planning or packing mistakes? \"We didn´t bring crampons for hikes in the snow. And we would have packed less, so many Airbnbs and guesthouses have laundry machines.\"\\n(Justine and Zack) \"Spending too much time in some places and too little in others.\"'), Document(metadata={'country': 'Iceland', 'source': 'visiticeland', 'link': 'https://www.visiticeland.com/article/travel-advice', 'start_index': 1904}, page_content='(Justine and Zack) \"Spending too much time in some places and too little in others.\"\\n(Zack and Wendy) \"We brought too many things, we didn\\'t expect it to be that warm!\" (Alessio and Manca from Italy on their first trip to Iceland) \"Once we just hired an ordinary car in winter, we wouldn‘t do that again -  hire an appropriate vehicle!\"\\n(John and Wendy) \"We brought Euros but  don‘t really need them, everything is easy by paying by card.\"'), Document(metadata={'country': 'Iceland', 'source': 'visiticeland', 'link': 'https://www.visiticeland.com/article/travel-advice', 'start_index': 1494}, page_content='(Zack and Wendy)  Nobody\\'s perfect and on their first trip, every Iceland traveler might discover something that could\\'ve been planned better. Learn from the mistakes of others and what they wish they had or hadn\\'t done: What were your biggest planning or packing mistakes? \"We didn´t bring crampons for hikes in the snow. And we would have packed less, so many Airbnbs and guesthouses have laundry machines.\"\\n(Justine and Zack) \"Spending too much time in some places and too little in others.\"')]\n",
            "LLM Answer:\n",
            "Travelers to Iceland should prioritize packing raincoats and sturdy boots. It's not necessary to bring Euros, as cards are widely accepted. A common mistake is bringing too many things, as many accommodations have laundry facilities.\n",
            "###################################################################\n",
            "Sub Question: T\n",
            "Retrieved Docs:\n",
            "[Document(metadata={'country': 'Finland', 'source': 'visitfinland', 'link': 'https://www.visitfinland.com/en/articles/design-flagship-stores-in-helsinki/', 'start_index': 4903}, page_content='Terhi Pölkki – cool yet comfortable shoes do exist: Terhi Pölkki is a Finnish shoe designer who is known for minimalist luxury with a tough edge. Her store on Uudenmaankatu is a cosy spot with an amicable staff. Longevity is at the core of Pölkki’s designs, which strike that magical balance between beauty and comfortable. Pölkki’s shoes take your outfit from the office to the bar and beyond – ask Carrie Bradshaw, Pölkki’s first international fan who wore a pair on Sex and the City. Terhi Pölkki Store, Vironkatu 8, Helsinki; Hálo – design inspired by Arctic Lapland: Hálo emerged as a creative endeavour founded by two fashion experts, Marta'), Document(metadata={'country': 'Iceland', 'source': 'visiticeland', 'link': 'https://www.visiticeland.com/article/diamond-circle', 'start_index': 1759}, page_content=\"of Húsavík is arguably Iceland's whale-watching capital. Mid-way on the route, is the harbor town of Húsavík, where whale-watching ships outnumber shipping vessels. According to some, Húsavík is the whale-watching capital of Iceland -- if not Europe -- with humpbacks, dolphins and even the blue whale swimming in the wide Skjálfandi Bay. The Diamond Circle also covers some less-explored areas of Iceland, such as the Tjörnes Peninsula with ocean-views, birdlife and an intriguing history of fossils due to its position ‘between’ the tectonic plate boundaries. For more, check out Visit North Iceland, the official travel guide to North Iceland,\"), Document(metadata={'country': 'Iceland', 'source': 'visiticeland', 'link': 'https://www.visiticeland.com/article/birdwatching', 'start_index': 1968}, page_content=\"in the city's pond, Tjörnin, where Arctic terns and other species can be viewed. Enjoying a walk alongside the pond is a great way to spend a day and the birds are fun to watch or to show children. When visiting breeding grounds around Iceland, be sure not to wander off the marked trails, as nests can be located anywhere. The prime birdwatching season in Iceland is from the end of April to the beginning of June, although tours are offered year-round. Visit the local information offices in the area of Iceland you are visiting for more detailed information, including maps, tips, rules and regulations regarding bird watching in Iceland.\"), Document(metadata={'country': 'Iceland', 'source': 'visiticeland', 'link': 'https://www.visiticeland.com/article/birdwatching', 'start_index': 1968}, page_content=\"in the city's pond, Tjörnin, where Arctic terns and other species can be viewed. Enjoying a walk alongside the pond is a great way to spend a day and the birds are fun to watch or to show children. When visiting breeding grounds around Iceland, be sure not to wander off the marked trails, as nests can be located anywhere. The prime birdwatching season in Iceland is from the end of April to the beginning of June, although tours are offered year-round. Visit the local information offices in the area of Iceland you are visiting for more detailed information, including maps, tips, rules and regulations regarding bird watching in Iceland.\"), Document(metadata={'country': 'Iceland', 'source': 'visiticeland', 'link': 'https://www.visiticeland.com/article/birdwatching', 'start_index': 1968}, page_content=\"in the city's pond, Tjörnin, where Arctic terns and other species can be viewed. Enjoying a walk alongside the pond is a great way to spend a day and the birds are fun to watch or to show children. When visiting breeding grounds around Iceland, be sure not to wander off the marked trails, as nests can be located anywhere. The prime birdwatching season in Iceland is from the end of April to the beginning of June, although tours are offered year-round. Visit the local information offices in the area of Iceland you are visiting for more detailed information, including maps, tips, rules and regulations regarding bird watching in Iceland.\")]\n",
            "LLM Answer:\n",
            "The context does not provide information about Tjörnin in Finland. Tjörnin refers to a pond in Iceland's capital city, Reykjavik, where Arctic terns and other bird species can be viewed. The prime birdwatching season in Iceland is from the end of April to the beginning of June.\n",
            "###################################################################\n",
            "Sub Question: o\n",
            "Retrieved Docs:\n",
            "[Document(metadata={'country': 'Finland', 'source': 'visitfinland', 'link': 'https://www.visitfinland.com/en/articles/best-restaurants-in-finland/', 'start_index': 1478}, page_content='guests in a sensory journey centred around his life story. At The ROOM, diners gather around a striking marble counter to watch Kozeen and his team craft an 8-course tasting menu that blends Middle Eastern roots with Nordic techniques. Each dish, with evocative names like ‘Made in Suleymaniah’ and ‘Coming to Finland’, highlights high-quality, seasonal produce, pushing the boundaries of conventional gastronomy.; Olo: Located at a townhouse next to the Presidential Palace in downtown Helsinki, Olo’s take on fine dining is elegant yet laid-back. This minimalistic Nordic gourmet restaurant uses local ingredients in the most innovative and'), Document(metadata={'country': 'Finland', 'source': 'visitfinland', 'link': 'https://www.visitfinland.com/en/articles/best-restaurants-in-finland/', 'start_index': 1478}, page_content='guests in a sensory journey centred around his life story. At The ROOM, diners gather around a striking marble counter to watch Kozeen and his team craft an 8-course tasting menu that blends Middle Eastern roots with Nordic techniques. Each dish, with evocative names like ‘Made in Suleymaniah’ and ‘Coming to Finland’, highlights high-quality, seasonal produce, pushing the boundaries of conventional gastronomy.; Olo: Located at a townhouse next to the Presidential Palace in downtown Helsinki, Olo’s take on fine dining is elegant yet laid-back. This minimalistic Nordic gourmet restaurant uses local ingredients in the most innovative and'), Document(metadata={'country': 'Finland', 'source': 'visitfinland', 'link': 'https://www.visitfinland.com/en/articles/best-restaurants-in-finland/', 'start_index': 1478}, page_content='guests in a sensory journey centred around his life story. At The ROOM, diners gather around a striking marble counter to watch Kozeen and his team craft an 8-course tasting menu that blends Middle Eastern roots with Nordic techniques. Each dish, with evocative names like ‘Made in Suleymaniah’ and ‘Coming to Finland’, highlights high-quality, seasonal produce, pushing the boundaries of conventional gastronomy.; Olo: Located at a townhouse next to the Presidential Palace in downtown Helsinki, Olo’s take on fine dining is elegant yet laid-back. This minimalistic Nordic gourmet restaurant uses local ingredients in the most innovative and'), Document(metadata={'country': 'Finland', 'source': 'visitfinland', 'link': 'https://www.visitfinland.com/en/articles/best-restaurants-in-finland/', 'start_index': 1478}, page_content='guests in a sensory journey centred around his life story. At The ROOM, diners gather around a striking marble counter to watch Kozeen and his team craft an 8-course tasting menu that blends Middle Eastern roots with Nordic techniques. Each dish, with evocative names like ‘Made in Suleymaniah’ and ‘Coming to Finland’, highlights high-quality, seasonal produce, pushing the boundaries of conventional gastronomy.; Olo: Located at a townhouse next to the Presidential Palace in downtown Helsinki, Olo’s take on fine dining is elegant yet laid-back. This minimalistic Nordic gourmet restaurant uses local ingredients in the most innovative and'), Document(metadata={'country': 'Finland', 'source': 'visitfinland', 'link': 'https://www.visitfinland.com/en/articles/best-restaurants-in-finland/', 'start_index': 1478}, page_content='guests in a sensory journey centred around his life story. At The ROOM, diners gather around a striking marble counter to watch Kozeen and his team craft an 8-course tasting menu that blends Middle Eastern roots with Nordic techniques. Each dish, with evocative names like ‘Made in Suleymaniah’ and ‘Coming to Finland’, highlights high-quality, seasonal produce, pushing the boundaries of conventional gastronomy.; Olo: Located at a townhouse next to the Presidential Palace in downtown Helsinki, Olo’s take on fine dining is elegant yet laid-back. This minimalistic Nordic gourmet restaurant uses local ingredients in the most innovative and')]\n",
            "LLM Answer:\n",
            "The ROOM is a restaurant in Finland that offers a sensory dining experience, featuring an 8-course tasting menu that blends Middle Eastern and Nordic techniques. Diners gather around a marble counter to watch the chef and his team. Olo, another restaurant, is known for its elegant yet laid-back approach to fine dining, using local ingredients in innovative ways.\n",
            "###################################################################\n",
            "Sub Question: p\n",
            "Retrieved Docs:\n",
            "[Document(metadata={'country': 'Iceland', 'source': 'visiticeland', 'link': 'https://www.visiticeland.com/article/somebody-feed-phil-foodtrail', 'start_index': 494}, page_content=\"that have been covered thoroughly. Instead, he samples some of Iceland's best foods, including reinventions of salted and pickled foods. Along the way, he meets some compelling Icelanders who share their favorite foods and the story behind the cuisine. THE ADVENTURE BEGINS: HOT DOGS! It is not all haute cuisine for Phil! One of his first stops is for an Icelandic staple: a pylsur or hotdog at Vikinga Pylsur. These dogs can be enjoyed plain or fully loaded with various extras such as raw and crispy onion and remoulade. Phil appeared to enjoy his hot dog—and everyone else's. Vikinga Pylsur, Frakkastígur 25, 101 Reykjavík Photo: Phil enjoying\"), Document(metadata={'country': 'Finland', 'source': 'visitfinland', 'link': 'https://www.visitfinland.com/en/articles/best-luxury-spa-experiences-in-finland/', 'start_index': 985}, page_content='St George’s spa concept is all about stylish and tranquil aesthetics, from the elegant pool design to the harmonious relaxation space. Here you can recharge with a calming swim, bask in the saunas, and indulge in a private treatment. Access to the spa is complimentary with your hotel stay or when booking a treatment at St. George Care -spa.; 2. Kämp Spa, Helsinki: Nestled in the heart of Helsinki alongside Esplanadi Park, Kämp Spa is an integral part of the luxurious Kämp Hotel. Distinguished as the only spa specialising in the lavish ESPA product range, crafted from natural sources, the exclusive Kämp Spa offers a selection of hand-picked'), Document(metadata={'country': 'Finland', 'source': 'visitfinland', 'link': 'https://www.visitfinland.com/en/articles/best-luxury-spa-experiences-in-finland/', 'start_index': 985}, page_content='St George’s spa concept is all about stylish and tranquil aesthetics, from the elegant pool design to the harmonious relaxation space. Here you can recharge with a calming swim, bask in the saunas, and indulge in a private treatment. Access to the spa is complimentary with your hotel stay or when booking a treatment at St. George Care -spa.; 2. Kämp Spa, Helsinki: Nestled in the heart of Helsinki alongside Esplanadi Park, Kämp Spa is an integral part of the luxurious Kämp Hotel. Distinguished as the only spa specialising in the lavish ESPA product range, crafted from natural sources, the exclusive Kämp Spa offers a selection of hand-picked'), Document(metadata={'country': 'Finland', 'source': 'visitfinland', 'link': 'https://www.visitfinland.com/en/articles/best-luxury-spa-experiences-in-finland/', 'start_index': 985}, page_content='St George’s spa concept is all about stylish and tranquil aesthetics, from the elegant pool design to the harmonious relaxation space. Here you can recharge with a calming swim, bask in the saunas, and indulge in a private treatment. Access to the spa is complimentary with your hotel stay or when booking a treatment at St. George Care -spa.; 2. Kämp Spa, Helsinki: Nestled in the heart of Helsinki alongside Esplanadi Park, Kämp Spa is an integral part of the luxurious Kämp Hotel. Distinguished as the only spa specialising in the lavish ESPA product range, crafted from natural sources, the exclusive Kämp Spa offers a selection of hand-picked'), Document(metadata={'country': 'Finland', 'source': 'visitfinland', 'link': 'https://www.visitfinland.com/en/articles/best-luxury-spa-experiences-in-finland/', 'start_index': 985}, page_content='St George’s spa concept is all about stylish and tranquil aesthetics, from the elegant pool design to the harmonious relaxation space. Here you can recharge with a calming swim, bask in the saunas, and indulge in a private treatment. Access to the spa is complimentary with your hotel stay or when booking a treatment at St. George Care -spa.; 2. Kämp Spa, Helsinki: Nestled in the heart of Helsinki alongside Esplanadi Park, Kämp Spa is an integral part of the luxurious Kämp Hotel. Distinguished as the only spa specialising in the lavish ESPA product range, crafted from natural sources, the exclusive Kämp Spa offers a selection of hand-picked')]\n"
          ]
        },
        {
          "output_type": "error",
          "ename": "KeyboardInterrupt",
          "evalue": "",
          "traceback": [
            "\u001b[0;31m---------------------------------------------------------------------------\u001b[0m",
            "\u001b[0;31mHTTPStatusError\u001b[0m                           Traceback (most recent call last)",
            "\u001b[0;32m/usr/local/lib/python3.10/dist-packages/groq/_base_client.py\u001b[0m in \u001b[0;36m_request\u001b[0;34m(self, cast_to, options, retries_taken, stream, stream_cls)\u001b[0m\n\u001b[1;32m   1036\u001b[0m         \u001b[0;32mtry\u001b[0m\u001b[0;34m:\u001b[0m\u001b[0;34m\u001b[0m\u001b[0;34m\u001b[0m\u001b[0m\n\u001b[0;32m-> 1037\u001b[0;31m             \u001b[0mresponse\u001b[0m\u001b[0;34m.\u001b[0m\u001b[0mraise_for_status\u001b[0m\u001b[0;34m(\u001b[0m\u001b[0;34m)\u001b[0m\u001b[0;34m\u001b[0m\u001b[0;34m\u001b[0m\u001b[0m\n\u001b[0m\u001b[1;32m   1038\u001b[0m         \u001b[0;32mexcept\u001b[0m \u001b[0mhttpx\u001b[0m\u001b[0;34m.\u001b[0m\u001b[0mHTTPStatusError\u001b[0m \u001b[0;32mas\u001b[0m \u001b[0merr\u001b[0m\u001b[0;34m:\u001b[0m  \u001b[0;31m# thrown on 4xx and 5xx status code\u001b[0m\u001b[0;34m\u001b[0m\u001b[0;34m\u001b[0m\u001b[0m\n",
            "\u001b[0;32m/usr/local/lib/python3.10/dist-packages/httpx/_models.py\u001b[0m in \u001b[0;36mraise_for_status\u001b[0;34m(self)\u001b[0m\n\u001b[1;32m    762\u001b[0m         \u001b[0mmessage\u001b[0m \u001b[0;34m=\u001b[0m \u001b[0mmessage\u001b[0m\u001b[0;34m.\u001b[0m\u001b[0mformat\u001b[0m\u001b[0;34m(\u001b[0m\u001b[0mself\u001b[0m\u001b[0;34m,\u001b[0m \u001b[0merror_type\u001b[0m\u001b[0;34m=\u001b[0m\u001b[0merror_type\u001b[0m\u001b[0;34m)\u001b[0m\u001b[0;34m\u001b[0m\u001b[0;34m\u001b[0m\u001b[0m\n\u001b[0;32m--> 763\u001b[0;31m         \u001b[0;32mraise\u001b[0m \u001b[0mHTTPStatusError\u001b[0m\u001b[0;34m(\u001b[0m\u001b[0mmessage\u001b[0m\u001b[0;34m,\u001b[0m \u001b[0mrequest\u001b[0m\u001b[0;34m=\u001b[0m\u001b[0mrequest\u001b[0m\u001b[0;34m,\u001b[0m \u001b[0mresponse\u001b[0m\u001b[0;34m=\u001b[0m\u001b[0mself\u001b[0m\u001b[0;34m)\u001b[0m\u001b[0;34m\u001b[0m\u001b[0;34m\u001b[0m\u001b[0m\n\u001b[0m\u001b[1;32m    764\u001b[0m \u001b[0;34m\u001b[0m\u001b[0m\n",
            "\u001b[0;31mHTTPStatusError\u001b[0m: Client error '429 Too Many Requests' for url 'https://api.groq.com/openai/v1/chat/completions'\nFor more information check: https://developer.mozilla.org/en-US/docs/Web/HTTP/Status/429",
            "\nDuring handling of the above exception, another exception occurred:\n",
            "\u001b[0;31mKeyboardInterrupt\u001b[0m                         Traceback (most recent call last)",
            "\u001b[0;32m<ipython-input-105-e69da3e37c12>\u001b[0m in \u001b[0;36m<cell line: 1>\u001b[0;34m()\u001b[0m\n\u001b[0;32m----> 1\u001b[0;31m \u001b[0mbuild_answer\u001b[0m\u001b[0;34m(\u001b[0m\u001b[0;34m'best things to do in iceland'\u001b[0m\u001b[0;34m,\u001b[0m\u001b[0mqna_prompt\u001b[0m\u001b[0;34m,\u001b[0m\u001b[0msynthesize_prompt\u001b[0m\u001b[0;34m,\u001b[0m\u001b[0mquery_decomp\u001b[0m\u001b[0;34m,\u001b[0m\u001b[0mcustom_retriever\u001b[0m\u001b[0;34m)\u001b[0m\u001b[0;34m\u001b[0m\u001b[0;34m\u001b[0m\u001b[0m\n\u001b[0m",
            "\u001b[0;32m<ipython-input-104-4d4a90d4d14d>\u001b[0m in \u001b[0;36mbuild_answer\u001b[0;34m(question, qna_prompt, synthesize_prompt, sub_question_generator_chain, retriever)\u001b[0m\n\u001b[1;32m     21\u001b[0m       \u001b[0mprint\u001b[0m\u001b[0;34m(\u001b[0m\u001b[0mretrieved_docs\u001b[0m\u001b[0;34m)\u001b[0m\u001b[0;34m\u001b[0m\u001b[0;34m\u001b[0m\u001b[0m\n\u001b[1;32m     22\u001b[0m       \u001b[0mretreived_docs\u001b[0m \u001b[0;34m=\u001b[0m \u001b[0mreorder_docs\u001b[0m\u001b[0;34m(\u001b[0m\u001b[0mretrieved_docs\u001b[0m\u001b[0;34m)\u001b[0m\u001b[0;34m\u001b[0m\u001b[0;34m\u001b[0m\u001b[0m\n\u001b[0;32m---> 23\u001b[0;31m       \u001b[0manswer\u001b[0m \u001b[0;34m=\u001b[0m \u001b[0;34m(\u001b[0m\u001b[0mqna_prompt\u001b[0m \u001b[0;34m|\u001b[0m \u001b[0mllm\u001b[0m \u001b[0;34m|\u001b[0m \u001b[0mStrOutputParser\u001b[0m\u001b[0;34m(\u001b[0m\u001b[0;34m)\u001b[0m\u001b[0;34m)\u001b[0m\u001b[0;34m.\u001b[0m\u001b[0minvoke\u001b[0m\u001b[0;34m(\u001b[0m\u001b[0;34m{\u001b[0m\u001b[0;34m\"question\"\u001b[0m\u001b[0;34m:\u001b[0m \u001b[0msub_question\u001b[0m\u001b[0;34m,\u001b[0m\u001b[0;34m\"context\"\u001b[0m\u001b[0;34m:\u001b[0m \u001b[0mretrieved_docs\u001b[0m\u001b[0;34m}\u001b[0m\u001b[0;34m)\u001b[0m\u001b[0;34m\u001b[0m\u001b[0;34m\u001b[0m\u001b[0m\n\u001b[0m\u001b[1;32m     24\u001b[0m       \u001b[0mprint\u001b[0m\u001b[0;34m(\u001b[0m\u001b[0;34m'LLM Answer:'\u001b[0m\u001b[0;34m)\u001b[0m\u001b[0;34m\u001b[0m\u001b[0;34m\u001b[0m\u001b[0m\n\u001b[1;32m     25\u001b[0m       \u001b[0mprint\u001b[0m\u001b[0;34m(\u001b[0m\u001b[0manswer\u001b[0m\u001b[0;34m)\u001b[0m\u001b[0;34m\u001b[0m\u001b[0;34m\u001b[0m\u001b[0m\n",
            "\u001b[0;32m/usr/local/lib/python3.10/dist-packages/langchain_core/runnables/base.py\u001b[0m in \u001b[0;36minvoke\u001b[0;34m(self, input, config, **kwargs)\u001b[0m\n\u001b[1;32m   3022\u001b[0m                     \u001b[0minput\u001b[0m \u001b[0;34m=\u001b[0m \u001b[0mcontext\u001b[0m\u001b[0;34m.\u001b[0m\u001b[0mrun\u001b[0m\u001b[0;34m(\u001b[0m\u001b[0mstep\u001b[0m\u001b[0;34m.\u001b[0m\u001b[0minvoke\u001b[0m\u001b[0;34m,\u001b[0m \u001b[0minput\u001b[0m\u001b[0;34m,\u001b[0m \u001b[0mconfig\u001b[0m\u001b[0;34m,\u001b[0m \u001b[0;34m**\u001b[0m\u001b[0mkwargs\u001b[0m\u001b[0;34m)\u001b[0m\u001b[0;34m\u001b[0m\u001b[0;34m\u001b[0m\u001b[0m\n\u001b[1;32m   3023\u001b[0m                 \u001b[0;32melse\u001b[0m\u001b[0;34m:\u001b[0m\u001b[0;34m\u001b[0m\u001b[0;34m\u001b[0m\u001b[0m\n\u001b[0;32m-> 3024\u001b[0;31m                     \u001b[0minput\u001b[0m \u001b[0;34m=\u001b[0m \u001b[0mcontext\u001b[0m\u001b[0;34m.\u001b[0m\u001b[0mrun\u001b[0m\u001b[0;34m(\u001b[0m\u001b[0mstep\u001b[0m\u001b[0;34m.\u001b[0m\u001b[0minvoke\u001b[0m\u001b[0;34m,\u001b[0m \u001b[0minput\u001b[0m\u001b[0;34m,\u001b[0m \u001b[0mconfig\u001b[0m\u001b[0;34m)\u001b[0m\u001b[0;34m\u001b[0m\u001b[0;34m\u001b[0m\u001b[0m\n\u001b[0m\u001b[1;32m   3025\u001b[0m         \u001b[0;31m# finish the root run\u001b[0m\u001b[0;34m\u001b[0m\u001b[0;34m\u001b[0m\u001b[0m\n\u001b[1;32m   3026\u001b[0m         \u001b[0;32mexcept\u001b[0m \u001b[0mBaseException\u001b[0m \u001b[0;32mas\u001b[0m \u001b[0me\u001b[0m\u001b[0;34m:\u001b[0m\u001b[0;34m\u001b[0m\u001b[0;34m\u001b[0m\u001b[0m\n",
            "\u001b[0;32m/usr/local/lib/python3.10/dist-packages/langchain_core/language_models/chat_models.py\u001b[0m in \u001b[0;36minvoke\u001b[0;34m(self, input, config, stop, **kwargs)\u001b[0m\n\u001b[1;32m    284\u001b[0m         return cast(\n\u001b[1;32m    285\u001b[0m             \u001b[0mChatGeneration\u001b[0m\u001b[0;34m,\u001b[0m\u001b[0;34m\u001b[0m\u001b[0;34m\u001b[0m\u001b[0m\n\u001b[0;32m--> 286\u001b[0;31m             self.generate_prompt(\n\u001b[0m\u001b[1;32m    287\u001b[0m                 \u001b[0;34m[\u001b[0m\u001b[0mself\u001b[0m\u001b[0;34m.\u001b[0m\u001b[0m_convert_input\u001b[0m\u001b[0;34m(\u001b[0m\u001b[0minput\u001b[0m\u001b[0;34m)\u001b[0m\u001b[0;34m]\u001b[0m\u001b[0;34m,\u001b[0m\u001b[0;34m\u001b[0m\u001b[0;34m\u001b[0m\u001b[0m\n\u001b[1;32m    288\u001b[0m                 \u001b[0mstop\u001b[0m\u001b[0;34m=\u001b[0m\u001b[0mstop\u001b[0m\u001b[0;34m,\u001b[0m\u001b[0;34m\u001b[0m\u001b[0;34m\u001b[0m\u001b[0m\n",
            "\u001b[0;32m/usr/local/lib/python3.10/dist-packages/langchain_core/language_models/chat_models.py\u001b[0m in \u001b[0;36mgenerate_prompt\u001b[0;34m(self, prompts, stop, callbacks, **kwargs)\u001b[0m\n\u001b[1;32m    784\u001b[0m     ) -> LLMResult:\n\u001b[1;32m    785\u001b[0m         \u001b[0mprompt_messages\u001b[0m \u001b[0;34m=\u001b[0m \u001b[0;34m[\u001b[0m\u001b[0mp\u001b[0m\u001b[0;34m.\u001b[0m\u001b[0mto_messages\u001b[0m\u001b[0;34m(\u001b[0m\u001b[0;34m)\u001b[0m \u001b[0;32mfor\u001b[0m \u001b[0mp\u001b[0m \u001b[0;32min\u001b[0m \u001b[0mprompts\u001b[0m\u001b[0;34m]\u001b[0m\u001b[0;34m\u001b[0m\u001b[0;34m\u001b[0m\u001b[0m\n\u001b[0;32m--> 786\u001b[0;31m         \u001b[0;32mreturn\u001b[0m \u001b[0mself\u001b[0m\u001b[0;34m.\u001b[0m\u001b[0mgenerate\u001b[0m\u001b[0;34m(\u001b[0m\u001b[0mprompt_messages\u001b[0m\u001b[0;34m,\u001b[0m \u001b[0mstop\u001b[0m\u001b[0;34m=\u001b[0m\u001b[0mstop\u001b[0m\u001b[0;34m,\u001b[0m \u001b[0mcallbacks\u001b[0m\u001b[0;34m=\u001b[0m\u001b[0mcallbacks\u001b[0m\u001b[0;34m,\u001b[0m \u001b[0;34m**\u001b[0m\u001b[0mkwargs\u001b[0m\u001b[0;34m)\u001b[0m\u001b[0;34m\u001b[0m\u001b[0;34m\u001b[0m\u001b[0m\n\u001b[0m\u001b[1;32m    787\u001b[0m \u001b[0;34m\u001b[0m\u001b[0m\n\u001b[1;32m    788\u001b[0m     async def agenerate_prompt(\n",
            "\u001b[0;32m/usr/local/lib/python3.10/dist-packages/langchain_core/language_models/chat_models.py\u001b[0m in \u001b[0;36mgenerate\u001b[0;34m(self, messages, stop, callbacks, tags, metadata, run_name, run_id, **kwargs)\u001b[0m\n\u001b[1;32m    641\u001b[0m                 \u001b[0;32mif\u001b[0m \u001b[0mrun_managers\u001b[0m\u001b[0;34m:\u001b[0m\u001b[0;34m\u001b[0m\u001b[0;34m\u001b[0m\u001b[0m\n\u001b[1;32m    642\u001b[0m                     \u001b[0mrun_managers\u001b[0m\u001b[0;34m[\u001b[0m\u001b[0mi\u001b[0m\u001b[0;34m]\u001b[0m\u001b[0;34m.\u001b[0m\u001b[0mon_llm_error\u001b[0m\u001b[0;34m(\u001b[0m\u001b[0me\u001b[0m\u001b[0;34m,\u001b[0m \u001b[0mresponse\u001b[0m\u001b[0;34m=\u001b[0m\u001b[0mLLMResult\u001b[0m\u001b[0;34m(\u001b[0m\u001b[0mgenerations\u001b[0m\u001b[0;34m=\u001b[0m\u001b[0;34m[\u001b[0m\u001b[0;34m]\u001b[0m\u001b[0;34m)\u001b[0m\u001b[0;34m)\u001b[0m\u001b[0;34m\u001b[0m\u001b[0;34m\u001b[0m\u001b[0m\n\u001b[0;32m--> 643\u001b[0;31m                 \u001b[0;32mraise\u001b[0m \u001b[0me\u001b[0m\u001b[0;34m\u001b[0m\u001b[0;34m\u001b[0m\u001b[0m\n\u001b[0m\u001b[1;32m    644\u001b[0m         flattened_outputs = [\n\u001b[1;32m    645\u001b[0m             \u001b[0mLLMResult\u001b[0m\u001b[0;34m(\u001b[0m\u001b[0mgenerations\u001b[0m\u001b[0;34m=\u001b[0m\u001b[0;34m[\u001b[0m\u001b[0mres\u001b[0m\u001b[0;34m.\u001b[0m\u001b[0mgenerations\u001b[0m\u001b[0;34m]\u001b[0m\u001b[0;34m,\u001b[0m \u001b[0mllm_output\u001b[0m\u001b[0;34m=\u001b[0m\u001b[0mres\u001b[0m\u001b[0;34m.\u001b[0m\u001b[0mllm_output\u001b[0m\u001b[0;34m)\u001b[0m  \u001b[0;31m# type: ignore[list-item]\u001b[0m\u001b[0;34m\u001b[0m\u001b[0;34m\u001b[0m\u001b[0m\n",
            "\u001b[0;32m/usr/local/lib/python3.10/dist-packages/langchain_core/language_models/chat_models.py\u001b[0m in \u001b[0;36mgenerate\u001b[0;34m(self, messages, stop, callbacks, tags, metadata, run_name, run_id, **kwargs)\u001b[0m\n\u001b[1;32m    631\u001b[0m             \u001b[0;32mtry\u001b[0m\u001b[0;34m:\u001b[0m\u001b[0;34m\u001b[0m\u001b[0;34m\u001b[0m\u001b[0m\n\u001b[1;32m    632\u001b[0m                 results.append(\n\u001b[0;32m--> 633\u001b[0;31m                     self._generate_with_cache(\n\u001b[0m\u001b[1;32m    634\u001b[0m                         \u001b[0mm\u001b[0m\u001b[0;34m,\u001b[0m\u001b[0;34m\u001b[0m\u001b[0;34m\u001b[0m\u001b[0m\n\u001b[1;32m    635\u001b[0m                         \u001b[0mstop\u001b[0m\u001b[0;34m=\u001b[0m\u001b[0mstop\u001b[0m\u001b[0;34m,\u001b[0m\u001b[0;34m\u001b[0m\u001b[0;34m\u001b[0m\u001b[0m\n",
            "\u001b[0;32m/usr/local/lib/python3.10/dist-packages/langchain_core/language_models/chat_models.py\u001b[0m in \u001b[0;36m_generate_with_cache\u001b[0;34m(self, messages, stop, run_manager, **kwargs)\u001b[0m\n\u001b[1;32m    849\u001b[0m         \u001b[0;32melse\u001b[0m\u001b[0;34m:\u001b[0m\u001b[0;34m\u001b[0m\u001b[0;34m\u001b[0m\u001b[0m\n\u001b[1;32m    850\u001b[0m             \u001b[0;32mif\u001b[0m \u001b[0minspect\u001b[0m\u001b[0;34m.\u001b[0m\u001b[0msignature\u001b[0m\u001b[0;34m(\u001b[0m\u001b[0mself\u001b[0m\u001b[0;34m.\u001b[0m\u001b[0m_generate\u001b[0m\u001b[0;34m)\u001b[0m\u001b[0;34m.\u001b[0m\u001b[0mparameters\u001b[0m\u001b[0;34m.\u001b[0m\u001b[0mget\u001b[0m\u001b[0;34m(\u001b[0m\u001b[0;34m\"run_manager\"\u001b[0m\u001b[0;34m)\u001b[0m\u001b[0;34m:\u001b[0m\u001b[0;34m\u001b[0m\u001b[0;34m\u001b[0m\u001b[0m\n\u001b[0;32m--> 851\u001b[0;31m                 result = self._generate(\n\u001b[0m\u001b[1;32m    852\u001b[0m                     \u001b[0mmessages\u001b[0m\u001b[0;34m,\u001b[0m \u001b[0mstop\u001b[0m\u001b[0;34m=\u001b[0m\u001b[0mstop\u001b[0m\u001b[0;34m,\u001b[0m \u001b[0mrun_manager\u001b[0m\u001b[0;34m=\u001b[0m\u001b[0mrun_manager\u001b[0m\u001b[0;34m,\u001b[0m \u001b[0;34m**\u001b[0m\u001b[0mkwargs\u001b[0m\u001b[0;34m\u001b[0m\u001b[0;34m\u001b[0m\u001b[0m\n\u001b[1;32m    853\u001b[0m                 )\n",
            "\u001b[0;32m/usr/local/lib/python3.10/dist-packages/langchain_groq/chat_models.py\u001b[0m in \u001b[0;36m_generate\u001b[0;34m(self, messages, stop, run_manager, **kwargs)\u001b[0m\n\u001b[1;32m    472\u001b[0m             \u001b[0;34m**\u001b[0m\u001b[0mkwargs\u001b[0m\u001b[0;34m,\u001b[0m\u001b[0;34m\u001b[0m\u001b[0;34m\u001b[0m\u001b[0m\n\u001b[1;32m    473\u001b[0m         }\n\u001b[0;32m--> 474\u001b[0;31m         \u001b[0mresponse\u001b[0m \u001b[0;34m=\u001b[0m \u001b[0mself\u001b[0m\u001b[0;34m.\u001b[0m\u001b[0mclient\u001b[0m\u001b[0;34m.\u001b[0m\u001b[0mcreate\u001b[0m\u001b[0;34m(\u001b[0m\u001b[0mmessages\u001b[0m\u001b[0;34m=\u001b[0m\u001b[0mmessage_dicts\u001b[0m\u001b[0;34m,\u001b[0m \u001b[0;34m**\u001b[0m\u001b[0mparams\u001b[0m\u001b[0;34m)\u001b[0m\u001b[0;34m\u001b[0m\u001b[0;34m\u001b[0m\u001b[0m\n\u001b[0m\u001b[1;32m    475\u001b[0m         \u001b[0;32mreturn\u001b[0m \u001b[0mself\u001b[0m\u001b[0;34m.\u001b[0m\u001b[0m_create_chat_result\u001b[0m\u001b[0;34m(\u001b[0m\u001b[0mresponse\u001b[0m\u001b[0;34m)\u001b[0m\u001b[0;34m\u001b[0m\u001b[0;34m\u001b[0m\u001b[0m\n\u001b[1;32m    476\u001b[0m \u001b[0;34m\u001b[0m\u001b[0m\n",
            "\u001b[0;32m/usr/local/lib/python3.10/dist-packages/groq/resources/chat/completions.py\u001b[0m in \u001b[0;36mcreate\u001b[0;34m(self, messages, model, frequency_penalty, function_call, functions, logit_bias, logprobs, max_tokens, n, parallel_tool_calls, presence_penalty, response_format, seed, stop, stream, temperature, tool_choice, tools, top_logprobs, top_p, user, extra_headers, extra_query, extra_body, timeout)\u001b[0m\n\u001b[1;32m    296\u001b[0m           \u001b[0mtimeout\u001b[0m\u001b[0;34m:\u001b[0m \u001b[0mOverride\u001b[0m \u001b[0mthe\u001b[0m \u001b[0mclient\u001b[0m\u001b[0;34m-\u001b[0m\u001b[0mlevel\u001b[0m \u001b[0mdefault\u001b[0m \u001b[0mtimeout\u001b[0m \u001b[0;32mfor\u001b[0m \u001b[0mthis\u001b[0m \u001b[0mrequest\u001b[0m\u001b[0;34m,\u001b[0m \u001b[0;32min\u001b[0m \u001b[0mseconds\u001b[0m\u001b[0;34m\u001b[0m\u001b[0;34m\u001b[0m\u001b[0m\n\u001b[1;32m    297\u001b[0m         \"\"\"\n\u001b[0;32m--> 298\u001b[0;31m         return self._post(\n\u001b[0m\u001b[1;32m    299\u001b[0m             \u001b[0;34m\"/openai/v1/chat/completions\"\u001b[0m\u001b[0;34m,\u001b[0m\u001b[0;34m\u001b[0m\u001b[0;34m\u001b[0m\u001b[0m\n\u001b[1;32m    300\u001b[0m             body=maybe_transform(\n",
            "\u001b[0;32m/usr/local/lib/python3.10/dist-packages/groq/_base_client.py\u001b[0m in \u001b[0;36mpost\u001b[0;34m(self, path, cast_to, body, options, files, stream, stream_cls)\u001b[0m\n\u001b[1;32m   1261\u001b[0m             \u001b[0mmethod\u001b[0m\u001b[0;34m=\u001b[0m\u001b[0;34m\"post\"\u001b[0m\u001b[0;34m,\u001b[0m \u001b[0murl\u001b[0m\u001b[0;34m=\u001b[0m\u001b[0mpath\u001b[0m\u001b[0;34m,\u001b[0m \u001b[0mjson_data\u001b[0m\u001b[0;34m=\u001b[0m\u001b[0mbody\u001b[0m\u001b[0;34m,\u001b[0m \u001b[0mfiles\u001b[0m\u001b[0;34m=\u001b[0m\u001b[0mto_httpx_files\u001b[0m\u001b[0;34m(\u001b[0m\u001b[0mfiles\u001b[0m\u001b[0;34m)\u001b[0m\u001b[0;34m,\u001b[0m \u001b[0;34m**\u001b[0m\u001b[0moptions\u001b[0m\u001b[0;34m\u001b[0m\u001b[0;34m\u001b[0m\u001b[0m\n\u001b[1;32m   1262\u001b[0m         )\n\u001b[0;32m-> 1263\u001b[0;31m         \u001b[0;32mreturn\u001b[0m \u001b[0mcast\u001b[0m\u001b[0;34m(\u001b[0m\u001b[0mResponseT\u001b[0m\u001b[0;34m,\u001b[0m \u001b[0mself\u001b[0m\u001b[0;34m.\u001b[0m\u001b[0mrequest\u001b[0m\u001b[0;34m(\u001b[0m\u001b[0mcast_to\u001b[0m\u001b[0;34m,\u001b[0m \u001b[0mopts\u001b[0m\u001b[0;34m,\u001b[0m \u001b[0mstream\u001b[0m\u001b[0;34m=\u001b[0m\u001b[0mstream\u001b[0m\u001b[0;34m,\u001b[0m \u001b[0mstream_cls\u001b[0m\u001b[0;34m=\u001b[0m\u001b[0mstream_cls\u001b[0m\u001b[0;34m)\u001b[0m\u001b[0;34m)\u001b[0m\u001b[0;34m\u001b[0m\u001b[0;34m\u001b[0m\u001b[0m\n\u001b[0m\u001b[1;32m   1264\u001b[0m \u001b[0;34m\u001b[0m\u001b[0m\n\u001b[1;32m   1265\u001b[0m     def patch(\n",
            "\u001b[0;32m/usr/local/lib/python3.10/dist-packages/groq/_base_client.py\u001b[0m in \u001b[0;36mrequest\u001b[0;34m(self, cast_to, options, remaining_retries, stream, stream_cls)\u001b[0m\n\u001b[1;32m    953\u001b[0m             \u001b[0mretries_taken\u001b[0m \u001b[0;34m=\u001b[0m \u001b[0;36m0\u001b[0m\u001b[0;34m\u001b[0m\u001b[0;34m\u001b[0m\u001b[0m\n\u001b[1;32m    954\u001b[0m \u001b[0;34m\u001b[0m\u001b[0m\n\u001b[0;32m--> 955\u001b[0;31m         return self._request(\n\u001b[0m\u001b[1;32m    956\u001b[0m             \u001b[0mcast_to\u001b[0m\u001b[0;34m=\u001b[0m\u001b[0mcast_to\u001b[0m\u001b[0;34m,\u001b[0m\u001b[0;34m\u001b[0m\u001b[0;34m\u001b[0m\u001b[0m\n\u001b[1;32m    957\u001b[0m             \u001b[0moptions\u001b[0m\u001b[0;34m=\u001b[0m\u001b[0moptions\u001b[0m\u001b[0;34m,\u001b[0m\u001b[0;34m\u001b[0m\u001b[0;34m\u001b[0m\u001b[0m\n",
            "\u001b[0;32m/usr/local/lib/python3.10/dist-packages/groq/_base_client.py\u001b[0m in \u001b[0;36m_request\u001b[0;34m(self, cast_to, options, retries_taken, stream, stream_cls)\u001b[0m\n\u001b[1;32m   1041\u001b[0m             \u001b[0;32mif\u001b[0m \u001b[0mremaining_retries\u001b[0m \u001b[0;34m>\u001b[0m \u001b[0;36m0\u001b[0m \u001b[0;32mand\u001b[0m \u001b[0mself\u001b[0m\u001b[0;34m.\u001b[0m\u001b[0m_should_retry\u001b[0m\u001b[0;34m(\u001b[0m\u001b[0merr\u001b[0m\u001b[0;34m.\u001b[0m\u001b[0mresponse\u001b[0m\u001b[0;34m)\u001b[0m\u001b[0;34m:\u001b[0m\u001b[0;34m\u001b[0m\u001b[0;34m\u001b[0m\u001b[0m\n\u001b[1;32m   1042\u001b[0m                 \u001b[0merr\u001b[0m\u001b[0;34m.\u001b[0m\u001b[0mresponse\u001b[0m\u001b[0;34m.\u001b[0m\u001b[0mclose\u001b[0m\u001b[0;34m(\u001b[0m\u001b[0;34m)\u001b[0m\u001b[0;34m\u001b[0m\u001b[0;34m\u001b[0m\u001b[0m\n\u001b[0;32m-> 1043\u001b[0;31m                 return self._retry_request(\n\u001b[0m\u001b[1;32m   1044\u001b[0m                     \u001b[0minput_options\u001b[0m\u001b[0;34m,\u001b[0m\u001b[0;34m\u001b[0m\u001b[0;34m\u001b[0m\u001b[0m\n\u001b[1;32m   1045\u001b[0m                     \u001b[0mcast_to\u001b[0m\u001b[0;34m,\u001b[0m\u001b[0;34m\u001b[0m\u001b[0;34m\u001b[0m\u001b[0m\n",
            "\u001b[0;32m/usr/local/lib/python3.10/dist-packages/groq/_base_client.py\u001b[0m in \u001b[0;36m_retry_request\u001b[0;34m(self, options, cast_to, retries_taken, response_headers, stream, stream_cls)\u001b[0m\n\u001b[1;32m   1088\u001b[0m         \u001b[0;31m# In a synchronous context we are blocking the entire thread. Up to the library user to run the client in a\u001b[0m\u001b[0;34m\u001b[0m\u001b[0;34m\u001b[0m\u001b[0m\n\u001b[1;32m   1089\u001b[0m         \u001b[0;31m# different thread if necessary.\u001b[0m\u001b[0;34m\u001b[0m\u001b[0;34m\u001b[0m\u001b[0m\n\u001b[0;32m-> 1090\u001b[0;31m         \u001b[0mtime\u001b[0m\u001b[0;34m.\u001b[0m\u001b[0msleep\u001b[0m\u001b[0;34m(\u001b[0m\u001b[0mtimeout\u001b[0m\u001b[0;34m)\u001b[0m\u001b[0;34m\u001b[0m\u001b[0;34m\u001b[0m\u001b[0m\n\u001b[0m\u001b[1;32m   1091\u001b[0m \u001b[0;34m\u001b[0m\u001b[0m\n\u001b[1;32m   1092\u001b[0m         return self._request(\n",
            "\u001b[0;31mKeyboardInterrupt\u001b[0m: "
          ]
        }
      ]
    },
    {
      "cell_type": "markdown",
      "metadata": {
        "id": "fPQI0arPvLuw"
      },
      "source": [
        "**Conclusion**: To be filled in"
      ]
    },
    {
      "cell_type": "markdown",
      "metadata": {
        "id": "goL7fLxZFicO"
      },
      "source": []
    }
  ],
  "metadata": {
    "colab": {
      "provenance": [],
      "gpuType": "T4"
    },
    "language_info": {
      "name": "python"
    },
    "kernelspec": {
      "name": "python3",
      "display_name": "Python 3"
    },
    "accelerator": "GPU"
  },
  "nbformat": 4,
  "nbformat_minor": 0
}