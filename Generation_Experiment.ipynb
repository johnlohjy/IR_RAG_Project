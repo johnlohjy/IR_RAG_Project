{
  "cells": [
    {
      "cell_type": "markdown",
      "metadata": {
        "id": "NpN7djOVwluU"
      },
      "source": [
        "# **Generation Experiment**"
      ]
    },
    {
      "cell_type": "code",
      "execution_count": 1,
      "metadata": {
        "colab": {
          "base_uri": "https://localhost:8080/"
        },
        "id": "3nBwytexAOMi",
        "outputId": "123dc258-8829-4c86-c72e-4bad830338e9"
      },
      "outputs": [
        {
          "output_type": "stream",
          "name": "stdout",
          "text": [
            "\u001b[2K     \u001b[90m━━━━━━━━━━━━━━━━━━━━━━━━━━━━━━━━━━━━━━━━\u001b[0m \u001b[32m43.5/43.5 kB\u001b[0m \u001b[31m2.5 MB/s\u001b[0m eta \u001b[36m0:00:00\u001b[0m\n",
            "\u001b[2K     \u001b[90m━━━━━━━━━━━━━━━━━━━━━━━━━━━━━━━━━━━━━━━━\u001b[0m \u001b[32m67.3/67.3 kB\u001b[0m \u001b[31m4.8 MB/s\u001b[0m eta \u001b[36m0:00:00\u001b[0m\n",
            "\u001b[?25h  Installing build dependencies ... \u001b[?25l\u001b[?25hdone\n",
            "  Getting requirements to build wheel ... \u001b[?25l\u001b[?25hdone\n",
            "  Preparing metadata (pyproject.toml) ... \u001b[?25l\u001b[?25hdone\n",
            "\u001b[2K   \u001b[90m━━━━━━━━━━━━━━━━━━━━━━━━━━━━━━━━━━━━━━━━\u001b[0m \u001b[32m69.1/69.1 MB\u001b[0m \u001b[31m10.9 MB/s\u001b[0m eta \u001b[36m0:00:00\u001b[0m\n",
            "\u001b[2K   \u001b[90m━━━━━━━━━━━━━━━━━━━━━━━━━━━━━━━━━━━━━━━━\u001b[0m \u001b[32m1.0/1.0 MB\u001b[0m \u001b[31m55.7 MB/s\u001b[0m eta \u001b[36m0:00:00\u001b[0m\n",
            "\u001b[2K   \u001b[90m━━━━━━━━━━━━━━━━━━━━━━━━━━━━━━━━━━━━━━━━\u001b[0m \u001b[32m2.4/2.4 MB\u001b[0m \u001b[31m80.9 MB/s\u001b[0m eta \u001b[36m0:00:00\u001b[0m\n",
            "\u001b[2K   \u001b[90m━━━━━━━━━━━━━━━━━━━━━━━━━━━━━━━━━━━━━━━━\u001b[0m \u001b[32m10.1/10.1 MB\u001b[0m \u001b[31m115.0 MB/s\u001b[0m eta \u001b[36m0:00:00\u001b[0m\n",
            "\u001b[2K   \u001b[90m━━━━━━━━━━━━━━━━━━━━━━━━━━━━━━━━━━━━━━━━\u001b[0m \u001b[32m85.5/85.5 MB\u001b[0m \u001b[31m9.3 MB/s\u001b[0m eta \u001b[36m0:00:00\u001b[0m\n",
            "\u001b[2K   \u001b[90m━━━━━━━━━━━━━━━━━━━━━━━━━━━━━━━━━━━━━━━━\u001b[0m \u001b[32m111.0/111.0 kB\u001b[0m \u001b[31m10.9 MB/s\u001b[0m eta \u001b[36m0:00:00\u001b[0m\n",
            "\u001b[2K   \u001b[90m━━━━━━━━━━━━━━━━━━━━━━━━━━━━━━━━━━━━━━━━\u001b[0m \u001b[32m267.2/267.2 kB\u001b[0m \u001b[31m26.0 MB/s\u001b[0m eta \u001b[36m0:00:00\u001b[0m\n",
            "\u001b[2K   \u001b[90m━━━━━━━━━━━━━━━━━━━━━━━━━━━━━━━━━━━━━━━━\u001b[0m \u001b[32m163.2/163.2 kB\u001b[0m \u001b[31m16.2 MB/s\u001b[0m eta \u001b[36m0:00:00\u001b[0m\n",
            "\u001b[2K   \u001b[90m━━━━━━━━━━━━━━━━━━━━━━━━━━━━━━━━━━━━━━━━\u001b[0m \u001b[32m617.9/617.9 kB\u001b[0m \u001b[31m40.8 MB/s\u001b[0m eta \u001b[36m0:00:00\u001b[0m\n",
            "\u001b[2K   \u001b[90m━━━━━━━━━━━━━━━━━━━━━━━━━━━━━━━━━━━━━━━━\u001b[0m \u001b[32m2.4/2.4 MB\u001b[0m \u001b[31m82.6 MB/s\u001b[0m eta \u001b[36m0:00:00\u001b[0m\n",
            "\u001b[2K   \u001b[90m━━━━━━━━━━━━━━━━━━━━━━━━━━━━━━━━━━━━━━━━\u001b[0m \u001b[32m94.8/94.8 kB\u001b[0m \u001b[31m9.0 MB/s\u001b[0m eta \u001b[36m0:00:00\u001b[0m\n",
            "\u001b[2K   \u001b[90m━━━━━━━━━━━━━━━━━━━━━━━━━━━━━━━━━━━━━━━━\u001b[0m \u001b[32m108.8/108.8 kB\u001b[0m \u001b[31m10.2 MB/s\u001b[0m eta \u001b[36m0:00:00\u001b[0m\n",
            "\u001b[2K   \u001b[90m━━━━━━━━━━━━━━━━━━━━━━━━━━━━━━━━━━━━━━━━\u001b[0m \u001b[32m2.4/2.4 MB\u001b[0m \u001b[31m90.0 MB/s\u001b[0m eta \u001b[36m0:00:00\u001b[0m\n",
            "\u001b[2K   \u001b[90m━━━━━━━━━━━━━━━━━━━━━━━━━━━━━━━━━━━━━━━━\u001b[0m \u001b[32m409.7/409.7 kB\u001b[0m \u001b[31m28.5 MB/s\u001b[0m eta \u001b[36m0:00:00\u001b[0m\n",
            "\u001b[2K   \u001b[90m━━━━━━━━━━━━━━━━━━━━━━━━━━━━━━━━━━━━━━━━\u001b[0m \u001b[32m71.1/71.1 kB\u001b[0m \u001b[31m6.8 MB/s\u001b[0m eta \u001b[36m0:00:00\u001b[0m\n",
            "\u001b[2K   \u001b[90m━━━━━━━━━━━━━━━━━━━━━━━━━━━━━━━━━━━━━━━━\u001b[0m \u001b[32m3.0/3.0 MB\u001b[0m \u001b[31m84.1 MB/s\u001b[0m eta \u001b[36m0:00:00\u001b[0m\n",
            "\u001b[2K   \u001b[90m━━━━━━━━━━━━━━━━━━━━━━━━━━━━━━━━━━━━━━━━\u001b[0m \u001b[32m480.6/480.6 kB\u001b[0m \u001b[31m37.1 MB/s\u001b[0m eta \u001b[36m0:00:00\u001b[0m\n",
            "\u001b[2K   \u001b[90m━━━━━━━━━━━━━━━━━━━━━━━━━━━━━━━━━━━━━━━━\u001b[0m \u001b[32m50.7/50.7 kB\u001b[0m \u001b[31m4.7 MB/s\u001b[0m eta \u001b[36m0:00:00\u001b[0m\n",
            "\u001b[2K   \u001b[90m━━━━━━━━━━━━━━━━━━━━━━━━━━━━━━━━━━━━━━━━\u001b[0m \u001b[32m1.2/1.2 MB\u001b[0m \u001b[31m64.4 MB/s\u001b[0m eta \u001b[36m0:00:00\u001b[0m\n",
            "\u001b[2K   \u001b[90m━━━━━━━━━━━━━━━━━━━━━━━━━━━━━━━━━━━━━━━━\u001b[0m \u001b[32m278.6/278.6 kB\u001b[0m \u001b[31m23.7 MB/s\u001b[0m eta \u001b[36m0:00:00\u001b[0m\n",
            "\u001b[2K   \u001b[90m━━━━━━━━━━━━━━━━━━━━━━━━━━━━━━━━━━━━━━━━\u001b[0m \u001b[32m116.3/116.3 kB\u001b[0m \u001b[31m11.6 MB/s\u001b[0m eta \u001b[36m0:00:00\u001b[0m\n",
            "\u001b[2K   \u001b[90m━━━━━━━━━━━━━━━━━━━━━━━━━━━━━━━━━━━━━━━━\u001b[0m \u001b[32m179.3/179.3 kB\u001b[0m \u001b[31m16.8 MB/s\u001b[0m eta \u001b[36m0:00:00\u001b[0m\n",
            "\u001b[2K   \u001b[90m━━━━━━━━━━━━━━━━━━━━━━━━━━━━━━━━━━━━━━━━\u001b[0m \u001b[32m57.5/57.5 kB\u001b[0m \u001b[31m5.2 MB/s\u001b[0m eta \u001b[36m0:00:00\u001b[0m\n",
            "\u001b[2K   \u001b[90m━━━━━━━━━━━━━━━━━━━━━━━━━━━━━━━━━━━━━━━━\u001b[0m \u001b[32m1.9/1.9 MB\u001b[0m \u001b[31m78.8 MB/s\u001b[0m eta \u001b[36m0:00:00\u001b[0m\n",
            "\u001b[2K   \u001b[90m━━━━━━━━━━━━━━━━━━━━━━━━━━━━━━━━━━━━━━━━\u001b[0m \u001b[32m49.5/49.5 kB\u001b[0m \u001b[31m4.0 MB/s\u001b[0m eta \u001b[36m0:00:00\u001b[0m\n",
            "\u001b[2K   \u001b[90m━━━━━━━━━━━━━━━━━━━━━━━━━━━━━━━━━━━━━━━━\u001b[0m \u001b[32m93.2/93.2 kB\u001b[0m \u001b[31m9.0 MB/s\u001b[0m eta \u001b[36m0:00:00\u001b[0m\n",
            "\u001b[2K   \u001b[90m━━━━━━━━━━━━━━━━━━━━━━━━━━━━━━━━━━━━━━━━\u001b[0m \u001b[32m134.8/134.8 kB\u001b[0m \u001b[31m12.7 MB/s\u001b[0m eta \u001b[36m0:00:00\u001b[0m\n",
            "\u001b[2K   \u001b[90m━━━━━━━━━━━━━━━━━━━━━━━━━━━━━━━━━━━━━━━━\u001b[0m \u001b[32m13.3/13.3 MB\u001b[0m \u001b[31m110.1 MB/s\u001b[0m eta \u001b[36m0:00:00\u001b[0m\n",
            "\u001b[2K   \u001b[90m━━━━━━━━━━━━━━━━━━━━━━━━━━━━━━━━━━━━━━━━\u001b[0m \u001b[32m55.8/55.8 kB\u001b[0m \u001b[31m5.3 MB/s\u001b[0m eta \u001b[36m0:00:00\u001b[0m\n",
            "\u001b[2K   \u001b[90m━━━━━━━━━━━━━━━━━━━━━━━━━━━━━━━━━━━━━━━━\u001b[0m \u001b[32m54.8/54.8 kB\u001b[0m \u001b[31m5.0 MB/s\u001b[0m eta \u001b[36m0:00:00\u001b[0m\n",
            "\u001b[2K   \u001b[90m━━━━━━━━━━━━━━━━━━━━━━━━━━━━━━━━━━━━━━━━\u001b[0m \u001b[32m319.7/319.7 kB\u001b[0m \u001b[31m24.7 MB/s\u001b[0m eta \u001b[36m0:00:00\u001b[0m\n",
            "\u001b[2K   \u001b[90m━━━━━━━━━━━━━━━━━━━━━━━━━━━━━━━━━━━━━━━━\u001b[0m \u001b[32m73.2/73.2 kB\u001b[0m \u001b[31m7.0 MB/s\u001b[0m eta \u001b[36m0:00:00\u001b[0m\n",
            "\u001b[2K   \u001b[90m━━━━━━━━━━━━━━━━━━━━━━━━━━━━━━━━━━━━━━━━\u001b[0m \u001b[32m63.8/63.8 kB\u001b[0m \u001b[31m6.0 MB/s\u001b[0m eta \u001b[36m0:00:00\u001b[0m\n",
            "\u001b[2K   \u001b[90m━━━━━━━━━━━━━━━━━━━━━━━━━━━━━━━━━━━━━━━━\u001b[0m \u001b[32m194.1/194.1 kB\u001b[0m \u001b[31m18.8 MB/s\u001b[0m eta \u001b[36m0:00:00\u001b[0m\n",
            "\u001b[2K   \u001b[90m━━━━━━━━━━━━━━━━━━━━━━━━━━━━━━━━━━━━━━━━\u001b[0m \u001b[32m442.1/442.1 kB\u001b[0m \u001b[31m33.2 MB/s\u001b[0m eta \u001b[36m0:00:00\u001b[0m\n",
            "\u001b[2K   \u001b[90m━━━━━━━━━━━━━━━━━━━━━━━━━━━━━━━━━━━━━━━━\u001b[0m \u001b[32m3.8/3.8 MB\u001b[0m \u001b[31m77.9 MB/s\u001b[0m eta \u001b[36m0:00:00\u001b[0m\n",
            "\u001b[2K   \u001b[90m━━━━━━━━━━━━━━━━━━━━━━━━━━━━━━━━━━━━━━━━\u001b[0m \u001b[32m442.6/442.6 kB\u001b[0m \u001b[31m36.5 MB/s\u001b[0m eta \u001b[36m0:00:00\u001b[0m\n",
            "\u001b[2K   \u001b[90m━━━━━━━━━━━━━━━━━━━━━━━━━━━━━━━━━━━━━━━━\u001b[0m \u001b[32m168.2/168.2 kB\u001b[0m \u001b[31m16.6 MB/s\u001b[0m eta \u001b[36m0:00:00\u001b[0m\n",
            "\u001b[2K   \u001b[90m━━━━━━━━━━━━━━━━━━━━━━━━━━━━━━━━━━━━━━━━\u001b[0m \u001b[32m46.0/46.0 kB\u001b[0m \u001b[31m4.0 MB/s\u001b[0m eta \u001b[36m0:00:00\u001b[0m\n",
            "\u001b[2K   \u001b[90m━━━━━━━━━━━━━━━━━━━━━━━━━━━━━━━━━━━━━━━━\u001b[0m \u001b[32m86.8/86.8 kB\u001b[0m \u001b[31m7.8 MB/s\u001b[0m eta \u001b[36m0:00:00\u001b[0m\n",
            "\u001b[?25h  Building wheel for pypika (pyproject.toml) ... \u001b[?25l\u001b[?25hdone\n",
            "\u001b[31mERROR: pip's dependency resolver does not currently take into account all the packages that are installed. This behaviour is the source of the following dependency conflicts.\n",
            "gcsfs 2024.10.0 requires fsspec==2024.10.0, but you have fsspec 2024.9.0 which is incompatible.\n",
            "tensorflow 2.17.1 requires protobuf!=4.21.0,!=4.21.1,!=4.21.2,!=4.21.3,!=4.21.4,!=4.21.5,<5.0.0dev,>=3.20.3, but you have protobuf 5.29.1 which is incompatible.\n",
            "tensorflow-metadata 1.13.1 requires protobuf<5,>=3.20.3, but you have protobuf 5.29.1 which is incompatible.\u001b[0m\u001b[31m\n",
            "\u001b[0m"
          ]
        }
      ],
      "source": [
        "%pip install --quiet --upgrade bitsandbytes langchain langchain-community langchain-huggingface transformers beautifulsoup4 faiss-gpu rank_bm25 lark qdrant-client langchain-chroma langchain_groq ragas"
      ]
    },
    {
      "cell_type": "code",
      "execution_count": 2,
      "metadata": {
        "id": "FBUuQT4-i8rr"
      },
      "outputs": [],
      "source": [
        "from langchain_core.documents import Document\n",
        "from langchain.chains.query_constructor.base import AttributeInfo\n",
        "import torch\n",
        "from langchain_huggingface.llms import HuggingFacePipeline\n",
        "from transformers import AutoModelForCausalLM, AutoTokenizer, pipeline\n",
        "from transformers import BitsAndBytesConfig\n",
        "from langchain_core.output_parsers import StrOutputParser\n",
        "import re\n",
        "from langchain_huggingface import HuggingFaceEmbeddings\n",
        "from langchain_community.vectorstores import FAISS\n",
        "import faiss\n",
        "from langchain_community.docstore.in_memory import InMemoryDocstore\n",
        "from langchain.storage import InMemoryStore\n",
        "from operator import itemgetter\n",
        "from langchain import hub\n",
        "from langchain_core.runnables import RunnablePassthrough, RunnableLambda\n",
        "from langchain.retrievers import EnsembleRetriever # Supports Ensembling of results from multiple retrievers\n",
        "from langchain_community.retrievers import BM25Retriever\n",
        "from pydantic import BaseModel, Field\n",
        "from typing import List\n",
        "from langchain_text_splitters import RecursiveCharacterTextSplitter\n",
        "from google.colab import userdata\n",
        "from langchain import PromptTemplate\n",
        "import nltk\n",
        "from nltk.corpus import stopwords\n",
        "import re\n",
        "import pandas as pd\n",
        "import os\n",
        "import json\n",
        "from google.colab import files\n",
        "import time\n",
        "from langchain_groq import ChatGroq\n",
        "from langchain.retrievers import ParentDocumentRetriever\n",
        "from langchain_community.cross_encoders import HuggingFaceCrossEncoder\n",
        "from sentence_transformers import CrossEncoder\n",
        "from langchain.callbacks.manager import CallbackManagerForRetrieverRun\n",
        "from ragas import SingleTurnSample\n",
        "from ragas.metrics import ResponseRelevancy, LLMContextRecall\n",
        "from ragas.llms import LangchainLLMWrapper"
      ]
    },
    {
      "cell_type": "markdown",
      "source": [
        "## **User Action Required**\n",
        "\n",
        "1. Run the code below to create the ```data``` folder\n",
        "\n",
        "2. Choose to upload the following files\n",
        "- ```iceland_articles.csv```\n",
        "- ```finland_articles.csv```\n",
        "- ```sweden_articles.csv```"
      ],
      "metadata": {
        "id": "M-qQ2aJLCFL3"
      }
    },
    {
      "cell_type": "code",
      "source": [
        "data_folder = os.path.join(os.getcwd(), 'data')\n",
        "os.makedirs(data_folder, exist_ok=True)"
      ],
      "metadata": {
        "id": "utnhqnc6CG46"
      },
      "execution_count": 3,
      "outputs": []
    },
    {
      "cell_type": "code",
      "source": [
        "uploaded_files = files.upload()"
      ],
      "metadata": {
        "colab": {
          "base_uri": "https://localhost:8080/",
          "height": 142
        },
        "id": "W52bvebjCHOg",
        "outputId": "1c15da1a-5144-4d34-ee2d-062f6298f2ae"
      },
      "execution_count": 4,
      "outputs": [
        {
          "output_type": "display_data",
          "data": {
            "text/plain": [
              "<IPython.core.display.HTML object>"
            ],
            "text/html": [
              "\n",
              "     <input type=\"file\" id=\"files-f4cf68e1-07dd-4601-aea1-564fd75cd5c3\" name=\"files[]\" multiple disabled\n",
              "        style=\"border:none\" />\n",
              "     <output id=\"result-f4cf68e1-07dd-4601-aea1-564fd75cd5c3\">\n",
              "      Upload widget is only available when the cell has been executed in the\n",
              "      current browser session. Please rerun this cell to enable.\n",
              "      </output>\n",
              "      <script>// Copyright 2017 Google LLC\n",
              "//\n",
              "// Licensed under the Apache License, Version 2.0 (the \"License\");\n",
              "// you may not use this file except in compliance with the License.\n",
              "// You may obtain a copy of the License at\n",
              "//\n",
              "//      http://www.apache.org/licenses/LICENSE-2.0\n",
              "//\n",
              "// Unless required by applicable law or agreed to in writing, software\n",
              "// distributed under the License is distributed on an \"AS IS\" BASIS,\n",
              "// WITHOUT WARRANTIES OR CONDITIONS OF ANY KIND, either express or implied.\n",
              "// See the License for the specific language governing permissions and\n",
              "// limitations under the License.\n",
              "\n",
              "/**\n",
              " * @fileoverview Helpers for google.colab Python module.\n",
              " */\n",
              "(function(scope) {\n",
              "function span(text, styleAttributes = {}) {\n",
              "  const element = document.createElement('span');\n",
              "  element.textContent = text;\n",
              "  for (const key of Object.keys(styleAttributes)) {\n",
              "    element.style[key] = styleAttributes[key];\n",
              "  }\n",
              "  return element;\n",
              "}\n",
              "\n",
              "// Max number of bytes which will be uploaded at a time.\n",
              "const MAX_PAYLOAD_SIZE = 100 * 1024;\n",
              "\n",
              "function _uploadFiles(inputId, outputId) {\n",
              "  const steps = uploadFilesStep(inputId, outputId);\n",
              "  const outputElement = document.getElementById(outputId);\n",
              "  // Cache steps on the outputElement to make it available for the next call\n",
              "  // to uploadFilesContinue from Python.\n",
              "  outputElement.steps = steps;\n",
              "\n",
              "  return _uploadFilesContinue(outputId);\n",
              "}\n",
              "\n",
              "// This is roughly an async generator (not supported in the browser yet),\n",
              "// where there are multiple asynchronous steps and the Python side is going\n",
              "// to poll for completion of each step.\n",
              "// This uses a Promise to block the python side on completion of each step,\n",
              "// then passes the result of the previous step as the input to the next step.\n",
              "function _uploadFilesContinue(outputId) {\n",
              "  const outputElement = document.getElementById(outputId);\n",
              "  const steps = outputElement.steps;\n",
              "\n",
              "  const next = steps.next(outputElement.lastPromiseValue);\n",
              "  return Promise.resolve(next.value.promise).then((value) => {\n",
              "    // Cache the last promise value to make it available to the next\n",
              "    // step of the generator.\n",
              "    outputElement.lastPromiseValue = value;\n",
              "    return next.value.response;\n",
              "  });\n",
              "}\n",
              "\n",
              "/**\n",
              " * Generator function which is called between each async step of the upload\n",
              " * process.\n",
              " * @param {string} inputId Element ID of the input file picker element.\n",
              " * @param {string} outputId Element ID of the output display.\n",
              " * @return {!Iterable<!Object>} Iterable of next steps.\n",
              " */\n",
              "function* uploadFilesStep(inputId, outputId) {\n",
              "  const inputElement = document.getElementById(inputId);\n",
              "  inputElement.disabled = false;\n",
              "\n",
              "  const outputElement = document.getElementById(outputId);\n",
              "  outputElement.innerHTML = '';\n",
              "\n",
              "  const pickedPromise = new Promise((resolve) => {\n",
              "    inputElement.addEventListener('change', (e) => {\n",
              "      resolve(e.target.files);\n",
              "    });\n",
              "  });\n",
              "\n",
              "  const cancel = document.createElement('button');\n",
              "  inputElement.parentElement.appendChild(cancel);\n",
              "  cancel.textContent = 'Cancel upload';\n",
              "  const cancelPromise = new Promise((resolve) => {\n",
              "    cancel.onclick = () => {\n",
              "      resolve(null);\n",
              "    };\n",
              "  });\n",
              "\n",
              "  // Wait for the user to pick the files.\n",
              "  const files = yield {\n",
              "    promise: Promise.race([pickedPromise, cancelPromise]),\n",
              "    response: {\n",
              "      action: 'starting',\n",
              "    }\n",
              "  };\n",
              "\n",
              "  cancel.remove();\n",
              "\n",
              "  // Disable the input element since further picks are not allowed.\n",
              "  inputElement.disabled = true;\n",
              "\n",
              "  if (!files) {\n",
              "    return {\n",
              "      response: {\n",
              "        action: 'complete',\n",
              "      }\n",
              "    };\n",
              "  }\n",
              "\n",
              "  for (const file of files) {\n",
              "    const li = document.createElement('li');\n",
              "    li.append(span(file.name, {fontWeight: 'bold'}));\n",
              "    li.append(span(\n",
              "        `(${file.type || 'n/a'}) - ${file.size} bytes, ` +\n",
              "        `last modified: ${\n",
              "            file.lastModifiedDate ? file.lastModifiedDate.toLocaleDateString() :\n",
              "                                    'n/a'} - `));\n",
              "    const percent = span('0% done');\n",
              "    li.appendChild(percent);\n",
              "\n",
              "    outputElement.appendChild(li);\n",
              "\n",
              "    const fileDataPromise = new Promise((resolve) => {\n",
              "      const reader = new FileReader();\n",
              "      reader.onload = (e) => {\n",
              "        resolve(e.target.result);\n",
              "      };\n",
              "      reader.readAsArrayBuffer(file);\n",
              "    });\n",
              "    // Wait for the data to be ready.\n",
              "    let fileData = yield {\n",
              "      promise: fileDataPromise,\n",
              "      response: {\n",
              "        action: 'continue',\n",
              "      }\n",
              "    };\n",
              "\n",
              "    // Use a chunked sending to avoid message size limits. See b/62115660.\n",
              "    let position = 0;\n",
              "    do {\n",
              "      const length = Math.min(fileData.byteLength - position, MAX_PAYLOAD_SIZE);\n",
              "      const chunk = new Uint8Array(fileData, position, length);\n",
              "      position += length;\n",
              "\n",
              "      const base64 = btoa(String.fromCharCode.apply(null, chunk));\n",
              "      yield {\n",
              "        response: {\n",
              "          action: 'append',\n",
              "          file: file.name,\n",
              "          data: base64,\n",
              "        },\n",
              "      };\n",
              "\n",
              "      let percentDone = fileData.byteLength === 0 ?\n",
              "          100 :\n",
              "          Math.round((position / fileData.byteLength) * 100);\n",
              "      percent.textContent = `${percentDone}% done`;\n",
              "\n",
              "    } while (position < fileData.byteLength);\n",
              "  }\n",
              "\n",
              "  // All done.\n",
              "  yield {\n",
              "    response: {\n",
              "      action: 'complete',\n",
              "    }\n",
              "  };\n",
              "}\n",
              "\n",
              "scope.google = scope.google || {};\n",
              "scope.google.colab = scope.google.colab || {};\n",
              "scope.google.colab._files = {\n",
              "  _uploadFiles,\n",
              "  _uploadFilesContinue,\n",
              "};\n",
              "})(self);\n",
              "</script> "
            ]
          },
          "metadata": {}
        },
        {
          "output_type": "stream",
          "name": "stdout",
          "text": [
            "Saving sweden_articles.csv to sweden_articles.csv\n",
            "Saving iceland_articles.csv to iceland_articles.csv\n",
            "Saving finland_articles.csv to finland_articles.csv\n"
          ]
        }
      ]
    },
    {
      "cell_type": "code",
      "source": [
        "for file_name in uploaded_files.keys():\n",
        "    os.rename(file_name, os.path.join(data_folder, file_name))"
      ],
      "metadata": {
        "id": "8vBN8JfBCJVV"
      },
      "execution_count": 5,
      "outputs": []
    },
    {
      "cell_type": "markdown",
      "source": [
        "Your folder structure should now look as such:\n",
        "\n",
        "```\n",
        "data\n",
        "- iceland_articles.csv\n",
        "- finland_articles.csv\n",
        "- sweden_articles.csv\n",
        "```"
      ],
      "metadata": {
        "id": "AfCvszP4CJ4A"
      }
    },
    {
      "cell_type": "markdown",
      "source": [
        "## **Create document objects from the data and store in Docs**"
      ],
      "metadata": {
        "id": "VfVlIauhKabe"
      }
    },
    {
      "cell_type": "code",
      "source": [
        "article_names = ['finland_articles.csv', 'iceland_articles.csv', 'sweden_articles.csv']\n",
        "article_fps = [os.path.join(data_folder, article_name) for article_name in article_names]\n",
        "\n",
        "docs = []\n",
        "for article_fp in article_fps:\n",
        "  df = pd.read_csv(article_fp)\n",
        "  for _, row in df.iterrows():\n",
        "    #text = row['Title'] + \" \" + row['Content']\n",
        "    text = row['Content']\n",
        "\n",
        "    doc = Document(\n",
        "        page_content=text,\n",
        "        metadata={'country': row['Country'], 'source': row['Source'], 'link': row['Article Links']}\n",
        "    )\n",
        "\n",
        "    docs.append(doc)"
      ],
      "metadata": {
        "id": "jUDyDVgfYa74"
      },
      "execution_count": 6,
      "outputs": []
    },
    {
      "cell_type": "markdown",
      "source": [
        "## **Define Query Decomposition Chain**\n",
        "\n",
        "Decomposition is a query re-writing technique that focuses on decomposing a question into a set of subquestions.\n",
        "\n",
        "This is applicable and effective for our use case as users planning a holiday tend to string together many requests in a single query. By breaking down a large/complex queries into sub-queries ('atomic' queries), the retriever can retrieve more relevant documents to each sub-query and therefore, support the LLM in answering the whole query better"
      ],
      "metadata": {
        "id": "Z7qoHA5xueTy"
      }
    },
    {
      "cell_type": "code",
      "execution_count": 7,
      "metadata": {
        "id": "ioBgd3TcyV1D"
      },
      "outputs": [],
      "source": [
        "# Prompt Decomposition template used by the LLM to help break a question into sub questions\n",
        "\n",
        "# https://python.langchain.com/v0.1/docs/use_cases/query_analysis/techniques/decomposition/\n",
        "# https://github.com/langchain-ai/rag-from-scratch/blob/main/rag_from_scratch_5_to_9.ipynb\n",
        "decomp_template = \"\"\"You are an expert at breaking down travel-related questions into smaller, manageable sub-questions.\n",
        "You have access to a collection of documents about various travel destinations, including information on activities, accommodations, local culture, and transportation.\n",
        "\n",
        "Perform query decomposition. Given a user travel query, break it down into **distinct and independent** sub-questions that\n",
        "you need to answer in order to comprehensively address the original query.\n",
        "\n",
        "**Important:**\n",
        "1. Ensure that the sub-questions are independent of each other and do not rely on answers from other sub-questions.\n",
        "2. Cover diverse aspects of the query, ensuring that no sub-question overlaps or repeats similar information.\n",
        "3. If there are location names, abbreviations, or specific terms you are unfamiliar with, do not attempt to rephrase them or make assumptions about their meaning.\n",
        "4. Ensure your response adheres strictly to the format provided below. Do not add any additional text, explanations, or information outside of this structure.\n",
        "\n",
        "Generate sub-questions related to: {question} \\n\n",
        "\n",
        "**Output Format (3 queries only):**\n",
        "1. Sub-question 1\n",
        "2. Sub-question 2\n",
        "3. Sub-question 3\n",
        "\n",
        "Here are a few examples:\n",
        "\n",
        "---\n",
        "Question: When is the best time to go Finland and what is there to do\n",
        "\n",
        "Response:\n",
        "1. What is the climate and weather like in Finland during different times of the year?\n",
        "2. What are the popular activities and attractions to visit in Finland?\n",
        "3. Are there any cultural events or festivals in Finland that would affect the best time to visit?\n",
        "---\n",
        "\n",
        "---\n",
        "Question: Help me plan a trip to Iceland, I am adventurous and like activities such as hiking\n",
        "\n",
        "Response:\n",
        "1. What are some popular hiking trails and locations in Iceland?\n",
        "2. What is the best time of year to visit Iceland for hiking and outdoor activities?\n",
        "3. What types of accommodations are available near the hiking areas in Iceland?\n",
        "---\n",
        "\n",
        "---\n",
        "Question: How do I get around Iceland?\n",
        "\n",
        "Response:\n",
        "1. What are the different transportation options available for traveling within Iceland?\n",
        "2. How can I travel between the international airport and Reykjavik, the capital city of Iceland?\n",
        "3. Are there any notable road conditions or driving rules to be aware of when renting a car in Iceland?\n",
        "---\n",
        "\n",
        "\"\"\"\n",
        "\n",
        "decomp_prompt_template = PromptTemplate.from_template(decomp_template)"
      ]
    },
    {
      "cell_type": "code",
      "source": [
        "os.environ[\"GROQ_API_KEY\"] = userdata.get('GROQ_API_KEY')\n",
        "llm = ChatGroq()"
      ],
      "metadata": {
        "id": "C37JDhLytG5j"
      },
      "execution_count": 8,
      "outputs": []
    },
    {
      "cell_type": "code",
      "source": [
        "def clean_questions(raw_questions):\n",
        "  questions = []\n",
        "  raw_questions = raw_questions.split('\\n')\n",
        "  for qn in raw_questions:\n",
        "    match = re.match(r\"^\\d+\\.\\s?\", qn)\n",
        "    if match:\n",
        "      qn_number = match.group(0)\n",
        "      qn_content = qn.replace(qn_number, '').strip()\n",
        "      questions.append(qn_content)\n",
        "  return questions"
      ],
      "metadata": {
        "id": "GhZk0k-z6mrq"
      },
      "execution_count": 9,
      "outputs": []
    },
    {
      "cell_type": "code",
      "source": [
        "decomp_chain = ( decomp_prompt_template | llm | StrOutputParser() | clean_questions)"
      ],
      "metadata": {
        "id": "0ciPCI29CUVO"
      },
      "execution_count": 10,
      "outputs": []
    },
    {
      "cell_type": "markdown",
      "metadata": {
        "id": "ISATFGYEj3Op"
      },
      "source": [
        "**Simple experiment test queries for query decomposition**"
      ]
    },
    {
      "cell_type": "code",
      "execution_count": 11,
      "metadata": {
        "id": "pbdsYx8ekD3r"
      },
      "outputs": [],
      "source": [
        "test_queries = [\"When is the best time to go Iceland and what is there to do\", \"Help me plan a trip to Sweden, I love culture and food\", \"What are fun things to do in Finland?\", \"How is transportation like in Iceland?\"]"
      ]
    },
    {
      "cell_type": "code",
      "execution_count": 12,
      "metadata": {
        "id": "9oHWZOyqkHz9",
        "colab": {
          "base_uri": "https://localhost:8080/"
        },
        "outputId": "e4f073d0-7480-46b5-af99-92e68ffec553"
      },
      "outputs": [
        {
          "output_type": "stream",
          "name": "stdout",
          "text": [
            "Query: When is the best time to go Iceland and what is there to do\n",
            "Query Decomposed:\n",
            "['What is the climate and weather like in Iceland during different times of the year?', 'What are the popular activities and attractions for adventure seekers in Iceland, particularly those involving hiking?', 'Are there any cultural events or festivals in Iceland that would be of interest to an adventurous traveler?']\n",
            "###################################################################\n",
            "Query: Help me plan a trip to Sweden, I love culture and food\n",
            "Query Decomposed:\n",
            "['What are the cultural attractions and events in Sweden that might interest someone who loves culture?', 'What are the recommended Swedish foods and restaurants that I should try during my trip?', 'Which cities or regions in Sweden are known for their cultural and food experiences?']\n",
            "###################################################################\n",
            "Query: What are fun things to do in Finland?\n",
            "Query Decomposed:\n",
            "['What are some popular and fun activities to do in Finland?', 'Which locations or regions in Finland are known for these activities?', 'Are there any age, skill, or other requirements for participating in these activities?']\n",
            "###################################################################\n",
            "Query: How is transportation like in Iceland?\n",
            "Query Decomposed:\n",
            "['What are the different transportation options available for traveling within Iceland?', 'How can one travel between the key cities or attractions in Iceland, such as Reykjavik, the Blue Lagoon, and the Golden Circle?', 'Are there any unique transportation methods to experience in Iceland, like 4x4 off-road tours or boat trips?']\n",
            "###################################################################\n"
          ]
        }
      ],
      "source": [
        "# Apply the decompsition template and break down the questions into sub questions using the prompt decompsition pipeline\n",
        "for q in test_queries:\n",
        "  print(f'Query: {q}')\n",
        "  print('Query Decomposed:')\n",
        "  print(decomp_chain.invoke({\"question\":q}))\n",
        "  print('###################################################################')"
      ]
    },
    {
      "cell_type": "markdown",
      "source": [
        "<br/>\n",
        "<br/>\n",
        "\n",
        "## **Define Best Retriever from Retreiver Evaluation**\n",
        "\n",
        "**Control Variables**\n",
        "\n",
        "Re-ranked retriever with FAISS Index Flat L2\n",
        "\n",
        "- Retriever: FAISS with Index Flat L2\n",
        "- Bi-Encoder/Embeddings model: all-mpnet-base-v2\n",
        "- Text Split Method: Recursive Character Text Splitter\n",
        "- Child Chunk Size: 250\n",
        "- Child Chunk Overlap: 50\n",
        "- Cross-Encoder/Re-ranking model: BAAI/bge-reranker-large\n",
        "- Similarity Search type: MMR\n",
        "- Number of docs to be fetched for MMR: 25\n",
        "- Number of docs to be retrieved and reranked: 15"
      ],
      "metadata": {
        "id": "naTfkeFmuvqa"
      }
    },
    {
      "cell_type": "markdown",
      "source": [
        "**Experimental Variables**\n",
        "\n",
        "- Number of docs to be fed to LLM: 10, 15\n",
        "  - Parent Chunk Size: 300 (50 words), 450 (75 words), 600 (100 words)\n",
        "    - Parent Chunk Overlap: 20%\n"
      ],
      "metadata": {
        "id": "jq-4eH6SqT5K"
      }
    },
    {
      "cell_type": "code",
      "source": [
        "num_docs_feed = [10,15]\n",
        "parent_chunk_size = [300,450,600]\n",
        "fetch_k = 25\n",
        "top_k = 15\n",
        "bi_encoder_embeddings_model_name = \"sentence-transformers/all-mpnet-base-v2\"\n",
        "embeddings_model = HuggingFaceEmbeddings(model_name=bi_encoder_embeddings_model_name)\n",
        "cross_encoder_embedings_model_name = \"BAAI/bge-reranker-large\"\n",
        "cross_encoder_model = HuggingFaceCrossEncoder(model_name=cross_encoder_embedings_model_name)\n",
        "search_type = 'mmr'\n",
        "child_text_splitter = RecursiveCharacterTextSplitter(\n",
        "    chunk_size=250, chunk_overlap=50, add_start_index=True\n",
        ")\n",
        "\n",
        "\n",
        "\n",
        "idx_docs_feed = 0\n",
        "idx_chunk_size = 0\n",
        "\n",
        "docs_feed = num_docs_feed[idx_docs_feed]\n",
        "parent_chunk_size = parent_chunk_size[idx_chunk_size]\n",
        "\n",
        "parent_text_splitter = RecursiveCharacterTextSplitter(\n",
        "    chunk_size=parent_chunk_size, chunk_overlap=60, add_start_index=True\n",
        ")"
      ],
      "metadata": {
        "id": "8LkZX7Yfsk1f"
      },
      "execution_count": 17,
      "outputs": []
    },
    {
      "cell_type": "code",
      "source": [
        "'''\n",
        "Custom ParentDocumentRetriever object (ParentDocumentReranker) to do re-ranking of child chunks and return the parent chunks in the same order\n",
        "'''\n",
        "class ParentDocumentReranker(ParentDocumentRetriever):\n",
        "    model_config = {\"extra\": \"allow\"}\n",
        "\n",
        "    def __init__(self, cross_encoder_model, *args, **kwargs):\n",
        "        super().__init__(*args, **kwargs)\n",
        "        self.cross_encoder_model = cross_encoder_model\n",
        "\n",
        "    def _get_relevant_documents(\n",
        "        self, query: str, *, run_manager: CallbackManagerForRetrieverRun\n",
        "    ) -> List[Document]:\n",
        "        \"\"\"Get documents relevant to a query.\n",
        "        Args:\n",
        "            query: String to find relevant documents for\n",
        "            run_manager: The callbacks handler to use\n",
        "        Returns:\n",
        "            List of relevant documents\n",
        "        \"\"\"\n",
        "        if self.search_kwargs['search_type'] == 'mmr':\n",
        "            sub_docs = self.vectorstore.max_marginal_relevance_search(\n",
        "                query, **self.search_kwargs\n",
        "            )\n",
        "        else:\n",
        "            sub_docs = self.vectorstore.similarity_search(query, **self.search_kwargs)\n",
        "\n",
        "        # Reranking logic here with sub_docs (child documents)\n",
        "        sub_docs_rerank_vals = []\n",
        "        for r in sub_docs:\n",
        "          sub_docs_rerank_vals.append((r,self.cross_encoder_model.score((r.page_content,query))))\n",
        "        sub_docs = [key for key, value in sorted(sub_docs_rerank_vals, key=lambda x: x[1], reverse=True)]\n",
        "\n",
        "        # We do this to maintain the order of the ids that are returned\n",
        "        ids = []\n",
        "        for d in sub_docs:\n",
        "            if self.id_key in d.metadata and d.metadata[self.id_key] not in ids:\n",
        "                ids.append(d.metadata[self.id_key])\n",
        "        docs = self.docstore.mget(ids)\n",
        "        return [d for d in docs if d is not None][:self.search_kwargs['docs_feed']]"
      ],
      "metadata": {
        "id": "fCU5H2GEczvt"
      },
      "execution_count": 14,
      "outputs": []
    },
    {
      "cell_type": "code",
      "execution_count": 18,
      "metadata": {
        "id": "GqsJjnHmEhj7"
      },
      "outputs": [],
      "source": [
        "vector_store_index = faiss.IndexFlatL2(len(embeddings_model.embed_query(\"hello world\")))\n",
        "index = faiss.IndexFlatL2(len(embeddings_model.embed_query(\"hello world\")))\n",
        "faiss_vector_store = FAISS(\n",
        "    embedding_function=embeddings_model,\n",
        "    index=vector_store_index,\n",
        "    docstore=InMemoryDocstore(),\n",
        "    index_to_docstore_id={},\n",
        ")\n",
        "\n",
        "store = InMemoryStore()\n",
        "\n",
        "custom_retriever = ParentDocumentReranker(\n",
        "    cross_encoder_model=cross_encoder_model,\n",
        "    vectorstore=faiss_vector_store,\n",
        "    docstore=store,\n",
        "    child_splitter=child_text_splitter,\n",
        "    parent_splitter=parent_text_splitter,\n",
        "    search_kwargs={\"k\": top_k, \"fetch_k\": fetch_k, \"docs_feed\": docs_feed, \"search_type\": search_type}\n",
        ")\n",
        "\n",
        "custom_retriever.add_documents(docs)"
      ]
    },
    {
      "cell_type": "markdown",
      "source": [
        "<br/>\n",
        "<br/>\n",
        "\n",
        "## **Define Re-ordering Function**\n",
        "\n",
        "Re-order re-ranked results such that extremas have the most relevent documents to mitigate \"lost-in-the-middle\" effect"
      ],
      "metadata": {
        "id": "guByzIWAFyGy"
      }
    },
    {
      "cell_type": "code",
      "source": [
        "def reorder_docs(res):\n",
        "  res_reordered = [None] * len(res)\n",
        "  start = 0\n",
        "  end = len(res) - 1\n",
        "  place_at_start = True\n",
        "\n",
        "  for doc in res:\n",
        "      if place_at_start:\n",
        "          res_reordered[start] = doc\n",
        "          start += 1\n",
        "      else:\n",
        "          res_reordered[end] = doc\n",
        "          end -= 1\n",
        "\n",
        "      place_at_start = not place_at_start\n",
        "  return res_reordered"
      ],
      "metadata": {
        "id": "N6_mWr0ppt9P"
      },
      "execution_count": 19,
      "outputs": []
    },
    {
      "cell_type": "markdown",
      "metadata": {
        "id": "WYTT7jaWBbFG"
      },
      "source": [
        "<br/>\n",
        "<br/>\n",
        "<br/>\n",
        "\n",
        "## **Build the Final Answer By Answering Each Sub-Question**"
      ]
    },
    {
      "cell_type": "code",
      "source": [
        "qna_template = \"\"\"\n",
        "You are an assistant for question-answering tasks.\n",
        "Use the following pieces of retrieved context to answer the question. Each statement in your answer must be **entailable** by at least one of the provided citations, meaning the information in the statement must align directly and logically with the cited context.\n",
        "\n",
        "### **IMPORTANT REQUIREMENTS**:\n",
        "1. **Inline Numbered Citations**: For each statement in your answer, **you must include at least one inline numbered citation** (e.g., [1], [2]). Statements without sufficient support from the context should not be included in the answer.\n",
        "2. **Entailment Verification**: Ensure that every statement (hypothesis) is directly entailed by the cited context (premise). Use only information explicitly stated or strongly implied by the citation. Do not include unsupported information or make up details.\n",
        "3. **Sequential Citation Numbering**: Reset the numbering for citations to start from **1** for each response, and ensure the numbering increases sequentially.\n",
        "4. **Single Paragraph**: Write your response as **a single paragraph**. Avoid using any new line characters in the response. All statements should flow naturally and seamlessly into one another.\n",
        "\n",
        "At the bottom, provide the full citations corresponding to each number, but include **only the page content** of the Document Object (exclude metadata). Use citations exactly as provided in the context.\n",
        "\n",
        "Respond in the following format:\n",
        "---\n",
        "Statement 1 [1]. Statement 2 [2, 3].\n",
        "\n",
        "Citations:\n",
        "[1]: <Page Content 1> //Only the page content of the document\n",
        "[2]: <Page Content 2>\n",
        "[3]: <Page Content 3>\n",
        "---\n",
        "\n",
        "### **HOW TO APPROACH**:\n",
        "- Before writing your answer, check if each statement is **entailable** by verifying that it is supported by one or more citations.\n",
        "- If the context does not support a statement, exclude it from your answer and say \"I don't know.\"\n",
        "\n",
        "Here are a few examples:\n",
        "\n",
        "---\n",
        "The best hikes in Norway include the Reinebringen hike in the Lofoten islands, Preikestolen, Kjeragbolten, and Trolltunga [1, 2]. The Reinebringen hike, although not one of the highest peaks, offers an iconic view of the Reine fjord from its summit [1]. Preikestolen, Kjeragbolten, and Trolltunga are famous for their stunning fjord views and unique geological formations, such as a boulder stuck between a mountain crevasse and a tongue-shaped rock [2].\n",
        "\n",
        "Citations:\n",
        "[1]: \"The best hikes in Norway include the Reinebringen hike in the Lofoten islands. At a modest 448 meters high, Reinebringen is far from one of the highest peaks on the Lofoten islands. Yet this is more than made up for by the iconic view from the summit of Reine. It is not suitable for winter! Also, the trail can be quite demanding as the steps are quite steep.\"\n",
        "[2]: \"The most famous hikes in Norway include Preikestolen (a beautiful fjord), Kjeragbolten (with a famous boulder stuck between a mountain crevasse) as well as Trolltunga which resembles a tongue.\"\n",
        "---\n",
        "\n",
        "---\n",
        "In Switzerland, you can embark on several scenic hikes [1]. One such hike is at Grindelwald, where at the summit, you will find a stunning lake, but it's only visible during the summer [1]. Other notable hikes include Zermatt, also known as the Matterhorn [1], and Lauterbrunnen [1]. For those seeking a challenging hike, the Matterhorn at Zermatt is a must-go [2]. This iconic peak is featured on the Toblerone chocolate and is best explored with a mountain guide due to the inherent dangers [2].\n",
        "\n",
        "Citations:\n",
        "[1]: \"One of the most scenic hikes in Switzerland can be done at Grindelwald. At the summit of Grindelwald, a beautiful lake awaits you. However, you can only see this lake during summer time. Other notable hikes include Zermatt, i.e. the matterhorn and Lauterbrunnen.\"\n",
        "[2]: \"The matterhorn at zermatt is a must-go for hiking enthusiasts. It is the icon of the famous chocolate: Toblerone. However, it is recommended to hire a mountain guide to go with you as it can be very dangerous!\"\n",
        "---\n",
        "\n",
        "---\n",
        "In Iceland, you can participate in a variety of adventurous activities [1]. For instance, you can hike active volcanoes and explore a natural ice cave, offering unique geological experiences [1]. Driving in Iceland is also an amazing adventure, with open roads, majestic volcanoes, and towering mountains as your backdrop, and the possibility of encountering sheep and arctic foxes along the way [2]. Additionally, Iceland is known for its exceptional diving sites [3]. One of the most famous in the world, Silfra, is located in Iceland [3]. It is the only diving site where you can dive between two tectonic plates, and the water is so fresh that you can drink it, promising an unparalleled tasting experience [3].\n",
        "\n",
        "Citations:\n",
        "[1]: \"Iceland is a must-go to place for adventurous people! You can hike active volcanoes, drive a jeep through the volcanic ash, explore a natural ice cave, see waterfalls. There are so many opportunities for an adventurer.\"\n",
        "[2]: \"Driving in Iceland is an amazing experience - open roads, majestic volcanos and towering mountains along the way, sheep and arctic foxes make it a great experience. All you need is an international driving license. And, please drive slowly during the winter!\"\n",
        "[3]: \"One of the most famous diving sites in the world, Silfra, is located in Iceland! It is the only diving site in the world where you can dive between 2 tectonic plates. The water is also so fresh that you can drink from it, it is the best water that you will ever taste.\"\n",
        "---\n",
        "\n",
        "Question: {question}\n",
        "\n",
        "Context: {context}\n",
        "\n",
        "Helpful Answer:\n",
        "\"\"\"\n",
        "\n",
        "qna_prompt_template = PromptTemplate.from_template(qna_template)"
      ],
      "metadata": {
        "id": "Xi0YG04q8-xW"
      },
      "execution_count": 20,
      "outputs": []
    },
    {
      "cell_type": "code",
      "execution_count": 22,
      "metadata": {
        "id": "avOg004jBdp9"
      },
      "outputs": [],
      "source": [
        "def get_answer(question,decomp_chain,retriever,answer_chain):\n",
        "\n",
        "  final_response = {}\n",
        "\n",
        "  sub_questions = decomp_chain.invoke({\"question\":question})\n",
        "  for sub_question in sub_questions:\n",
        "      retrieved_docs = retriever.invoke(sub_question)\n",
        "      retreived_docs = reorder_docs(retrieved_docs)\n",
        "      answer = answer_chain.invoke({\"question\": sub_question,\"context\": retrieved_docs})\n",
        "      final_response[sub_question] = {\n",
        "          \"answer\": answer,\n",
        "          \"retrieved_docs\": retrieved_docs\n",
        "      }\n",
        "\n",
        "  return final_response"
      ]
    },
    {
      "cell_type": "code",
      "source": [
        "answer_chain = ( qna_prompt_template | llm | StrOutputParser() )"
      ],
      "metadata": {
        "id": "ZON6k9TV_Rp8"
      },
      "execution_count": 23,
      "outputs": []
    },
    {
      "cell_type": "code",
      "source": [
        "questions_answer = [\"When is the best time to go Iceland and what is there to do\", \"Help me plan a trip to Sweden, I love culture and food\", \"What are fun things to do in Finland?\", \"How is transportation like in Iceland?\"]"
      ],
      "metadata": {
        "id": "ACLJI06G_ejB"
      },
      "execution_count": 24,
      "outputs": []
    },
    {
      "cell_type": "code",
      "source": [
        "responses = []\n",
        "for qn in questions_answer:\n",
        "  response = get_answer(qn,decomp_chain,custom_retriever,answer_chain)\n",
        "  print('')\n",
        "  print('')\n",
        "  print('')\n",
        "  responses.append(response)"
      ],
      "metadata": {
        "id": "iGfWpG-N--f3",
        "outputId": "2a32d64b-cd75-479a-a2dd-94e53176b997",
        "colab": {
          "base_uri": "https://localhost:8080/"
        }
      },
      "execution_count": 25,
      "outputs": [
        {
          "output_type": "stream",
          "name": "stdout",
          "text": [
            "Sub Questions: \n",
            "['What is the climate and weather like in Iceland during different times of the year?', 'What are the popular activities and attractions for adventure seekers in Iceland, specifically related to hiking and outdoor experiences?', 'Are there any cultural events or festivals in Iceland that would affect the best time to visit for an adventurous traveler?']\n",
            "###################################################################\n",
            "###################################################################\n",
            "Sub Question: What is the climate and weather like in Iceland during different times of the year?\n",
            "LLM Answer:\n",
            "The climate in Iceland is sub-arctic, meaning long and cold winters [4]. During the winter months, temperatures typically stay around medium -3 Celsius due to the moderating influence of the Gulfstream [4]. However, North-Iceland and the Westfjords are known for heavy snowfall, with several meters deep in the winters, making them ideal for winter sports and playing in the snow [5]. In contrast, the summer season is more popular for tourism [6]. The onset of fall in Iceland varies each year, followed by autumn storms [1]. During this time, you may observe cute newborn foals trying to stand on their shaky feet in Iceland's hummocky meadows [1]. Icelandic weather is notoriously unpredictable, and it is crucial to pay attention to weather forecasts, especially when traveling in winter or venturing into the highlands [2].\n",
            "\n",
            "Citations:\n",
            "[1]: \"When summer ends and fall begins varies each year. Autumn storms and onsets of\"\n",
            "[2]: \"KNOW Keep in mind that the Icelandic weather is notoriously unpredictable and varies between regions, so always pay attention to weather forecasts.\"\n",
            "[3]: \"The Icelandic Met Office operates a daily forecast, based on solar winds over the last three days, with a 9-scale activity range.\"\n",
            "[4]: \"up our nights. We suggest bringing: T-Shirts, Sun lotion, Rainpants and jacket, Sleeping mask. Add-Ons Winter (October-April): The climate in Iceland is sub-arctic, meaning long and cold winters. The Gulfstream helps to keep temperatures mild around medium -3 Celsius during the winter months,\"\n",
            "[5]: \"fluctuating above and below freezing point. On the other hand, North-Iceland and the Westfjords are famous for heavy snow in the winters, up to several meters deep,\"\n",
            "[6]: \"In the past we used to have a low season from October until the end of March. Now we have weddings all year-round and snow weddings are becoming increasingly\"\n",
            "###################################################################\n",
            "Sub Question: What are the popular activities and attractions for adventure seekers in Iceland, specifically related to hiking and outdoor experiences?\n",
            "LLM Answer:\n",
            "Adventure seekers in Iceland can enjoy a variety of activities, particularly related to hiking and outdoor experiences [1]. Iceland is known as a hiker's paradise, offering a wide network of trails in both lowland and highland areas [1]. These trails provide opportunities for hiking, ice cave exploration, scenic glacier hikes, snowmobile rides, and super jeep tours [2, 5]. Some popular hiking routes include the Laugavegur trail [4]. Additionally, the country is suited for other outdoor activities such as diving, horseback riding, and jet skiing [1]. The capital city, Reykjavík, serves as a convenient base for exploring many day trips to surrounding mountains, glaciers, volcanoes, and hot springs [6].\n",
            "\n",
            "Citations:\n",
            "[1]: \"Walking and hiking in Iceland’s diverse landscapes is a fantastic way to experience the island’s unique nature, especially during the long days of summer. HIKER’S PARADISE Iceland is a hiker’s paradise, with a wide network of trails in lowland and highland areas. Whether you’re seeking comfortable\"\n",
            "[2]: \"Explore the ice. Several tour operators offer captivating experiences to explore the glacier. Engage in activities such as ice cave exploration, scenic glacier hikes, snowmobile rides, and super jeep tours. Check the Visit Iceland database\"\n",
            "[3]: \"AMAZING FREE-TIME ACTIVITIES Glacial hiking is only one of many great outdoor activities in Iceland Visiting the Geyser in the afternoon, going skiing on the weekend, having lunch by the waterfall? Wherever in Iceland you\"\n",
            "[4]: \"HIKES If you seek to go for overnight hikes, there are many popular and scenic routes you can choose from that offer deep exploration. Some trails are equipped with huts and campsites, but others require wilderness camping. Some of Iceland’s most popular hiking routes include the\\u202fLaugavegur\\u202ftrail\"\n",
            "[5]: \"2. Explore the ice. Several tour operators offer captivating experiences to explore the glacier. Engage in activities such as ice cave exploration, scenic glacier hikes, snowmobile rides, and super jeep tours. Check the Visit Iceland database\"\n",
            "[6]: \"the region's geology, glaciers, and cultural traditions. 2. Explore the ice. Several tour operators offer captivating experiences to explore the glacier. Engage in activities such as ice cave exploration, scenic glacier hikes, snowmobile rides, and super jeep tours. Check the Visit Iceland database\"\n",
            "###################################################################\n",
            "Sub Question: Are there any cultural events or festivals in Iceland that would affect the best time to visit for an adventurous traveler?\n",
            "LLM Answer:\n",
            "Iceland hosts various cultural events and festivals throughout the year that could affect the best time to visit for an adventurous traveler [5]. One notable event is the \"þorrablót\" food festivals, which take place in February and offer the opportunity to try traditional Icelandic foods, some of which can be quite extreme [2]. Additionally, the National Museum of Iceland and the National Gallery of Iceland are popular cultural attractions [7]. However, if you are interested in seeing the Northern Lights, the summer months, from mid-May to mid-July, are not the best time to visit, as the midnight sun illuminates Icelandic nights, and it never gets entirely dark [6].\n",
            "\n",
            "Citations:\n",
            "[2]: \"Icelandic culinary culture and are celebrated in February's yearly “þorrablót” food festivals. So if you are one of the courageous, eager to try the hardcore traditional Icelandic food, that would be the perfect time to visit Iceland. The most extreme of the traditional foods would probably be the\"\n",
            "[5]: \"Iceland offers festivals year-round. Some are pertaining to local tradition while others are huge multi-venue festivals that bring in thousands of visitors. The seasonal light provides a backdrop for staying up all night with the midnight sun.\"\n",
            "[6]: \"Always wanted to see the Northern Lights? Then the summer months are not the time for your trip to Iceland! From mid-May to mid-July, the midnight sun illuminates Icelandic nights. That means, it never gets entirely dark, but a certain twilight always remains.\"\n",
            "[7]: \"The National Museum of Iceland houses both permanent and temporary exhibitions. Second in line as a must-visit is the National\"\n",
            "###################################################################\n",
            "\n",
            "\n",
            "\n",
            "Sub Questions: \n",
            "['What are the popular cultural attractions and activities to experience in Sweden?', 'What are the recommended Swedish food experiences and restaurants that should not be missed?', 'When is the best time to visit Sweden to fully enjoy cultural events and food scenes?']\n",
            "###################################################################\n",
            "###################################################################\n",
            "Sub Question: What are the popular cultural attractions and activities to experience in Sweden?\n",
            "LLM Answer:\n",
            "In Sweden, Gothenburg is a popular destination that offers a variety of cultural attractions and activities [1]. You can explore historical buildings such as Laholm Church, known for its stunning frescoes [4]. Art enthusiasts will appreciate public art installations, Teckningsmuseet, and the annual sculpture park exhibition [4]. The city is also known for its reputable food heritage, with a focus on organic, local produce and exceptional seafood [2]. Shopping is another appealing activity, with options ranging from thrift stores to designer brands like Twist & Tango [5].\n",
            "\n",
            "In southern Sweden, you can find the Göta Canal and Läckö Slott castle [3]. During summer, visitors can enjoy outdoor concerts and theatre performances, as well as nature activities like kayaking in the archipelago or relaxing by a tranquil lake [6]. Additionally, Sweden's long summer days, with temperatures ranging from +13°C to +23°C in July and August, make it an ideal season to visit [7].\n",
            "\n",
            "Citations:\n",
            "[1]: page_content=\"traveller. Sweden's second-largest city welcomes you to uncover its many treasures. Whether you are interested in nature and culture or simply enjoying the city's atmosphere, Gothenburg has something for everyone. Explore these top 10 attractions and make the most of your visit to Sweden's\"\n",
            "[2]: page_content='such as Göta Canal and the castle Läckö Slott. Add to that a reputable food heritage based around organic, local produce – including what is considered by many the best seafood in Sweden – and you have an all-round destination providing culture, endless outdoor activities and a culinary offer to'\n",
            "[3]: page_content='cosy cafés, and historical buildings. Visit Laholm Church, a medieval gem with stunning frescoes. Art enthusiasts will appreciate Teckningsmuseet, public art installations, and the annual sculpture park exhibition. Skummeslövstrand, one of Sweden's longest sandy beaches, is nearby for a relaxing'\n",
            "[4]: page_content=\"Peachy Home, contemporary craft shops Sintra and Haga of Sweden, and the fashion brand Twist & Tango. A trip to Sweden – an experience that truly offers something else With its inventive food scene, thrift and designer stores and enlightened city planning, there are many reasons to travel to Sweden\"\n",
            "[5]: page_content='Embraced by vast expanses of water, Sweden is adorned with hundreds of thousands of islands, offering a haven for boat enthusiasts seeking adventure. From secluded coves to bustling archipelagos and one-of-a-kind attractions, here are the places you can only reach by boat. Sweden is a great'\n",
            "[6]: page_content='and its warm baths. Take a moment to relax and have a massage in one of the dedicated rooms or try an “Aufguss” session in the seaside resort. Outdoor activities for every taste Get connected to Swedish nature, recharge and relax. In Malmö and beyond, you'll find an array of outdoor activities with'\n",
            "[7]: page_content=\"oldest navigable canal. M/S Laponia, Bothnian Bay Explore the vast archipelago of the Bothnian Bay aboard M/S Laponia. These cruises combine beautiful coastal scenery with delicious onboard dining, guided tours, and live entertainment for a memorable experience in Sweden's northern waters. Scenic\"\n",
            "###################################################################\n",
            "Sub Question: What are the recommended Swedish food experiences and restaurants that should not be missed?\n",
            "LLM Answer:\n",
            "In Sweden, there are several recommended food experiences and restaurants not to be missed. In Gothenburg, a must-try is the shrimp sandwich, or 'räkmacka', which consists of a generous amount of shrimp on a freshly baked rye bread, with mayonnaise, a perfectly cooked egg, crisp salad, and vendace roe [1]. Gothenburg also boasts of having one Bib Gourmand restaurant, Familjen, known for its contemporary West Swedish cooking and generous portions [2]. For traditional Swedish comfort food, there are many restaurants in Gothenburg serving 'husmanskost' [2].\n",
            "\n",
            "In Stockholm, the city's gastronomical heritage is rich, with restaurants that have been around for centuries [3]. Iconic restaurants in Stockholm serve tasty Swedish food with an inevitable and distinctive Swedish touch [4]. \n",
            "\n",
            "Swedish cafés are also a significant part of the food culture in Sweden. Traditional Swedish cafés, known as 'konditorier', are a must for the fika lover and can be found in most Swedish towns [5].\n",
            "\n",
            "Moreover, Sweden's ski paradise, Åre, is worth a visit not just for its skiing but also for its food scene, boasting some of Sweden's best restaurants [6].\n",
            "\n",
            "Citations:\n",
            "[1]: \"Sandwich – served with a generous amount of shrimp on a freshly baked rye bread, with mayonnaise, a perfectly cooked egg, crisp salad and vendace roe. A shrimp sandwich, or 'räkmacka' as we call it in Sweden, is a must-try when you're in Gothenburg.\"\n",
            "[2]: \"Gothenburg has one Bib Gourmand restaurant: Familjen: Selected the most loveable restaurant of the year in 2018. The cooking is contemporary West Swedish, and the portions are generous. Classic restaurants Longing for Swedish comfort food? Gothenburg has many restaurants serving traditional ‘husmanskost’ like.\"\n",
            "[3]: \"Stockholm’s gastronomical heritage goes way back. The city is sprinkled with restaurants that have been here for centuries.\"\n",
            "[4]: \"The following restaurants are all located in central Stockholm and will serve you tasty Swedish food with an inevitable and distinctive Swedish touch.\"\n",
            "[5]: \"Traditional Swedish cafés (‘konditorier’) in most Swedish towns. They are a must for the fika lover.\"\n",
            "[6]: \"one ski paradise. If you are up for an adventure there is plenty of other activities than downhill skiing to take part in – why not try a snowmobile safari, dog sledding, ice fishing or cross country skiing? The food scene is worth its own trip: Åre boasts of some of Sweden’s best restaurants.\"\n",
            "###################################################################\n",
            "Sub Question: When is the best time to visit Sweden to fully enjoy cultural events and food scenes?\n",
            "LLM Answer:\n",
            "The best time to visit Sweden to fully enjoy cultural events and food scenes is during autumn, specifically from September to November [1]. This season is ideal for foodies and fashionistas as nature offers an abundance of berries and mushrooms, with beautiful yellow, orange, and red leaves as a backdrop [1]. Additionally, autumn is the time of the Crayfish Party, a classic Swedish tradition that takes place on the first Wednesday of August, reflecting the historic ban on crayfish fishing between November and August 7 [2]. For those passionate about culture and history, summer, which extends from June to August, provides ample opportunities to delve into Sweden's rich heritage [3]. However, if you are interested in experiencing the Northern Lights, the best viewing areas in Sweden are above the Arctic Circle between September and March [4].\n",
            "\n",
            "Citations:\n",
            "[1]: \"Autumn is the season of shifting scenery and mild temperatures. The crowds are gone and nature opens its pantry, offering berries and mushrooms with bright yellow, orange and red leaves as a backdrop. For foodies and fashionistas, autumn is the ideal season to visit Sweden. When is autumn in Sweden?\"\n",
            "[2]: \"on the first Wednesday of August, reflecting the historic ban on crayfish fishing between November and August 7. Most crayfish parties take place outdoors, making the most out of the last summer days. If you want to experience a classic Swedish tradition, this is the best time to visit Sweden.\"\n",
            "[3]: \"the summer season offers a delicious taste of Swedish gastronomy. For those passionate about culture and history, summer provides ample opportunities to delve into Sweden's rich heritage. From visiting medieval castles and Viking ruins to enjoying outdoor concerts and theatre performances, many\"\n",
            "[4]: \"when they go to Sweden since most Swedes speak English. The best viewing areas in Sweden are above the Arctic Circle between September and March. Find out more about seeing the Northern Lights here. Visit Sweden does not provide brochures. If you want more information than this website offers, try\"\n",
            "###################################################################\n",
            "\n",
            "\n",
            "\n",
            "Sub Questions: \n",
            "['What are some fun and popular activities to do in Finland?', 'Which regions or cities in Finland are known for these activities?', 'Are there any age, skill, or other requirements for participating in these activities?']\n",
            "###################################################################\n",
            "###################################################################\n",
            "Sub Question: What are some fun and popular activities to do in Finland?\n",
            "LLM Answer:\n",
            "In Finland, there are several fun and popular activities to enjoy during different seasons. During winter, taking a stroll on the ice [1], skiing on marked cross-country routes that run across the frozen lakes [1], and embarking on a husky or reindeer safari while hunting the northern lights [5] are popular activities. In the spring, people come alive after the long winter, and events like Easter and Vappu (1st of May) celebrate the upcoming season [4]. Warmer weather and beautiful blooms accompany the melting snow, providing opportunities for outdoor activities such as hiking, biking, or kayaking [3, 6].\n",
            "\n",
            "During the summer, Finns celebrate their summer passionately [2]. Nine Finnish cities, particularly lively from May through August, offer activities such as festivals, saunas, kayaking, paddling, and cruises [2]. In Helsinki, you can participate in various events, including meditation, open mics, poetry, and barn-dance [3]. Additionally, you can explore new saunas and museums, go island hopping [9], or enjoy the Air Metal Festival and Flow festival [9]. In the northern regions, you can try the bike route from Levi to Ylläs, winding through the Pallas-Yllästunturi National Park [8], or play golf around the clock during the summer months [8].\n",
            "\n",
            "Citations:\n",
            "[1]: \"and simply taking a stroll on the ice are popular activities in Finland. There's something incredibly soothing about the vast, frozen landscape. You'll find marked cross-country skiing routes that run across the lakes.\"\n",
            "[2]: \"These are nine Finnish cities not to miss during the summer: After a cold winter, Finns celebrate their summer passionately. And many Finnish towns particularly come to life from May through August. So, what's summer like in a Finnish city? Think festivals, saunas, kayaking, paddling, cruises,\"\n",
            "[3]: \"in many other cities in Finland. Check if your travel dates coincide with a parade or a festivals’ weeklong program of activities. At these celebrations, all are welcome. Visit one to participate in an array of activities, from meditation to open mics, poetry to barn-dance. Finland’s friendly,\"\n",
            "[4]: \"warmer weather and beautiful blooms as the snow melts and nature reawakens. People, too, come alive after the long winter, and events like Easter and Vappu (1st of May) celebrate the upcoming season. Experience the magic of spring for yourself with this list of the top things to do in Finland from\"\n",
            "[5]: \"from winter skiing and snowshoeing to hiking, canoeing, rowing, and cycling in the summer months. Don’t forget to pick some berries and give thanks for Finland Everyman’s Rights!\"\n",
            "[6]: \"a variety of other activities to embrace the essence of the season, regardless of the weather. Explore Finland's newest saunas and museums scattered throughout the country, providing a cosy retreat from an unexpected takatalvi. Meanwhile, outdoor activities such as hiking, biking, or kayaking\"\n",
            "[8]: \"In the summer, go on a hike in Finland’s oldest national park Pyhä-Luosto or ascend the fell with a skiing lift to admire the views. In the winter, embark on a husky or reindeer safari and hunt the northern lights. Your own private lakeside sauna in the\"\n",
            "[9]: \"Air Metal Festival and Flow festival to name a few.  Island hopping is a great way to spend a sunny day in Helsinki. From the Market Square it’s easy to reach the fortress island Suomenlinna, as well as the recently opened islands of Lonna and Vallisaari. Mustikkamaa, next to the Kalasatama\"\n",
            "###################################################################\n",
            "Sub Question: Which regions or cities in Finland are known for these activities?\n",
            "LLM Answer:\n",
            "In Finland, various regions are known for different activities. The Lakeland, Coast and Archipelago, Lapland, and the Helsinki region offer well-kept national hiking and wilderness areas, and local forests with trails suitable for nature walks and hikes [1]. During spring, which usually starts in late March in southern Finland, the forests come alive, offering many lovely locations for these activities [2]. Helsinki, specifically the districts of Käpylä and Vallila, as well as Old Porvoo and Rauma in other regions, are good places to start explorations into Finland’s wooden towns [4]. \n",
            "\n",
            "In winter, ice skating is a classic activity across Finnish cities, municipalities, and travel destinations [3]. There are many open skating areas, and the ice update tool helps travelers stay informed about ice thickness in different parts of Finland [3]. Additionally, wintry activities such as ice bathing, hiking, skiing, and cross-country skiing can be experienced in the wintry archipelago with the help of a local guide [5].\n",
            "\n",
            "Celebrations such as pride festivals have become a permanent part of the summer party scenes in Helsinki, Tampere, Turku, and many other cities in Finland [6]. During these events, all are welcome to participate in an array of activities, from meditation to open mics, poetry to barn-dance [6].\n",
            "\n",
            "Citations:\n",
            "[1]: \"in each of the four regions of Finland: Lakeland, Coast and Archipelago, Lapland, and two in the Helsinki region. Around the country, you'll also find well-kept national hiking and wilderness areas, and local forests with trails.\"\n",
            "[2]: \"spring usually crop up in late March in southern Finland, and it's hard to overstate the pull of the warmer season. As the snow starts to melt, the country's forests come alive, offering many lovely locations for nature walks, hikes and the Finnish pastime of forest bathing.\"\n",
            "[3]: \"Can I go ice skating in Finland?: Yes – ice skating is a classic winter activity. Across Finnish cities, municipalities, and travel destinations, there are many open skating areas on\"\n",
            "[4]: \"places is like entering a living time capsule. The Helsinki districts of Käpylä and Vallila are good places to start your explorations into Finland’s wooden towns. Old Porvoo, an hour’s drive from the capital, is another easy stop. Beautiful wooden towns can be also be found in Rauma in the west\"\n",
            "[5]: \"other wintry activities include ice bathing, hiking, skiing and cross-country skiing. Learn more at the Visit Åland site.\"\n",
            "[6]: \"Finland, you might even find famous erotic artist Tom of Finland’s hunky imagery on your Finlayson hotel bed linens! Pride festivals have become a permanent part of the summer party scenes in Helsinki, Tampere and Turku, as well as in many other cities in Finland. Check if your travel dates coincide with a parade or a festivals’ weeklong program of activities. At these celebrations, all are welcome.\"\n",
            "###################################################################\n",
            "Sub Question: Are there any age, skill, or other requirements for participating in these activities?\n",
            "LLM Answer:\n",
            "The context does not provide specific age, skill, or other requirements for participating in activities in Iceland, Finland, or Sweden [1, 2, 3, 4, 5, 6, 7, 8]. However, it does mention some restrictions related to height and age for certain rides at the Liseberg amusement park in Gothenburg, Sweden [2]. In Finland, fishing between the ages of 18 and 64 requires a fishing management fee [3]. In Iceland, kayaking and stand-up paddling are suitable for everyone, including kids [1]. In Finland, people can go skating and try outdoor tracks at an early age, but they should stay safe, keep close to the shore, and follow all signs and safety regulations [4]. In Sweden, children can stop using a dummy and give it to the baby rabbits in Rabbit Land, receiving a certificate and a rabbit hug as a reward [5]. In Finland, the Ruissalo area offers marked trails for running, and the Paavo Nurmi Marathon features mini-marathons for younger participants [8].\n",
            "\n",
            "Citations:\n",
            "[1]: \"in the moment If you want to get closer to nature than just looking at it through the car window, kayaking, and stand-up paddling are good options! Here's why: Are you not the sporty type? Don't worry: these water activities are suitable for everyone, including kids! You don't have to know anything\"\n",
            "[2]: \"the tram to Liseberg amusement park. You’ll probably end up with a slight stomach-in-your-mouth sensation after riding on AeroSpin, Balder and AtmosFear, with their combination of height, speed and freefall. You need to be a certain height and a certain age to go on some rides, but if you’re not\"\n",
            "[3]: \"Be aware that Finland has a fishing management fee. This is a federal tax-recurring fee, and it’s mandatory for anyone fishing between the ages 18 and 64. Angling with a hook and line and ice\"\n",
            "[4]: \"the sport at an early age, anyone can pull on a pair of skates and try the outdoor tracks. To stay safe, keep close to the shore and follow all signs and safety regulations. And make sure to save plenty of time for snacks and hot cocoa! There are plenty of rest stops along the way to enjoy\"\n",
            "[5]: \"and a certain age to go on some rides, but if you’re not yet tall or old enough and still use a dummy, you now have the perfect opportunity to stop that. Give your dummy to the baby rabbits in Rabbit Land, and you’ll get a certificate and a rabbit hug as a reward. Mum and Dad can make the most of\"\n",
            "[6]: \"Sweden’s textile hub Borås, in West Sweden, you will find Textilmuseet (Textile Museum of Sweden). Here, the industry’s past and high-tech future can be explored through exhibitions, workshops and other activities, such as trying out clothes from the entire 20th century.\"\n",
            "[7]: \"Ruissalo is located on an island right next to the city and offers several marked trails that are accessible also outside the running event. Paavo Nurmi Marathon also features mini-marathons for younger participants. For the latest information, please check the event’s site.; NUTS trail running in\"\n",
            "[8]: \"HOW DOES IT WORK? Stand-up paddling or paddleboarding is a sport with roots in ancient times. What was initially used as a means of transportation has gained high popularity as a water sport amongst all age groups in recent years. One stands or kneels on a wide stand-up paddle board that is either\"\n",
            "###################################################################\n",
            "\n",
            "\n",
            "\n",
            "Sub Questions: \n",
            "['What are the different transportation options available for traveling within Iceland?', 'How can one travel between key tourist locations in Iceland, such as the Blue Lagoon, Golden Circle, and glacier lagoons?', 'Are there any unique transportation methods to experience, like riding Icelandic horses or exploring by boat?']\n",
            "###################################################################\n",
            "###################################################################\n",
            "Sub Question: What are the different transportation options available for traveling within Iceland?\n",
            "LLM Answer:\n",
            "In Iceland, there are several transportation options available for traveling within the country. You can explore Iceland by car, by bike, or on foot [1]. The carpooling website samferda.net can be helpful for long-distance travel [3]. Additionally, domestic flights are available from the Domestic Airport (Reykjavíkurflugvöllur) in Reykjavík, with Icelandair traveling daily to Akureyri, Egilsstaðir, and Ísafjörður, while Eagle Air offers multiple flights as well [3]. Another option is to bring your own car, motorcycle, caravan, camper, or bicycle with you to Iceland by taking the M/S Norröna ferry, which sails weekly from Denmark via the Faroe Islands [4].\n",
            "\n",
            "For more unique experiences, you can travel by horse, as Icelandic horse riding tours are a traditional way of exploring the country and connect you with the landscape in a unique way [1]. Cycling is also a popular option, with bikes available for rent, but only for day tours [3]. Strætó buses take bicycles whenever space allows; when storage is tight, cyclists must wait for the next bus [3]. Moreover, there are three offshore communities on Heimaey, Hrísey, and Grímsey that can be reached by boat [3].\n",
            "\n",
            "Citations:\n",
            "[1]: Page content: \"Iceland can be explored in many ways – by car, by bike, or by foot. But choosing the traditional way of Icelandic transportation on the sturdy sure-footed and reliable Icelandic horse, brings you closer to nature and connects you to the landscape in a unique way. Horse riding tours, short and long,\"\n",
            "[2]: Not used.\n",
            "[3]: Page content: \"The carpooling website samferda.net can be helpful for long-distance travel. Domestic Flights From Reykjavík, it is easy to reach another corner of Iceland via the Domestic Airport (Reykjavíkurflugvöllur). Icelandair travels daily to Akureyri, Egilsstaðir, and Ísafjörður; Eagle Air several times. By cyclists. Bikes are widely available for rent, but only for day tours, such as at Mývatnand Þingeyri(Westfjords). Strætó buses take bicycles whenever space allows; when storage is tight, cyclists must wait for the next bus. By Boat Iceland has three offshore communities on Heimaey, Hrísey, and\"\n",
            "[4]: Page content: \"All year round, the M/S Norröna sails weekly from Denmark to Iceland via the Faroe Islands. This form of travel allows passengers to bring their own car, motorcycle, caravan, camper, or bicycle with them to Iceland. Meanwhile, they get the opportunity to rest and enjoy themselves aboard as well as\"\n",
            "###################################################################\n",
            "Sub Question: How can one travel between key tourist locations in Iceland, such as the Blue Lagoon, Golden Circle, and glacier lagoons?\n",
            "LLM Answer:\n",
            "In Iceland, day trips are offered from Reykjavík to glacier outlets such as Falljökull in the south [1]. The Golden Circle route, a popular tourist trail, includes famous geological sites like Þingvellir National Park, Geysir geothermal area, and Gullfoss waterfall [2]. For exploring the fjords and rivers at a leisurely pace, kayaking and easygoing tours are available [3]. The Blue Lagoon, another popular tourist destination, is situated between Reykjavík and Keflavík Airport [4].\n",
            "\n",
            "Citations:\n",
            "[1]: \"and Falljökull outlet glaciers in the south of Iceland, to which day trips are offered from Reykjavík (and Skaftafell). Without exception, glacier walking or climbing should not be done without the accompaniment of a trained guide. Hiking trips are also available onto the Snæfellsjökull glacier in\"\n",
            "[2]: \"The Golden Circle route, a popular tourist trail, takes visitors to some of Iceland's most famous geological sites, including Þingvellir National Park, Geysir geothermal area, and Gullfoss waterfall.\"\n",
            "[3]: \"KAYAKING AND EASYGOING TOURS - FIND YOUR OWN PACE Iceland has lately also become a dream destination for professional extreme kayakers who want to explore new whitewater in the highlands of the Island and plunge down waterfalls in hazardous maneuvers. But for most kayakers, our fjords, rivers,\"\n",
            "[4]: \"Iceland’s spa experience. The Blue Lagoon has for decades been Iceland’s most visited destination, situated in a lava field midway between Reykjavík and Keflavík Airport. Silica gives the water its milky blue-green color, which eventually precipitates as white mud on the lagoon's floor. Studies\"\n",
            "###################################################################\n",
            "Sub Question: Are there any unique transportation methods to experience, like riding Icelandic horses or exploring by boat?\n",
            "LLM Answer:\n",
            "Yes, there are unique transportation methods to experience in Iceland, such as riding Icelandic horses [1] and exploring by boat [5]. Icelandic horses are a traditional mode of transportation that allows you to connect with the landscape in a special way [1]. Boat excursions are also available, including whale watching tours on wooden schooners in Húsavík [5]. \n",
            "\n",
            "Citations:\n",
            "[1]: \"Iceland can be explored in many ways – by car, by bike, or by foot. But choosing the traditional way of Icelandic transportation on the sturdy sure-footed and reliable Icelandic horse, brings you closer to nature and connects you to the landscape in a unique way. Horse riding tours, short and long,\"\n",
            "[5]: \"In Húsavík, North Sailing offers a whale watching tours on wooden schooners. In Ísafjörður, Aurora Arktika offers multi-day\"\n",
            "###################################################################\n",
            "\n",
            "\n",
            "\n"
          ]
        }
      ]
    },
    {
      "cell_type": "code",
      "source": [],
      "metadata": {
        "id": "NNgguT2PLlv6"
      },
      "execution_count": null,
      "outputs": []
    }
  ],
  "metadata": {
    "colab": {
      "provenance": [],
      "gpuType": "T4"
    },
    "language_info": {
      "name": "python"
    },
    "kernelspec": {
      "name": "python3",
      "display_name": "Python 3"
    },
    "accelerator": "GPU"
  },
  "nbformat": 4,
  "nbformat_minor": 0
}