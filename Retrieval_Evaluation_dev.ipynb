{
 "cells": [
  {
   "cell_type": "code",
   "execution_count": null,
   "metadata": {},
   "outputs": [],
   "source": [
    "import numpy as np\n",
    "import math"
   ]
  },
  {
   "cell_type": "code",
   "execution_count": 3,
   "metadata": {},
   "outputs": [],
   "source": [
    "test_r = [1,0,1,1,1,0]"
   ]
  },
  {
   "cell_type": "code",
   "execution_count": null,
   "metadata": {},
   "outputs": [
    {
     "data": {
      "text/plain": [
       "3.8833333333333333"
      ]
     },
     "execution_count": 13,
     "metadata": {},
     "output_type": "execute_result"
    }
   ],
   "source": [
    "1 + 2/3 + 3/4 + 4/5"
   ]
  },
  {
   "cell_type": "code",
   "execution_count": 15,
   "metadata": {},
   "outputs": [
    {
     "data": {
      "text/plain": [
       "0.8041666666666667"
      ]
     },
     "execution_count": 15,
     "metadata": {},
     "output_type": "execute_result"
    }
   ],
   "source": [
    "(1 + 2/3 + 3/4 + 4/5)/4"
   ]
  },
  {
   "cell_type": "code",
   "execution_count": 6,
   "metadata": {},
   "outputs": [],
   "source": [
    "def precision_at_k(r,k):\n",
    "    '''\n",
    "    Calculate the percetage of docs that are relevant in our chosen top k\n",
    "    Good for dealing with precision critical systems\n",
    "    Good because we don't know need to know how many total relevant documents there are\n",
    "    '''\n",
    "    r = r[:k]\n",
    "    return np.mean(r)"
   ]
  },
  {
   "cell_type": "code",
   "execution_count": 10,
   "metadata": {},
   "outputs": [
    {
     "data": {
      "text/plain": [
       "np.float64(0.75)"
      ]
     },
     "execution_count": 10,
     "metadata": {},
     "output_type": "execute_result"
    }
   ],
   "source": [
    "precision_at_k(test_r,4)"
   ]
  },
  {
   "cell_type": "code",
   "execution_count": 11,
   "metadata": {},
   "outputs": [],
   "source": [
    "def average_precision(r):\n",
    "    num = 0\n",
    "    den = 0\n",
    "    for i in range(len(r)):\n",
    "        if r[i]:\n",
    "            num+=precision_at_k(r,i+1)\n",
    "            den+=1\n",
    "\n",
    "    if den==0: \n",
    "        return 0\n",
    "    avg_p = num/den\n",
    "    return avg_p"
   ]
  },
  {
   "cell_type": "code",
   "execution_count": 12,
   "metadata": {},
   "outputs": [
    {
     "data": {
      "text/plain": [
       "np.float64(0.8041666666666667)"
      ]
     },
     "execution_count": 12,
     "metadata": {},
     "output_type": "execute_result"
    }
   ],
   "source": [
    "average_precision(test_r)"
   ]
  },
  {
   "cell_type": "code",
   "execution_count": 16,
   "metadata": {},
   "outputs": [],
   "source": [
    "def mean_average_precision(rs):\n",
    "    num = 0\n",
    "    den = 0\n",
    "\n",
    "    for r in rs:\n",
    "        num+=average_precision(r)\n",
    "        den+=1\n",
    "\n",
    "    m_avg_p = num/den\n",
    "    return m_avg_p"
   ]
  },
  {
   "cell_type": "code",
   "execution_count": 1,
   "metadata": {},
   "outputs": [],
   "source": [
    "def reciprocal_rank(r):\n",
    "    for i,v in enumerate(r):\n",
    "        if v==1:\n",
    "            return 1/(i+1)\n",
    "    return 0\n"
   ]
  },
  {
   "cell_type": "code",
   "execution_count": 5,
   "metadata": {},
   "outputs": [
    {
     "data": {
      "text/plain": [
       "1.0"
      ]
     },
     "execution_count": 5,
     "metadata": {},
     "output_type": "execute_result"
    }
   ],
   "source": [
    "reciprocal_rank(test_r)"
   ]
  },
  {
   "cell_type": "code",
   "execution_count": null,
   "metadata": {},
   "outputs": [],
   "source": [
    "def mean_reciprocal_rank(rs):\n",
    "    num = 0\n",
    "    den = 0\n",
    "\n",
    "    for r in rs:\n",
    "        num+=reciprocal_rank(r)\n",
    "        den+=1\n",
    "\n",
    "    m_rec_r = num/den\n",
    "    return m_rec_r"
   ]
  },
  {
   "cell_type": "code",
   "execution_count": null,
   "metadata": {},
   "outputs": [],
   "source": [
    "def dcg_at_k(r, k):\n",
    "    if k > len(r):\n",
    "         k = len(r)\n",
    "\n",
    "    dcg = 0\n",
    "    # https://en.wikipedia.org/wiki/Discounted_cumulative_gain\n",
    "    # https://towardsdatascience.com/normalized-discounted-cumulative-gain-ndcg-the-ultimate-ranking-metric-437b03529f75\n",
    "    # sum from rank=1 to rank=n: rel_rank/log base 2(rank+1) in order to get the specified discounting weights\n",
    "    # Explore other DCG methods?\n",
    "    for rank in range(1,k+1):\n",
    "        dcg += r[rank-1]/math.log(rank+1,2)\n",
    "\n",
    "    return dcg"
   ]
  },
  {
   "cell_type": "code",
   "execution_count": null,
   "metadata": {},
   "outputs": [],
   "source": [
    "def ndcg_at_k(r, k):\n",
    "    r_sorted = sorted(r,reverse=True)\n",
    "    dcg = dcg_at_k(r, k)\n",
    "    idcg = dcg_at_k(r_sorted, k)\n",
    "    if idcg==0:\n",
    "        return 0\n",
    "    return dcg/idcg"
   ]
  }
 ],
 "metadata": {
  "kernelspec": {
   "display_name": "myenv2",
   "language": "python",
   "name": "python3"
  },
  "language_info": {
   "codemirror_mode": {
    "name": "ipython",
    "version": 3
   },
   "file_extension": ".py",
   "mimetype": "text/x-python",
   "name": "python",
   "nbconvert_exporter": "python",
   "pygments_lexer": "ipython3",
   "version": "3.12.5"
  }
 },
 "nbformat": 4,
 "nbformat_minor": 2
}
